{
 "cells": [
  {
   "attachments": {},
   "cell_type": "markdown",
   "metadata": {},
   "source": [
    "# Un nuevo pozo petrolero"
   ]
  },
  {
   "attachments": {},
   "cell_type": "markdown",
   "metadata": {},
   "source": [
    "## Índice <a id='back'></a>\n",
    "* [Introducción](#intro)\n",
    "* [Etapa 1. Descripción de los datos](#data_review)\n",
    "    * [1. 1. Región 0](#data_review_data0)\n",
    "    * [1. 2. Región 1](#data_review_data1)\n",
    "    * [1. 3. Región 2](#data_review_data2)\n",
    "    * [1. 4. Conclusiones](#data_review_conclusions)\n",
    "* [Etapa 2. Selección del mejor modelo](#data_model)\n",
    "    * [2. 1. RECM del modelo para cada región](#data_model_recm)\n",
    "    * [2. 2. Conclusiones](#data_model_conclusions)\n",
    "* [Etapa 3. Cálculo de ganancias](#data_profit)\n",
    "    * [3.1. Función de ganancia](#data_profit_revenue)\n",
    "    * [3.4. Conclusiones](#data_profit_conclusions)\n",
    "* [Etapa 4. Riesgos y ganancias para cada región](#data_risk)\n",
    "* [Etapa 5. Conclusiones](#data_conclusion)"
   ]
  },
  {
   "attachments": {},
   "cell_type": "markdown",
   "metadata": {},
   "source": [
    "## Introducción <a id='intro'></a>\n",
    "\n",
    "La compañía minera OilyGiant quiere encontrar el mejor lugar para un nuevo pozo petrolero. Para ello se cuentan con datos sobre muestras de crudo de tres regiones y se conocen los parámetros de cada pozo petrolero en la región correspondiente.\n",
    "\n",
    "**Objetivo**\n",
    "\n",
    "El objetivo de este proyecto es crear un modelo para elegir la región con el mayor margen de beneficio.\n",
    "\n",
    "**Etapas**\n",
    "Los datos se almacenan en tres archivos `/datasets/geo_data_0.csv`, `/datasets/geo_data_1.csv` y `/datasets/geo_data_2.csv`. Como se desconoce la calidad de los datos, el proyecto consistirá en cinco etapas:\n",
    "\n",
    "1. Descripción y preprocesamiento de los datos.\n",
    "2. Segmentación de los datos.\n",
    "3. Elección del mejor modelo.\n",
    "4. Prueba final.\n",
    "5. Conclusión general.\n",
    "\n",
    "[Volver a Contenidos](#back)"
   ]
  },
  {
   "attachments": {},
   "cell_type": "markdown",
   "metadata": {},
   "source": [
    "## Etapa 1. Descripción de los datos <a id='data_review'></a>\n",
    "\n",
    "Se importan las librerías necesarias."
   ]
  },
  {
   "cell_type": "code",
   "execution_count": 1,
   "metadata": {},
   "outputs": [],
   "source": [
    "import pandas as pd\n",
    "import numpy as np\n",
    "import matplotlib.pyplot as plt\n",
    "from sklearn.model_selection import train_test_split\n",
    "from sklearn.metrics import mean_squared_error\n",
    "from sklearn.linear_model import LinearRegression"
   ]
  },
  {
   "attachments": {},
   "cell_type": "markdown",
   "metadata": {},
   "source": [
    "Se leerán los archivos y se guardaran en las variables `data[0]`, `data[1]` y `data[2]`. "
   ]
  },
  {
   "cell_type": "code",
   "execution_count": 2,
   "metadata": {},
   "outputs": [],
   "source": [
    "data = {}\n",
    "data_csv = ['geo_data_0.csv', 'geo_data_1.csv', 'geo_data_2.csv']\n",
    "data_path = ['/datasets/geo_data_0.csv', '/datasets/geo_data_1.csv', '/datasets/geo_data_2.csv']\n",
    "\n",
    "for i in range(0,3):\n",
    "    try:\n",
    "        data[i] = pd.read_csv(data_csv[i])\n",
    "    except:\n",
    "        data[i] = pd.read_csv(data_path[i])"
   ]
  },
  {
   "attachments": {},
   "cell_type": "markdown",
   "metadata": {},
   "source": [
    "### 1. 1. Región 0 <a id='data_review_data0'></a>\n",
    "\n",
    "Se imprimirá la información general del dataset de la región 0 y las primeras 10 filas de éste para mayor investigación."
   ]
  },
  {
   "cell_type": "code",
   "execution_count": 3,
   "metadata": {},
   "outputs": [
    {
     "name": "stdout",
     "output_type": "stream",
     "text": [
      "<class 'pandas.core.frame.DataFrame'>\n",
      "RangeIndex: 100000 entries, 0 to 99999\n",
      "Data columns (total 5 columns):\n",
      " #   Column   Non-Null Count   Dtype  \n",
      "---  ------   --------------   -----  \n",
      " 0   id       100000 non-null  object \n",
      " 1   f0       100000 non-null  float64\n",
      " 2   f1       100000 non-null  float64\n",
      " 3   f2       100000 non-null  float64\n",
      " 4   product  100000 non-null  float64\n",
      "dtypes: float64(4), object(1)\n",
      "memory usage: 3.8+ MB\n",
      "      id        f0        f1        f2     product\n",
      "0  txEyH  0.705745 -0.497823  1.221170  105.280062\n",
      "1  2acmU  1.334711 -0.340164  4.365080   73.037750\n",
      "2  409Wp  1.022732  0.151990  1.419926   85.265647\n",
      "3  iJLyR -0.032172  0.139033  2.978566  168.620776\n",
      "4  Xdl7t  1.988431  0.155413  4.751769  154.036647\n",
      "5  wX4Hy  0.969570  0.489775 -0.735383   64.741541\n",
      "6  tL6pL  0.645075  0.530656  1.780266   49.055285\n",
      "7  BYPU6 -0.400648  0.808337 -5.624670   72.943292\n",
      "8  j9Oui  0.643105 -0.551583  2.372141  113.356160\n",
      "9  OLuZU  2.173381  0.563698  9.441852  127.910945\n"
     ]
    }
   ],
   "source": [
    "data[0].info()\n",
    "print(data[0].head(10))"
   ]
  },
  {
   "attachments": {},
   "cell_type": "markdown",
   "metadata": {},
   "source": [
    "Se observa que tiene 100,000 filas y 5 columnas, las cuales son:\n",
    "\n",
    "1. `'id'` - identificador único del pozo petrólero.\n",
    "2. `'f0'`, `'f1'` y `'f2'` - tres características de los puntos.\n",
    "3. `'product'` - volumen de reservas en el pozo petrólero (miles de barriles).\n",
    "\n",
    "Ninguna de las columnas contiene valores ausentes y gracias al identificador único es sencillo determinar si el dataset contiene filas duplicadas. Se imprimrá a continuación la cantidad de fila duplicadas."
   ]
  },
  {
   "cell_type": "code",
   "execution_count": 4,
   "metadata": {},
   "outputs": [
    {
     "name": "stdout",
     "output_type": "stream",
     "text": [
      "0\n"
     ]
    }
   ],
   "source": [
    "print(data[0].duplicated().sum())"
   ]
  },
  {
   "attachments": {},
   "cell_type": "markdown",
   "metadata": {},
   "source": [
    "No existen filas duplicadas.\n",
    "\n",
    "[Volver a Contenidos](#back)"
   ]
  },
  {
   "attachments": {},
   "cell_type": "markdown",
   "metadata": {},
   "source": [
    "### 1. 2. Región 1 <a id='data_review_data1'></a>\n",
    "\n",
    "Se imprimirá la información general del dataset de la región 1 y las primeras 10 filas de éste para mayor investigación."
   ]
  },
  {
   "cell_type": "code",
   "execution_count": 5,
   "metadata": {},
   "outputs": [
    {
     "name": "stdout",
     "output_type": "stream",
     "text": [
      "<class 'pandas.core.frame.DataFrame'>\n",
      "RangeIndex: 100000 entries, 0 to 99999\n",
      "Data columns (total 5 columns):\n",
      " #   Column   Non-Null Count   Dtype  \n",
      "---  ------   --------------   -----  \n",
      " 0   id       100000 non-null  object \n",
      " 1   f0       100000 non-null  float64\n",
      " 2   f1       100000 non-null  float64\n",
      " 3   f2       100000 non-null  float64\n",
      " 4   product  100000 non-null  float64\n",
      "dtypes: float64(4), object(1)\n",
      "memory usage: 3.8+ MB\n",
      "      id         f0         f1        f2     product\n",
      "0  kBEdx -15.001348  -8.276000 -0.005876    3.179103\n",
      "1  62mP7  14.272088  -3.475083  0.999183   26.953261\n",
      "2  vyE1P   6.263187  -5.948386  5.001160  134.766305\n",
      "3  KcrkZ -13.081196 -11.506057  4.999415  137.945408\n",
      "4  AHL4O  12.702195  -8.147433  5.004363  134.766305\n",
      "5  HHckp  -3.327590  -2.205276  3.003647   84.038886\n",
      "6  h5Ujo -11.142655 -10.133399  4.002382  110.992147\n",
      "7  muH9x   4.234715  -0.001354  2.004588   53.906522\n",
      "8  YiRkx  13.355129  -0.332068  4.998647  134.766305\n",
      "9  jG6Gi   1.069227 -11.025667  4.997844  137.945408\n"
     ]
    }
   ],
   "source": [
    "data[1].info()\n",
    "print(data[1].head(10))"
   ]
  },
  {
   "attachments": {},
   "cell_type": "markdown",
   "metadata": {},
   "source": [
    "Se observa que el dataset contiene la misma cantidad de filas que el anterior, las columnas arrojan datos sobre la misma información. Ninguna de sus columnas contiene valores ausentes.\n",
    "\n",
    "Se imprimirá la cantidad de filas duplicadas."
   ]
  },
  {
   "cell_type": "code",
   "execution_count": 6,
   "metadata": {},
   "outputs": [
    {
     "name": "stdout",
     "output_type": "stream",
     "text": [
      "0\n"
     ]
    }
   ],
   "source": [
    "print(data[1].duplicated().sum())"
   ]
  },
  {
   "attachments": {},
   "cell_type": "markdown",
   "metadata": {},
   "source": [
    "Tampoco contiene filas duplicadas.\n",
    "\n",
    "[Volver a Contenidos](#back)"
   ]
  },
  {
   "attachments": {},
   "cell_type": "markdown",
   "metadata": {},
   "source": [
    "### 1. 3. Región 2 <a id='data_review_data2'></a>\n",
    "\n",
    "Se imprimirá la información general del dataset de la región 2 y las primeras 10 filas de éste para mayor investigación."
   ]
  },
  {
   "cell_type": "code",
   "execution_count": 7,
   "metadata": {},
   "outputs": [
    {
     "name": "stdout",
     "output_type": "stream",
     "text": [
      "<class 'pandas.core.frame.DataFrame'>\n",
      "RangeIndex: 100000 entries, 0 to 99999\n",
      "Data columns (total 5 columns):\n",
      " #   Column   Non-Null Count   Dtype  \n",
      "---  ------   --------------   -----  \n",
      " 0   id       100000 non-null  object \n",
      " 1   f0       100000 non-null  float64\n",
      " 2   f1       100000 non-null  float64\n",
      " 3   f2       100000 non-null  float64\n",
      " 4   product  100000 non-null  float64\n",
      "dtypes: float64(4), object(1)\n",
      "memory usage: 3.8+ MB\n",
      "      id        f0        f1        f2     product\n",
      "0  fwXo0 -1.146987  0.963328 -0.828965   27.758673\n",
      "1  WJtFt  0.262778  0.269839 -2.530187   56.069697\n",
      "2  ovLUW  0.194587  0.289035 -5.586433   62.871910\n",
      "3  q6cA6  2.236060 -0.553760  0.930038  114.572842\n",
      "4  WPMUX -0.515993  1.716266  5.899011  149.600746\n",
      "5  LzZXx -0.758092  0.710691  2.585887   90.222465\n",
      "6  WBHRv -0.574891  0.317727  1.773745   45.641478\n",
      "7  XO8fn -1.906649 -2.458350 -0.177097   72.480640\n",
      "8  ybmQ5  1.776292 -0.279356  3.004156  106.616832\n",
      "9  OilcN -1.214452 -0.439314  5.922514   52.954532\n"
     ]
    }
   ],
   "source": [
    "data[2].info()\n",
    "print(data[2].head(10))"
   ]
  },
  {
   "attachments": {},
   "cell_type": "markdown",
   "metadata": {},
   "source": [
    "Análogo a los datasets anteriores, este dataset contiene la misma cantidad de filas y las columnas con la misma información. Ninguna de sus columnas contiene valores ausentes.\n",
    "\n",
    "Se imprimirá la cantidad de filas duplicadas."
   ]
  },
  {
   "cell_type": "code",
   "execution_count": 8,
   "metadata": {},
   "outputs": [
    {
     "name": "stdout",
     "output_type": "stream",
     "text": [
      "0\n"
     ]
    }
   ],
   "source": [
    "print(data[1].duplicated().sum())"
   ]
  },
  {
   "attachments": {},
   "cell_type": "markdown",
   "metadata": {},
   "source": [
    "No tiene filas duplicadas.\n",
    "\n",
    "[Volver a Contenidos](#back)"
   ]
  },
  {
   "attachments": {},
   "cell_type": "markdown",
   "metadata": {},
   "source": [
    "### 1. 4. Conclusiones <a id='data_review_conclusions'></a>\n",
    "\n",
    "Se abrieron y guardaron los datos en los datasets correspondientes. Se mostró la información general y las primeras 10 filas de cada uno de ellos. Con esto, se observó que los tres cuentas con 100,000 filas y los datos de las columnas arrojan información sobre las mismas características.\n",
    "\n",
    "Ninguno de los datasets contienen valores ausentes ni dilas duplicadas. Se procederá al entrenamiento del modelo en cada una de las regiones para determinar el mejor lugar para un nuevo pozo petrólero.\n",
    "\n",
    "[Volver a Contenidos](#back)"
   ]
  },
  {
   "attachments": {},
   "cell_type": "markdown",
   "metadata": {},
   "source": [
    "## Etapa 2. Entrenamiento del modelo <a id='data_model'></a>\n",
    "\n",
    "La columna `'id'` en cada uno de los datasets identifica de manera única a cada pozo petrolero pero para el entrenamiento de un modelo no aporta información relevante. Se eliminará esta columna de cada uno de los datasets."
   ]
  },
  {
   "cell_type": "code",
   "execution_count": 9,
   "metadata": {},
   "outputs": [
    {
     "name": "stdout",
     "output_type": "stream",
     "text": [
      "         f0        f1        f2     product\n",
      "0  0.705745 -0.497823  1.221170  105.280062\n",
      "1  1.334711 -0.340164  4.365080   73.037750\n",
      "2  1.022732  0.151990  1.419926   85.265647\n",
      "3 -0.032172  0.139033  2.978566  168.620776\n",
      "4  1.988431  0.155413  4.751769  154.036647\n",
      "          f0         f1        f2     product\n",
      "0 -15.001348  -8.276000 -0.005876    3.179103\n",
      "1  14.272088  -3.475083  0.999183   26.953261\n",
      "2   6.263187  -5.948386  5.001160  134.766305\n",
      "3 -13.081196 -11.506057  4.999415  137.945408\n",
      "4  12.702195  -8.147433  5.004363  134.766305\n",
      "         f0        f1        f2     product\n",
      "0 -1.146987  0.963328 -0.828965   27.758673\n",
      "1  0.262778  0.269839 -2.530187   56.069697\n",
      "2  0.194587  0.289035 -5.586433   62.871910\n",
      "3  2.236060 -0.553760  0.930038  114.572842\n",
      "4 -0.515993  1.716266  5.899011  149.600746\n"
     ]
    }
   ],
   "source": [
    "for i in range(0, 3):\n",
    "    data[i] = data[i].drop(['id'], axis=1)\n",
    "    print(data[i].head())"
   ]
  },
  {
   "attachments": {},
   "cell_type": "markdown",
   "metadata": {},
   "source": [
    "A continuación se establecerán las características y el objetivo para el modelo. También se segmentarán cada uno de los datasets en conjunto de entrenamiento y conjunto de validación. Esta proporción será 3:1, es decir:\n",
    "\n",
    "* Conjunto de entrenamiento: 75%.\n",
    "* Conjunto de validación: 25%."
   ]
  },
  {
   "cell_type": "code",
   "execution_count": 10,
   "metadata": {},
   "outputs": [],
   "source": [
    "features = {} #Diccionario que contendrá las característica de cada dataset\n",
    "target = {} #Diccionario que contendrá el objetivo de cada dataset\n",
    "\n",
    "for i in range(0, 3): #Bucle para agregar los datos correspondientes a los diccionarios\n",
    "    features[i] = data[i].drop(['product'], axis=1)\n",
    "    target[i] = data[i]['product']"
   ]
  },
  {
   "cell_type": "code",
   "execution_count": 11,
   "metadata": {},
   "outputs": [],
   "source": [
    "#Diccionario que contendra las características de entrenamiento de cada dataset\n",
    "features_train = {}\n",
    "#Diccionario que contendra las características de validación de cada dataset\n",
    "features_valid = {}\n",
    "#Diccionario que contendrá el objetivo de entrenamiento de cada dataset\n",
    "target_train = {}\n",
    "#Diccionario que contendrá el objetivo de validación de cada dataset\n",
    "target_valid = {}\n",
    "\n",
    "for i in range(0, 3):\n",
    "    features_train[i], features_valid[i], target_train[i], target_valid[i] = train_test_split(\n",
    "        features[i], target[i], test_size=0.25, random_state=12345\n",
    "        )"
   ]
  },
  {
   "attachments": {},
   "cell_type": "markdown",
   "metadata": {},
   "source": [
    "Con esta segmentación de datos, se entrenará el modelo y se obtendrán las predicciones para cada una de las regiones. Por esta razón, se creará una función."
   ]
  },
  {
   "cell_type": "code",
   "execution_count": 12,
   "metadata": {},
   "outputs": [],
   "source": [
    "def get_predictions(feat_train, targ_train, feat_valid):\n",
    "    model = LinearRegression()\n",
    "    model.fit(feat_train, targ_train)\n",
    "    pred_valid = model.predict(feat_valid)\n",
    "    return pred_valid"
   ]
  },
  {
   "attachments": {},
   "cell_type": "markdown",
   "metadata": {},
   "source": [
    "Se creará un diccionario que contendrá los datasets con las predicciones de cada región."
   ]
  },
  {
   "cell_type": "code",
   "execution_count": 13,
   "metadata": {},
   "outputs": [],
   "source": [
    "pred_valid = {}\n",
    "\n",
    "for i in range(0, 3):\n",
    "    pred_valid[i] = get_predictions(features_train[i], target_train[i], features_valid[i])"
   ]
  },
  {
   "attachments": {},
   "cell_type": "markdown",
   "metadata": {},
   "source": [
    "[Volver a Contenidos](#back)"
   ]
  },
  {
   "attachments": {},
   "cell_type": "markdown",
   "metadata": {},
   "source": [
    "### 2. 1. RECM del modelo para cada región <a id='data_model_recm'></a>\n",
    "\n",
    "Se calculará el volumen promedio y la métrica RECM con los datos de cada región."
   ]
  },
  {
   "cell_type": "code",
   "execution_count": 14,
   "metadata": {},
   "outputs": [
    {
     "name": "stdout",
     "output_type": "stream",
     "text": [
      "El volumen promedio de las reservas previstas en la Región 0 es: 92.59256778438035\n",
      "La métrica RECM del modelo para la Región 0 es: 37.5794217150813\n",
      "El volumen promedio de las reservas previstas en la Región 1 es: 68.728546895446\n",
      "La métrica RECM del modelo para la Región 1 es: 0.8930992867756165\n",
      "El volumen promedio de las reservas previstas en la Región 2 es: 94.96504596800492\n",
      "La métrica RECM del modelo para la Región 2 es: 40.02970873393434\n"
     ]
    }
   ],
   "source": [
    "means = {}\n",
    "recm = {}\n",
    "\n",
    "for i in range(0, 3):\n",
    "    means[i] = pred_valid[i].mean()\n",
    "    recm[i] = mean_squared_error(target_valid[i], pred_valid[i]) ** 0.5\n",
    "    print(f'El volumen promedio de las reservas previstas en la Región {i} es: {means[i]}')\n",
    "    print(f'La métrica RECM del modelo para la Región {i} es: {recm[i]}')"
   ]
  },
  {
   "attachments": {},
   "cell_type": "markdown",
   "metadata": {},
   "source": [
    "[Volver a Contenidos](#back)"
   ]
  },
  {
   "attachments": {},
   "cell_type": "markdown",
   "metadata": {},
   "source": [
    "### 2. 2. Conclusiones <a id='data_model_conclusions'></a>\n",
    "\n",
    "Se observó que las reservas previstas de las regiones 0 y 2 tienen un volumen promedio más alto que en la región 1, ambas sobrepasan los 90 mil barrilles. Sin embargo, es en la región 1, donde las predicciones tienen un margen de error mucho más bajo que en las otras dos. En la región 1, la RECM es de aproximadamente 893 barriles, mientras que en las otras dos regiones sobrepasan los 37 mil barriles (una diferencia bastante grande).\n",
    "\n",
    "Pareciera que la región 1 es la que tiene el mayor potencial de una ganancia mayor, sin embargo se deben estudiar más los datos para llegar a una conclusión más precisa.\n",
    "\n",
    "[Volver a Contenidos](#back)"
   ]
  },
  {
   "attachments": {},
   "cell_type": "markdown",
   "metadata": {},
   "source": [
    "## Etapa 3. Cálculo de ganancias <a id='data_profit'></a>\n",
    "\n",
    "Se llevó a cabo un estudio de 500 pozos petróleros con la selección de los mejores 200 para el cálculo del beneficio. El presupuesto para el desarrollo de 200 pozos petroleros es de 100 millones de dólares. Un barril de materias primas genera 4.5 USD de ingresos. El ingreso de una unidad de producto es de 4500 dólares ya que el volumen de reservas está expresado en miles de barriles.\n",
    "\n",
    "Primero se obtendrá el presupuesto promedio para cada pozo petrolero."
   ]
  },
  {
   "cell_type": "code",
   "execution_count": 15,
   "metadata": {},
   "outputs": [
    {
     "name": "stdout",
     "output_type": "stream",
     "text": [
      "500000.0\n"
     ]
    }
   ],
   "source": [
    "wells = 200\n",
    "budget = 100000000\n",
    "budget_per_well = budget / wells\n",
    "print(budget_per_well)"
   ]
  },
  {
   "attachments": {},
   "cell_type": "markdown",
   "metadata": {},
   "source": [
    "El presupuesto promedio para el desarrollo de un pozo es de 500 mil USD. Al dividir este presupuesto entre el ingreso de una unidad (4500 USD), se obtendrá la cantidad mínima de unidades necesarias por pozo para que no existan pérdidas."
   ]
  },
  {
   "cell_type": "code",
   "execution_count": 16,
   "metadata": {},
   "outputs": [
    {
     "name": "stdout",
     "output_type": "stream",
     "text": [
      "111.11111111111111\n"
     ]
    }
   ],
   "source": [
    "income = 4500\n",
    "units_no_loss = budget_per_well / income\n",
    "print(units_no_loss)"
   ]
  },
  {
   "attachments": {},
   "cell_type": "markdown",
   "metadata": {},
   "source": [
    "Para que no existan pérdidas, cada pozo debe tener un volumen mínimo de reservas igual a aproximadamente 111 mil barriles de petróleo.\n",
    "\n",
    "En la predicción del modelo, ninguna de las regiones supera esta cantidad mínima, es decir, en cualquiera de las tres regiones existe riesgo de pérdida, sobre todo en la región 1 la cual registró el promedio más bajo: 69 mil barriles.\n",
    "\n",
    "Se comparará este volumen con el promedio de cada región."
   ]
  },
  {
   "cell_type": "code",
   "execution_count": 17,
   "metadata": {},
   "outputs": [
    {
     "name": "stdout",
     "output_type": "stream",
     "text": [
      "Promedio región 0 = 92.50000000000001\n",
      "Promedio región 1 = 68.82500000000002\n",
      "Promedio región 2 = 95.00000000000004\n"
     ]
    }
   ],
   "source": [
    "for i in range(0, 3):\n",
    "    mean = target[i].mean()\n",
    "    print(f'Promedio región {i} = {mean}')"
   ]
  },
  {
   "attachments": {},
   "cell_type": "markdown",
   "metadata": {},
   "source": [
    "La diferencia de estos valores y los obtenidos a partir de las predicciones del modelo es mínima. Podrían existir pérdidas en las tres regiones, sobre todo en la región 1. Por ello, es necesario considerar los pozos con el volumen promedio de reservas mayores.\n",
    "\n",
    "[Volver a Contenidos](#back)"
   ]
  },
  {
   "attachments": {},
   "cell_type": "markdown",
   "metadata": {},
   "source": [
    "### 3. 1. Función de ganancia <a id='data_profit_revenue'></a>\n",
    "\n",
    "Se creará una función para calcular los ingresos por región. Dicha función tendrá tres parámetros:\n",
    "\n",
    "1. `'target'` - dataset con objetivo de validación.\n",
    "2. `'predictions'` - dataset con las predicciones del conjunto de validación.\n",
    "3. `n` - cantidad de pozos considerados."
   ]
  },
  {
   "cell_type": "code",
   "execution_count": 18,
   "metadata": {},
   "outputs": [],
   "source": [
    "def revenue(target, predictions, n):\n",
    "    #convertir predictions a pd.Series\n",
    "    predicted = pd.Series(predictions)\n",
    "    #convertir target a pd.Series \n",
    "    target = target.reset_index(drop=True)\n",
    "    #ordenar índices de predicted de mayor a menor\n",
    "    indexes = predicted.sort_values(ascending=False).index\n",
    "    #seleccionar los n más altos de target_s\n",
    "    selected = target[indexes][:n]\n",
    "    rev = (selected.sum() * income) - (budget_per_well * n)\n",
    "    return rev"
   ]
  },
  {
   "attachments": {},
   "cell_type": "markdown",
   "metadata": {},
   "source": [
    "Se calcularán las ganancias de cada región para los 200 pozos con mayor volumen."
   ]
  },
  {
   "cell_type": "code",
   "execution_count": 19,
   "metadata": {},
   "outputs": [
    {
     "name": "stdout",
     "output_type": "stream",
     "text": [
      "Ganancias de los 200 pozos previstos con mayor volumen de la Región 0: $33208260.43139851\n",
      "Ganancias de los 200 pozos previstos con mayor volumen de la Región 1: $24150866.966815114\n",
      "Ganancias de los 200 pozos previstos con mayor volumen de la Región 2: $27103499.635998324\n"
     ]
    }
   ],
   "source": [
    "for i in range(0, 3):\n",
    "    rev = revenue(target_valid[i], pred_valid[i], 200)\n",
    "    print(f'Ganancias de los 200 pozos previstos con mayor volumen de la Región {i}: ${rev}')"
   ]
  },
  {
   "attachments": {},
   "cell_type": "markdown",
   "metadata": {},
   "source": [
    "[Volver a Contenidos](#back)"
   ]
  },
  {
   "attachments": {},
   "cell_type": "markdown",
   "metadata": {},
   "source": [
    "### 3. 2. Conclusiones <a id='data_profit_conclusions'></a>\n",
    "\n",
    "Se observó que la Región 0 es la que tiene mayor ganancia, tomando en cuenta los 200 pozos previstos con mayor volumen. Si se contemplará únicamente esto, esta región sería la mejor, sin embargo, no todos los pozos están dentro de estos 200.\n",
    "\n",
    "En la siguiente etapa se calcularán los riesgos y ganancias para una mejor decisión.\n",
    "\n",
    "[Volver a Contenidos](#back)"
   ]
  },
  {
   "attachments": {},
   "cell_type": "markdown",
   "metadata": {},
   "source": [
    "## Etapa 4. Riesgos y ganancias para cada región <a id='data_risk'></a>\n",
    "\n",
    "Se utilizará la técnica de bootstrapping para crear submuestras (1000) del objetivo y asociarlas con sus respectivas predicciones. Se creará una función con dos parámetros: `target` y `predictions`. Dicha función calculará la ganancia promedio de cada submuestra y entregará como resultado una lista con es estos promedios."
   ]
  },
  {
   "cell_type": "code",
   "execution_count": 20,
   "metadata": {},
   "outputs": [],
   "source": [
    "def get_revenue(target, predictions):\n",
    "    state = np.random.RandomState(12345)\n",
    "    values = []\n",
    "    target = target.reset_index(drop=True)\n",
    "    for i in range(1000):\n",
    "        target_subsample = target.sample(n=500, replace=True, random_state=state)\n",
    "        indexes = target_subsample.index\n",
    "        pred_subsample = predictions[indexes]\n",
    "        profit = revenue(target_subsample, pred_subsample, 200)\n",
    "        values.append(profit)\n",
    "    return pd.Series(values)\n",
    "    "
   ]
  },
  {
   "attachments": {},
   "cell_type": "markdown",
   "metadata": {},
   "source": [
    "Se aplicará la función para cada región."
   ]
  },
  {
   "cell_type": "code",
   "execution_count": 21,
   "metadata": {},
   "outputs": [],
   "source": [
    "revenues = {}\n",
    "\n",
    "for i in range(3):\n",
    "    revenues[i] = get_revenue(target_valid[i], pred_valid[i])"
   ]
  },
  {
   "attachments": {},
   "cell_type": "markdown",
   "metadata": {},
   "source": [
    "Ahora se calculará el ingreso promedio, el intervalo de confianza del 95% y el porcentaje de riesgo de pérdidas para cada región."
   ]
  },
  {
   "cell_type": "code",
   "execution_count": 23,
   "metadata": {},
   "outputs": [
    {
     "name": "stdout",
     "output_type": "stream",
     "text": [
      "Región 0\n",
      "Ingreso promedio 3961649.8480237117\n",
      "Intervalo de confianza del 95%: [-1112155.4589049604, 9097669.41553423]\n",
      "Riesgo de pérdidas  7%\n",
      "\n",
      "Región 1\n",
      "Ingreso promedio 4560451.057866608\n",
      "Intervalo de confianza del 95%: [338205.0939898458, 8522894.538660347]\n",
      "Riesgo de pérdidas  2%\n",
      "\n",
      "Región 2\n",
      "Ingreso promedio 4044038.665683568\n",
      "Intervalo de confianza del 95%: [-1633504.1339559986, 9503595.749237997]\n",
      "Riesgo de pérdidas  8%\n",
      "\n"
     ]
    }
   ],
   "source": [
    "for i in range(3):\n",
    "    interval = [revenues[i].quantile(0.025), revenues[i].quantile(0.975)]\n",
    "    risk = len(revenues[i][revenues[i] < 0]) / len(revenues[i])\n",
    "    mean_rev = revenues[i].mean()\n",
    "    print(f'Región {i}')\n",
    "    print(f'Ingreso promedio {mean_rev}')\n",
    "    print(f'Intervalo de confianza del 95%: {interval}')\n",
    "    print(f'Riesgo de pérdidas {risk: .0%}')\n",
    "    print()"
   ]
  },
  {
   "attachments": {},
   "cell_type": "markdown",
   "metadata": {},
   "source": [
    "[Volver a Contenidos](#back)"
   ]
  },
  {
   "attachments": {},
   "cell_type": "markdown",
   "metadata": {},
   "source": [
    "## Etapa 5. Conclusión general <a id='data_conclusion'></a>\n",
    "\n",
    "Se creó el modelo basado en el algoritmo de regresión lineal y se utilizo la técnica de bootstrapping para obtener 1000 submuestras de cada región. Con esto se obtuvieron, para 200 pozos, datos como el ingreso promedio, el intervalo de confianza del 95% y el porcentaje de riesgo de pérdidas para cada región.\n",
    "\n",
    "De las tres regiones, la región 1 es la que cuenta con el mayor ingreso promedio: 4,560,451 USD, su intervalo de confianza del 95% tiene como mínimo 338,205 USD y un máximo de 8,522,894 USD y el riesgo de pérdidas es del 2%. Este porcentaje es aceptable para la compañía.\n",
    "\n",
    "Se concluye que la región 1 es el mejor lugar para un nuevo pozo petrolero.\n",
    "\n",
    "[Volver a Contenidos](#back)"
   ]
  }
 ],
 "metadata": {
  "kernelspec": {
   "display_name": "Python 3",
   "language": "python",
   "name": "python3"
  },
  "language_info": {
   "codemirror_mode": {
    "name": "ipython",
    "version": 3
   },
   "file_extension": ".py",
   "mimetype": "text/x-python",
   "name": "python",
   "nbconvert_exporter": "python",
   "pygments_lexer": "ipython3",
   "version": "3.10.10"
  },
  "orig_nbformat": 4
 },
 "nbformat": 4,
 "nbformat_minor": 2
}
