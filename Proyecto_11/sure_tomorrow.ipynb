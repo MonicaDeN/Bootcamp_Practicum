{
 "cells": [
  {
   "attachments": {},
   "cell_type": "markdown",
   "metadata": {},
   "source": [
    "# Modelo para Sure Tomorrow"
   ]
  },
  {
   "attachments": {},
   "cell_type": "markdown",
   "metadata": {},
   "source": [
    "## Índice <a id='back'></a>\n",
    "* [Introducción](#intro)\n",
    "* [Etapa 1. Descripción y preprocesamiento de los datos](#data_review)\n",
    "    * [1. 1. Información general de los datos](#data_review_data)\n",
    "    * [1. 2. Conclusiones](#data_review_conclusions)\n",
    "* [Etapa 2. Análisis de datos](#data_analysis)\n",
    "    * [2. 1. Tarea 1: vecinos similares](#data_analysis_neighbors)\n",
    "    * [2. 2. Conclusiones](#data_analysis_conclusions)\n",
    "* [Etapa 3. Construcción del modelo](#data_model)\n",
    "    * [3. 1. Tarea 2: Predicción de prestación de seguro](#data_model_task2)\n",
    "    * [3. 2. Tarea 3: Predicción de cantidad de prestación de seguro](#data_model_task3)\n",
    "    * [3. 3. Tarea 4: Ofuscación de datos](#data_model_task4)\n",
    "        * [3. 3. 1. Ofuscación no afecta regresión lineal](#data_model_task4_lineal)\n",
    "        * [3. 3. 2. Prueba de regresión lineal](#data_model_task4_linealTest)\n",
    "    * [3. 4. Conclusiones](#data_model_conclusions)\n",
    "* [Etapa 4. Conclusión general](#data_conclusion)"
   ]
  },
  {
   "attachments": {},
   "cell_type": "markdown",
   "metadata": {},
   "source": [
    "## Introducción <a id='intro'></a>\n",
    "\n",
    "La compañía de seguros Sure Tomorrow quiere resolver varias tareas con la ayuda de machine learning, por lo que este proyecto tiene 4 tareas (objetivos):\n",
    "\n",
    "- Tarea 1: encontrar clientes que sean similares a un cliente determinado. Esto ayudará a los agentes de la compañía con el marketing.\n",
    "- Tarea 2: predecir la probabilidad de que un nuevo cliente reciba una prestación del seguro. ¿Puede un modelo predictivo funcionar mejor que un modelo dummy?\n",
    "- Tarea 3: predecir el número de prestaciones de seguro que un nuevo cliente pueda recibir utilizando un modelo de regresión lineal.\n",
    "- Tarea 4: proteger los datos personales de los clientes sin afectar al modelo del ejercicio anterior. Es necesario desarrollar un algoritmo de transformación de datos que dificulte la recuperación de la información personal si los datos caen en manos equivocadas. Esto se denomina enmascaramiento u ofuscación de datos. Pero los datos deben protegerse de tal manera que no se vea afectada la calidad de los modelos de machine learning. No es necesario elegir el mejor modelo, basta con demostrar que el algoritmo funciona correctamente.\n",
    "\n",
    "Los datos se almacenan en el archivo `/datasets/insurance_us.csv`. Como se desconoce la calidad de los datos, el proyecto consistirá en cuatro etapas:\n",
    "\n",
    "1. Descripción y preprocesamiento de los datos.\n",
    "2. Análisis de datos.\n",
    "3. Construcción del modelo.\n",
    "4. Conclusión general.\n",
    "\n",
    "[Volver a Contenidos](#back)"
   ]
  },
  {
   "attachments": {},
   "cell_type": "markdown",
   "metadata": {},
   "source": [
    "## Etapa 1. Descripción y preprocesamiento de los datos <a id='data_review'></a>\n",
    "\n",
    "Se importan las librerías necesarias."
   ]
  },
  {
   "cell_type": "code",
   "execution_count": 1,
   "metadata": {},
   "outputs": [],
   "source": [
    "import numpy as np\n",
    "import pandas as pd\n",
    "import matplotlib.pyplot as plt\n",
    "import math\n",
    "import seaborn as sns\n",
    "import sklearn.linear_model\n",
    "import sklearn.metrics\n",
    "import sklearn.neighbors\n",
    "import sklearn.preprocessing\n",
    "from sklearn.utils import shuffle\n",
    "\n",
    "from sklearn.model_selection import train_test_split\n",
    "from IPython.display import display"
   ]
  },
  {
   "attachments": {},
   "cell_type": "markdown",
   "metadata": {},
   "source": [
    "Se leerá el archivo y se guardará en la variable `data`. "
   ]
  },
  {
   "cell_type": "code",
   "execution_count": 2,
   "metadata": {},
   "outputs": [],
   "source": [
    "try:\n",
    "    data = pd.read_csv('insurance_us.csv')\n",
    "except:\n",
    "    data = pd.read_csv('/datasets/insurance_us.csv')"
   ]
  },
  {
   "attachments": {},
   "cell_type": "markdown",
   "metadata": {},
   "source": [
    "### 1. 1. Información general de los datos <a id='data_review_data'></a>\n",
    "\n",
    "Se imprimirá la información general de `data` y las primeras 10 filas de éste."
   ]
  },
  {
   "cell_type": "code",
   "execution_count": 3,
   "metadata": {},
   "outputs": [
    {
     "name": "stdout",
     "output_type": "stream",
     "text": [
      "<class 'pandas.core.frame.DataFrame'>\n",
      "RangeIndex: 5000 entries, 0 to 4999\n",
      "Data columns (total 5 columns):\n",
      " #   Column              Non-Null Count  Dtype  \n",
      "---  ------              --------------  -----  \n",
      " 0   Gender              5000 non-null   int64  \n",
      " 1   Age                 5000 non-null   float64\n",
      " 2   Salary              5000 non-null   float64\n",
      " 3   Family members      5000 non-null   int64  \n",
      " 4   Insurance benefits  5000 non-null   int64  \n",
      "dtypes: float64(2), int64(3)\n",
      "memory usage: 195.4 KB\n"
     ]
    }
   ],
   "source": [
    "data.info()"
   ]
  },
  {
   "cell_type": "code",
   "execution_count": 4,
   "metadata": {},
   "outputs": [
    {
     "data": {
      "text/html": [
       "<div>\n",
       "<style scoped>\n",
       "    .dataframe tbody tr th:only-of-type {\n",
       "        vertical-align: middle;\n",
       "    }\n",
       "\n",
       "    .dataframe tbody tr th {\n",
       "        vertical-align: top;\n",
       "    }\n",
       "\n",
       "    .dataframe thead th {\n",
       "        text-align: right;\n",
       "    }\n",
       "</style>\n",
       "<table border=\"1\" class=\"dataframe\">\n",
       "  <thead>\n",
       "    <tr style=\"text-align: right;\">\n",
       "      <th></th>\n",
       "      <th>Gender</th>\n",
       "      <th>Age</th>\n",
       "      <th>Salary</th>\n",
       "      <th>Family members</th>\n",
       "      <th>Insurance benefits</th>\n",
       "    </tr>\n",
       "  </thead>\n",
       "  <tbody>\n",
       "    <tr>\n",
       "      <th>0</th>\n",
       "      <td>1</td>\n",
       "      <td>41.0</td>\n",
       "      <td>49600.0</td>\n",
       "      <td>1</td>\n",
       "      <td>0</td>\n",
       "    </tr>\n",
       "    <tr>\n",
       "      <th>1</th>\n",
       "      <td>0</td>\n",
       "      <td>46.0</td>\n",
       "      <td>38000.0</td>\n",
       "      <td>1</td>\n",
       "      <td>1</td>\n",
       "    </tr>\n",
       "    <tr>\n",
       "      <th>2</th>\n",
       "      <td>0</td>\n",
       "      <td>29.0</td>\n",
       "      <td>21000.0</td>\n",
       "      <td>0</td>\n",
       "      <td>0</td>\n",
       "    </tr>\n",
       "    <tr>\n",
       "      <th>3</th>\n",
       "      <td>0</td>\n",
       "      <td>21.0</td>\n",
       "      <td>41700.0</td>\n",
       "      <td>2</td>\n",
       "      <td>0</td>\n",
       "    </tr>\n",
       "    <tr>\n",
       "      <th>4</th>\n",
       "      <td>1</td>\n",
       "      <td>28.0</td>\n",
       "      <td>26100.0</td>\n",
       "      <td>0</td>\n",
       "      <td>0</td>\n",
       "    </tr>\n",
       "    <tr>\n",
       "      <th>5</th>\n",
       "      <td>1</td>\n",
       "      <td>43.0</td>\n",
       "      <td>41000.0</td>\n",
       "      <td>2</td>\n",
       "      <td>1</td>\n",
       "    </tr>\n",
       "    <tr>\n",
       "      <th>6</th>\n",
       "      <td>1</td>\n",
       "      <td>39.0</td>\n",
       "      <td>39700.0</td>\n",
       "      <td>2</td>\n",
       "      <td>0</td>\n",
       "    </tr>\n",
       "    <tr>\n",
       "      <th>7</th>\n",
       "      <td>1</td>\n",
       "      <td>25.0</td>\n",
       "      <td>38600.0</td>\n",
       "      <td>4</td>\n",
       "      <td>0</td>\n",
       "    </tr>\n",
       "    <tr>\n",
       "      <th>8</th>\n",
       "      <td>1</td>\n",
       "      <td>36.0</td>\n",
       "      <td>49700.0</td>\n",
       "      <td>1</td>\n",
       "      <td>0</td>\n",
       "    </tr>\n",
       "    <tr>\n",
       "      <th>9</th>\n",
       "      <td>1</td>\n",
       "      <td>32.0</td>\n",
       "      <td>51700.0</td>\n",
       "      <td>1</td>\n",
       "      <td>0</td>\n",
       "    </tr>\n",
       "  </tbody>\n",
       "</table>\n",
       "</div>"
      ],
      "text/plain": [
       "   Gender   Age   Salary  Family members  Insurance benefits\n",
       "0       1  41.0  49600.0               1                   0\n",
       "1       0  46.0  38000.0               1                   1\n",
       "2       0  29.0  21000.0               0                   0\n",
       "3       0  21.0  41700.0               2                   0\n",
       "4       1  28.0  26100.0               0                   0\n",
       "5       1  43.0  41000.0               2                   1\n",
       "6       1  39.0  39700.0               2                   0\n",
       "7       1  25.0  38600.0               4                   0\n",
       "8       1  36.0  49700.0               1                   0\n",
       "9       1  32.0  51700.0               1                   0"
      ]
     },
     "execution_count": 4,
     "metadata": {},
     "output_type": "execute_result"
    }
   ],
   "source": [
    "data.head(10)"
   ]
  },
  {
   "attachments": {},
   "cell_type": "markdown",
   "metadata": {},
   "source": [
    "El dataframe contiene 5,000 filas y 5 columnas, las cuales son:\n",
    "\n",
    "1. `Gender` - sexo del asegurado.\n",
    "2. `Age` - edad del asegurado.\n",
    "3. `Salary` - salario del asegurado.\n",
    "4. `Family members` - cantidad de familiares del asegurado.\n",
    "5. `Insurance benefits` - número de beneficios de seguro recibidos por la persona asegurada en los últimos cinco años.\n",
    "\n",
    "Se observa que los nombres de las columnas no están nombradas en la convención estándar y los datos de la columna `Age` pueden ser cambiados de tipo float a tipo int. Ninguna de las columnas contiene valores ausentes.\n",
    "\n",
    "Se estandarizarás los nombre de las columnas."
   ]
  },
  {
   "cell_type": "code",
   "execution_count": 5,
   "metadata": {},
   "outputs": [
    {
     "data": {
      "text/plain": [
       "Index(['Gender', 'Age', 'Salary', 'Family members', 'Insurance benefits'], dtype='object')"
      ]
     },
     "execution_count": 5,
     "metadata": {},
     "output_type": "execute_result"
    }
   ],
   "source": [
    "data.columns"
   ]
  },
  {
   "cell_type": "code",
   "execution_count": 6,
   "metadata": {},
   "outputs": [
    {
     "data": {
      "text/plain": [
       "Index(['gender', 'age', 'income', 'family_members', 'insurance_benefits'], dtype='object')"
      ]
     },
     "execution_count": 6,
     "metadata": {},
     "output_type": "execute_result"
    }
   ],
   "source": [
    "data.columns = ['gender', 'age', 'income', 'family_members', 'insurance_benefits']\n",
    "data.columns"
   ]
  },
  {
   "attachments": {},
   "cell_type": "markdown",
   "metadata": {},
   "source": [
    "Se cambiará el tipo de datos de la columna `Age`."
   ]
  },
  {
   "cell_type": "code",
   "execution_count": 7,
   "metadata": {},
   "outputs": [
    {
     "name": "stdout",
     "output_type": "stream",
     "text": [
      "<class 'pandas.core.frame.DataFrame'>\n",
      "RangeIndex: 5000 entries, 0 to 4999\n",
      "Data columns (total 5 columns):\n",
      " #   Column              Non-Null Count  Dtype  \n",
      "---  ------              --------------  -----  \n",
      " 0   gender              5000 non-null   int64  \n",
      " 1   age                 5000 non-null   int64  \n",
      " 2   income              5000 non-null   float64\n",
      " 3   family_members      5000 non-null   int64  \n",
      " 4   insurance_benefits  5000 non-null   int64  \n",
      "dtypes: float64(1), int64(4)\n",
      "memory usage: 195.4 KB\n"
     ]
    }
   ],
   "source": [
    "data['age'] = data['age'].astype(int)\n",
    "data.info()"
   ]
  },
  {
   "attachments": {},
   "cell_type": "markdown",
   "metadata": {},
   "source": [
    "Existe la posibilidad que el dataframe contenga filas duplicadas, sin embargo, no se cuenta con identificadores únicos. Por esta razón, se conservarán todas las filas del dataframe.\n",
    "\n",
    "[Volver a Contenidos](#back)"
   ]
  },
  {
   "attachments": {},
   "cell_type": "markdown",
   "metadata": {},
   "source": [
    "### 1. 2. Conclusiones <a id='data_review_conclusions'></a>\n",
    "\n",
    "Se abrió el archivo y se guardó en un dataset, el cual contiene información del asegurado como sexo, edad, salario, número de familiares y cantidad de beneficios recibidos en los últimos cinco años.\n",
    "\n",
    "Ninguna columna contiene valores ausentes y se cambió el formato de los nombres de las columnas a la manera convencional (minúsculas y con space case). También se cambió el tipo de datos de la columna `age` (de tipo float a int).\n",
    "\n",
    "En la siguiente etapa se analizarán los datos.\n",
    "\n",
    "[Volver a Contenidos](#back)"
   ]
  },
  {
   "attachments": {},
   "cell_type": "markdown",
   "metadata": {},
   "source": [
    "## Etapa 2. Análisis de datos <a id='data_analysis'></a>\n",
    "\n",
    "Todas las columnas son de tipo numérico, sin embargo, la columna `gender` describe una variable de tipo catégorico. Se mostrarán todos sus valores."
   ]
  },
  {
   "cell_type": "code",
   "execution_count": 8,
   "metadata": {},
   "outputs": [
    {
     "name": "stdout",
     "output_type": "stream",
     "text": [
      "gender\n",
      "0    2505\n",
      "1    2495\n",
      "Name: count, dtype: int64\n"
     ]
    }
   ],
   "source": [
    "print(data['gender'].value_counts())"
   ]
  },
  {
   "attachments": {},
   "cell_type": "markdown",
   "metadata": {},
   "source": [
    "Únicamente se tienen dos categorías para el sexo del asegurado. Se mostrarán gráficas de caja para las columnas restantes para investigar la existencia de valores atípicos. No se analizará la columna `insurance_benefits` pues es la columna que será el objetivo del modelo."
   ]
  },
  {
   "cell_type": "code",
   "execution_count": 9,
   "metadata": {},
   "outputs": [
    {
     "data": {
      "image/png": "[encoded data removed]",
      "text/plain": [
       "<Figure size 640x480 with 1 Axes>"
      ]
     },
     "metadata": {},
     "output_type": "display_data"
    },
    {
     "name": "stdout",
     "output_type": "stream",
     "text": [
      "count    5000.000000\n",
      "mean       30.952800\n",
      "std         8.440807\n",
      "min        18.000000\n",
      "25%        24.000000\n",
      "50%        30.000000\n",
      "75%        37.000000\n",
      "max        65.000000\n",
      "Name: age, dtype: float64\n"
     ]
    },
    {
     "data": {
      "image/png": "[encoded data removed]",
      "text/plain": [
       "<Figure size 640x480 with 1 Axes>"
      ]
     },
     "metadata": {},
     "output_type": "display_data"
    },
    {
     "name": "stdout",
     "output_type": "stream",
     "text": [
      "count     5000.000000\n",
      "mean     39916.360000\n",
      "std       9900.083569\n",
      "min       5300.000000\n",
      "25%      33300.000000\n",
      "50%      40200.000000\n",
      "75%      46600.000000\n",
      "max      79000.000000\n",
      "Name: income, dtype: float64\n"
     ]
    },
    {
     "data": {
      "image/png": "[encoded data removed]",
      "text/plain": [
       "<Figure size 640x480 with 1 Axes>"
      ]
     },
     "metadata": {},
     "output_type": "display_data"
    },
    {
     "name": "stdout",
     "output_type": "stream",
     "text": [
      "count    5000.000000\n",
      "mean        1.194200\n",
      "std         1.091387\n",
      "min         0.000000\n",
      "25%         0.000000\n",
      "50%         1.000000\n",
      "75%         2.000000\n",
      "max         6.000000\n",
      "Name: family_members, dtype: float64\n"
     ]
    }
   ],
   "source": [
    "for item in ['age', 'income', 'family_members']:\n",
    "    data.boxplot(column=item)\n",
    "    plt.show()\n",
    "    print(data[item].describe())"
   ]
  },
  {
   "attachments": {},
   "cell_type": "markdown",
   "metadata": {},
   "source": [
    "Las tres columnas tienen valores atípicos por lo que se crearán dos funciones para determinar los límites superior e inferior correspondientes."
   ]
  },
  {
   "cell_type": "code",
   "execution_count": 10,
   "metadata": {},
   "outputs": [],
   "source": [
    "def lim_sup(string):\n",
    "    Q1 = data[string].quantile(0.25)\n",
    "    Q3 = data[string].quantile(0.75)\n",
    "    IQR = Q3 - Q1\n",
    "    lim_superior = Q3 + (1.5 * IQR)\n",
    "    return lim_superior"
   ]
  },
  {
   "cell_type": "code",
   "execution_count": 11,
   "metadata": {},
   "outputs": [],
   "source": [
    "def lim_inf(string):\n",
    "    Q1 = data[string].quantile(0.25)\n",
    "    Q3 = data[string].quantile(0.75)\n",
    "    IQR = Q3 - Q1\n",
    "    lim_infe = Q1 - (1.5 * IQR)\n",
    "    return lim_infe"
   ]
  },
  {
   "cell_type": "code",
   "execution_count": 12,
   "metadata": {},
   "outputs": [],
   "source": [
    "# limite superior de age (no hay atipicos inferiores)\n",
    "ls_age = lim_sup('age')\n",
    "# límites inferior y superior de income\n",
    "li_income = lim_inf('income')\n",
    "ls_income = lim_sup('income')\n",
    "# límite superior de family members (no hay atípicos inferiores)\n",
    "ls_members = lim_sup('family_members')"
   ]
  },
  {
   "cell_type": "code",
   "execution_count": 13,
   "metadata": {},
   "outputs": [
    {
     "name": "stdout",
     "output_type": "stream",
     "text": [
      "<class 'pandas.core.frame.DataFrame'>\n",
      "RangeIndex: 4912 entries, 0 to 4911\n",
      "Data columns (total 5 columns):\n",
      " #   Column              Non-Null Count  Dtype  \n",
      "---  ------              --------------  -----  \n",
      " 0   gender              4912 non-null   int64  \n",
      " 1   age                 4912 non-null   int64  \n",
      " 2   income              4912 non-null   float64\n",
      " 3   family_members      4912 non-null   int64  \n",
      " 4   insurance_benefits  4912 non-null   int64  \n",
      "dtypes: float64(1), int64(4)\n",
      "memory usage: 192.0 KB\n"
     ]
    }
   ],
   "source": [
    "data_no_outliers = data.query(\n",
    "    '(age < @ls_age) & (@li_income < income < @ls_income) & (family_members < @ls_members)'\n",
    "    ).reset_index(drop=True)\n",
    "data_no_outliers.info()"
   ]
  },
  {
   "attachments": {},
   "cell_type": "markdown",
   "metadata": {},
   "source": [
    "Se imprimirán los histogramas de estas columnas para comprobar que sus distribuciones ya no tienen valores atípicos."
   ]
  },
  {
   "cell_type": "code",
   "execution_count": 14,
   "metadata": {},
   "outputs": [
    {
     "data": {
      "image/png": "[encoded data removed]",
      "text/plain": [
       "<Figure size 640x480 with 1 Axes>"
      ]
     },
     "metadata": {},
     "output_type": "display_data"
    },
    {
     "data": {
      "image/png": "[encoded data removed]",
      "text/plain": [
       "<Figure size 640x480 with 1 Axes>"
      ]
     },
     "metadata": {},
     "output_type": "display_data"
    },
    {
     "data": {
      "image/png": "[encoded data removed]",
      "text/plain": [
       "<Figure size 640x480 with 1 Axes>"
      ]
     },
     "metadata": {},
     "output_type": "display_data"
    }
   ],
   "source": [
    "for item in ['age', 'income', 'family_members']:\n",
    "    data_no_outliers.hist(item, bins=20, grid=True)\n",
    "    plt.show()"
   ]
  },
  {
   "attachments": {},
   "cell_type": "markdown",
   "metadata": {},
   "source": [
    "El dataset ya no cuenta con valores atípicos que podrían interferir con la calidad del modelo.\n",
    "\n",
    "[Volver a Contenidos](#back)"
   ]
  },
  {
   "attachments": {},
   "cell_type": "markdown",
   "metadata": {},
   "source": [
    "### 2. 1. Tarea 1: vecinos similares <a id='data_analysis_neighbors'></a>\n",
    "\n",
    "Se comprobará si existen determinados grupos de clientes observando el gráfico de pares."
   ]
  },
  {
   "cell_type": "code",
   "execution_count": 15,
   "metadata": {},
   "outputs": [
    {
     "data": {
      "image/png": "[encoded data removed]",
      "text/plain": [
       "<Figure size 1200x1200 with 30 Axes>"
      ]
     },
     "metadata": {},
     "output_type": "display_data"
    }
   ],
   "source": [
    "g = sns.pairplot(data_no_outliers, kind='hist')\n",
    "g.fig.set_size_inches(12, 12)\n",
    "plt.show()"
   ]
  },
  {
   "attachments": {},
   "cell_type": "markdown",
   "metadata": {},
   "source": [
    "Es complicado detectar grupos obvios (clústeres) ya que es difícil combinar diversas variables simultáneamente (para analizar distribuciones multivariadas). Por esta razón, se utilizarán técnicas de LA y ML.\n",
    "\n",
    "Se desarrollará un procedimiento que devuelva los k vecinos más cercanos (objetos) para un objeto dado basándose en la distancia entre los objetos. Se utilizarán dos distancias entre vectores: distancia euclidiana y distancia Manhattan.\n",
    "\n",
    "A continuación, se creará una función cuyo resultado sean los k vecinos más cercanos para el $n^{th}$ objeto basándose en una métrica de distancia. Además por el momento no se utilizará la columna `insurance_benefits`."
   ]
  },
  {
   "cell_type": "code",
   "execution_count": 16,
   "metadata": {},
   "outputs": [],
   "source": [
    "feature_names = ['gender', 'age', 'income', 'family_members']"
   ]
  },
  {
   "cell_type": "code",
   "execution_count": 17,
   "metadata": {},
   "outputs": [],
   "source": [
    "def get_knn(df, n, k, metric):\n",
    "    \"\"\"_summary_\n",
    "\n",
    "    Args:\n",
    "        df (DataFrame): DataFrame de pandas\n",
    "        n (int): número de objetos para los que se buscan los vecinos más cercanos\n",
    "        k (int): número de vecinos más cercanos a devolver\n",
    "        metric (funcion): nombre de la métrica de distancia\n",
    "    \"\"\"\n",
    "    nbrs = sklearn.neighbors.NearestNeighbors(n_neighbors=k, metric=metric)\n",
    "    nbrs.fit(df[feature_names])\n",
    "    nbrs_distances, nbrs_indices = nbrs.kneighbors([df.iloc[n][feature_names]], k, return_distance=True)\n",
    "    \n",
    "    df_res = pd.concat([\n",
    "        df.iloc[nbrs_indices[0]], \n",
    "        pd.DataFrame(nbrs_distances.T, index=nbrs_indices[0], columns=['distance'])\n",
    "        ], axis=1)\n",
    "    return df_res"
   ]
  },
  {
   "attachments": {},
   "cell_type": "markdown",
   "metadata": {},
   "source": [
    "Se escalaran los datos."
   ]
  },
  {
   "cell_type": "code",
   "execution_count": 18,
   "metadata": {},
   "outputs": [],
   "source": [
    "feature_names = ['gender', 'age', 'income', 'family_members']\n",
    "\n",
    "transformer_mas = sklearn.preprocessing.MaxAbsScaler().fit(data_no_outliers[feature_names].to_numpy())\n",
    "\n",
    "df_scaled = data_no_outliers.copy()\n",
    "df_scaled.loc[:, feature_names] = transformer_mas.transform(data_no_outliers[feature_names].to_numpy())"
   ]
  },
  {
   "cell_type": "code",
   "execution_count": 19,
   "metadata": {},
   "outputs": [
    {
     "data": {
      "text/html": [
       "<div>\n",
       "<style scoped>\n",
       "    .dataframe tbody tr th:only-of-type {\n",
       "        vertical-align: middle;\n",
       "    }\n",
       "\n",
       "    .dataframe tbody tr th {\n",
       "        vertical-align: top;\n",
       "    }\n",
       "\n",
       "    .dataframe thead th {\n",
       "        text-align: right;\n",
       "    }\n",
       "</style>\n",
       "<table border=\"1\" class=\"dataframe\">\n",
       "  <thead>\n",
       "    <tr style=\"text-align: right;\">\n",
       "      <th></th>\n",
       "      <th>gender</th>\n",
       "      <th>age</th>\n",
       "      <th>income</th>\n",
       "      <th>family_members</th>\n",
       "      <th>insurance_benefits</th>\n",
       "    </tr>\n",
       "  </thead>\n",
       "  <tbody>\n",
       "    <tr>\n",
       "      <th>428</th>\n",
       "      <td>0</td>\n",
       "      <td>0.642857</td>\n",
       "      <td>0.547511</td>\n",
       "      <td>0.25</td>\n",
       "      <td>0</td>\n",
       "    </tr>\n",
       "    <tr>\n",
       "      <th>3856</th>\n",
       "      <td>1</td>\n",
       "      <td>0.535714</td>\n",
       "      <td>0.606335</td>\n",
       "      <td>0.25</td>\n",
       "      <td>0</td>\n",
       "    </tr>\n",
       "    <tr>\n",
       "      <th>3048</th>\n",
       "      <td>1</td>\n",
       "      <td>0.607143</td>\n",
       "      <td>0.800905</td>\n",
       "      <td>0.00</td>\n",
       "      <td>0</td>\n",
       "    </tr>\n",
       "    <tr>\n",
       "      <th>509</th>\n",
       "      <td>0</td>\n",
       "      <td>0.464286</td>\n",
       "      <td>0.580694</td>\n",
       "      <td>0.50</td>\n",
       "      <td>0</td>\n",
       "    </tr>\n",
       "    <tr>\n",
       "      <th>3519</th>\n",
       "      <td>1</td>\n",
       "      <td>0.571429</td>\n",
       "      <td>0.420814</td>\n",
       "      <td>0.25</td>\n",
       "      <td>0</td>\n",
       "    </tr>\n",
       "  </tbody>\n",
       "</table>\n",
       "</div>"
      ],
      "text/plain": [
       "      gender       age    income  family_members  insurance_benefits\n",
       "428        0  0.642857  0.547511            0.25                   0\n",
       "3856       1  0.535714  0.606335            0.25                   0\n",
       "3048       1  0.607143  0.800905            0.00                   0\n",
       "509        0  0.464286  0.580694            0.50                   0\n",
       "3519       1  0.571429  0.420814            0.25                   0"
      ]
     },
     "execution_count": 19,
     "metadata": {},
     "output_type": "execute_result"
    }
   ],
   "source": [
    "df_scaled.sample(5)"
   ]
  },
  {
   "attachments": {},
   "cell_type": "markdown",
   "metadata": {},
   "source": [
    "A continuación, se obtendrán registros similares para un objeto dado con la distancia Euclidiana, o bien, con la distancia Manhattan, así como, con los datos sin escalar y escalados.\n",
    "\n",
    "Se elige el objeto con el índice 143 y se considerarán los 15 vecinos más cercanos."
   ]
  },
  {
   "cell_type": "code",
   "execution_count": 20,
   "metadata": {},
   "outputs": [
    {
     "name": "stderr",
     "output_type": "stream",
     "text": [
      "/Library/Frameworks/Python.framework/Versions/3.10/lib/python3.10/site-packages/sklearn/base.py:439: UserWarning: X does not have valid feature names, but NearestNeighbors was fitted with feature names\n",
      "  warnings.warn(\n"
     ]
    },
    {
     "data": {
      "text/html": [
       "<div>\n",
       "<style scoped>\n",
       "    .dataframe tbody tr th:only-of-type {\n",
       "        vertical-align: middle;\n",
       "    }\n",
       "\n",
       "    .dataframe tbody tr th {\n",
       "        vertical-align: top;\n",
       "    }\n",
       "\n",
       "    .dataframe thead th {\n",
       "        text-align: right;\n",
       "    }\n",
       "</style>\n",
       "<table border=\"1\" class=\"dataframe\">\n",
       "  <thead>\n",
       "    <tr style=\"text-align: right;\">\n",
       "      <th></th>\n",
       "      <th>gender</th>\n",
       "      <th>age</th>\n",
       "      <th>income</th>\n",
       "      <th>family_members</th>\n",
       "      <th>distance</th>\n",
       "    </tr>\n",
       "  </thead>\n",
       "  <tbody>\n",
       "    <tr>\n",
       "      <th>143</th>\n",
       "      <td>1</td>\n",
       "      <td>41</td>\n",
       "      <td>33200.0</td>\n",
       "      <td>3</td>\n",
       "      <td>0.000000</td>\n",
       "    </tr>\n",
       "    <tr>\n",
       "      <th>17</th>\n",
       "      <td>1</td>\n",
       "      <td>41</td>\n",
       "      <td>33200.0</td>\n",
       "      <td>2</td>\n",
       "      <td>1.000000</td>\n",
       "    </tr>\n",
       "    <tr>\n",
       "      <th>4821</th>\n",
       "      <td>1</td>\n",
       "      <td>40</td>\n",
       "      <td>33200.0</td>\n",
       "      <td>1</td>\n",
       "      <td>2.236068</td>\n",
       "    </tr>\n",
       "    <tr>\n",
       "      <th>3691</th>\n",
       "      <td>0</td>\n",
       "      <td>39</td>\n",
       "      <td>33200.0</td>\n",
       "      <td>2</td>\n",
       "      <td>2.449490</td>\n",
       "    </tr>\n",
       "    <tr>\n",
       "      <th>1867</th>\n",
       "      <td>1</td>\n",
       "      <td>38</td>\n",
       "      <td>33200.0</td>\n",
       "      <td>2</td>\n",
       "      <td>3.162278</td>\n",
       "    </tr>\n",
       "    <tr>\n",
       "      <th>4476</th>\n",
       "      <td>0</td>\n",
       "      <td>37</td>\n",
       "      <td>33200.0</td>\n",
       "      <td>1</td>\n",
       "      <td>4.582576</td>\n",
       "    </tr>\n",
       "    <tr>\n",
       "      <th>1902</th>\n",
       "      <td>1</td>\n",
       "      <td>33</td>\n",
       "      <td>33200.0</td>\n",
       "      <td>1</td>\n",
       "      <td>8.246211</td>\n",
       "    </tr>\n",
       "    <tr>\n",
       "      <th>1389</th>\n",
       "      <td>0</td>\n",
       "      <td>50</td>\n",
       "      <td>33200.0</td>\n",
       "      <td>1</td>\n",
       "      <td>9.273618</td>\n",
       "    </tr>\n",
       "    <tr>\n",
       "      <th>4698</th>\n",
       "      <td>0</td>\n",
       "      <td>31</td>\n",
       "      <td>33200.0</td>\n",
       "      <td>3</td>\n",
       "      <td>10.049876</td>\n",
       "    </tr>\n",
       "    <tr>\n",
       "      <th>3294</th>\n",
       "      <td>1</td>\n",
       "      <td>30</td>\n",
       "      <td>33200.0</td>\n",
       "      <td>3</td>\n",
       "      <td>11.000000</td>\n",
       "    </tr>\n",
       "    <tr>\n",
       "      <th>2806</th>\n",
       "      <td>1</td>\n",
       "      <td>30</td>\n",
       "      <td>33200.0</td>\n",
       "      <td>0</td>\n",
       "      <td>11.401754</td>\n",
       "    </tr>\n",
       "    <tr>\n",
       "      <th>3542</th>\n",
       "      <td>1</td>\n",
       "      <td>29</td>\n",
       "      <td>33200.0</td>\n",
       "      <td>0</td>\n",
       "      <td>12.369317</td>\n",
       "    </tr>\n",
       "    <tr>\n",
       "      <th>3146</th>\n",
       "      <td>0</td>\n",
       "      <td>28</td>\n",
       "      <td>33200.0</td>\n",
       "      <td>1</td>\n",
       "      <td>13.190906</td>\n",
       "    </tr>\n",
       "    <tr>\n",
       "      <th>2296</th>\n",
       "      <td>0</td>\n",
       "      <td>21</td>\n",
       "      <td>33200.0</td>\n",
       "      <td>1</td>\n",
       "      <td>20.124612</td>\n",
       "    </tr>\n",
       "    <tr>\n",
       "      <th>1340</th>\n",
       "      <td>1</td>\n",
       "      <td>39</td>\n",
       "      <td>33100.0</td>\n",
       "      <td>3</td>\n",
       "      <td>100.019998</td>\n",
       "    </tr>\n",
       "  </tbody>\n",
       "</table>\n",
       "</div>"
      ],
      "text/plain": [
       "      gender  age   income  family_members    distance\n",
       "143        1   41  33200.0               3    0.000000\n",
       "17         1   41  33200.0               2    1.000000\n",
       "4821       1   40  33200.0               1    2.236068\n",
       "3691       0   39  33200.0               2    2.449490\n",
       "1867       1   38  33200.0               2    3.162278\n",
       "4476       0   37  33200.0               1    4.582576\n",
       "1902       1   33  33200.0               1    8.246211\n",
       "1389       0   50  33200.0               1    9.273618\n",
       "4698       0   31  33200.0               3   10.049876\n",
       "3294       1   30  33200.0               3   11.000000\n",
       "2806       1   30  33200.0               0   11.401754\n",
       "3542       1   29  33200.0               0   12.369317\n",
       "3146       0   28  33200.0               1   13.190906\n",
       "2296       0   21  33200.0               1   20.124612\n",
       "1340       1   39  33100.0               3  100.019998"
      ]
     },
     "execution_count": 20,
     "metadata": {},
     "output_type": "execute_result"
    }
   ],
   "source": [
    "not_scaled_euclidean = get_knn(data_no_outliers[feature_names], 143, 15, 'euclidean')\n",
    "not_scaled_euclidean"
   ]
  },
  {
   "cell_type": "code",
   "execution_count": 21,
   "metadata": {},
   "outputs": [
    {
     "name": "stderr",
     "output_type": "stream",
     "text": [
      "/Library/Frameworks/Python.framework/Versions/3.10/lib/python3.10/site-packages/sklearn/base.py:439: UserWarning: X does not have valid feature names, but NearestNeighbors was fitted with feature names\n",
      "  warnings.warn(\n"
     ]
    },
    {
     "data": {
      "text/html": [
       "<div>\n",
       "<style scoped>\n",
       "    .dataframe tbody tr th:only-of-type {\n",
       "        vertical-align: middle;\n",
       "    }\n",
       "\n",
       "    .dataframe tbody tr th {\n",
       "        vertical-align: top;\n",
       "    }\n",
       "\n",
       "    .dataframe thead th {\n",
       "        text-align: right;\n",
       "    }\n",
       "</style>\n",
       "<table border=\"1\" class=\"dataframe\">\n",
       "  <thead>\n",
       "    <tr style=\"text-align: right;\">\n",
       "      <th></th>\n",
       "      <th>gender</th>\n",
       "      <th>age</th>\n",
       "      <th>income</th>\n",
       "      <th>family_members</th>\n",
       "      <th>distance</th>\n",
       "    </tr>\n",
       "  </thead>\n",
       "  <tbody>\n",
       "    <tr>\n",
       "      <th>143</th>\n",
       "      <td>1</td>\n",
       "      <td>41</td>\n",
       "      <td>33200.0</td>\n",
       "      <td>3</td>\n",
       "      <td>0.0</td>\n",
       "    </tr>\n",
       "    <tr>\n",
       "      <th>17</th>\n",
       "      <td>1</td>\n",
       "      <td>41</td>\n",
       "      <td>33200.0</td>\n",
       "      <td>2</td>\n",
       "      <td>1.0</td>\n",
       "    </tr>\n",
       "    <tr>\n",
       "      <th>4821</th>\n",
       "      <td>1</td>\n",
       "      <td>40</td>\n",
       "      <td>33200.0</td>\n",
       "      <td>1</td>\n",
       "      <td>3.0</td>\n",
       "    </tr>\n",
       "    <tr>\n",
       "      <th>3691</th>\n",
       "      <td>0</td>\n",
       "      <td>39</td>\n",
       "      <td>33200.0</td>\n",
       "      <td>2</td>\n",
       "      <td>4.0</td>\n",
       "    </tr>\n",
       "    <tr>\n",
       "      <th>1867</th>\n",
       "      <td>1</td>\n",
       "      <td>38</td>\n",
       "      <td>33200.0</td>\n",
       "      <td>2</td>\n",
       "      <td>4.0</td>\n",
       "    </tr>\n",
       "    <tr>\n",
       "      <th>4476</th>\n",
       "      <td>0</td>\n",
       "      <td>37</td>\n",
       "      <td>33200.0</td>\n",
       "      <td>1</td>\n",
       "      <td>7.0</td>\n",
       "    </tr>\n",
       "    <tr>\n",
       "      <th>1902</th>\n",
       "      <td>1</td>\n",
       "      <td>33</td>\n",
       "      <td>33200.0</td>\n",
       "      <td>1</td>\n",
       "      <td>10.0</td>\n",
       "    </tr>\n",
       "    <tr>\n",
       "      <th>3294</th>\n",
       "      <td>1</td>\n",
       "      <td>30</td>\n",
       "      <td>33200.0</td>\n",
       "      <td>3</td>\n",
       "      <td>11.0</td>\n",
       "    </tr>\n",
       "    <tr>\n",
       "      <th>4698</th>\n",
       "      <td>0</td>\n",
       "      <td>31</td>\n",
       "      <td>33200.0</td>\n",
       "      <td>3</td>\n",
       "      <td>11.0</td>\n",
       "    </tr>\n",
       "    <tr>\n",
       "      <th>1389</th>\n",
       "      <td>0</td>\n",
       "      <td>50</td>\n",
       "      <td>33200.0</td>\n",
       "      <td>1</td>\n",
       "      <td>12.0</td>\n",
       "    </tr>\n",
       "    <tr>\n",
       "      <th>2806</th>\n",
       "      <td>1</td>\n",
       "      <td>30</td>\n",
       "      <td>33200.0</td>\n",
       "      <td>0</td>\n",
       "      <td>14.0</td>\n",
       "    </tr>\n",
       "    <tr>\n",
       "      <th>3542</th>\n",
       "      <td>1</td>\n",
       "      <td>29</td>\n",
       "      <td>33200.0</td>\n",
       "      <td>0</td>\n",
       "      <td>15.0</td>\n",
       "    </tr>\n",
       "    <tr>\n",
       "      <th>3146</th>\n",
       "      <td>0</td>\n",
       "      <td>28</td>\n",
       "      <td>33200.0</td>\n",
       "      <td>1</td>\n",
       "      <td>16.0</td>\n",
       "    </tr>\n",
       "    <tr>\n",
       "      <th>2296</th>\n",
       "      <td>0</td>\n",
       "      <td>21</td>\n",
       "      <td>33200.0</td>\n",
       "      <td>1</td>\n",
       "      <td>23.0</td>\n",
       "    </tr>\n",
       "    <tr>\n",
       "      <th>1340</th>\n",
       "      <td>1</td>\n",
       "      <td>39</td>\n",
       "      <td>33100.0</td>\n",
       "      <td>3</td>\n",
       "      <td>102.0</td>\n",
       "    </tr>\n",
       "  </tbody>\n",
       "</table>\n",
       "</div>"
      ],
      "text/plain": [
       "      gender  age   income  family_members  distance\n",
       "143        1   41  33200.0               3       0.0\n",
       "17         1   41  33200.0               2       1.0\n",
       "4821       1   40  33200.0               1       3.0\n",
       "3691       0   39  33200.0               2       4.0\n",
       "1867       1   38  33200.0               2       4.0\n",
       "4476       0   37  33200.0               1       7.0\n",
       "1902       1   33  33200.0               1      10.0\n",
       "3294       1   30  33200.0               3      11.0\n",
       "4698       0   31  33200.0               3      11.0\n",
       "1389       0   50  33200.0               1      12.0\n",
       "2806       1   30  33200.0               0      14.0\n",
       "3542       1   29  33200.0               0      15.0\n",
       "3146       0   28  33200.0               1      16.0\n",
       "2296       0   21  33200.0               1      23.0\n",
       "1340       1   39  33100.0               3     102.0"
      ]
     },
     "execution_count": 21,
     "metadata": {},
     "output_type": "execute_result"
    }
   ],
   "source": [
    "not_scaled_manhattan = get_knn(data_no_outliers[feature_names], 143, 15, 'cityblock')\n",
    "not_scaled_manhattan"
   ]
  },
  {
   "cell_type": "code",
   "execution_count": 22,
   "metadata": {},
   "outputs": [
    {
     "name": "stderr",
     "output_type": "stream",
     "text": [
      "/Library/Frameworks/Python.framework/Versions/3.10/lib/python3.10/site-packages/sklearn/base.py:439: UserWarning: X does not have valid feature names, but NearestNeighbors was fitted with feature names\n",
      "  warnings.warn(\n"
     ]
    },
    {
     "data": {
      "text/html": [
       "<div>\n",
       "<style scoped>\n",
       "    .dataframe tbody tr th:only-of-type {\n",
       "        vertical-align: middle;\n",
       "    }\n",
       "\n",
       "    .dataframe tbody tr th {\n",
       "        vertical-align: top;\n",
       "    }\n",
       "\n",
       "    .dataframe thead th {\n",
       "        text-align: right;\n",
       "    }\n",
       "</style>\n",
       "<table border=\"1\" class=\"dataframe\">\n",
       "  <thead>\n",
       "    <tr style=\"text-align: right;\">\n",
       "      <th></th>\n",
       "      <th>gender</th>\n",
       "      <th>age</th>\n",
       "      <th>income</th>\n",
       "      <th>family_members</th>\n",
       "      <th>distance</th>\n",
       "    </tr>\n",
       "  </thead>\n",
       "  <tbody>\n",
       "    <tr>\n",
       "      <th>143</th>\n",
       "      <td>1</td>\n",
       "      <td>0.732143</td>\n",
       "      <td>0.500754</td>\n",
       "      <td>0.75</td>\n",
       "      <td>0.000000</td>\n",
       "    </tr>\n",
       "    <tr>\n",
       "      <th>2248</th>\n",
       "      <td>1</td>\n",
       "      <td>0.714286</td>\n",
       "      <td>0.485671</td>\n",
       "      <td>0.75</td>\n",
       "      <td>0.023375</td>\n",
       "    </tr>\n",
       "    <tr>\n",
       "      <th>3743</th>\n",
       "      <td>1</td>\n",
       "      <td>0.750000</td>\n",
       "      <td>0.518854</td>\n",
       "      <td>0.75</td>\n",
       "      <td>0.025426</td>\n",
       "    </tr>\n",
       "    <tr>\n",
       "      <th>624</th>\n",
       "      <td>1</td>\n",
       "      <td>0.732143</td>\n",
       "      <td>0.466063</td>\n",
       "      <td>0.75</td>\n",
       "      <td>0.034691</td>\n",
       "    </tr>\n",
       "    <tr>\n",
       "      <th>1340</th>\n",
       "      <td>1</td>\n",
       "      <td>0.696429</td>\n",
       "      <td>0.499246</td>\n",
       "      <td>0.75</td>\n",
       "      <td>0.035746</td>\n",
       "    </tr>\n",
       "    <tr>\n",
       "      <th>3887</th>\n",
       "      <td>1</td>\n",
       "      <td>0.767857</td>\n",
       "      <td>0.511312</td>\n",
       "      <td>0.75</td>\n",
       "      <td>0.037242</td>\n",
       "    </tr>\n",
       "    <tr>\n",
       "      <th>4058</th>\n",
       "      <td>1</td>\n",
       "      <td>0.767857</td>\n",
       "      <td>0.515837</td>\n",
       "      <td>0.75</td>\n",
       "      <td>0.038769</td>\n",
       "    </tr>\n",
       "    <tr>\n",
       "      <th>563</th>\n",
       "      <td>1</td>\n",
       "      <td>0.714286</td>\n",
       "      <td>0.463047</td>\n",
       "      <td>0.75</td>\n",
       "      <td>0.041722</td>\n",
       "    </tr>\n",
       "    <tr>\n",
       "      <th>1226</th>\n",
       "      <td>1</td>\n",
       "      <td>0.732143</td>\n",
       "      <td>0.542986</td>\n",
       "      <td>0.75</td>\n",
       "      <td>0.042232</td>\n",
       "    </tr>\n",
       "    <tr>\n",
       "      <th>267</th>\n",
       "      <td>1</td>\n",
       "      <td>0.696429</td>\n",
       "      <td>0.437406</td>\n",
       "      <td>0.75</td>\n",
       "      <td>0.072722</td>\n",
       "    </tr>\n",
       "    <tr>\n",
       "      <th>2420</th>\n",
       "      <td>1</td>\n",
       "      <td>0.660714</td>\n",
       "      <td>0.517345</td>\n",
       "      <td>0.75</td>\n",
       "      <td>0.073330</td>\n",
       "    </tr>\n",
       "    <tr>\n",
       "      <th>2717</th>\n",
       "      <td>1</td>\n",
       "      <td>0.803571</td>\n",
       "      <td>0.484163</td>\n",
       "      <td>0.75</td>\n",
       "      <td>0.073330</td>\n",
       "    </tr>\n",
       "    <tr>\n",
       "      <th>921</th>\n",
       "      <td>1</td>\n",
       "      <td>0.803571</td>\n",
       "      <td>0.518854</td>\n",
       "      <td>0.75</td>\n",
       "      <td>0.073686</td>\n",
       "    </tr>\n",
       "    <tr>\n",
       "      <th>4341</th>\n",
       "      <td>1</td>\n",
       "      <td>0.678571</td>\n",
       "      <td>0.449472</td>\n",
       "      <td>0.75</td>\n",
       "      <td>0.074160</td>\n",
       "    </tr>\n",
       "    <tr>\n",
       "      <th>4487</th>\n",
       "      <td>1</td>\n",
       "      <td>0.803571</td>\n",
       "      <td>0.466063</td>\n",
       "      <td>0.75</td>\n",
       "      <td>0.079407</td>\n",
       "    </tr>\n",
       "  </tbody>\n",
       "</table>\n",
       "</div>"
      ],
      "text/plain": [
       "      gender       age    income  family_members  distance\n",
       "143        1  0.732143  0.500754            0.75  0.000000\n",
       "2248       1  0.714286  0.485671            0.75  0.023375\n",
       "3743       1  0.750000  0.518854            0.75  0.025426\n",
       "624        1  0.732143  0.466063            0.75  0.034691\n",
       "1340       1  0.696429  0.499246            0.75  0.035746\n",
       "3887       1  0.767857  0.511312            0.75  0.037242\n",
       "4058       1  0.767857  0.515837            0.75  0.038769\n",
       "563        1  0.714286  0.463047            0.75  0.041722\n",
       "1226       1  0.732143  0.542986            0.75  0.042232\n",
       "267        1  0.696429  0.437406            0.75  0.072722\n",
       "2420       1  0.660714  0.517345            0.75  0.073330\n",
       "2717       1  0.803571  0.484163            0.75  0.073330\n",
       "921        1  0.803571  0.518854            0.75  0.073686\n",
       "4341       1  0.678571  0.449472            0.75  0.074160\n",
       "4487       1  0.803571  0.466063            0.75  0.079407"
      ]
     },
     "execution_count": 22,
     "metadata": {},
     "output_type": "execute_result"
    }
   ],
   "source": [
    "scaled_euclidean = get_knn(df_scaled[feature_names], 143, 15, 'euclidean')\n",
    "scaled_euclidean"
   ]
  },
  {
   "cell_type": "code",
   "execution_count": 23,
   "metadata": {},
   "outputs": [
    {
     "name": "stderr",
     "output_type": "stream",
     "text": [
      "/Library/Frameworks/Python.framework/Versions/3.10/lib/python3.10/site-packages/sklearn/base.py:439: UserWarning: X does not have valid feature names, but NearestNeighbors was fitted with feature names\n",
      "  warnings.warn(\n"
     ]
    },
    {
     "data": {
      "text/html": [
       "<div>\n",
       "<style scoped>\n",
       "    .dataframe tbody tr th:only-of-type {\n",
       "        vertical-align: middle;\n",
       "    }\n",
       "\n",
       "    .dataframe tbody tr th {\n",
       "        vertical-align: top;\n",
       "    }\n",
       "\n",
       "    .dataframe thead th {\n",
       "        text-align: right;\n",
       "    }\n",
       "</style>\n",
       "<table border=\"1\" class=\"dataframe\">\n",
       "  <thead>\n",
       "    <tr style=\"text-align: right;\">\n",
       "      <th></th>\n",
       "      <th>gender</th>\n",
       "      <th>age</th>\n",
       "      <th>income</th>\n",
       "      <th>family_members</th>\n",
       "      <th>distance</th>\n",
       "    </tr>\n",
       "  </thead>\n",
       "  <tbody>\n",
       "    <tr>\n",
       "      <th>143</th>\n",
       "      <td>1</td>\n",
       "      <td>0.732143</td>\n",
       "      <td>0.500754</td>\n",
       "      <td>0.75</td>\n",
       "      <td>0.000000</td>\n",
       "    </tr>\n",
       "    <tr>\n",
       "      <th>2248</th>\n",
       "      <td>1</td>\n",
       "      <td>0.714286</td>\n",
       "      <td>0.485671</td>\n",
       "      <td>0.75</td>\n",
       "      <td>0.032940</td>\n",
       "    </tr>\n",
       "    <tr>\n",
       "      <th>624</th>\n",
       "      <td>1</td>\n",
       "      <td>0.732143</td>\n",
       "      <td>0.466063</td>\n",
       "      <td>0.75</td>\n",
       "      <td>0.034691</td>\n",
       "    </tr>\n",
       "    <tr>\n",
       "      <th>3743</th>\n",
       "      <td>1</td>\n",
       "      <td>0.750000</td>\n",
       "      <td>0.518854</td>\n",
       "      <td>0.75</td>\n",
       "      <td>0.035957</td>\n",
       "    </tr>\n",
       "    <tr>\n",
       "      <th>1340</th>\n",
       "      <td>1</td>\n",
       "      <td>0.696429</td>\n",
       "      <td>0.499246</td>\n",
       "      <td>0.75</td>\n",
       "      <td>0.037223</td>\n",
       "    </tr>\n",
       "    <tr>\n",
       "      <th>1226</th>\n",
       "      <td>1</td>\n",
       "      <td>0.732143</td>\n",
       "      <td>0.542986</td>\n",
       "      <td>0.75</td>\n",
       "      <td>0.042232</td>\n",
       "    </tr>\n",
       "    <tr>\n",
       "      <th>3887</th>\n",
       "      <td>1</td>\n",
       "      <td>0.767857</td>\n",
       "      <td>0.511312</td>\n",
       "      <td>0.75</td>\n",
       "      <td>0.046272</td>\n",
       "    </tr>\n",
       "    <tr>\n",
       "      <th>4058</th>\n",
       "      <td>1</td>\n",
       "      <td>0.767857</td>\n",
       "      <td>0.515837</td>\n",
       "      <td>0.75</td>\n",
       "      <td>0.050797</td>\n",
       "    </tr>\n",
       "    <tr>\n",
       "      <th>563</th>\n",
       "      <td>1</td>\n",
       "      <td>0.714286</td>\n",
       "      <td>0.463047</td>\n",
       "      <td>0.75</td>\n",
       "      <td>0.055565</td>\n",
       "    </tr>\n",
       "    <tr>\n",
       "      <th>2420</th>\n",
       "      <td>1</td>\n",
       "      <td>0.660714</td>\n",
       "      <td>0.517345</td>\n",
       "      <td>0.75</td>\n",
       "      <td>0.088020</td>\n",
       "    </tr>\n",
       "    <tr>\n",
       "      <th>2717</th>\n",
       "      <td>1</td>\n",
       "      <td>0.803571</td>\n",
       "      <td>0.484163</td>\n",
       "      <td>0.75</td>\n",
       "      <td>0.088020</td>\n",
       "    </tr>\n",
       "    <tr>\n",
       "      <th>921</th>\n",
       "      <td>1</td>\n",
       "      <td>0.803571</td>\n",
       "      <td>0.518854</td>\n",
       "      <td>0.75</td>\n",
       "      <td>0.089528</td>\n",
       "    </tr>\n",
       "    <tr>\n",
       "      <th>3548</th>\n",
       "      <td>1</td>\n",
       "      <td>0.642857</td>\n",
       "      <td>0.508296</td>\n",
       "      <td>0.75</td>\n",
       "      <td>0.096827</td>\n",
       "    </tr>\n",
       "    <tr>\n",
       "      <th>267</th>\n",
       "      <td>1</td>\n",
       "      <td>0.696429</td>\n",
       "      <td>0.437406</td>\n",
       "      <td>0.75</td>\n",
       "      <td>0.099063</td>\n",
       "    </tr>\n",
       "    <tr>\n",
       "      <th>4341</th>\n",
       "      <td>1</td>\n",
       "      <td>0.678571</td>\n",
       "      <td>0.449472</td>\n",
       "      <td>0.75</td>\n",
       "      <td>0.104853</td>\n",
       "    </tr>\n",
       "  </tbody>\n",
       "</table>\n",
       "</div>"
      ],
      "text/plain": [
       "      gender       age    income  family_members  distance\n",
       "143        1  0.732143  0.500754            0.75  0.000000\n",
       "2248       1  0.714286  0.485671            0.75  0.032940\n",
       "624        1  0.732143  0.466063            0.75  0.034691\n",
       "3743       1  0.750000  0.518854            0.75  0.035957\n",
       "1340       1  0.696429  0.499246            0.75  0.037223\n",
       "1226       1  0.732143  0.542986            0.75  0.042232\n",
       "3887       1  0.767857  0.511312            0.75  0.046272\n",
       "4058       1  0.767857  0.515837            0.75  0.050797\n",
       "563        1  0.714286  0.463047            0.75  0.055565\n",
       "2420       1  0.660714  0.517345            0.75  0.088020\n",
       "2717       1  0.803571  0.484163            0.75  0.088020\n",
       "921        1  0.803571  0.518854            0.75  0.089528\n",
       "3548       1  0.642857  0.508296            0.75  0.096827\n",
       "267        1  0.696429  0.437406            0.75  0.099063\n",
       "4341       1  0.678571  0.449472            0.75  0.104853"
      ]
     },
     "execution_count": 23,
     "metadata": {},
     "output_type": "execute_result"
    }
   ],
   "source": [
    "scaled_manhattan = get_knn(df_scaled[feature_names], 143, 15, 'cityblock')\n",
    "scaled_manhattan"
   ]
  },
  {
   "attachments": {},
   "cell_type": "markdown",
   "metadata": {},
   "source": [
    "La primera observación es que cuando los datos están escalados las distancias (con cualquiera de las dos) son mucho menores. Esto quiere decir que con los datos escalados, el algoritmo encuentra vecinos que son muy similares al elegido. Por lo tanto, con los datos escalados, el algoritmo tiene mayor calidad.\n",
    "\n",
    "Por otro lado, si los datos no están escalados no existe una diferencia significativa al utilizar la distancia euclidiana o Manhattan. No obstante, con los datos escalados, la distancia euclidiana es menor que la distancia Manhattan.\n",
    "\n",
    "Otra observación importante es que como el modelo está basado en una distancia, entonces es muy sensible a datos que son muy grandes. En este caso, la variable correspondiente al ingreso tiene mayor peso que cualquier otra.\n",
    "\n",
    "El algoritmo con mayor calidad es con los datos escalados y basado en la distancia euclideana.\n",
    "\n",
    "[Volver a Contenidos](#back)"
   ]
  },
  {
   "attachments": {},
   "cell_type": "markdown",
   "metadata": {},
   "source": [
    "### 2. 2. Conclusiones <a id='data_analysis_conclusions'></a>\n",
    "\n",
    "Se analizaron los valores atípicos para las columnas `age`, `income` y `family_members` utilizando diagramas de caja. Con esto se determinaron los límites superior e inferior para cada una de estas columnas y se filtró el dataset para eliminar los valores atípicos.\n",
    "\n",
    "Se creó un algoritmo para determinar los vecinos similares más cercanos a uno dado. Se examinó este algoritmo con los datos escalados y sin escalar y basándose en dos distancias distintas: la ecuclidiana y Manhattan.\n",
    "\n",
    "El algoritmo con mejor calidad es con los datos escalados y la distancia euclidiana. Esto es, mediante este algoritmo se encontraron los vecinos similares más cercanos a uno dado.\n",
    "\n",
    "[Volver a Contenidos](#back)"
   ]
  },
  {
   "attachments": {},
   "cell_type": "markdown",
   "metadata": {},
   "source": [
    "## Etapa 3. Construcción del modelo <a id='data_model'></a>\n",
    "\n",
    "En esta estapa se construirán dos modelos, el objetivo del primer modelo es predecir si un cliente recibirá una prestación del seguro o no, mientras que el objetivo del segundo es predecir la cantidad de beneficios de seguro que recibirá un cliente."
   ]
  },
  {
   "attachments": {},
   "cell_type": "markdown",
   "metadata": {},
   "source": [
    "### 3. 1. Tarea 2: Predicción de prestación de seguro <a id='data_model_task2'></a>\n",
    "\n",
    "En la columna `insurance_benefits` se encuentra la información sobre la cantidad de veces que un cliente ha recibido la prestación del seguro en los últimos 5 años. Como el objetivo de este primer modelo es predcir si un cliente recibirá una prestación del seguro o no, entonces la información de esta columna puede ser tratada como una tarea de clasificación: el cliente ha recibido prestación del seguro (siempre que el valor sea mayor que 0) o no (cuando el valor es igual a 0).\n",
    "\n",
    "De esta manera, se creará una función para categorizar la información de la columna `insurance_benefits` y se agregará al dataset."
   ]
  },
  {
   "cell_type": "code",
   "execution_count": 24,
   "metadata": {},
   "outputs": [],
   "source": [
    "def insurance_received(row):\n",
    "    benefits = row['insurance_benefits']\n",
    "    if benefits == 0:\n",
    "        return 0\n",
    "    else:\n",
    "        return 1"
   ]
  },
  {
   "cell_type": "code",
   "execution_count": 25,
   "metadata": {},
   "outputs": [
    {
     "data": {
      "text/html": [
       "<div>\n",
       "<style scoped>\n",
       "    .dataframe tbody tr th:only-of-type {\n",
       "        vertical-align: middle;\n",
       "    }\n",
       "\n",
       "    .dataframe tbody tr th {\n",
       "        vertical-align: top;\n",
       "    }\n",
       "\n",
       "    .dataframe thead th {\n",
       "        text-align: right;\n",
       "    }\n",
       "</style>\n",
       "<table border=\"1\" class=\"dataframe\">\n",
       "  <thead>\n",
       "    <tr style=\"text-align: right;\">\n",
       "      <th></th>\n",
       "      <th>gender</th>\n",
       "      <th>age</th>\n",
       "      <th>income</th>\n",
       "      <th>family_members</th>\n",
       "      <th>insurance_benefits</th>\n",
       "      <th>insurance_benefits_received</th>\n",
       "    </tr>\n",
       "  </thead>\n",
       "  <tbody>\n",
       "    <tr>\n",
       "      <th>632</th>\n",
       "      <td>0</td>\n",
       "      <td>26</td>\n",
       "      <td>44100.0</td>\n",
       "      <td>0</td>\n",
       "      <td>0</td>\n",
       "      <td>0</td>\n",
       "    </tr>\n",
       "    <tr>\n",
       "      <th>866</th>\n",
       "      <td>0</td>\n",
       "      <td>25</td>\n",
       "      <td>44600.0</td>\n",
       "      <td>2</td>\n",
       "      <td>0</td>\n",
       "      <td>0</td>\n",
       "    </tr>\n",
       "    <tr>\n",
       "      <th>1424</th>\n",
       "      <td>1</td>\n",
       "      <td>21</td>\n",
       "      <td>45800.0</td>\n",
       "      <td>1</td>\n",
       "      <td>0</td>\n",
       "      <td>0</td>\n",
       "    </tr>\n",
       "    <tr>\n",
       "      <th>2443</th>\n",
       "      <td>0</td>\n",
       "      <td>34</td>\n",
       "      <td>18800.0</td>\n",
       "      <td>1</td>\n",
       "      <td>0</td>\n",
       "      <td>0</td>\n",
       "    </tr>\n",
       "    <tr>\n",
       "      <th>2001</th>\n",
       "      <td>0</td>\n",
       "      <td>24</td>\n",
       "      <td>39800.0</td>\n",
       "      <td>1</td>\n",
       "      <td>0</td>\n",
       "      <td>0</td>\n",
       "    </tr>\n",
       "  </tbody>\n",
       "</table>\n",
       "</div>"
      ],
      "text/plain": [
       "      gender  age   income  family_members  insurance_benefits   \n",
       "632        0   26  44100.0               0                   0  \\\n",
       "866        0   25  44600.0               2                   0   \n",
       "1424       1   21  45800.0               1                   0   \n",
       "2443       0   34  18800.0               1                   0   \n",
       "2001       0   24  39800.0               1                   0   \n",
       "\n",
       "      insurance_benefits_received  \n",
       "632                             0  \n",
       "866                             0  \n",
       "1424                            0  \n",
       "2443                            0  \n",
       "2001                            0  "
      ]
     },
     "execution_count": 25,
     "metadata": {},
     "output_type": "execute_result"
    }
   ],
   "source": [
    "data_no_outliers['insurance_benefits_received'] = data_no_outliers.apply(insurance_received, axis=1)\n",
    "data_no_outliers.sample(5)"
   ]
  },
  {
   "cell_type": "code",
   "execution_count": 26,
   "metadata": {},
   "outputs": [
    {
     "data": {
      "text/html": [
       "<div>\n",
       "<style scoped>\n",
       "    .dataframe tbody tr th:only-of-type {\n",
       "        vertical-align: middle;\n",
       "    }\n",
       "\n",
       "    .dataframe tbody tr th {\n",
       "        vertical-align: top;\n",
       "    }\n",
       "\n",
       "    .dataframe thead th {\n",
       "        text-align: right;\n",
       "    }\n",
       "</style>\n",
       "<table border=\"1\" class=\"dataframe\">\n",
       "  <thead>\n",
       "    <tr style=\"text-align: right;\">\n",
       "      <th></th>\n",
       "      <th>gender</th>\n",
       "      <th>age</th>\n",
       "      <th>income</th>\n",
       "      <th>family_members</th>\n",
       "      <th>insurance_benefits</th>\n",
       "      <th>insurance_benefits_received</th>\n",
       "    </tr>\n",
       "  </thead>\n",
       "  <tbody>\n",
       "    <tr>\n",
       "      <th>3778</th>\n",
       "      <td>1</td>\n",
       "      <td>0.696429</td>\n",
       "      <td>0.927602</td>\n",
       "      <td>0.50</td>\n",
       "      <td>0</td>\n",
       "      <td>0</td>\n",
       "    </tr>\n",
       "    <tr>\n",
       "      <th>2348</th>\n",
       "      <td>1</td>\n",
       "      <td>0.339286</td>\n",
       "      <td>0.684766</td>\n",
       "      <td>0.25</td>\n",
       "      <td>0</td>\n",
       "      <td>0</td>\n",
       "    </tr>\n",
       "    <tr>\n",
       "      <th>2221</th>\n",
       "      <td>0</td>\n",
       "      <td>0.464286</td>\n",
       "      <td>0.461538</td>\n",
       "      <td>0.50</td>\n",
       "      <td>0</td>\n",
       "      <td>0</td>\n",
       "    </tr>\n",
       "    <tr>\n",
       "      <th>3023</th>\n",
       "      <td>0</td>\n",
       "      <td>0.696429</td>\n",
       "      <td>0.787330</td>\n",
       "      <td>0.00</td>\n",
       "      <td>0</td>\n",
       "      <td>0</td>\n",
       "    </tr>\n",
       "    <tr>\n",
       "      <th>3400</th>\n",
       "      <td>0</td>\n",
       "      <td>0.535714</td>\n",
       "      <td>0.389140</td>\n",
       "      <td>0.00</td>\n",
       "      <td>0</td>\n",
       "      <td>0</td>\n",
       "    </tr>\n",
       "  </tbody>\n",
       "</table>\n",
       "</div>"
      ],
      "text/plain": [
       "      gender       age    income  family_members  insurance_benefits   \n",
       "3778       1  0.696429  0.927602            0.50                   0  \\\n",
       "2348       1  0.339286  0.684766            0.25                   0   \n",
       "2221       0  0.464286  0.461538            0.50                   0   \n",
       "3023       0  0.696429  0.787330            0.00                   0   \n",
       "3400       0  0.535714  0.389140            0.00                   0   \n",
       "\n",
       "      insurance_benefits_received  \n",
       "3778                            0  \n",
       "2348                            0  \n",
       "2221                            0  \n",
       "3023                            0  \n",
       "3400                            0  "
      ]
     },
     "execution_count": 26,
     "metadata": {},
     "output_type": "execute_result"
    }
   ],
   "source": [
    "df_scaled['insurance_benefits_received'] = df_scaled.apply(insurance_received, axis=1)\n",
    "df_scaled.sample(5)"
   ]
  },
  {
   "attachments": {},
   "cell_type": "markdown",
   "metadata": {},
   "source": [
    "Se comprobará el balance de las clases."
   ]
  },
  {
   "cell_type": "code",
   "execution_count": 27,
   "metadata": {},
   "outputs": [
    {
     "name": "stdout",
     "output_type": "stream",
     "text": [
      "insurance_benefits_received\n",
      "0    4368\n",
      "1     544\n",
      "Name: count, dtype: int64\n"
     ]
    }
   ],
   "source": [
    "print(data_no_outliers['insurance_benefits_received'].value_counts())"
   ]
  },
  {
   "attachments": {},
   "cell_type": "markdown",
   "metadata": {},
   "source": [
    "La clase rara es 1 (el cliente ha recibido la prestación del seguro). Se tomará en cuenta para balancear las clases más adelante.\n",
    "\n",
    "A continuación se dividirán los datasets en conjuntos de entrenamiento y prueba con una proporción de 70: 30."
   ]
  },
  {
   "cell_type": "code",
   "execution_count": 28,
   "metadata": {},
   "outputs": [],
   "source": [
    "train_df, test_df = train_test_split(data_no_outliers, test_size=0.30, random_state=12345)\n",
    "train_df_scaled, test_df_scaled = train_test_split(df_scaled, test_size=0.30, random_state=12345)"
   ]
  },
  {
   "attachments": {},
   "cell_type": "markdown",
   "metadata": {},
   "source": [
    "Se establecerán los objetivos y las características para el modelo."
   ]
  },
  {
   "cell_type": "code",
   "execution_count": 29,
   "metadata": {},
   "outputs": [],
   "source": [
    "#Datos no escalados\n",
    "features_train = train_df.drop(['insurance_benefits', 'insurance_benefits_received'], axis=1)\n",
    "target_train = train_df['insurance_benefits_received']\n",
    "\n",
    "features_test = test_df.drop(['insurance_benefits', 'insurance_benefits_received'], axis=1)\n",
    "target_test = test_df['insurance_benefits_received']\n",
    "\n",
    "#Datos escalados\n",
    "features_train_scaled = train_df_scaled.drop(['insurance_benefits', 'insurance_benefits_received'], axis=1)\n",
    "target_train_scaled = train_df_scaled['insurance_benefits_received']\n",
    "\n",
    "features_test_scaled = test_df_scaled.drop(['insurance_benefits', 'insurance_benefits_received'], axis=1)\n",
    "target_test_scaled = test_df_scaled['insurance_benefits_received']"
   ]
  },
  {
   "attachments": {},
   "cell_type": "markdown",
   "metadata": {},
   "source": [
    "A continuación se creará una función para evaluar la calidad del modelo, basada en la métrica F1. Se evaluarán los valores F1 para modelos aleatorios."
   ]
  },
  {
   "cell_type": "code",
   "execution_count": 30,
   "metadata": {},
   "outputs": [],
   "source": [
    "def eval_classifier(y_true, y_pred):\n",
    "    f1_score = sklearn.metrics.f1_score(y_true, y_pred)\n",
    "    print(f'F1: {f1_score:.2f}')\n",
    "    \n",
    "    cm = sklearn.metrics.confusion_matrix(y_true, y_pred, normalize='all') # muestra porcentajes\n",
    "    print('Matriz de confusión')\n",
    "    print(cm)\n",
    "    print(\"-----------------------------\")"
   ]
  },
  {
   "cell_type": "code",
   "execution_count": 31,
   "metadata": {},
   "outputs": [],
   "source": [
    "# genera la salida de un modelo aleatorio\n",
    "\n",
    "def rnd_model_predict(P, size, seed=42):\n",
    "    rng = np.random.default_rng(seed=seed)\n",
    "    return rng.binomial(n=1, p=P, size=size)"
   ]
  },
  {
   "cell_type": "code",
   "execution_count": 32,
   "metadata": {},
   "outputs": [
    {
     "name": "stdout",
     "output_type": "stream",
     "text": [
      "La probabilidad: 0.00\n",
      "F1: 0.00\n",
      "Matriz de confusión\n",
      "[[0.90502035 0.        ]\n",
      " [0.09497965 0.        ]]\n",
      "-----------------------------\n",
      "\n",
      "La probabilidad: 0.12\n",
      "F1: 0.15\n",
      "Matriz de confusión\n",
      "[[0.80122117 0.10379919]\n",
      " [0.07869742 0.01628223]]\n",
      "-----------------------------\n",
      "\n",
      "La probabilidad: 0.50\n",
      "F1: 0.15\n",
      "Matriz de confusión\n",
      "[[0.45454545 0.4504749 ]\n",
      " [0.05156038 0.04341927]]\n",
      "-----------------------------\n",
      "\n",
      "La probabilidad: 1.00\n",
      "F1: 0.17\n",
      "Matriz de confusión\n",
      "[[0.         0.90502035]\n",
      " [0.         0.09497965]]\n",
      "-----------------------------\n",
      "\n"
     ]
    }
   ],
   "source": [
    "for P in [0, target_train.sum() / len(target_train), 0.5, 1]:\n",
    "    print(f'La probabilidad: {P:.2f}')\n",
    "    y_pred_rnd = rnd_model_predict(P, size=len(target_test))\n",
    "        \n",
    "    eval_classifier(target_test, y_pred_rnd)\n",
    "    print()"
   ]
  },
  {
   "attachments": {},
   "cell_type": "markdown",
   "metadata": {},
   "source": [
    "El valor F1 más alto es 0.17 con el modelo aleatorio de probabilidad 1. Se creará un modelo con el algoritmo KNN y se evaluará su calidad con el valor F1 y k en el rango de 1 a 10 tanto para los datos sin escalar como escalados."
   ]
  },
  {
   "cell_type": "code",
   "execution_count": 33,
   "metadata": {},
   "outputs": [],
   "source": [
    "def knn(k, features, target):\n",
    "    neigh = sklearn.neighbors.KNeighborsClassifier(n_neighbors=k)\n",
    "    neigh.fit(features, target)\n",
    "    return neigh"
   ]
  },
  {
   "cell_type": "code",
   "execution_count": 34,
   "metadata": {},
   "outputs": [
    {
     "name": "stdout",
     "output_type": "stream",
     "text": [
      "K : 1\n",
      "F1: 0.62\n",
      "Matriz de confusión\n",
      "[[0.89145183 0.01356852]\n",
      " [0.04613297 0.04884668]]\n",
      "-----------------------------\n",
      "K : 2\n",
      "F1: 0.40\n",
      "Matriz de confusión\n",
      "[[0.89891452 0.00610583]\n",
      " [0.06987788 0.02510176]]\n",
      "-----------------------------\n",
      "K : 3\n",
      "F1: 0.40\n",
      "Matriz de confusión\n",
      "[[0.89213026 0.01289009]\n",
      " [0.06784261 0.02713704]]\n",
      "-----------------------------\n",
      "K : 4\n",
      "F1: 0.17\n",
      "Matriz de confusión\n",
      "[[0.90027137 0.00474898]\n",
      " [0.08548168 0.00949796]]\n",
      "-----------------------------\n",
      "K : 5\n",
      "F1: 0.18\n",
      "Matriz de confusión\n",
      "[[0.89552239 0.00949796]\n",
      " [0.08480326 0.01017639]]\n",
      "-----------------------------\n",
      "K : 6\n",
      "F1: 0.10\n",
      "Matriz de confusión\n",
      "[[0.90162822 0.00339213]\n",
      " [0.08955224 0.00542741]]\n",
      "-----------------------------\n",
      "K : 7\n",
      "F1: 0.10\n",
      "Matriz de confusión\n",
      "[[0.9009498  0.00407056]\n",
      " [0.08955224 0.00542741]]\n",
      "-----------------------------\n",
      "K : 8\n",
      "F1: 0.04\n",
      "Matriz de confusión\n",
      "[[0.90502035 0.        ]\n",
      " [0.09294437 0.00203528]]\n",
      "-----------------------------\n",
      "K : 9\n",
      "F1: 0.04\n",
      "Matriz de confusión\n",
      "[[9.04341927e-01 6.78426052e-04]\n",
      " [9.29443691e-02 2.03527815e-03]]\n",
      "-----------------------------\n",
      "K : 10\n",
      "F1: 0.03\n",
      "Matriz de confusión\n",
      "[[0.90502035 0.        ]\n",
      " [0.0936228  0.00135685]]\n",
      "-----------------------------\n"
     ]
    }
   ],
   "source": [
    "for k in range(1, 11):\n",
    "    print('K :', k)\n",
    "    knn_model = knn(k, features_train, target_train)\n",
    "    test_pred = knn_model.predict(features_test)\n",
    "    f1_score = eval_classifier(target_test, test_pred)"
   ]
  },
  {
   "attachments": {},
   "cell_type": "markdown",
   "metadata": {},
   "source": [
    "El valor F1 mayor es 0.62 donde el valor de K es 1. Se realizará el procedimiento análogo para los datos escalados."
   ]
  },
  {
   "cell_type": "code",
   "execution_count": 35,
   "metadata": {},
   "outputs": [
    {
     "name": "stdout",
     "output_type": "stream",
     "text": [
      "K : 1\n",
      "F1: 0.94\n",
      "Matriz de confusión\n",
      "[[0.89959294 0.00542741]\n",
      " [0.00542741 0.08955224]]\n",
      "-----------------------------\n",
      "K : 2\n",
      "F1: 0.91\n",
      "Matriz de confusión\n",
      "[[0.9036635  0.00135685]\n",
      " [0.01492537 0.08005427]]\n",
      "-----------------------------\n",
      "K : 3\n",
      "F1: 0.92\n",
      "Matriz de confusión\n",
      "[[0.89891452 0.00610583]\n",
      " [0.00814111 0.08683853]]\n",
      "-----------------------------\n",
      "K : 4\n",
      "F1: 0.91\n",
      "Matriz de confusión\n",
      "[[9.04341927e-01 6.78426052e-04]\n",
      " [1.56037992e-02 7.93758480e-02]]\n",
      "-----------------------------\n",
      "K : 5\n",
      "F1: 0.91\n",
      "Matriz de confusión\n",
      "[[0.9009498  0.00407056]\n",
      " [0.01221167 0.08276798]]\n",
      "-----------------------------\n",
      "K : 6\n",
      "F1: 0.90\n",
      "Matriz de confusión\n",
      "[[9.04341927e-01 6.78426052e-04]\n",
      " [1.69606513e-02 7.80189959e-02]]\n",
      "-----------------------------\n",
      "K : 7\n",
      "F1: 0.91\n",
      "Matriz de confusión\n",
      "[[0.90230665 0.0027137 ]\n",
      " [0.01356852 0.08141113]]\n",
      "-----------------------------\n",
      "K : 8\n",
      "F1: 0.90\n",
      "Matriz de confusión\n",
      "[[0.90502035 0.        ]\n",
      " [0.01696065 0.078019  ]]\n",
      "-----------------------------\n",
      "K : 9\n",
      "F1: 0.92\n",
      "Matriz de confusión\n",
      "[[0.90298507 0.00203528]\n",
      " [0.01221167 0.08276798]]\n",
      "-----------------------------\n",
      "K : 10\n",
      "F1: 0.89\n",
      "Matriz de confusión\n",
      "[[9.04341927e-01 6.78426052e-04]\n",
      " [1.83175034e-02 7.66621438e-02]]\n",
      "-----------------------------\n"
     ]
    }
   ],
   "source": [
    "for k in range(1, 11):\n",
    "    print('K :', k)\n",
    "    knn_model = knn(k, features_train_scaled, target_train_scaled)\n",
    "    test_pred = knn_model.predict(features_test_scaled)\n",
    "    f1_score = eval_classifier(target_test_scaled, test_pred)"
   ]
  },
  {
   "attachments": {},
   "cell_type": "markdown",
   "metadata": {},
   "source": [
    "En este caso, el valor F1 mayor se encuentra cuando K es igual a 1, sin embargo este valor es considerablemente mayor (F1 = 0.94) que con los datos no escalados. También es mucho mayor que los valores alcanzados con los modelos aleatorios. Incluso, el valor más bajo es 0.89 el cual es mayor que el valor mayor con los datos sin escalar.\n",
    "\n",
    "También se debe considerar que las clases está desequilibradas y por tanto, es necesario evaluar el modelo con las clases balanceadas. Así, se construirá una función para balancear las clases (técnica de sobremuestreo)."
   ]
  },
  {
   "cell_type": "code",
   "execution_count": 36,
   "metadata": {},
   "outputs": [],
   "source": [
    "def upsample(features, target):\n",
    "    features_zeros = features[target == 0]\n",
    "    features_ones = features[target == 1]\n",
    "    target_zeros = target[target == 0]\n",
    "    target_ones = target[target == 1]\n",
    "    \n",
    "    repeat = int(len(target_zeros) / len(target_ones))\n",
    "\n",
    "    features_upsampled = pd.concat([features_zeros] + [features_ones] * repeat)\n",
    "    target_upsampled = pd.concat([target_zeros] + [target_ones] * repeat)\n",
    "\n",
    "    features_upsampled, target_upsampled = shuffle(\n",
    "        features_upsampled, target_upsampled, random_state=54321\n",
    "    )\n",
    "    return features_upsampled, target_upsampled"
   ]
  },
  {
   "cell_type": "code",
   "execution_count": 37,
   "metadata": {},
   "outputs": [],
   "source": [
    "features_train, target_train = upsample(features_train, target_train)\n",
    "features_train_scaled, target_train_scaled = upsample(features_train_scaled, target_train_scaled)"
   ]
  },
  {
   "attachments": {},
   "cell_type": "markdown",
   "metadata": {},
   "source": [
    "Las clases ya están equilibradas mediante la técnica de sobremuestreo. Se evaluará el modelo tanto con los datos sin escalar como ecalados."
   ]
  },
  {
   "cell_type": "code",
   "execution_count": 38,
   "metadata": {},
   "outputs": [
    {
     "name": "stdout",
     "output_type": "stream",
     "text": [
      "K : 1\n",
      "F1: 0.63\n",
      "Matriz de confusión\n",
      "[[0.89145183 0.01356852]\n",
      " [0.04477612 0.05020353]]\n",
      "-----------------------------\n",
      "K : 2\n",
      "F1: 0.63\n",
      "Matriz de confusión\n",
      "[[0.89213026 0.01289009]\n",
      " [0.04545455 0.0495251 ]]\n",
      "-----------------------------\n",
      "K : 3\n",
      "F1: 0.58\n",
      "Matriz de confusión\n",
      "[[0.86702849 0.03799186]\n",
      " [0.04070556 0.05427408]]\n",
      "-----------------------------\n",
      "K : 4\n",
      "F1: 0.58\n",
      "Matriz de confusión\n",
      "[[0.86770692 0.03731343]\n",
      " [0.04070556 0.05427408]]\n",
      "-----------------------------\n",
      "K : 5\n",
      "F1: 0.52\n",
      "Matriz de confusión\n",
      "[[0.83785617 0.06716418]\n",
      " [0.03731343 0.05766621]]\n",
      "-----------------------------\n",
      "K : 6\n",
      "F1: 0.52\n",
      "Matriz de confusión\n",
      "[[0.83785617 0.06716418]\n",
      " [0.03731343 0.05766621]]\n",
      "-----------------------------\n",
      "K : 7\n",
      "F1: 0.47\n",
      "Matriz de confusión\n",
      "[[0.8046133  0.10040706]\n",
      " [0.03527815 0.05970149]]\n",
      "-----------------------------\n",
      "K : 8\n",
      "F1: 0.47\n",
      "Matriz de confusión\n",
      "[[0.80393487 0.10108548]\n",
      " [0.03527815 0.05970149]]\n",
      "-----------------------------\n",
      "K : 9\n",
      "F1: 0.42\n",
      "Matriz de confusión\n",
      "[[0.76390773 0.14111262]\n",
      " [0.03188602 0.06309362]]\n",
      "-----------------------------\n",
      "K : 10\n",
      "F1: 0.42\n",
      "Matriz de confusión\n",
      "[[0.76390773 0.14111262]\n",
      " [0.03188602 0.06309362]]\n",
      "-----------------------------\n"
     ]
    }
   ],
   "source": [
    "for k in range(1, 11):\n",
    "    print('K :', k)\n",
    "    knn_model = knn(k, features_train, target_train)\n",
    "    test_pred = knn_model.predict(features_test)\n",
    "    f1_score = eval_classifier(target_test, test_pred)"
   ]
  },
  {
   "attachments": {},
   "cell_type": "markdown",
   "metadata": {},
   "source": [
    "Se observa que los valores F1 son mayores que con las clases desequilibradas. El valor mayor es 0.63 cuando K es igual a 1 o 2. Con los datos brutos el valor F1 mayor fue 0.62, por lo que con las clases balanceadas el modelo tiene mayor calidad.\n",
    "\n",
    "Se evaluará el modelo con los datos escalados (y las clases balanceadas)."
   ]
  },
  {
   "cell_type": "code",
   "execution_count": 39,
   "metadata": {},
   "outputs": [
    {
     "name": "stdout",
     "output_type": "stream",
     "text": [
      "K : 1\n",
      "F1: 0.94\n",
      "Matriz de confusión\n",
      "[[0.89959294 0.00542741]\n",
      " [0.00542741 0.08955224]]\n",
      "-----------------------------\n",
      "K : 2\n",
      "F1: 0.94\n",
      "Matriz de confusión\n",
      "[[0.89959294 0.00542741]\n",
      " [0.00542741 0.08955224]]\n",
      "-----------------------------\n",
      "K : 3\n",
      "F1: 0.93\n",
      "Matriz de confusión\n",
      "[[0.89416554 0.01085482]\n",
      " [0.0027137  0.09226594]]\n",
      "-----------------------------\n",
      "K : 4\n",
      "F1: 0.93\n",
      "Matriz de confusión\n",
      "[[0.89416554 0.01085482]\n",
      " [0.0027137  0.09226594]]\n",
      "-----------------------------\n",
      "K : 5\n",
      "F1: 0.90\n",
      "Matriz de confusión\n",
      "[[0.885346   0.01967436]\n",
      " [0.00135685 0.0936228 ]]\n",
      "-----------------------------\n",
      "K : 6\n",
      "F1: 0.90\n",
      "Matriz de confusión\n",
      "[[0.885346   0.01967436]\n",
      " [0.00135685 0.0936228 ]]\n",
      "-----------------------------\n",
      "K : 7\n",
      "F1: 0.88\n",
      "Matriz de confusión\n",
      "[[8.79240163e-01 2.57801900e-02]\n",
      " [6.78426052e-04 9.43012212e-02]]\n",
      "-----------------------------\n",
      "K : 8\n",
      "F1: 0.88\n",
      "Matriz de confusión\n",
      "[[8.79240163e-01 2.57801900e-02]\n",
      " [6.78426052e-04 9.43012212e-02]]\n",
      "-----------------------------\n",
      "K : 9\n",
      "F1: 0.86\n",
      "Matriz de confusión\n",
      "[[8.74491180e-01 3.05291723e-02]\n",
      " [6.78426052e-04 9.43012212e-02]]\n",
      "-----------------------------\n",
      "K : 10\n",
      "F1: 0.86\n",
      "Matriz de confusión\n",
      "[[8.74491180e-01 3.05291723e-02]\n",
      " [6.78426052e-04 9.43012212e-02]]\n",
      "-----------------------------\n"
     ]
    }
   ],
   "source": [
    "for k in range(1, 11):\n",
    "    print('K :', k)\n",
    "    knn_model = knn(k, features_train_scaled, target_train_scaled)\n",
    "    test_pred = knn_model.predict(features_test_scaled)\n",
    "    f1_score = eval_classifier(target_test_scaled, test_pred)"
   ]
  },
  {
   "attachments": {},
   "cell_type": "markdown",
   "metadata": {},
   "source": [
    "En este caso, el valor F1 mayor también es 0.94 cuando K es igual a 1, esto es, no hay diferencia con los datos brutos sin escalar. Sin embargo, para K=2,3,4, el valor F1 es mayor con la clases balanceadas que en el otro caso.\n",
    "\n",
    "El modelo tiene mayor calidad con las clases balanceadas.\n",
    "\n",
    "[Volver a Contenidos](#back)"
   ]
  },
  {
   "attachments": {},
   "cell_type": "markdown",
   "metadata": {},
   "source": [
    "### 3. 2. Tarea 3: Predicción de cantidad de prestación de seguro <a id='data_model_task3'></a>\n",
    "\n",
    "El objetivo de este segundo modelo es predecir la cantidad de beneficios de seguro que probablemente recibirá un nuevo cliente, es decir, la columna `insurance_benefits`. En este caso se utilizará un modelo de regresión lineal.\n",
    "\n",
    "Se creará una implementación de regresión lineal."
   ]
  },
  {
   "cell_type": "code",
   "execution_count": 40,
   "metadata": {},
   "outputs": [],
   "source": [
    "class MyLinearRegression:\n",
    "    \n",
    "    def __init__(self):\n",
    "        self.weights = None\n",
    "    \n",
    "    def fit(self, X, y):\n",
    "        # añadir las unidades\n",
    "        X2 = np.append(np.ones([len(X), 1]), X, axis=1)\n",
    "        weights = np.linalg.inv(X2.T.dot(X2)).dot(X2.T).dot(y)\n",
    "        self.weights = weights[1:]\n",
    "        self.w0 = weights[0]\n",
    "\n",
    "    def predict(self, X):\n",
    "        # añadir las unidades\n",
    "        X2 = X\n",
    "        y_pred = X2.dot(self.weights) + self.w0\n",
    "        return y_pred"
   ]
  },
  {
   "attachments": {},
   "cell_type": "markdown",
   "metadata": {},
   "source": [
    "También se creará una función para evaluar la calidad del modelo, basada en el valor RMSE y en R2."
   ]
  },
  {
   "cell_type": "code",
   "execution_count": 41,
   "metadata": {},
   "outputs": [],
   "source": [
    "def eval_regressor(y_true, y_pred):\n",
    "    rmse = math.sqrt(sklearn.metrics.mean_squared_error(y_true, y_pred))\n",
    "    print(f'RMSE: {rmse:.2f}')\n",
    "    \n",
    "    r2_score = math.sqrt(sklearn.metrics.r2_score(y_true, y_pred))\n",
    "    print(f'R2: {r2_score:.2f}') "
   ]
  },
  {
   "attachments": {},
   "cell_type": "markdown",
   "metadata": {},
   "source": [
    "A continuación se establecerán los objetivos y las características del modelo, convertidos a matrices."
   ]
  },
  {
   "cell_type": "code",
   "execution_count": 42,
   "metadata": {},
   "outputs": [],
   "source": [
    "# Datos no escalados\n",
    "X = data_no_outliers[['gender', 'age', 'income', 'family_members']].to_numpy()\n",
    "y = data_no_outliers['insurance_benefits'].to_numpy()\n",
    "\n",
    "# Datos escalados\n",
    "X_scaled = df_scaled[['gender', 'age', 'income', 'family_members']].to_numpy()\n",
    "y_scaled = df_scaled['insurance_benefits'].to_numpy()"
   ]
  },
  {
   "attachments": {},
   "cell_type": "markdown",
   "metadata": {},
   "source": [
    "Se dividirán los datasets en conjuntos de entrenamiento y prueba con una proporción 70: 30."
   ]
  },
  {
   "cell_type": "code",
   "execution_count": 43,
   "metadata": {},
   "outputs": [],
   "source": [
    "# Datos no escalados\n",
    "X_train, X_test, y_train, y_test = train_test_split(X, y, test_size=0.3, random_state=12345)\n",
    "\n",
    "# Datos escalados\n",
    "X_s_train, X_s_test, y_s_train, y_s_test = train_test_split(X_scaled, y_scaled, test_size=0.3, random_state=12345)"
   ]
  },
  {
   "attachments": {},
   "cell_type": "markdown",
   "metadata": {},
   "source": [
    "Ahora se evaluará el modelo con los datos no escalados."
   ]
  },
  {
   "cell_type": "code",
   "execution_count": 44,
   "metadata": {},
   "outputs": [
    {
     "name": "stdout",
     "output_type": "stream",
     "text": [
      "[-4.22973470e-03  3.34810974e-02  2.37630001e-07 -1.52231438e-02]\n",
      "RMSE: 0.33\n",
      "R2: 0.63\n"
     ]
    }
   ],
   "source": [
    "lr = MyLinearRegression()\n",
    "\n",
    "lr.fit(X_train, y_train)\n",
    "print(lr.weights)\n",
    "\n",
    "y_test_pred = lr.predict(X_test)\n",
    "eval_regressor(y_test, y_test_pred)"
   ]
  },
  {
   "attachments": {},
   "cell_type": "markdown",
   "metadata": {},
   "source": [
    "Y lo mismo para los datos escalados."
   ]
  },
  {
   "cell_type": "code",
   "execution_count": 45,
   "metadata": {},
   "outputs": [
    {
     "name": "stdout",
     "output_type": "stream",
     "text": [
      "[-0.00422973  1.87494145  0.01575487 -0.06089258]\n",
      "RMSE: 0.33\n",
      "R2: 0.63\n"
     ]
    }
   ],
   "source": [
    "lr_s = MyLinearRegression()\n",
    "\n",
    "lr_s.fit(X_s_train, y_s_train)\n",
    "print(lr_s.weights)\n",
    "\n",
    "y_s_test_pred = lr_s.predict(X_s_test)\n",
    "eval_regressor(y_s_test, y_s_test_pred)"
   ]
  },
  {
   "attachments": {},
   "cell_type": "markdown",
   "metadata": {},
   "source": [
    "En este caso, las métricas son iguales tanto para los datos no escalados como para los datos escalados.\n",
    "\n",
    "[Volver a Contenidos](#back)"
   ]
  },
  {
   "attachments": {},
   "cell_type": "markdown",
   "metadata": {},
   "source": [
    "### 3. 3. Tarea 4: Ofuscación de datos <a id='data_model_task4'></a>\n",
    "\n",
    "En esta sección se desarrollará un algoritmo de transformación de datos que dificulte la recuperación de la información personal si los datos caen en manos equivocadas. Lo primero es establecer los nombres de las columnas con datos personales, filtrar el dataset y convertirlo a una matriz $X$."
   ]
  },
  {
   "cell_type": "code",
   "execution_count": 46,
   "metadata": {},
   "outputs": [],
   "source": [
    "personal_info_column_list = ['gender', 'age', 'income', 'family_members']\n",
    "df_pn = data_no_outliers[personal_info_column_list]"
   ]
  },
  {
   "cell_type": "code",
   "execution_count": 47,
   "metadata": {},
   "outputs": [],
   "source": [
    "X = df_pn.to_numpy()"
   ]
  },
  {
   "attachments": {},
   "cell_type": "markdown",
   "metadata": {},
   "source": [
    "Ahora se generará una matriz cuadrada $P$ aleatoria del tamaño $n\\times n$, donde $n$ es la cantidad de columnasd de $X$."
   ]
  },
  {
   "cell_type": "code",
   "execution_count": 48,
   "metadata": {},
   "outputs": [],
   "source": [
    "rng = np.random.default_rng(seed=42)\n",
    "P = rng.random(size=(X.shape[1], X.shape[1]))"
   ]
  },
  {
   "attachments": {},
   "cell_type": "markdown",
   "metadata": {},
   "source": [
    "Se verifica que esta matriz $P$ sea invertible (esto es necesario para recuperar los datos originales)."
   ]
  },
  {
   "cell_type": "code",
   "execution_count": 49,
   "metadata": {},
   "outputs": [
    {
     "data": {
      "text/plain": [
       "array([[ 0.41467992, -1.43783972,  0.62798546,  1.14001268],\n",
       "       [-1.06101789,  0.44219337,  0.1329549 ,  1.18425933],\n",
       "       [ 1.42362442,  1.60461607, -2.0553823 , -1.53699695],\n",
       "       [-0.11128575, -0.65813802,  1.74995517, -0.11816316]])"
      ]
     },
     "execution_count": 49,
     "metadata": {},
     "output_type": "execute_result"
    }
   ],
   "source": [
    "np.linalg.inv(P)"
   ]
  },
  {
   "attachments": {},
   "cell_type": "markdown",
   "metadata": {},
   "source": [
    "Se obtendrá la matriz $X'$ que es la multiplicación $X\\times P$ y se construirá un dataframe a partir de ésta."
   ]
  },
  {
   "cell_type": "code",
   "execution_count": 50,
   "metadata": {},
   "outputs": [
    {
     "data": {
      "text/html": [
       "<div>\n",
       "<style scoped>\n",
       "    .dataframe tbody tr th:only-of-type {\n",
       "        vertical-align: middle;\n",
       "    }\n",
       "\n",
       "    .dataframe tbody tr th {\n",
       "        vertical-align: top;\n",
       "    }\n",
       "\n",
       "    .dataframe thead th {\n",
       "        text-align: right;\n",
       "    }\n",
       "</style>\n",
       "<table border=\"1\" class=\"dataframe\">\n",
       "  <thead>\n",
       "    <tr style=\"text-align: right;\">\n",
       "      <th></th>\n",
       "      <th>gender</th>\n",
       "      <th>age</th>\n",
       "      <th>income</th>\n",
       "      <th>family_members</th>\n",
       "    </tr>\n",
       "  </thead>\n",
       "  <tbody>\n",
       "    <tr>\n",
       "      <th>0</th>\n",
       "      <td>6359.715273</td>\n",
       "      <td>22380.404676</td>\n",
       "      <td>18424.090742</td>\n",
       "      <td>46000.696690</td>\n",
       "    </tr>\n",
       "    <tr>\n",
       "      <th>1</th>\n",
       "      <td>4873.294065</td>\n",
       "      <td>17160.367030</td>\n",
       "      <td>14125.780761</td>\n",
       "      <td>35253.455773</td>\n",
       "    </tr>\n",
       "    <tr>\n",
       "      <th>2</th>\n",
       "      <td>2693.117429</td>\n",
       "      <td>9486.397744</td>\n",
       "      <td>7808.831560</td>\n",
       "      <td>19484.860631</td>\n",
       "    </tr>\n",
       "    <tr>\n",
       "      <th>3</th>\n",
       "      <td>5345.603937</td>\n",
       "      <td>18803.227203</td>\n",
       "      <td>15479.148373</td>\n",
       "      <td>38663.061863</td>\n",
       "    </tr>\n",
       "    <tr>\n",
       "      <th>4</th>\n",
       "      <td>3347.176735</td>\n",
       "      <td>11782.829283</td>\n",
       "      <td>9699.998942</td>\n",
       "      <td>24211.273378</td>\n",
       "    </tr>\n",
       "  </tbody>\n",
       "</table>\n",
       "</div>"
      ],
      "text/plain": [
       "        gender           age        income  family_members\n",
       "0  6359.715273  22380.404676  18424.090742    46000.696690\n",
       "1  4873.294065  17160.367030  14125.780761    35253.455773\n",
       "2  2693.117429   9486.397744   7808.831560    19484.860631\n",
       "3  5345.603937  18803.227203  15479.148373    38663.061863\n",
       "4  3347.176735  11782.829283   9699.998942    24211.273378"
      ]
     },
     "execution_count": 50,
     "metadata": {},
     "output_type": "execute_result"
    }
   ],
   "source": [
    "X_tag = X @ P\n",
    "df_ofus = pd.DataFrame(X_tag, columns=personal_info_column_list)\n",
    "df_ofus.head()"
   ]
  },
  {
   "attachments": {},
   "cell_type": "markdown",
   "metadata": {},
   "source": [
    "Se observa que es imposible conocer la información de los clientes, por ejemplo, para la primera observación se tienen una edad de 22,380 años, lo cual parece no tener sentido. De esta manera, la información personal de los clientes está protegida siempre y cuando se desconozca la matriz $P$.\n",
    "\n",
    "Si se conoce la matriz $P$ se puede obtener la información original, ya que $X' = X \\times P$, entonces $X = X'\\times P^{-1}$. Se verificará esto."
   ]
  },
  {
   "cell_type": "code",
   "execution_count": 51,
   "metadata": {},
   "outputs": [
    {
     "data": {
      "text/html": [
       "<div>\n",
       "<style scoped>\n",
       "    .dataframe tbody tr th:only-of-type {\n",
       "        vertical-align: middle;\n",
       "    }\n",
       "\n",
       "    .dataframe tbody tr th {\n",
       "        vertical-align: top;\n",
       "    }\n",
       "\n",
       "    .dataframe thead th {\n",
       "        text-align: right;\n",
       "    }\n",
       "</style>\n",
       "<table border=\"1\" class=\"dataframe\">\n",
       "  <thead>\n",
       "    <tr style=\"text-align: right;\">\n",
       "      <th></th>\n",
       "      <th>gender</th>\n",
       "      <th>age</th>\n",
       "      <th>income</th>\n",
       "      <th>family_members</th>\n",
       "    </tr>\n",
       "  </thead>\n",
       "  <tbody>\n",
       "    <tr>\n",
       "      <th>0</th>\n",
       "      <td>1.000000e+00</td>\n",
       "      <td>41.0</td>\n",
       "      <td>49600.0</td>\n",
       "      <td>1.000000e+00</td>\n",
       "    </tr>\n",
       "    <tr>\n",
       "      <th>1</th>\n",
       "      <td>1.645035e-12</td>\n",
       "      <td>46.0</td>\n",
       "      <td>38000.0</td>\n",
       "      <td>1.000000e+00</td>\n",
       "    </tr>\n",
       "    <tr>\n",
       "      <th>2</th>\n",
       "      <td>9.255612e-13</td>\n",
       "      <td>29.0</td>\n",
       "      <td>21000.0</td>\n",
       "      <td>1.419408e-12</td>\n",
       "    </tr>\n",
       "    <tr>\n",
       "      <th>3</th>\n",
       "      <td>-1.625635e-12</td>\n",
       "      <td>21.0</td>\n",
       "      <td>41700.0</td>\n",
       "      <td>2.000000e+00</td>\n",
       "    </tr>\n",
       "    <tr>\n",
       "      <th>4</th>\n",
       "      <td>1.000000e+00</td>\n",
       "      <td>28.0</td>\n",
       "      <td>26100.0</td>\n",
       "      <td>4.917514e-13</td>\n",
       "    </tr>\n",
       "  </tbody>\n",
       "</table>\n",
       "</div>"
      ],
      "text/plain": [
       "         gender   age   income  family_members\n",
       "0  1.000000e+00  41.0  49600.0    1.000000e+00\n",
       "1  1.645035e-12  46.0  38000.0    1.000000e+00\n",
       "2  9.255612e-13  29.0  21000.0    1.419408e-12\n",
       "3 -1.625635e-12  21.0  41700.0    2.000000e+00\n",
       "4  1.000000e+00  28.0  26100.0    4.917514e-13"
      ]
     },
     "execution_count": 51,
     "metadata": {},
     "output_type": "execute_result"
    }
   ],
   "source": [
    "X1 = X_tag @ np.linalg.inv(P)\n",
    "df1 = pd.DataFrame(X1, columns=personal_info_column_list)\n",
    "df1.head()"
   ]
  },
  {
   "attachments": {},
   "cell_type": "markdown",
   "metadata": {},
   "source": [
    "Se comparará con el dataset original."
   ]
  },
  {
   "cell_type": "code",
   "execution_count": 52,
   "metadata": {},
   "outputs": [
    {
     "data": {
      "text/html": [
       "<div>\n",
       "<style scoped>\n",
       "    .dataframe tbody tr th:only-of-type {\n",
       "        vertical-align: middle;\n",
       "    }\n",
       "\n",
       "    .dataframe tbody tr th {\n",
       "        vertical-align: top;\n",
       "    }\n",
       "\n",
       "    .dataframe thead th {\n",
       "        text-align: right;\n",
       "    }\n",
       "</style>\n",
       "<table border=\"1\" class=\"dataframe\">\n",
       "  <thead>\n",
       "    <tr style=\"text-align: right;\">\n",
       "      <th></th>\n",
       "      <th>gender</th>\n",
       "      <th>age</th>\n",
       "      <th>income</th>\n",
       "      <th>family_members</th>\n",
       "    </tr>\n",
       "  </thead>\n",
       "  <tbody>\n",
       "    <tr>\n",
       "      <th>0</th>\n",
       "      <td>1</td>\n",
       "      <td>41</td>\n",
       "      <td>49600.0</td>\n",
       "      <td>1</td>\n",
       "    </tr>\n",
       "    <tr>\n",
       "      <th>1</th>\n",
       "      <td>0</td>\n",
       "      <td>46</td>\n",
       "      <td>38000.0</td>\n",
       "      <td>1</td>\n",
       "    </tr>\n",
       "    <tr>\n",
       "      <th>2</th>\n",
       "      <td>0</td>\n",
       "      <td>29</td>\n",
       "      <td>21000.0</td>\n",
       "      <td>0</td>\n",
       "    </tr>\n",
       "    <tr>\n",
       "      <th>3</th>\n",
       "      <td>0</td>\n",
       "      <td>21</td>\n",
       "      <td>41700.0</td>\n",
       "      <td>2</td>\n",
       "    </tr>\n",
       "    <tr>\n",
       "      <th>4</th>\n",
       "      <td>1</td>\n",
       "      <td>28</td>\n",
       "      <td>26100.0</td>\n",
       "      <td>0</td>\n",
       "    </tr>\n",
       "  </tbody>\n",
       "</table>\n",
       "</div>"
      ],
      "text/plain": [
       "   gender  age   income  family_members\n",
       "0       1   41  49600.0               1\n",
       "1       0   46  38000.0               1\n",
       "2       0   29  21000.0               0\n",
       "3       0   21  41700.0               2\n",
       "4       1   28  26100.0               0"
      ]
     },
     "execution_count": 52,
     "metadata": {},
     "output_type": "execute_result"
    }
   ],
   "source": [
    "data_no_outliers[personal_info_column_list].head()"
   ]
  },
  {
   "attachments": {},
   "cell_type": "markdown",
   "metadata": {},
   "source": [
    "Se observa que tanto la edad como el salario coinciden exactamente, sin embargo, el género y la cantidad de familiares difieren aunque sólo por colas después del punto décimal. La razón es justamente la existencia de los décimales para realizar las operaciones pertinentes pues la mayoría de números tipo float tienen una expansión infinita (esto es, son números irracionales). De hecho, se observa que la diferencia sucede únicamente con las observaciones cuyo valor correspondiente es igual a 0. Conociendo esto, se tiene la información original.\n",
    "\n",
    "[Volver a Contenidos](#back)"
   ]
  },
  {
   "attachments": {},
   "cell_type": "markdown",
   "metadata": {},
   "source": [
    "#### 3. 3. 1. Ofuscación no afecta regresión lineal <a id='data_model_task4_lineal'></a>\n",
    "\n",
    "En esta subsección se demostrará que la ofuscación de los datos no afecta la regresión lineal. Primero, para cualquier matriz $X$ de características, se tiene que\n",
    "$$w = (X^TX)^{-1}X^Ty,$$\n",
    "donde $y$ representa el vector de columna de observaciones con el objetivo. Como $X'=XP$, entonces\n",
    "$$w_P = ((XP)^T(XP))^{-1}(XP)^Ty,$$\n",
    "de donde (siguiendo las propiedades de matrices)\n",
    "$$w_P = ((P^TX^T)(XP))^{-1}P^TX^Ty,$$\n",
    "esto es,\n",
    "$$w_P = (P^T(X^TXP))^{-1}P^TX^Ty = (X^TXP)^{-1}(P^T)^{-1}P^TX^Ty,$$\n",
    "de donde\n",
    "$$w_P = P^{-1}(X^TX)^{-1}X^Ty.$$\n",
    "Así, $w_P = P^{-1}w$ y como sabemos que las predicciones son $\\bar{y} = Xw$, entonces\n",
    "$$\\bar{y}_P=XPw_P=XPP^{-1}w=Xw=\\bar{y}.$$\n",
    "Concluimos que serán las mismas predicciones, por lo tanto, la ofuscación de los datos no afecta a la regresión lineal.\n",
    "\n",
    "[Volver a Contenidos](#back)"
   ]
  },
  {
   "attachments": {},
   "cell_type": "markdown",
   "metadata": {},
   "source": [
    "#### 3. 3. 2. Prueba de regresión lineal <a id='data_model_task4_linealTest'></a>\n",
    "\n",
    "En esta subsection se probará computacionalmente que la regresión lineal funciona con la transformación de ofuscación.\n",
    "\n",
    "Primero se evaluará el modelo con el dataset original."
   ]
  },
  {
   "cell_type": "code",
   "execution_count": 53,
   "metadata": {},
   "outputs": [
    {
     "name": "stdout",
     "output_type": "stream",
     "text": [
      "[ 1.87494145 -0.00422973  0.01575487 -0.06089258]\n",
      "RMSE: 0.33\n",
      "R2: 0.63\n"
     ]
    }
   ],
   "source": [
    "X = df_scaled[['age', 'gender', 'income', 'family_members']].to_numpy()\n",
    "y = df_scaled['insurance_benefits'].to_numpy()\n",
    "\n",
    "X_train, X_test, y_train, y_test = train_test_split(X, y, test_size=0.3, random_state=12345)\n",
    "\n",
    "lr_original = MyLinearRegression()\n",
    "\n",
    "lr_original.fit(X_train, y_train)\n",
    "print(lr_original.weights)\n",
    "\n",
    "y_test_pred = lr_original.predict(X_test)\n",
    "eval_regressor(y_test, y_test_pred)"
   ]
  },
  {
   "attachments": {},
   "cell_type": "markdown",
   "metadata": {},
   "source": [
    "Se mostrarán las predicciones para las primeras 5 observaciones del conjunto de prueba."
   ]
  },
  {
   "cell_type": "code",
   "execution_count": 54,
   "metadata": {},
   "outputs": [
    {
     "data": {
      "text/plain": [
       "array([-0.17293827, -0.18230886, -0.15681205, -0.27456963, -0.18977044])"
      ]
     },
     "execution_count": 54,
     "metadata": {},
     "output_type": "execute_result"
    }
   ],
   "source": [
    "predict_for_original = lr_original.predict(X_test[:5, :])\n",
    "predict_for_original"
   ]
  },
  {
   "attachments": {},
   "cell_type": "markdown",
   "metadata": {},
   "source": [
    "Se creará la matriz aleatoria $P$."
   ]
  },
  {
   "cell_type": "code",
   "execution_count": 55,
   "metadata": {},
   "outputs": [],
   "source": [
    "rng = np.random.default_rng(seed=42)\n",
    "P = rng.random(size=(X.shape[1], X.shape[1]))"
   ]
  },
  {
   "attachments": {},
   "cell_type": "markdown",
   "metadata": {},
   "source": [
    "Y se verifica que sea invertible."
   ]
  },
  {
   "cell_type": "code",
   "execution_count": 56,
   "metadata": {},
   "outputs": [
    {
     "data": {
      "text/plain": [
       "array([[ 0.41467992, -1.43783972,  0.62798546,  1.14001268],\n",
       "       [-1.06101789,  0.44219337,  0.1329549 ,  1.18425933],\n",
       "       [ 1.42362442,  1.60461607, -2.0553823 , -1.53699695],\n",
       "       [-0.11128575, -0.65813802,  1.74995517, -0.11816316]])"
      ]
     },
     "execution_count": 56,
     "metadata": {},
     "output_type": "execute_result"
    }
   ],
   "source": [
    "np.linalg.inv(P)"
   ]
  },
  {
   "attachments": {},
   "cell_type": "markdown",
   "metadata": {},
   "source": [
    "Se ofuscan los datos y se divide el dataset."
   ]
  },
  {
   "cell_type": "code",
   "execution_count": 57,
   "metadata": {},
   "outputs": [],
   "source": [
    "X_tag = X @ P\n",
    "\n",
    "X_t_train, X_t_test, y_train, y_test = train_test_split(X_tag, y, test_size=0.3, random_state=12345)"
   ]
  },
  {
   "attachments": {},
   "cell_type": "markdown",
   "metadata": {},
   "source": [
    "Se evaluará el modelo con estos datos."
   ]
  },
  {
   "cell_type": "code",
   "execution_count": 58,
   "metadata": {},
   "outputs": [
    {
     "name": "stdout",
     "output_type": "stream",
     "text": [
      "[ 0.72405778 -2.06123469  2.72363476 -0.17110494]\n",
      "RMSE: 0.33\n",
      "R2: 0.63\n"
     ]
    }
   ],
   "source": [
    "lr_obfuscate = MyLinearRegression()\n",
    "\n",
    "lr_obfuscate.fit(X_t_train, y_train)\n",
    "print(lr_obfuscate.weights)\n",
    "\n",
    "y_test_pred = lr_obfuscate.predict(X_t_test)\n",
    "eval_regressor(y_test, y_test_pred)"
   ]
  },
  {
   "attachments": {},
   "cell_type": "markdown",
   "metadata": {},
   "source": [
    "Tiene los mismos valores que con los datos sin ofuscar. Se mostrarán las predicciones para las primeras 5 observaciones del conjunto de prueba."
   ]
  },
  {
   "cell_type": "code",
   "execution_count": 59,
   "metadata": {},
   "outputs": [
    {
     "data": {
      "text/plain": [
       "array([-0.17293827, -0.18230886, -0.15681205, -0.27456963, -0.18977044])"
      ]
     },
     "execution_count": 59,
     "metadata": {},
     "output_type": "execute_result"
    }
   ],
   "source": [
    "predict_for_obfuscate = lr_obfuscate.predict(X_t_test[:5, :])\n",
    "predict_for_obfuscate"
   ]
  },
  {
   "attachments": {},
   "cell_type": "markdown",
   "metadata": {},
   "source": [
    "Para comparar mejor, se imprimirán las predicciones obtenidas con los datos originales y con los datos ofuscados."
   ]
  },
  {
   "cell_type": "code",
   "execution_count": 60,
   "metadata": {},
   "outputs": [
    {
     "name": "stdout",
     "output_type": "stream",
     "text": [
      "Predicciones de las primeros 5 observaciones con los datos originales:\n",
      "[-0.17293827 -0.18230886 -0.15681205 -0.27456963 -0.18977044]\n",
      "Predicciones de las primeros 5 observaciones con los datos ofuscados:\n",
      "[-0.17293827 -0.18230886 -0.15681205 -0.27456963 -0.18977044]\n"
     ]
    }
   ],
   "source": [
    "print('Predicciones de las primeros 5 observaciones con los datos originales:\\n'\\\n",
    "     '{}\\n'\\\n",
    "      'Predicciones de las primeros 5 observaciones con los datos ofuscados:\\n'\\\n",
    "      '{}'.format(predict_for_original, predict_for_obfuscate)\n",
    "     )"
   ]
  },
  {
   "attachments": {},
   "cell_type": "markdown",
   "metadata": {},
   "source": [
    "Son exactamente las mismas predicciones.\n",
    "\n",
    "Observación: No es necesario hacer una prueba \"computacional\", basta con la demostración analítica (matemática) que se realizó en la sección anterior. Una prueba matemática es rigurosa, formal y aplica para cualesquiera elementos que cumplan las hipotésis requeridas.\n",
    "\n",
    "[Volver a Contenidos](#back)"
   ]
  },
  {
   "attachments": {},
   "cell_type": "markdown",
   "metadata": {},
   "source": [
    "### 3. 4. Conclusiones <a id='data_model_conclusions'></a>\n",
    "\n",
    "Se construyeron los dos modelos buscados, el primero basado en el algoritmo KNN para predecir si un cliente recibirá la prestación de seguro o no. El segundo modelo fue basado en la regresión lineal, el cual predice la cantidad de beneficios de un seguro recibirá un cliente.\n",
    "\n",
    "Además se desarrolló un algoritmo para ofuscar los datos correspondientes a información personal de cada cliente. Este algoritmo fue desarrollado con técnicas de álgebra lineal. Se demostró que este tipo de ofuscación de datos no afecta la regresión lineal (esto es por tratarse de transformaciones lineales).\n",
    "\n",
    "[Volver a Contenidos](#back)"
   ]
  },
  {
   "attachments": {},
   "cell_type": "markdown",
   "metadata": {},
   "source": [
    "## Etapa 4. Conclusión general <a id='data_conclusions'></a>\n",
    "\n",
    "En la primera etapa se preprocesaron los datos, en primer lugar se renombraron las columnas del dataset conforme a la nomenclatura convencional y se cambio de tipo float a int los datos de la columna de edad. No se encontraron valores ausentes en ningunda de las columnas.\n",
    "\n",
    "En la segunda etapa se analizaron los datos, para encontrar valores atípicos en las columnas que se utilizaron como características para los modelos. Se decidió filtrar el dataset suprimiendo dichos valores atípicos. En la segunda parte se analizaron los vecinos similares. El algoritmo con mejor calidad es con los datos escalados y la distancia euclidiana. Esto es, mediante este algoritmo se encontraron los vecinos similares más cercanos a uno dado.\n",
    "\n",
    "En la tercera etapa se entrenaron modelos para predecir tanto si un cliente recibirá la prestación de seguro como la cantidad de beneficios de seguro que recibirá. El primero modelo fue basado en el algoritmo KNN y el segundo en regresión lineal. Ambos modelos obtuvieron valores adecuados para medir su calidad.\n",
    "\n",
    "[Volver a Contenidos](#back)"
   ]
  }
 ],
 "metadata": {
  "kernelspec": {
   "display_name": "Python 3",
   "language": "python",
   "name": "python3"
  },
  "language_info": {
   "codemirror_mode": {
    "name": "ipython",
    "version": 3
   },
   "file_extension": ".py",
   "mimetype": "text/x-python",
   "name": "python",
   "nbconvert_exporter": "python",
   "pygments_lexer": "ipython3",
   "version": "3.10.10"
  },
  "orig_nbformat": 4
 },
 "nbformat": 4,
 "nbformat_minor": 2
}
