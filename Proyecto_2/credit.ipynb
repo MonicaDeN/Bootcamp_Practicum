{
 "cells": [
  {
   "cell_type": "markdown",
   "metadata": {},
   "source": [
    "# Análisis del riesgo de incumplimiento de los prestatarios"
   ]
  },
  {
   "attachments": {},
   "cell_type": "markdown",
   "metadata": {},
   "source": [
    "## Índice <a id='back'></a>\n",
    "* [Introducción](#intro)\n",
    "* [Etapa 1. Descripción de los datos](#data_review)\n",
    "    * [1.1. Descripción de los datos](#data_review_data_review)\n",
    "    * [1.2. Valores ausentes](#data_review_missing_values)\n",
    "    * [1.3. Conclusiones](#data_review_conclusions)\n",
    "* [Etapa 2. Preprocesamiento de datos](#data_preprocessing)\n",
    "    * [2.1. Duplicados implícitos y datos problemáticos](#data_preprocessing_duplicated)\n",
    "    * [2.2. Duplicados obvios](#data_preprocessing_duplicated_ob)\n",
    "    * [2.3. Completar valores ausentes](#data_preprocessing_missing_values)\n",
    "        * [2.3.1 Restaurar valores ausentes en `'total_income'`](#data_preprocessing_missing_values_income)\n",
    "        * [2.3.2 Restaurar valores ausentes en `'days_employed'`](#data_preprocessing_missing_values_days)\n",
    "    * [2.4. Conclusiones](#data_preprocessing_conclusions)\n",
    "* [Etapa 3. Comprobación de hipótesis](#hypotheses)\n",
    "    * [3.1. Hipótesis: cantidad de hijos](#hypotheses_children)\n",
    "    * [3.2. Hipótesis: estado civil](#hypotheses_family_status)\n",
    "    * [3.3. Hipótesis: ingreso mensual](#hypotheses_family_status)\n",
    "    * [3.4. Hipótesis: propósito del prestámo](#hypotheses_purpose)\n",
    "    * [3.5. Conclusiones](#hypotheses_conclusions)\n",
    "* [Conclusión general](#conclusions)"
   ]
  },
  {
   "attachments": {},
   "cell_type": "markdown",
   "metadata": {},
   "source": [
    "## Introducción <a id='intro'></a>\n",
    "Este proyecto consiste en preparar un informe para la división de préstamos de un banco. Se averigua si el estado civil y el número de hijos de un cliente tienen un impacto en el incumplimiento de pago de un préstamo. El banco ya tiene algunos datos sobre la solvencia crediticia de los clientes.\n",
    "\n",
    "### Objetivo e hipótesis:\n",
    "Este informe se tendrá en cuenta al crear una **puntuación de crédito** para un cliente potencial. Dicha puntuación se utilizará para evaluar la capacidad de un prestatario potencial para pagar su préstamo.\n",
    "Hipótesis: \n",
    "1. El incumplimiento de pago de un préstamo de los clientes difiere según el estado civil, cantidad de hijos, ingreso mensual o propósito del pago. \n",
    "2. Los clientes con una cantidad menor de hijos forman el mayor porcentaje de pago a tiempo.\n",
    "3. Los clientes casados forman el mayor porcentaje de pago a tiempo.\n",
    "4. Los clientes con mayores ingresos forman el mayor porcentaje de pago a tiempo.\n",
    "5. Los propósitos del préstamo no interfieren con el pago a tiempo.\n",
    "\n",
    "### Etapas \n",
    "Los datos del cliente se almacenan en el archivo `/datasets/credit_scoring_eng.csv`. No hay ninguna información sobre la calidad de los datos así que se examinarán antes de probar las hipótesis.\n",
    "\n",
    "Primero, se evaluará la calidad de los datos y si los problemas son significativos. Entonces, durante el preprocesamiento de datos, se tomará en cuenta los problemas más críticos y finalmente se comprobarán las hipótesis para presentar las conclusiones.\n",
    " \n",
    "El proyecto consistirá en cuatro etapas:\n",
    " 1. Descripción de los datos.\n",
    " 2. Preprocesamiento de datos.\n",
    " 3. Comprobación de hipótesis.\n",
    " 4. Conclusiones.\n",
    "\n",
    "[Volver a Contenidos](#back)"
   ]
  },
  {
   "attachments": {},
   "cell_type": "markdown",
   "metadata": {},
   "source": [
    "## Etapa 1. Descripción de los datos <a id='data_review'></a>\n",
    "\n",
    "Se importan las librerías necesarias."
   ]
  },
  {
   "cell_type": "code",
   "execution_count": 1,
   "metadata": {},
   "outputs": [],
   "source": [
    "import pandas as pd"
   ]
  },
  {
   "attachments": {},
   "cell_type": "markdown",
   "metadata": {},
   "source": [
    "Se lee el archivo `credit_scoring_eng.csv` de la carpeta `/datasets/` y se guarda en la variable `df`."
   ]
  },
  {
   "cell_type": "code",
   "execution_count": 2,
   "metadata": {},
   "outputs": [],
   "source": [
    "try:\n",
    "    df = pd.read_csv('credit_scoring_eng.csv')\n",
    "except:\n",
    "    df = pd.read_csv('/datasets/credit_scoring_eng.csv')"
   ]
  },
  {
   "attachments": {},
   "cell_type": "markdown",
   "metadata": {},
   "source": [
    "Se obtienen las columnas y se imprimen las primeras filas para obtener información de su contenido."
   ]
  },
  {
   "cell_type": "code",
   "execution_count": 3,
   "metadata": {},
   "outputs": [
    {
     "name": "stdout",
     "output_type": "stream",
     "text": [
      "Index(['children', 'days_employed', 'dob_years', 'education', 'education_id',\n",
      "       'family_status', 'family_status_id', 'gender', 'income_type', 'debt',\n",
      "       'total_income', 'purpose'],\n",
      "      dtype='object')\n",
      "\n",
      "   children  days_employed  dob_years            education  education_id  \\\n",
      "0         1   -8437.673028         42    bachelor's degree             0   \n",
      "1         1   -4024.803754         36  secondary education             1   \n",
      "2         0   -5623.422610         33  Secondary Education             1   \n",
      "3         3   -4124.747207         32  secondary education             1   \n",
      "4         0  340266.072047         53  secondary education             1   \n",
      "\n",
      "       family_status  family_status_id gender income_type  debt  total_income  \\\n",
      "0            married                 0      F    employee     0     40620.102   \n",
      "1            married                 0      F    employee     0     17932.802   \n",
      "2            married                 0      M    employee     0     23341.752   \n",
      "3            married                 0      M    employee     0     42820.568   \n",
      "4  civil partnership                 1      F     retiree     0     25378.572   \n",
      "\n",
      "                   purpose  \n",
      "0    purchase of the house  \n",
      "1             car purchase  \n",
      "2    purchase of the house  \n",
      "3  supplementary education  \n",
      "4        to have a wedding  \n"
     ]
    }
   ],
   "source": [
    "print(df.columns)\n",
    "print()\n",
    "print(df.head())"
   ]
  },
  {
   "attachments": {},
   "cell_type": "markdown",
   "metadata": {},
   "source": [
    "### 1. 1. Descripción de los datos <a id='data_review_data_review'></a>\n",
    "\n",
    "La tabla contiene doce columnas. De acuerdo con los datos de las primeras filas se tiene:\n",
    "\n",
    "- `children` - cantidad de hijos del cliente.\n",
    "- `days_employed` - experiencia laboral del cliente en días (con valores problemáticos).\n",
    "- `dob_years` - edad del cliente en años.\n",
    "- `education` - nivel educativo del cliente (con duplicados implícitos).\n",
    "- `education_id` - identificador del nivel educativo del cliente.\n",
    "- `family_status` - estado civil del cliente.\n",
    "- `family_status_id` - identificador de estado civil del cliente.\n",
    "- `gender` - género del cliente.\n",
    "- `income_type` - tipo de empleo del cliente.\n",
    "- `debt` - existencia de alguna deuda por parte del cliente en el pago de un préstamo.\n",
    "- `total_income` - ingreso mensual del cliente.\n",
    "- `purpose` - propósito del préstamo otorgado al cliente.\n",
    "\n",
    "No existen problemas con el estilo de los nombres de las columnas. En las primeras 5 filas no parece haber duplicados obvios, sin embargo no se cuenta con un identificador de cliente por lo que es factible que existan duplicados, se investigará más a detalle en la etapa de preprocesamiento de datos.\n",
    "\n",
    "Se procede a obtener información de la base de datos."
   ]
  },
  {
   "cell_type": "code",
   "execution_count": 4,
   "metadata": {},
   "outputs": [
    {
     "name": "stdout",
     "output_type": "stream",
     "text": [
      "<class 'pandas.core.frame.DataFrame'>\n",
      "RangeIndex: 21525 entries, 0 to 21524\n",
      "Data columns (total 12 columns):\n",
      " #   Column            Non-Null Count  Dtype  \n",
      "---  ------            --------------  -----  \n",
      " 0   children          21525 non-null  int64  \n",
      " 1   days_employed     19351 non-null  float64\n",
      " 2   dob_years         21525 non-null  int64  \n",
      " 3   education         21525 non-null  object \n",
      " 4   education_id      21525 non-null  int64  \n",
      " 5   family_status     21525 non-null  object \n",
      " 6   family_status_id  21525 non-null  int64  \n",
      " 7   gender            21525 non-null  object \n",
      " 8   income_type       21525 non-null  object \n",
      " 9   debt              21525 non-null  int64  \n",
      " 10  total_income      19351 non-null  float64\n",
      " 11  purpose           21525 non-null  object \n",
      "dtypes: float64(2), int64(5), object(5)\n",
      "memory usage: 2.0+ MB\n"
     ]
    }
   ],
   "source": [
    "df.info()"
   ]
  },
  {
   "attachments": {},
   "cell_type": "markdown",
   "metadata": {},
   "source": [
    "La base de datos cuenta con 21525 filas, 12 columnas como ya se había mencionado. Dos columnas contienen datos tipo float, cinco contienen datos tipo int y las restantes contienen datos tipo object. Además, observamos que las columnas `'days_employed'` y `'total_income'` contienen menos datos que la cantidad de filas. Esto es, ambas columnas tienen valores ausentes."
   ]
  },
  {
   "attachments": {},
   "cell_type": "markdown",
   "metadata": {},
   "source": [
    "### 1. 2. Valores ausentes <a id='data_review_missing_values'></a>\n",
    "\n",
    "Se obtienen los valores ausentes de cada columnas."
   ]
  },
  {
   "cell_type": "code",
   "execution_count": 5,
   "metadata": {},
   "outputs": [
    {
     "name": "stdout",
     "output_type": "stream",
     "text": [
      "children               0\n",
      "days_employed       2174\n",
      "dob_years              0\n",
      "education              0\n",
      "education_id           0\n",
      "family_status          0\n",
      "family_status_id       0\n",
      "gender                 0\n",
      "income_type            0\n",
      "debt                   0\n",
      "total_income        2174\n",
      "purpose                0\n",
      "dtype: int64\n"
     ]
    }
   ],
   "source": [
    "print(df.isna().sum())"
   ]
  },
  {
   "attachments": {},
   "cell_type": "markdown",
   "metadata": {},
   "source": [
    "Como se había mencionado, sólo dos columnas contienen valores ausentes y ambas tienen la misma cantidad de ellos. Se filtrará la tabla con los valores ausentes de `'days_employed'` y se imprimirán las primeras filas para observación."
   ]
  },
  {
   "cell_type": "code",
   "execution_count": 6,
   "metadata": {},
   "outputs": [
    {
     "name": "stdout",
     "output_type": "stream",
     "text": [
      "    children  days_employed  dob_years            education  education_id  \\\n",
      "12         0            NaN         65  secondary education             1   \n",
      "26         0            NaN         41  secondary education             1   \n",
      "29         0            NaN         63  secondary education             1   \n",
      "41         0            NaN         50  secondary education             1   \n",
      "55         0            NaN         54  secondary education             1   \n",
      "\n",
      "        family_status  family_status_id gender    income_type  debt  \\\n",
      "12  civil partnership                 1      M        retiree     0   \n",
      "26            married                 0      M  civil servant     0   \n",
      "29          unmarried                 4      F        retiree     0   \n",
      "41            married                 0      F  civil servant     0   \n",
      "55  civil partnership                 1      F        retiree     1   \n",
      "\n",
      "    total_income                   purpose  \n",
      "12           NaN         to have a wedding  \n",
      "26           NaN                 education  \n",
      "29           NaN    building a real estate  \n",
      "41           NaN  second-hand car purchase  \n",
      "55           NaN         to have a wedding  \n"
     ]
    }
   ],
   "source": [
    "df_filtered_day = df.loc[df['days_employed'].isna()]\n",
    "print(df_filtered_day.head())"
   ]
  },
  {
   "attachments": {},
   "cell_type": "markdown",
   "metadata": {},
   "source": [
    "Estas primeras cinco filas también contienen valores ausentes en la columna `'total_income'`. Debido a que ambas columnas contienen la misma cantidad de valores ausentes, se obtendrá la cantidad de valores ausentes de esta tabla filtrada en la columna `'total_income'`."
   ]
  },
  {
   "cell_type": "code",
   "execution_count": 7,
   "metadata": {},
   "outputs": [
    {
     "name": "stdout",
     "output_type": "stream",
     "text": [
      "Valores ausentes en la columna total_income: 2174\n"
     ]
    }
   ],
   "source": [
    "print('Valores ausentes en la columna total_income:', df_filtered_day['total_income'].isna().sum())"
   ]
  },
  {
   "attachments": {},
   "cell_type": "markdown",
   "metadata": {},
   "source": [
    "Es la misma cantidad que en la tabla original. Esto significa que las filas con valores ausentes en la columna `'days_employed'` son las mismas que las que contienen valores ausentes en la columna `'total_income'`.\n",
    "\n",
    "Así, en la tabla original, la cantidad de filas con valores ausentes es 2174, lo que representa el 10.09% de las 21525 filas en total. Al ser un porcentaje considerable se quiere completar los valores ausentes. Para hacer eso, se debe definir si estos valores ausentes se deben a una característica específica del cliente o si son aleatorios.\n",
    "\n",
    "Las columnas con datos relacionados a la experiencia laboral del cliente (`'days_employed'`) son: `'income_type'` y `'total_income'`. Como `'total_income'` es la otra columna con valores ausentes, se investigarán los datos de `'income_type'`.\n",
    "\n",
    "Una razón de valores ausentes en estas dos columnas puede ser que el cliente es desempleado y por ello no cuenta con los datos de experiencia laboral e ingreso mensual."
   ]
  },
  {
   "cell_type": "code",
   "execution_count": 8,
   "metadata": {},
   "outputs": [
    {
     "name": "stdout",
     "output_type": "stream",
     "text": [
      "employee         1105\n",
      "business          508\n",
      "retiree           413\n",
      "civil servant     147\n",
      "entrepreneur        1\n",
      "Name: income_type, dtype: int64\n"
     ]
    }
   ],
   "source": [
    "df_grouped_nan = df_filtered_day['income_type'].value_counts()\n",
    "print(df_grouped_nan)"
   ]
  },
  {
   "attachments": {},
   "cell_type": "markdown",
   "metadata": {},
   "source": [
    "Los clientes con `'unemployed'` no pertenecen a las filas con valores ausentes, así que esta característica no influye con los valores ausentes.\n",
    "\n",
    "Se imprimirá la distribución de los valores de la columna `'income_type'` de la tabla original."
   ]
  },
  {
   "cell_type": "code",
   "execution_count": 9,
   "metadata": {},
   "outputs": [
    {
     "name": "stdout",
     "output_type": "stream",
     "text": [
      "income_type\n",
      "employee                       11119\n",
      "business                        5085\n",
      "retiree                         3856\n",
      "civil servant                   1459\n",
      "entrepreneur                       2\n",
      "unemployed                         2\n",
      "paternity / maternity leave        1\n",
      "student                            1\n",
      "dtype: int64\n"
     ]
    }
   ],
   "source": [
    "print(df.groupby('income_type').size().sort_values(ascending=False))"
   ]
  },
  {
   "attachments": {},
   "cell_type": "markdown",
   "metadata": {},
   "source": [
    "La ditribución de los valores en `'income_type'` en la tabla original es similar a su distribución en las filas con valores ausentes. Salvo el cliente con valores ausentes y tipo de empleo emprendedor, todos los demás representan aproximadamente el 10% de su categoría (tipo de empleo)."
   ]
  },
  {
   "attachments": {},
   "cell_type": "markdown",
   "metadata": {},
   "source": [
    "### 1. 3. Conclusiones <a id='data_review_conclusions'></a> \n",
    "\n",
    "Cada fila de la tabla almacena datos del cliente que solicitó el prestámo. La mayoría de columnas describen al cliente en sí: número de hijos, estado civil, ingreso mensual, etc. Dos columnas decriben el estado del préstamo: su propósito y si existe alguna deuda en el pago.\n",
    "\n",
    "Está claro que los datos son suficientes para probar las hipótesis. Sin embargo, hay valores ausentes en dos columnas que no están relacionados con una característica específica del cliente. Así, los valores ausentes son aleatorios.\n",
    "\n",
    "Para continuar, es necesario preprocesar los datos.\n",
    "\n",
    "[Volver a Contenidos](#back)"
   ]
  },
  {
   "attachments": {},
   "cell_type": "markdown",
   "metadata": {},
   "source": [
    "## Etapa 2. Preprocesamiento de datos <a id='data_preprocessing'></a>\n",
    "\n",
    "En esta etapa se investigarán duplicados y se completarán valores ausentes. Lo primero a invesigar son duplicados implícitos en las columnas para corregir, así como datos problemáticos.\n",
    "\n",
    "Posteriormente se completarán los valores ausentes con las medias o medianas de los datos, dependiendo de las características del cliente que puedan influir para los valores correspondientes."
   ]
  },
  {
   "attachments": {},
   "cell_type": "markdown",
   "metadata": {},
   "source": [
    "### 2. 1. Duplicados implícitos y datos problemáticos <a id='data_preprocessing_duplicated'></a>\n",
    "\n",
    "Se imprimirá la distribución de los valores de la primera columna `'children'`, para determinar si hay datos problemáticos. Los valores deben ser números enteros positivos, o bien, igual a cero."
   ]
  },
  {
   "cell_type": "code",
   "execution_count": 10,
   "metadata": {},
   "outputs": [
    {
     "name": "stdout",
     "output_type": "stream",
     "text": [
      "-1        47\n",
      " 0     14149\n",
      " 1      4818\n",
      " 2      2055\n",
      " 3       330\n",
      " 4        41\n",
      " 5         9\n",
      " 20       76\n",
      "Name: children, dtype: int64\n"
     ]
    }
   ],
   "source": [
    "print(df['children'].value_counts().sort_index())"
   ]
  },
  {
   "attachments": {},
   "cell_type": "markdown",
   "metadata": {},
   "source": [
    "Existen 47 filas con el dato problemático -1, esto puede deberse a un error humano. Se obtendrán los porcentajes de esta distribución."
   ]
  },
  {
   "cell_type": "code",
   "execution_count": 11,
   "metadata": {},
   "outputs": [
    {
     "name": "stdout",
     "output_type": "stream",
     "text": [
      "-1      0.218351\n",
      " 0     65.732869\n",
      " 1     22.383275\n",
      " 2      9.547038\n",
      " 3      1.533101\n",
      " 4      0.190476\n",
      " 5      0.041812\n",
      " 20     0.353078\n",
      "Name: children, dtype: float64\n"
     ]
    }
   ],
   "source": [
    "print((df['children'].value_counts().sort_index() / len(df)) * 100)"
   ]
  },
  {
   "attachments": {},
   "cell_type": "markdown",
   "metadata": {},
   "source": [
    "El dato problemático representa el 0.2% de todos los datos. Al ser un porcentaje muy bajo, se reemplazará este valor por el valor de los datos con mayor porcentaje, en este caso, 0."
   ]
  },
  {
   "cell_type": "code",
   "execution_count": 12,
   "metadata": {},
   "outputs": [
    {
     "name": "stdout",
     "output_type": "stream",
     "text": [
      "0     14196\n",
      "1      4818\n",
      "2      2055\n",
      "3       330\n",
      "4        41\n",
      "5         9\n",
      "20       76\n",
      "Name: children, dtype: int64\n"
     ]
    }
   ],
   "source": [
    "df['children'] = df['children'].replace(-1, 0)\n",
    "print(df['children'].value_counts().sort_index())"
   ]
  },
  {
   "attachments": {},
   "cell_type": "markdown",
   "metadata": {},
   "source": [
    "Se imprimen los valores de la columna siguiente `'days_employed'` para detectar datos problemáticos. Estos datos son de tipo float y por ser la cantidad de días de experiencia laboral deben ser números tipo float positivos, o bien, igual a cero."
   ]
  },
  {
   "cell_type": "code",
   "execution_count": 13,
   "metadata": {},
   "outputs": [
    {
     "name": "stdout",
     "output_type": "stream",
     "text": [
      "-18388.949901     1\n",
      "-17615.563266     1\n",
      "-16593.472817     1\n",
      "-16264.699501     1\n",
      "-16119.687737     1\n",
      "                 ..\n",
      " 401663.850046    1\n",
      " 401674.466633    1\n",
      " 401675.093434    1\n",
      " 401715.811749    1\n",
      " 401755.400475    1\n",
      "Name: days_employed, Length: 19351, dtype: int64\n"
     ]
    }
   ],
   "source": [
    "print(df['days_employed'].value_counts().sort_index())"
   ]
  },
  {
   "attachments": {},
   "cell_type": "markdown",
   "metadata": {},
   "source": [
    "Existen números negativos. Se filtrará la tabla con estos datos para obtener el porcentaje y decidir el procedimiento para tratarlos."
   ]
  },
  {
   "cell_type": "code",
   "execution_count": 14,
   "metadata": {},
   "outputs": [
    {
     "name": "stdout",
     "output_type": "stream",
     "text": [
      "Hay 15906 filas con días negativos, esto es el 74%\n"
     ]
    }
   ],
   "source": [
    "negative_days = len(df[df['days_employed'] < 0]) # cantidad de filas con días negativos\n",
    "conversion_negative_days = negative_days / len(df) # razón de días negativos sobre la cantidad total\n",
    "print(f'Hay {negative_days} filas con días negativos, esto es el {conversion_negative_days:.0%}')"
   ]
  },
  {
   "attachments": {},
   "cell_type": "markdown",
   "metadata": {},
   "source": [
    "El 74% es un porcentaje muy alto de datos problemáticos en esta columna. La razón más obvia parece ser que el cliente haya realizado la diferencia entre la fecha en la que comenzó a trabajar y la fecha actual, por ello la cantidad negativa. Se reemplazará el signo negativo por positivo.\n",
    "\n",
    "Para ello se aplicará la función `abs()` de Python en la columna `'days_employed`'."
   ]
  },
  {
   "cell_type": "code",
   "execution_count": 15,
   "metadata": {},
   "outputs": [
    {
     "name": "stdout",
     "output_type": "stream",
     "text": [
      "24.141633        1\n",
      "24.240695        1\n",
      "30.195337        1\n",
      "33.520665        1\n",
      "34.701045        1\n",
      "                ..\n",
      "401663.850046    1\n",
      "401674.466633    1\n",
      "401675.093434    1\n",
      "401715.811749    1\n",
      "401755.400475    1\n",
      "Name: days_employed, Length: 19351, dtype: int64\n"
     ]
    }
   ],
   "source": [
    "df['days_employed'] = df['days_employed'].apply(abs)\n",
    "print(df['days_employed'].value_counts().sort_index())"
   ]
  },
  {
   "attachments": {},
   "cell_type": "markdown",
   "metadata": {},
   "source": [
    "La siguiente columna a investigar es `'dob_years'`. Un cliente debe tener la mayoría de edad para solicitar un prestámo, de esta manera los valores problemáticos serán aquellos menores de 18 años."
   ]
  },
  {
   "cell_type": "code",
   "execution_count": 16,
   "metadata": {},
   "outputs": [
    {
     "name": "stdout",
     "output_type": "stream",
     "text": [
      "0     101\n",
      "19     14\n",
      "20     51\n",
      "21    111\n",
      "22    183\n",
      "23    254\n",
      "24    264\n",
      "25    357\n",
      "26    408\n",
      "27    493\n",
      "28    503\n",
      "29    545\n",
      "30    540\n",
      "31    560\n",
      "32    510\n",
      "33    581\n",
      "34    603\n",
      "35    617\n",
      "36    555\n",
      "37    537\n",
      "38    598\n",
      "39    573\n",
      "40    609\n",
      "41    607\n",
      "42    597\n",
      "43    513\n",
      "44    547\n",
      "45    497\n",
      "46    475\n",
      "47    480\n",
      "48    538\n",
      "49    508\n",
      "50    514\n",
      "51    448\n",
      "52    484\n",
      "53    459\n",
      "54    479\n",
      "55    443\n",
      "56    487\n",
      "57    460\n",
      "58    461\n",
      "59    444\n",
      "60    377\n",
      "61    355\n",
      "62    352\n",
      "63    269\n",
      "64    265\n",
      "65    194\n",
      "66    183\n",
      "67    167\n",
      "68     99\n",
      "69     85\n",
      "70     65\n",
      "71     58\n",
      "72     33\n",
      "73      8\n",
      "74      6\n",
      "75      1\n",
      "Name: dob_years, dtype: int64\n"
     ]
    }
   ],
   "source": [
    "print(df['dob_years'].value_counts().sort_index())"
   ]
  },
  {
   "attachments": {},
   "cell_type": "markdown",
   "metadata": {},
   "source": [
    "El único valor problemático es 0. Se obtendrán la media y la mediana (sin contar los datos problemáticos) para decir por cual de ellas se reemplezará."
   ]
  },
  {
   "cell_type": "code",
   "execution_count": 17,
   "metadata": {},
   "outputs": [
    {
     "name": "stdout",
     "output_type": "stream",
     "text": [
      "La media es 43 y la mediana es 43\n"
     ]
    }
   ],
   "source": [
    "df_filtered_19 = df[df['dob_years'] > 18]\n",
    "mean_years = int(df_filtered_19['dob_years'].mean())\n",
    "median_years = int(df_filtered_19['dob_years'].median())\n",
    "print(f'La media es {mean_years} y la mediana es {median_years}')"
   ]
  },
  {
   "attachments": {},
   "cell_type": "markdown",
   "metadata": {},
   "source": [
    "Ambos valores coinciden por lo que se reemplazará el valor 0 por 43."
   ]
  },
  {
   "cell_type": "code",
   "execution_count": 18,
   "metadata": {},
   "outputs": [
    {
     "name": "stdout",
     "output_type": "stream",
     "text": [
      "19     14\n",
      "20     51\n",
      "21    111\n",
      "22    183\n",
      "23    254\n",
      "24    264\n",
      "25    357\n",
      "26    408\n",
      "27    493\n",
      "28    503\n",
      "29    545\n",
      "30    540\n",
      "31    560\n",
      "32    510\n",
      "33    581\n",
      "34    603\n",
      "35    617\n",
      "36    555\n",
      "37    537\n",
      "38    598\n",
      "39    573\n",
      "40    609\n",
      "41    607\n",
      "42    597\n",
      "43    614\n",
      "44    547\n",
      "45    497\n",
      "46    475\n",
      "47    480\n",
      "48    538\n",
      "49    508\n",
      "50    514\n",
      "51    448\n",
      "52    484\n",
      "53    459\n",
      "54    479\n",
      "55    443\n",
      "56    487\n",
      "57    460\n",
      "58    461\n",
      "59    444\n",
      "60    377\n",
      "61    355\n",
      "62    352\n",
      "63    269\n",
      "64    265\n",
      "65    194\n",
      "66    183\n",
      "67    167\n",
      "68     99\n",
      "69     85\n",
      "70     65\n",
      "71     58\n",
      "72     33\n",
      "73      8\n",
      "74      6\n",
      "75      1\n",
      "Name: dob_years, dtype: int64\n"
     ]
    }
   ],
   "source": [
    "df['dob_years'] = df['dob_years'].replace(0, mean_years)\n",
    "print(df['dob_years'].value_counts().sort_index())"
   ]
  },
  {
   "attachments": {},
   "cell_type": "markdown",
   "metadata": {},
   "source": [
    "La columna siguiente es `'education'`. Como los valores son de tipo object, la problemática puede ser que difieran por mayúsculas o por ortografía. Por esta razón se imprimirán los valores únicos de esta columna."
   ]
  },
  {
   "cell_type": "code",
   "execution_count": 19,
   "metadata": {},
   "outputs": [
    {
     "name": "stdout",
     "output_type": "stream",
     "text": [
      "[\"bachelor's degree\" 'secondary education' 'Secondary Education'\n",
      " 'SECONDARY EDUCATION' \"BACHELOR'S DEGREE\" 'some college'\n",
      " 'primary education' \"Bachelor's Degree\" 'SOME COLLEGE' 'Some College'\n",
      " 'PRIMARY EDUCATION' 'Primary Education' 'Graduate Degree'\n",
      " 'GRADUATE DEGREE' 'graduate degree']\n"
     ]
    }
   ],
   "source": [
    "print(df['education'].unique())"
   ]
  },
  {
   "attachments": {},
   "cell_type": "markdown",
   "metadata": {},
   "source": [
    "La diferencia de los valores es el uso de las mayúsculas. Se cambiarán los valores de esta columna por letras minúsculas."
   ]
  },
  {
   "cell_type": "code",
   "execution_count": 20,
   "metadata": {},
   "outputs": [
    {
     "name": "stdout",
     "output_type": "stream",
     "text": [
      "secondary education    15233\n",
      "bachelor's degree       5260\n",
      "some college             744\n",
      "primary education        282\n",
      "graduate degree            6\n",
      "Name: education, dtype: int64\n"
     ]
    }
   ],
   "source": [
    "df['education'] = df['education'].str.lower()\n",
    "print(df['education'].value_counts())"
   ]
  },
  {
   "attachments": {},
   "cell_type": "markdown",
   "metadata": {},
   "source": [
    "La siguiente columna `'education_id'` contienen los identificadores del nivel educativo de los clientes. Se imprimirá la distirbución de los valores para comparar con la distibución anterior y crear un diccionario por si es necesario trabajar con ello más adelante."
   ]
  },
  {
   "cell_type": "code",
   "execution_count": 21,
   "metadata": {},
   "outputs": [
    {
     "name": "stdout",
     "output_type": "stream",
     "text": [
      "1    15233\n",
      "0     5260\n",
      "2      744\n",
      "3      282\n",
      "4        6\n",
      "Name: education_id, dtype: int64\n"
     ]
    }
   ],
   "source": [
    "print(df['education_id'].value_counts())"
   ]
  },
  {
   "cell_type": "code",
   "execution_count": 22,
   "metadata": {},
   "outputs": [],
   "source": [
    "education_dict = {\n",
    "    'secondary education': 1,\n",
    "    'bachelor\\'s degree': 0,\n",
    "    'some college': 2,\n",
    "    'primary education': 3,\n",
    "    'graduate degree': 4\n",
    "}"
   ]
  },
  {
   "attachments": {},
   "cell_type": "markdown",
   "metadata": {},
   "source": [
    "La siguiente columna es `'family_status'` y como los valores son de tipo object, se tratará como la columna `'education'`."
   ]
  },
  {
   "cell_type": "code",
   "execution_count": 23,
   "metadata": {},
   "outputs": [
    {
     "name": "stdout",
     "output_type": "stream",
     "text": [
      "['married' 'civil partnership' 'widow / widower' 'divorced' 'unmarried']\n"
     ]
    }
   ],
   "source": [
    "print(df['family_status'].unique())"
   ]
  },
  {
   "attachments": {},
   "cell_type": "markdown",
   "metadata": {},
   "source": [
    "No hay dúplicados implícitos. Se imprimirá su distribución."
   ]
  },
  {
   "cell_type": "code",
   "execution_count": 24,
   "metadata": {},
   "outputs": [
    {
     "name": "stdout",
     "output_type": "stream",
     "text": [
      "married              12380\n",
      "civil partnership     4177\n",
      "unmarried             2813\n",
      "divorced              1195\n",
      "widow / widower        960\n",
      "Name: family_status, dtype: int64\n"
     ]
    }
   ],
   "source": [
    "print(df['family_status'].value_counts())"
   ]
  },
  {
   "attachments": {},
   "cell_type": "markdown",
   "metadata": {},
   "source": [
    "Se imprimirá la distribución de la columna siguiente `'family_status_id'` para comparar con la anterior y crear el diccionario correspondiente."
   ]
  },
  {
   "cell_type": "code",
   "execution_count": 25,
   "metadata": {},
   "outputs": [
    {
     "name": "stdout",
     "output_type": "stream",
     "text": [
      "0    12380\n",
      "1     4177\n",
      "4     2813\n",
      "3     1195\n",
      "2      960\n",
      "Name: family_status_id, dtype: int64\n"
     ]
    }
   ],
   "source": [
    "print(df['family_status_id'].value_counts())"
   ]
  },
  {
   "cell_type": "code",
   "execution_count": 26,
   "metadata": {},
   "outputs": [],
   "source": [
    "family_status_dict = {\n",
    "    'married': 0,\n",
    "    'civil partnership': 1,\n",
    "    'unmarried': 4,\n",
    "    'divorced': 3,\n",
    "    'widow / widower': 2\n",
    "}"
   ]
  },
  {
   "attachments": {},
   "cell_type": "markdown",
   "metadata": {},
   "source": [
    "La siguiente columna `'gender'` tamnbién contiene valores tipo object. Se imprimirá sus valores únicos."
   ]
  },
  {
   "cell_type": "code",
   "execution_count": 27,
   "metadata": {},
   "outputs": [
    {
     "name": "stdout",
     "output_type": "stream",
     "text": [
      "['F' 'M' 'XNA']\n"
     ]
    }
   ],
   "source": [
    "print(df['gender'].unique())"
   ]
  },
  {
   "attachments": {},
   "cell_type": "markdown",
   "metadata": {},
   "source": [
    "Aparece el valor `'XNA'`, esto puede ser por clientes de género no binario. Como esta variable no afecta a las hipótesis, entonces no se tendrá como un dato problemático. No se modifica nada en esta columna.\n",
    "\n",
    "La columna siguiente `'income_type'`contiene valores tipo object, se procederá como en las anteriores."
   ]
  },
  {
   "cell_type": "code",
   "execution_count": 28,
   "metadata": {},
   "outputs": [
    {
     "name": "stdout",
     "output_type": "stream",
     "text": [
      "['employee' 'retiree' 'business' 'civil servant' 'unemployed'\n",
      " 'entrepreneur' 'student' 'paternity / maternity leave']\n"
     ]
    }
   ],
   "source": [
    "print(df['income_type'].unique())"
   ]
  },
  {
   "attachments": {},
   "cell_type": "markdown",
   "metadata": {},
   "source": [
    "No hay datos problemáticos con esta columna. No se modifica nada.\n",
    "\n",
    "La siguiente columna `'debt'` contiene valores de tipo int, se imprimrá su distribución."
   ]
  },
  {
   "cell_type": "code",
   "execution_count": 29,
   "metadata": {},
   "outputs": [
    {
     "name": "stdout",
     "output_type": "stream",
     "text": [
      "0    19784\n",
      "1     1741\n",
      "Name: debt, dtype: int64\n"
     ]
    }
   ],
   "source": [
    "print(df['debt'].value_counts())"
   ]
  },
  {
   "attachments": {},
   "cell_type": "markdown",
   "metadata": {},
   "source": [
    "Sólo contiene dos tipos de valores, 0 y 1. Esto es equivalente a tener No y Sí (respectivamente) como respuesta a la pregunta ¿el cliente ha tenido alguna deuda en el pago de un prestámo?\n",
    "\n",
    "No contiene datos problemáticos por lo que no se modifica nada en esta columna.\n",
    "\n",
    "La siguiente columna `'total_income'` contiene valores del tipo float. Como esta columna corresponde al ingreso mensual del cliente, los valores deben ser números positivos o iguales a cero."
   ]
  },
  {
   "cell_type": "code",
   "execution_count": 30,
   "metadata": {},
   "outputs": [
    {
     "name": "stdout",
     "output_type": "stream",
     "text": [
      "3306.762      1\n",
      "3392.845      1\n",
      "3418.824      1\n",
      "3471.216      1\n",
      "3503.298      1\n",
      "             ..\n",
      "273809.483    1\n",
      "274402.943    1\n",
      "276204.162    1\n",
      "352136.354    1\n",
      "362496.645    1\n",
      "Name: total_income, Length: 19348, dtype: int64\n"
     ]
    }
   ],
   "source": [
    "print(df['total_income'].value_counts().sort_index())"
   ]
  },
  {
   "attachments": {},
   "cell_type": "markdown",
   "metadata": {},
   "source": [
    "No hay datos problemáticos por lo que no se modifica nada en esta columna.\n",
    "\n",
    "La última columna `'purpose'` contiene valores de tipo object. Se imprimirán los valores únicos."
   ]
  },
  {
   "cell_type": "code",
   "execution_count": 31,
   "metadata": {},
   "outputs": [
    {
     "name": "stdout",
     "output_type": "stream",
     "text": [
      "['purchase of the house' 'car purchase' 'supplementary education'\n",
      " 'to have a wedding' 'housing transactions' 'education' 'having a wedding'\n",
      " 'purchase of the house for my family' 'buy real estate'\n",
      " 'buy commercial real estate' 'buy residential real estate'\n",
      " 'construction of own property' 'property' 'building a property'\n",
      " 'buying a second-hand car' 'buying my own car'\n",
      " 'transactions with commercial real estate' 'building a real estate'\n",
      " 'housing' 'transactions with my real estate' 'cars' 'to become educated'\n",
      " 'second-hand car purchase' 'getting an education' 'car'\n",
      " 'wedding ceremony' 'to get a supplementary education'\n",
      " 'purchase of my own house' 'real estate transactions'\n",
      " 'getting higher education' 'to own a car' 'purchase of a car'\n",
      " 'profile education' 'university education'\n",
      " 'buying property for renting out' 'to buy a car' 'housing renovation'\n",
      " 'going to university']\n"
     ]
    }
   ],
   "source": [
    "print(df['purpose'].unique())"
   ]
  },
  {
   "attachments": {},
   "cell_type": "markdown",
   "metadata": {},
   "source": [
    "Existen duplicados implícitos, muchos de ellos corresponden al mismo propósito pero usando sinónimos o difiriendo por alguna palabra. Se crearán las siguientes listas:\n",
    "* `real_state` - contiene los propósitos relacionados con la compra, renta, reparación o renovación de una propiedad.\n",
    "* `buy_car` - contiene los propósitos relacionados con la compra de un auto.\n",
    "* `education` - contiene los propósitos relacionados con educación.\n",
    "* `wedding` - contiene los propósitos relacionados con gastos de una boda."
   ]
  },
  {
   "cell_type": "code",
   "execution_count": 32,
   "metadata": {},
   "outputs": [],
   "source": [
    "real_state = [\n",
    "    'purchase of the house',\n",
    "    'housing transactions',\n",
    "    'purchase of the house for my family',\n",
    "    'buy real estate',\n",
    "    'buy commercial real estate',\n",
    "    'buy residential real estate',\n",
    "    'construction of own property',\n",
    "    'property',\n",
    "    'building a property',\n",
    "    'transactions with commercial real estate',\n",
    "    'building a real estate',\n",
    "    'housing',\n",
    "    'transactions with my real estate',\n",
    "    'purchase of my own house',\n",
    "    'real estate transactions',\n",
    "    'buying property for renting out',\n",
    "    'housing renovation'\n",
    "]\n",
    "buy_car = [\n",
    "    'car purchase',\n",
    "    'buying a second-hand car',\n",
    "    'buying my own car',\n",
    "    'cars',\n",
    "    'second-hand car purchase',\n",
    "    'car',\n",
    "    'to own a car',\n",
    "    'purchase of a car',\n",
    "    'to buy a car'\n",
    "]\n",
    "education = [\n",
    "    'supplementary education',\n",
    "    'education',\n",
    "    'to become educated',\n",
    "    'getting an education',\n",
    "    'to get a supplementary education',\n",
    "    'getting higher education',\n",
    "    'profile education',\n",
    "    'university education',\n",
    "    'going to university'\n",
    "]\n",
    "wedding = [\n",
    "    'to have a wedding',\n",
    "    'having a wedding',\n",
    "    'wedding ceremony'\n",
    "]"
   ]
  },
  {
   "attachments": {},
   "cell_type": "markdown",
   "metadata": {},
   "source": [
    "Se creará una función que envía cada valor a su lista representativa."
   ]
  },
  {
   "cell_type": "code",
   "execution_count": 33,
   "metadata": {},
   "outputs": [],
   "source": [
    "def assign_purpose(string):\n",
    "    if string in real_state:\n",
    "        return 'for real state'\n",
    "    elif string in buy_car:\n",
    "        return 'to buy a car'\n",
    "    elif string in education:\n",
    "        return 'for education'\n",
    "    elif string in wedding:\n",
    "        return 'for a wedding'\n",
    "    else:\n",
    "        return string"
   ]
  },
  {
   "attachments": {},
   "cell_type": "markdown",
   "metadata": {},
   "source": [
    "Se aplicará la función a la columna `'purpose'` de la tabla para reemplazar los datos."
   ]
  },
  {
   "cell_type": "code",
   "execution_count": 34,
   "metadata": {},
   "outputs": [],
   "source": [
    "df['purpose'] = df['purpose'].apply(assign_purpose)"
   ]
  },
  {
   "attachments": {},
   "cell_type": "markdown",
   "metadata": {},
   "source": [
    "Se comprueba que en la columna `'purpose'` se tengan 4 valores únicos."
   ]
  },
  {
   "cell_type": "code",
   "execution_count": 35,
   "metadata": {},
   "outputs": [
    {
     "name": "stdout",
     "output_type": "stream",
     "text": [
      "['for real state' 'to buy a car' 'for education' 'for a wedding']\n"
     ]
    }
   ],
   "source": [
    "print(df['purpose'].unique())"
   ]
  },
  {
   "attachments": {},
   "cell_type": "markdown",
   "metadata": {},
   "source": [
    "[Volver a Contenidos](#back)"
   ]
  },
  {
   "attachments": {},
   "cell_type": "markdown",
   "metadata": {},
   "source": [
    "### 2. 2. Duplicados obvios <a id='data_preprocessing_duplicated_ob'></a>"
   ]
  },
  {
   "attachments": {},
   "cell_type": "markdown",
   "metadata": {},
   "source": [
    "Se obtendrá la cantidad de filas duplicadas y su porcentaje."
   ]
  },
  {
   "cell_type": "code",
   "execution_count": 36,
   "metadata": {},
   "outputs": [
    {
     "name": "stdout",
     "output_type": "stream",
     "text": [
      "Existen 409 filas duplicadas, esto es el 2%\n"
     ]
    }
   ],
   "source": [
    "duplicated_rows = df.duplicated().sum()\n",
    "conv_duplicated_rows = duplicated_rows / len(df) # razón entre la cantidad de filas duplicadas y la cantidad total de filas\n",
    "print(f'Existen {duplicated_rows} filas duplicadas, esto es el {conv_duplicated_rows:.0%}')"
   ]
  },
  {
   "attachments": {},
   "cell_type": "markdown",
   "metadata": {},
   "source": [
    "El 2% de las filas de la tabla se ha duplicado. Como los valores de `'days_employed'` son de tipo float, se puede usar este valor para distinguir un poco más si se trata del mismo cliente.\n",
    "\n",
    "Se filtrará la tabla con las filas duplicadas y se imprimirán los valores de ésta contenidos en la columna `'days_employed'` (incluyendo valores ausentes)."
   ]
  },
  {
   "cell_type": "code",
   "execution_count": 37,
   "metadata": {},
   "outputs": [
    {
     "name": "stdout",
     "output_type": "stream",
     "text": [
      "NaN    409\n",
      "Name: days_employed, dtype: int64\n"
     ]
    }
   ],
   "source": [
    "df_duplicates = df[df.duplicated(keep='first')]\n",
    "print(df_duplicates['days_employed'].value_counts(dropna=False))"
   ]
  },
  {
   "attachments": {},
   "cell_type": "markdown",
   "metadata": {},
   "source": [
    "Todas las filas tienen valor ausente en la columna `'days_employed'` (y por tanto en la columna `'total_income'`). Como no se tiene un identificador de cliente, se desconoce si las filas duplicadas pertenecen a un mismo cliente o no.\n",
    "\n",
    "Se decide conservar estas filas y tratarlas como clientes distintos ya que el porcentaje supera el 1%.\n",
    "\n",
    "[Volver a Contenidos](#back)"
   ]
  },
  {
   "attachments": {},
   "cell_type": "markdown",
   "metadata": {},
   "source": [
    "### 2. 3. Completar valores ausentes <a id='data_preprocessing_missing_values'></a>\n",
    "\n",
    "Como se ha mencionado, los valores ausentes que se tienen de las columnas `'days_employed'` y `'total_income'` pertenecen a las mismas filas y además son aleatorios.\n",
    "\n",
    "En esta sección se restaurarán esos valores ausentes con la mediana o la media de grupos correspondientes. Para ello se considerarán las características que influyan con los datos de las columnas mencionadas.\n",
    "\n",
    "Se agruparán los valores de `'dob_years'` en grupos de edad por si es necesario considerar la edad como un factor que influya en los valores de las columnas a tratar. Para ello se creará un función que envié cierta edad a su grupo correspondiente."
   ]
  },
  {
   "cell_type": "code",
   "execution_count": 38,
   "metadata": {},
   "outputs": [],
   "source": [
    "def age_group(age):\n",
    "    if age < 20:\n",
    "        return '< 20'\n",
    "    elif 20 <= age < 30:\n",
    "        return '20-29'\n",
    "    elif 30 <= age < 40:\n",
    "        return '30-39'\n",
    "    elif 40 <= age < 50:\n",
    "        return '40-49'\n",
    "    elif 50 <= age < 60:\n",
    "        return '50-59'\n",
    "    elif 60 <= age < 70:\n",
    "        return '60-69'\n",
    "    else:\n",
    "        return '70+'"
   ]
  },
  {
   "attachments": {},
   "cell_type": "markdown",
   "metadata": {},
   "source": [
    "Se comprueba que la función sea correcta."
   ]
  },
  {
   "cell_type": "code",
   "execution_count": 39,
   "metadata": {},
   "outputs": [
    {
     "name": "stdout",
     "output_type": "stream",
     "text": [
      "< 20\n",
      "20-29\n",
      "30-39\n",
      "40-49\n",
      "50-59\n",
      "60-69\n",
      "70+\n"
     ]
    }
   ],
   "source": [
    "print(age_group(19))\n",
    "print(age_group(29))\n",
    "print(age_group(39))\n",
    "print(age_group(49))\n",
    "print(age_group(59))\n",
    "print(age_group(69))\n",
    "print(age_group(89))"
   ]
  },
  {
   "attachments": {},
   "cell_type": "markdown",
   "metadata": {},
   "source": [
    "Se crea una nueva columna `'age_group'` para la tabla original que contiene el grupo de edad para cada cliente. Para ello se aplica la función recién creada a la columna `'dob_years'`. Se obtiene la información de la tabla para corroborar que los cambios se hicieron de manera correcta."
   ]
  },
  {
   "cell_type": "code",
   "execution_count": 40,
   "metadata": {},
   "outputs": [
    {
     "name": "stdout",
     "output_type": "stream",
     "text": [
      "<class 'pandas.core.frame.DataFrame'>\n",
      "RangeIndex: 21525 entries, 0 to 21524\n",
      "Data columns (total 13 columns):\n",
      " #   Column            Non-Null Count  Dtype  \n",
      "---  ------            --------------  -----  \n",
      " 0   children          21525 non-null  int64  \n",
      " 1   days_employed     19351 non-null  float64\n",
      " 2   dob_years         21525 non-null  int64  \n",
      " 3   education         21525 non-null  object \n",
      " 4   education_id      21525 non-null  int64  \n",
      " 5   family_status     21525 non-null  object \n",
      " 6   family_status_id  21525 non-null  int64  \n",
      " 7   gender            21525 non-null  object \n",
      " 8   income_type       21525 non-null  object \n",
      " 9   debt              21525 non-null  int64  \n",
      " 10  total_income      19351 non-null  float64\n",
      " 11  purpose           21525 non-null  object \n",
      " 12  age_group         21525 non-null  object \n",
      "dtypes: float64(2), int64(5), object(6)\n",
      "memory usage: 2.1+ MB\n"
     ]
    }
   ],
   "source": [
    "df['age_group'] = df['dob_years'].apply(age_group)\n",
    "df.info()"
   ]
  },
  {
   "attachments": {},
   "cell_type": "markdown",
   "metadata": {},
   "source": [
    "La conjetura es que la edad del cliente y la experiencia laboral son proporcionales, esto es, a mayor edad, mayor experiencia laboral.\n",
    "Para comprobar la veracidad de esta conjetura, se agrupará la tabla por categoría de edad y se obtendrá la media de la cantidad de días de experiencia laboral."
   ]
  },
  {
   "cell_type": "code",
   "execution_count": 41,
   "metadata": {},
   "outputs": [
    {
     "name": "stdout",
     "output_type": "stream",
     "text": [
      "age_group\n",
      "20-29      2089.054192\n",
      "30-39      4155.029251\n",
      "40-49     13439.227108\n",
      "50-59    132907.545543\n",
      "60-69    283926.481689\n",
      "70+      320819.151927\n",
      "< 20        633.678086\n",
      "Name: days_employed, dtype: float64\n"
     ]
    }
   ],
   "source": [
    "df_grouped_age = df.groupby('age_group')['days_employed'].mean()\n",
    "print(df_grouped_age)"
   ]
  },
  {
   "attachments": {},
   "cell_type": "markdown",
   "metadata": {},
   "source": [
    "La conjetura es cierta:\n",
    "\n",
    "**a mayor edad, mayor es la cantidad de días de experiencia laboral.**\n",
    "\n",
    "Ahora se creará una tabla a partir de la original pero sin valores ausentes para tener mayor certeza al calcular medias y medianas. Se obtiene la información de la nueva tabla para corroborar que no contiene valores ausentes."
   ]
  },
  {
   "cell_type": "code",
   "execution_count": 42,
   "metadata": {},
   "outputs": [
    {
     "name": "stdout",
     "output_type": "stream",
     "text": [
      "<class 'pandas.core.frame.DataFrame'>\n",
      "Int64Index: 19351 entries, 0 to 21524\n",
      "Data columns (total 13 columns):\n",
      " #   Column            Non-Null Count  Dtype  \n",
      "---  ------            --------------  -----  \n",
      " 0   children          19351 non-null  int64  \n",
      " 1   days_employed     19351 non-null  float64\n",
      " 2   dob_years         19351 non-null  int64  \n",
      " 3   education         19351 non-null  object \n",
      " 4   education_id      19351 non-null  int64  \n",
      " 5   family_status     19351 non-null  object \n",
      " 6   family_status_id  19351 non-null  int64  \n",
      " 7   gender            19351 non-null  object \n",
      " 8   income_type       19351 non-null  object \n",
      " 9   debt              19351 non-null  int64  \n",
      " 10  total_income      19351 non-null  float64\n",
      " 11  purpose           19351 non-null  object \n",
      " 12  age_group         19351 non-null  object \n",
      "dtypes: float64(2), int64(5), object(6)\n",
      "memory usage: 2.1+ MB\n"
     ]
    }
   ],
   "source": [
    "df_non_nan = df.dropna()\n",
    "df_non_nan.info()"
   ]
  },
  {
   "attachments": {},
   "cell_type": "markdown",
   "metadata": {},
   "source": [
    "#### 2.3.1 Restaurar valores ausentes en `'total_income'` <a id='data_preprocessing_missing_values_income'></a>\n",
    "\n",
    "En primer lugar se restaurarán los valores ausentes de la columna `'total_income'`.\n",
    "\n",
    "El ingreso mensual de un cliente depende de tres facores: el nivel educativo, la experiencia laboral y el puesto. Como la experiencia laboral es proporcional a la edad del cliente, se considerarán tablas dinámicas considerando estos tres factores y obteniendo las medias y medianas de los ingresos mensuales."
   ]
  },
  {
   "cell_type": "code",
   "execution_count": 43,
   "metadata": {},
   "outputs": [
    {
     "name": "stdout",
     "output_type": "stream",
     "text": [
      "income_type                        business  civil servant      employee  \\\n",
      "age_group education                                                        \n",
      "20-29     bachelor's degree    32256.239769   27907.014075  27706.839102   \n",
      "          primary education    30460.981833   30563.383000  26614.028556   \n",
      "          secondary education  26116.903475   22601.223783  22612.924227   \n",
      "          some college         27855.456737   21662.198364  23860.788568   \n",
      "30-39     bachelor's degree    39169.886242   32040.193301  30861.492968   \n",
      "          graduate degree               NaN   17822.757000  18551.846000   \n",
      "          primary education    25068.715417   21150.696000  21459.375547   \n",
      "          secondary education  29227.042915   24654.951415  24560.505804   \n",
      "          some college         32208.165662   32407.862250  31785.952667   \n",
      "40-49     bachelor's degree    41067.908317   33339.033856  31530.697077   \n",
      "          graduate degree               NaN            NaN  31771.321000   \n",
      "          primary education    25941.415857   78410.774000  22164.718342   \n",
      "          secondary education  30027.965044   25654.572075  24910.161574   \n",
      "          some college         40047.354364   37458.604714  29061.299963   \n",
      "50-59     bachelor's degree    42774.930702   31480.677952  33510.767240   \n",
      "          graduate degree               NaN            NaN  42945.794000   \n",
      "          primary education    25171.059000   12709.275500  17335.627412   \n",
      "          secondary education  27988.362846   23842.806400  24669.231983   \n",
      "          some college         34081.208000            NaN  29061.579500   \n",
      "60-69     bachelor's degree    40074.643420   34764.346000  30894.509576   \n",
      "          graduate degree               NaN            NaN           NaN   \n",
      "          primary education             NaN            NaN  23789.296714   \n",
      "          secondary education  28280.215722   26063.777937  26038.057904   \n",
      "          some college         32607.246000            NaN  33851.476167   \n",
      "70+       bachelor's degree    35343.050000   57508.032000           NaN   \n",
      "          primary education             NaN            NaN           NaN   \n",
      "          secondary education  24519.131714   19530.677500  26672.382429   \n",
      "          some college                  NaN            NaN           NaN   \n",
      "< 20      secondary education  16236.915200            NaN  15636.054000   \n",
      "          some college         26598.433500   12125.986000  13752.830500   \n",
      "\n",
      "income_type                    entrepreneur  paternity / maternity leave  \\\n",
      "age_group education                                                        \n",
      "20-29     bachelor's degree       79866.103                          NaN   \n",
      "          primary education             NaN                          NaN   \n",
      "          secondary education           NaN                          NaN   \n",
      "          some college                  NaN                          NaN   \n",
      "30-39     bachelor's degree             NaN                          NaN   \n",
      "          graduate degree               NaN                          NaN   \n",
      "          primary education             NaN                          NaN   \n",
      "          secondary education           NaN                     8612.661   \n",
      "          some college                  NaN                          NaN   \n",
      "40-49     bachelor's degree             NaN                          NaN   \n",
      "          graduate degree               NaN                          NaN   \n",
      "          primary education             NaN                          NaN   \n",
      "          secondary education           NaN                          NaN   \n",
      "          some college                  NaN                          NaN   \n",
      "50-59     bachelor's degree             NaN                          NaN   \n",
      "          graduate degree               NaN                          NaN   \n",
      "          primary education             NaN                          NaN   \n",
      "          secondary education           NaN                          NaN   \n",
      "          some college                  NaN                          NaN   \n",
      "60-69     bachelor's degree             NaN                          NaN   \n",
      "          graduate degree               NaN                          NaN   \n",
      "          primary education             NaN                          NaN   \n",
      "          secondary education           NaN                          NaN   \n",
      "          some college                  NaN                          NaN   \n",
      "70+       bachelor's degree             NaN                          NaN   \n",
      "          primary education             NaN                          NaN   \n",
      "          secondary education           NaN                          NaN   \n",
      "          some college                  NaN                          NaN   \n",
      "< 20      secondary education           NaN                          NaN   \n",
      "          some college                  NaN                          NaN   \n",
      "\n",
      "income_type                         retiree   student  unemployed  \n",
      "age_group education                                                \n",
      "20-29     bachelor's degree    34394.128000  15712.26         NaN  \n",
      "          primary education             NaN       NaN         NaN  \n",
      "          secondary education  11637.739167       NaN         NaN  \n",
      "          some college                  NaN       NaN         NaN  \n",
      "30-39     bachelor's degree    35371.215800       NaN         NaN  \n",
      "          graduate degree               NaN       NaN         NaN  \n",
      "          primary education    14138.866000       NaN         NaN  \n",
      "          secondary education  20850.593087       NaN    9593.119  \n",
      "          some college                  NaN       NaN         NaN  \n",
      "40-49     bachelor's degree    37813.323900       NaN   32435.602  \n",
      "          graduate degree               NaN       NaN         NaN  \n",
      "          primary education    15708.433000       NaN         NaN  \n",
      "          secondary education  23871.413138       NaN         NaN  \n",
      "          some college         13485.433000       NaN         NaN  \n",
      "50-59     bachelor's degree    25596.714311       NaN         NaN  \n",
      "          graduate degree               NaN       NaN         NaN  \n",
      "          primary education    17414.988200       NaN         NaN  \n",
      "          secondary education  21745.203936       NaN         NaN  \n",
      "          some college         19487.096600       NaN         NaN  \n",
      "60-69     bachelor's degree    27761.318160       NaN         NaN  \n",
      "          graduate degree      28334.215000       NaN         NaN  \n",
      "          primary education    18039.820679       NaN         NaN  \n",
      "          secondary education  20482.478461       NaN         NaN  \n",
      "          some college         28573.649214       NaN         NaN  \n",
      "70+       bachelor's degree    23075.968316       NaN         NaN  \n",
      "          primary education    18892.886000       NaN         NaN  \n",
      "          secondary education  18438.906559       NaN         NaN  \n",
      "          some college         13917.989667       NaN         NaN  \n",
      "< 20      secondary education           NaN       NaN         NaN  \n",
      "          some college                  NaN       NaN         NaN  \n"
     ]
    }
   ],
   "source": [
    "#Tabla dinámica con las medias\n",
    "data_pivot_mean = df_non_nan.pivot_table(index=['age_group', 'education'], columns='income_type', values='total_income', aggfunc='mean')\n",
    "print(data_pivot_mean)"
   ]
  },
  {
   "cell_type": "code",
   "execution_count": 44,
   "metadata": {},
   "outputs": [
    {
     "name": "stdout",
     "output_type": "stream",
     "text": [
      "income_type                      business  civil servant    employee  \\\n",
      "age_group education                                                    \n",
      "20-29     bachelor's degree    28250.2840     24617.5440  24030.5850   \n",
      "          primary education    24210.1960     30563.3830  24583.5965   \n",
      "          secondary education  23884.9040     21361.7300  20192.6190   \n",
      "          some college         25429.2090     21640.4795  21907.8130   \n",
      "30-39     bachelor's degree    32574.9760     27956.2445  26722.5325   \n",
      "          graduate degree             NaN     17822.7570  18551.8460   \n",
      "          primary education    20030.2260     21150.6960  19546.3410   \n",
      "          secondary education  26268.0480     20870.9730  22088.2215   \n",
      "          some college         29814.5275     30672.7180  26913.8230   \n",
      "40-49     bachelor's degree    34604.4780     28425.4810  27266.6900   \n",
      "          graduate degree             NaN            NaN  31771.3210   \n",
      "          primary education    27929.0980     78410.7740  21132.3895   \n",
      "          secondary education  26132.9210     22349.0400  22192.7345   \n",
      "          some college         35282.0940     26587.6740  26846.2815   \n",
      "50-59     bachelor's degree    35379.3990     28366.5680  27503.5590   \n",
      "          graduate degree             NaN            NaN  42945.7940   \n",
      "          primary education    23066.1310     12709.2755  14599.2580   \n",
      "          secondary education  24461.0155     21417.6660  21831.2455   \n",
      "          some college         33073.7630            NaN  22644.3135   \n",
      "60-69     bachelor's degree    30849.5425     27117.8410  27969.0405   \n",
      "          graduate degree             NaN            NaN         NaN   \n",
      "          primary education           NaN            NaN  26188.2420   \n",
      "          secondary education  27142.1265     22756.9360  21311.4815   \n",
      "          some college         37146.5350            NaN  32844.1030   \n",
      "70+       bachelor's degree    36808.9680     57508.0320         NaN   \n",
      "          primary education           NaN            NaN         NaN   \n",
      "          secondary education  24259.6870     19530.6775  24660.9010   \n",
      "          some college                NaN            NaN         NaN   \n",
      "< 20      secondary education  16588.2370            NaN  14934.9010   \n",
      "          some college         26598.4335     12125.9860  13752.8305   \n",
      "\n",
      "income_type                    entrepreneur  paternity / maternity leave  \\\n",
      "age_group education                                                        \n",
      "20-29     bachelor's degree       79866.103                          NaN   \n",
      "          primary education             NaN                          NaN   \n",
      "          secondary education           NaN                          NaN   \n",
      "          some college                  NaN                          NaN   \n",
      "30-39     bachelor's degree             NaN                          NaN   \n",
      "          graduate degree               NaN                          NaN   \n",
      "          primary education             NaN                          NaN   \n",
      "          secondary education           NaN                     8612.661   \n",
      "          some college                  NaN                          NaN   \n",
      "40-49     bachelor's degree             NaN                          NaN   \n",
      "          graduate degree               NaN                          NaN   \n",
      "          primary education             NaN                          NaN   \n",
      "          secondary education           NaN                          NaN   \n",
      "          some college                  NaN                          NaN   \n",
      "50-59     bachelor's degree             NaN                          NaN   \n",
      "          graduate degree               NaN                          NaN   \n",
      "          primary education             NaN                          NaN   \n",
      "          secondary education           NaN                          NaN   \n",
      "          some college                  NaN                          NaN   \n",
      "60-69     bachelor's degree             NaN                          NaN   \n",
      "          graduate degree               NaN                          NaN   \n",
      "          primary education             NaN                          NaN   \n",
      "          secondary education           NaN                          NaN   \n",
      "          some college                  NaN                          NaN   \n",
      "70+       bachelor's degree             NaN                          NaN   \n",
      "          primary education             NaN                          NaN   \n",
      "          secondary education           NaN                          NaN   \n",
      "          some college                  NaN                          NaN   \n",
      "< 20      secondary education           NaN                          NaN   \n",
      "          some college                  NaN                          NaN   \n",
      "\n",
      "income_type                       retiree   student  unemployed  \n",
      "age_group education                                              \n",
      "20-29     bachelor's degree    34394.1280  15712.26         NaN  \n",
      "          primary education           NaN       NaN         NaN  \n",
      "          secondary education  11619.3835       NaN         NaN  \n",
      "          some college                NaN       NaN         NaN  \n",
      "30-39     bachelor's degree    30117.8830       NaN         NaN  \n",
      "          graduate degree             NaN       NaN         NaN  \n",
      "          primary education    14138.8660       NaN         NaN  \n",
      "          secondary education  18495.7740       NaN    9593.119  \n",
      "          some college                NaN       NaN         NaN  \n",
      "40-49     bachelor's degree    29857.1610       NaN   32435.602  \n",
      "          graduate degree             NaN       NaN         NaN  \n",
      "          primary education    15708.4330       NaN         NaN  \n",
      "          secondary education  21286.5050       NaN         NaN  \n",
      "          some college          8199.5900       NaN         NaN  \n",
      "50-59     bachelor's degree    22805.7985       NaN         NaN  \n",
      "          graduate degree             NaN       NaN         NaN  \n",
      "          primary education    17104.9250       NaN         NaN  \n",
      "          secondary education  18834.8165       NaN         NaN  \n",
      "          some college         17973.6230       NaN         NaN  \n",
      "60-69     bachelor's degree    23918.5100       NaN         NaN  \n",
      "          graduate degree      28334.2150       NaN         NaN  \n",
      "          primary education    16415.7850       NaN         NaN  \n",
      "          secondary education  17943.5555       NaN         NaN  \n",
      "          some college         25908.0145       NaN         NaN  \n",
      "70+       bachelor's degree    22009.3150       NaN         NaN  \n",
      "          primary education    15013.5050       NaN         NaN  \n",
      "          secondary education  17543.2480       NaN         NaN  \n",
      "          some college         14479.1930       NaN         NaN  \n",
      "< 20      secondary education         NaN       NaN         NaN  \n",
      "          some college                NaN       NaN         NaN  \n"
     ]
    }
   ],
   "source": [
    "# Tabla dinámica con las medianas\n",
    "data_pivot_median = df_non_nan.pivot_table(index=['age_group', 'education'], columns='income_type', values='total_income', aggfunc='median')\n",
    "print(data_pivot_median)"
   ]
  },
  {
   "attachments": {},
   "cell_type": "markdown",
   "metadata": {},
   "source": [
    "Se observa que las medias difieren de las medianas, esto significa que existen valores atípicos, por lo que se usarán las medianas.\n",
    "\n",
    "Se creará una función que analicé cada fila de la tabla original y asigne la mediana correspondiente."
   ]
  },
  {
   "cell_type": "code",
   "execution_count": 45,
   "metadata": {},
   "outputs": [],
   "source": [
    "def nan_median(row):\n",
    "    income = row['total_income']\n",
    "    age = row['age_group']\n",
    "    education = row['education']\n",
    "    in_type = row['income_type']\n",
    "    if pd.isna(income):\n",
    "        income = data_pivot_median.loc[(age, education), in_type]\n",
    "        return income\n",
    "    else:\n",
    "        return income"
   ]
  },
  {
   "attachments": {},
   "cell_type": "markdown",
   "metadata": {},
   "source": [
    "Se comprueba que la función sea correcta."
   ]
  },
  {
   "cell_type": "code",
   "execution_count": 46,
   "metadata": {},
   "outputs": [
    {
     "name": "stdout",
     "output_type": "stream",
     "text": [
      "             education income_type age_group  total_income\n",
      "0    bachelor's degree    business     20-29           NaN\n",
      "1  secondary education    employee     30-39         102.0\n",
      "\n",
      "             education income_type age_group  total_income\n",
      "0    bachelor's degree    business     20-29     28250.284\n",
      "1  secondary education    employee     30-39       102.000\n"
     ]
    }
   ],
   "source": [
    "prueba_edu = ['bachelor\\'s degree', 'secondary education']\n",
    "prueba_in = ['business', 'employee']\n",
    "prueba_age = ['20-29', '30-39']\n",
    "prueba_total = [float('nan'), 102]\n",
    "prueba = pd.DataFrame()\n",
    "prueba['education'] = prueba_edu\n",
    "prueba['income_type'] = prueba_in\n",
    "prueba['age_group'] = prueba_age\n",
    "prueba['total_income'] = prueba_total\n",
    "\n",
    "print(prueba)\n",
    "print()\n",
    "prueba['total_income'] = prueba.apply(nan_median, axis=1)\n",
    "print(prueba)"
   ]
  },
  {
   "attachments": {},
   "cell_type": "markdown",
   "metadata": {},
   "source": [
    "Se aplica la función a la tabla original para restaurar los valores ausentes y se imprime la distribución de los valores ausentes por columna."
   ]
  },
  {
   "cell_type": "code",
   "execution_count": 47,
   "metadata": {},
   "outputs": [
    {
     "name": "stdout",
     "output_type": "stream",
     "text": [
      "children               0\n",
      "days_employed       2174\n",
      "dob_years              0\n",
      "education              0\n",
      "education_id           0\n",
      "family_status          0\n",
      "family_status_id       0\n",
      "gender                 0\n",
      "income_type            0\n",
      "debt                   0\n",
      "total_income           3\n",
      "purpose                0\n",
      "age_group              0\n",
      "dtype: int64\n"
     ]
    }
   ],
   "source": [
    "df['total_income'] = df.apply(nan_median, axis=1)\n",
    "print(df.isna().sum())"
   ]
  },
  {
   "attachments": {},
   "cell_type": "markdown",
   "metadata": {},
   "source": [
    "Aún existen 3 filas con valores ausentes en `'total_income'`. Se imprimirán dichas filas para obtener información."
   ]
  },
  {
   "cell_type": "code",
   "execution_count": 48,
   "metadata": {},
   "outputs": [
    {
     "name": "stdout",
     "output_type": "stream",
     "text": [
      "      children  days_employed  dob_years          education  education_id  \\\n",
      "1303         1            NaN         70  primary education             3   \n",
      "5936         0            NaN         58  bachelor's degree             0   \n",
      "8142         0            NaN         64  primary education             3   \n",
      "\n",
      "          family_status  family_status_id gender    income_type  debt  \\\n",
      "1303  civil partnership                 1      F       employee     0   \n",
      "5936            married                 0      M   entrepreneur     0   \n",
      "8142  civil partnership                 1      F  civil servant     0   \n",
      "\n",
      "      total_income         purpose age_group  \n",
      "1303           NaN  for real state       70+  \n",
      "5936           NaN  for real state     50-59  \n",
      "8142           NaN   for a wedding     60-69  \n"
     ]
    }
   ],
   "source": [
    "print(df[df['total_income'].isna()])"
   ]
  },
  {
   "attachments": {},
   "cell_type": "markdown",
   "metadata": {},
   "source": [
    "Se localizarán las filas de la tabla sin valores ausentes que cumplen las características de la primera fila para comprobar si existen."
   ]
  },
  {
   "cell_type": "code",
   "execution_count": 49,
   "metadata": {},
   "outputs": [
    {
     "name": "stdout",
     "output_type": "stream",
     "text": [
      "Empty DataFrame\n",
      "Columns: [children, days_employed, dob_years, education, education_id, family_status, family_status_id, gender, income_type, debt, total_income, purpose, age_group]\n",
      "Index: []\n"
     ]
    }
   ],
   "source": [
    "print(df_non_nan.loc[(df_non_nan['age_group'] == '70+') & (df_non_nan['education'] == 'primary education') & (df_non_nan['income_type'] == 'employee')])"
   ]
  },
  {
   "attachments": {},
   "cell_type": "markdown",
   "metadata": {},
   "source": [
    "No existen clientes sin valores ausentes que cumplan estas tres características, por ello no se puede obtener la mediana. Como el ingreo mensual depende en mayor medida del puesto y la experiencia que del nivel educativo, se analizará la media y mediana de los ingresos menduales de los clientes que satisfacen tener más de 70 años y ser empleados."
   ]
  },
  {
   "cell_type": "code",
   "execution_count": 50,
   "metadata": {},
   "outputs": [
    {
     "name": "stdout",
     "output_type": "stream",
     "text": [
      "media: 26672.38242857143\n",
      "mediana: 24660.901\n"
     ]
    }
   ],
   "source": [
    "df_70_employee = df_non_nan.loc[(df_non_nan['age_group'] == '70+') & (df_non_nan['income_type'] == 'employee')]\n",
    "mean_df_70_employee = df_70_employee['total_income'].mean()\n",
    "median_df_70_employee = df_70_employee['total_income'].median()\n",
    "print('media:', mean_df_70_employee)\n",
    "print('mediana:', median_df_70_employee)"
   ]
  },
  {
   "attachments": {},
   "cell_type": "markdown",
   "metadata": {},
   "source": [
    "Nuevamente, estas cantidades difieren, es decir, existen valores atípicos por lo que se reemplazará con la mediana."
   ]
  },
  {
   "cell_type": "code",
   "execution_count": 51,
   "metadata": {},
   "outputs": [],
   "source": [
    "df.loc[1303, 'total_income'] = median_df_70_employee"
   ]
  },
  {
   "attachments": {},
   "cell_type": "markdown",
   "metadata": {},
   "source": [
    "En la tabla original sólo se tienen dos clientes con el valor de `'entrepreneur'`, esto quiere decir que uno de ellos tienen valores ausentes y el otro no. Por esta razón se reemplazará con los datos del otro cliente."
   ]
  },
  {
   "cell_type": "code",
   "execution_count": 52,
   "metadata": {},
   "outputs": [],
   "source": [
    "df_entrepreneur = df_non_nan.loc[df_non_nan['income_type'] == 'entrepreneur']\n",
    "mean_entrepreneur = df_entrepreneur['total_income'].mean()\n",
    "df.loc[5936, 'total_income'] = mean_entrepreneur"
   ]
  },
  {
   "attachments": {},
   "cell_type": "markdown",
   "metadata": {},
   "source": [
    "Para la tercera fila se procede como en el caso de la primera."
   ]
  },
  {
   "cell_type": "code",
   "execution_count": 53,
   "metadata": {},
   "outputs": [
    {
     "name": "stdout",
     "output_type": "stream",
     "text": [
      "media: 29305.166039215685\n",
      "mediana: 23390.057\n"
     ]
    }
   ],
   "source": [
    "df_60_civil = df_non_nan.loc[(df_non_nan['age_group'] == '60-69') & (df_non_nan['income_type'] == 'civil servant')]\n",
    "mean_df_60_civil = df_60_civil['total_income'].mean()\n",
    "median_df_60_civil = df_60_civil['total_income'].median()\n",
    "print('media:', mean_df_60_civil)\n",
    "print('mediana:', median_df_60_civil)"
   ]
  },
  {
   "cell_type": "code",
   "execution_count": 54,
   "metadata": {},
   "outputs": [],
   "source": [
    "df.loc[8142, 'total_income'] = median_df_70_employee"
   ]
  },
  {
   "attachments": {},
   "cell_type": "markdown",
   "metadata": {},
   "source": [
    "Se comprueba que la columna `'total_income'`no contenga valores ausentes."
   ]
  },
  {
   "cell_type": "code",
   "execution_count": 55,
   "metadata": {},
   "outputs": [
    {
     "name": "stdout",
     "output_type": "stream",
     "text": [
      "children               0\n",
      "days_employed       2174\n",
      "dob_years              0\n",
      "education              0\n",
      "education_id           0\n",
      "family_status          0\n",
      "family_status_id       0\n",
      "gender                 0\n",
      "income_type            0\n",
      "debt                   0\n",
      "total_income           0\n",
      "purpose                0\n",
      "age_group              0\n",
      "dtype: int64\n"
     ]
    }
   ],
   "source": [
    "print(df.isna().sum())"
   ]
  },
  {
   "attachments": {},
   "cell_type": "markdown",
   "metadata": {},
   "source": [
    "[Volver a Contenidos](#back)"
   ]
  },
  {
   "attachments": {},
   "cell_type": "markdown",
   "metadata": {},
   "source": [
    "#### 2.3.2 Restaurar valores ausentes en `'days_employed'` <a id='data_preprocessing_missing_values_days'></a>\n",
    "\n",
    "See restaurarán los valores ausentes de la columna `'days_employed'`.\n",
    "\n",
    "La experiencia laboral de un cliente depende de tres facores: edad, sueldo y puesto. Se considerarán tablas dinámicas considerando estos tres factores y obteniendo las medias y medianas de los ingresos mensuales. Para ello se crearán grupos de ingreso mensual (como se hizo con la edad).\n",
    "\n",
    "Primero se creará la función."
   ]
  },
  {
   "cell_type": "code",
   "execution_count": 56,
   "metadata": {},
   "outputs": [],
   "source": [
    "def income_group(income):\n",
    "    if income < 10000:\n",
    "        return '< 10K'\n",
    "    elif 10000 <= income < 20000:\n",
    "        return '10K-20K'\n",
    "    elif 20000 <= income < 30000:\n",
    "        return '20K-30K'\n",
    "    elif 30000 <= income < 40000:\n",
    "        return '30K-40K'\n",
    "    elif 40000 <= income < 50000:\n",
    "        return '40K-50K'\n",
    "    else:\n",
    "        return '50K+'"
   ]
  },
  {
   "attachments": {},
   "cell_type": "markdown",
   "metadata": {},
   "source": [
    "Se aplica la función a la columna `'total_income'` de la tabla original y se obtiene su información para comprobar que los cambios se hayan hecho correctamente."
   ]
  },
  {
   "cell_type": "code",
   "execution_count": 57,
   "metadata": {},
   "outputs": [
    {
     "name": "stdout",
     "output_type": "stream",
     "text": [
      "<class 'pandas.core.frame.DataFrame'>\n",
      "RangeIndex: 21525 entries, 0 to 21524\n",
      "Data columns (total 14 columns):\n",
      " #   Column            Non-Null Count  Dtype  \n",
      "---  ------            --------------  -----  \n",
      " 0   children          21525 non-null  int64  \n",
      " 1   days_employed     19351 non-null  float64\n",
      " 2   dob_years         21525 non-null  int64  \n",
      " 3   education         21525 non-null  object \n",
      " 4   education_id      21525 non-null  int64  \n",
      " 5   family_status     21525 non-null  object \n",
      " 6   family_status_id  21525 non-null  int64  \n",
      " 7   gender            21525 non-null  object \n",
      " 8   income_type       21525 non-null  object \n",
      " 9   debt              21525 non-null  int64  \n",
      " 10  total_income      21525 non-null  float64\n",
      " 11  purpose           21525 non-null  object \n",
      " 12  age_group         21525 non-null  object \n",
      " 13  income_group      21525 non-null  object \n",
      "dtypes: float64(2), int64(5), object(7)\n",
      "memory usage: 2.3+ MB\n"
     ]
    }
   ],
   "source": [
    "df['income_group'] = df['total_income'].apply(income_group)\n",
    "df.info()"
   ]
  },
  {
   "attachments": {},
   "cell_type": "markdown",
   "metadata": {},
   "source": [
    "Se actualiza la tabla sin valores ausentes."
   ]
  },
  {
   "cell_type": "code",
   "execution_count": 58,
   "metadata": {},
   "outputs": [],
   "source": [
    "df_non_nan = df.dropna()"
   ]
  },
  {
   "attachments": {},
   "cell_type": "markdown",
   "metadata": {},
   "source": [
    "Se crea una tablas dinámicas con las medias y medianas de los días de experiencia laboral, considerando: edad, sueldo y puesto."
   ]
  },
  {
   "cell_type": "code",
   "execution_count": 59,
   "metadata": {},
   "outputs": [
    {
     "name": "stdout",
     "output_type": "stream",
     "text": [
      "income_type                 business  civil servant     employee  \\\n",
      "age_group income_group                                             \n",
      "20-29     10K-20K        1022.760561    1469.492662  1155.429146   \n",
      "          20K-30K        1113.848812    1553.659614  1135.098094   \n",
      "          30K-40K        1159.667909    1873.416503  1321.090301   \n",
      "          40K-50K        1448.482955    1770.500433  1432.747555   \n",
      "          50K+           1297.651942    1562.521355  1555.937608   \n",
      "          < 10K           775.775780    1694.143804  1184.776317   \n",
      "30-39     10K-20K        1790.047492    2695.299214  1883.721541   \n",
      "          20K-30K        1835.205687    2918.917251  2044.918358   \n",
      "          30K-40K        1892.646599    2609.679244  2101.929441   \n",
      "          40K-50K        1991.686445    3276.796453  2096.383838   \n",
      "          50K+           1798.916344    2692.706641  2173.003718   \n",
      "          < 10K          2028.127688    2084.596160  2029.547161   \n",
      "40-49     10K-20K        2439.558562    4260.595791  2731.161544   \n",
      "          20K-30K        2448.228933    3754.999881  2677.617459   \n",
      "          30K-40K        2421.878754    3874.499086  2494.025185   \n",
      "          40K-50K        2496.070670    3994.815673  2662.401435   \n",
      "          50K+           2598.371301    5114.163259  2775.719906   \n",
      "          < 10K          2342.210445    3447.392068  2476.592535   \n",
      "50-59     10K-20K        2765.227517    4745.988389  3260.371304   \n",
      "          20K-30K        2766.928580    4708.080412  3275.804564   \n",
      "          30K-40K        2843.897890    5240.144455  3196.742673   \n",
      "          40K-50K        2478.993001    5445.396805  3177.434177   \n",
      "          50K+           3161.830352    3903.921203  3112.809784   \n",
      "          < 10K          2492.940313    5113.359310  3564.189630   \n",
      "60-69     10K-20K        3420.412720    4042.079567  3851.447181   \n",
      "          20K-30K        3807.320104    5036.775747  4135.463571   \n",
      "          30K-40K        3090.056295    4066.465665  3774.013559   \n",
      "          40K-50K        3693.797681    5081.544457  4500.519337   \n",
      "          50K+           3418.566635    2390.556164  2863.000819   \n",
      "          < 10K          2232.061066    2967.292449  3121.663967   \n",
      "70+       10K-20K        2075.956910     730.874426  4093.896003   \n",
      "          20K-30K        4979.849934    1678.969771  2603.212283   \n",
      "          30K-40K        8342.429770            NaN  3260.207562   \n",
      "          40K-50K       10093.858479            NaN          NaN   \n",
      "          50K+                   NaN    6025.506521          NaN   \n",
      "          < 10K                  NaN            NaN          NaN   \n",
      "< 20      10K-20K         397.133142     509.969922   814.630962   \n",
      "          20K-30K         586.690243            NaN   793.358581   \n",
      "          < 10K           724.492610            NaN          NaN   \n",
      "\n",
      "income_type             entrepreneur  paternity / maternity leave  \\\n",
      "age_group income_group                                              \n",
      "20-29     10K-20K                NaN                          NaN   \n",
      "          20K-30K                NaN                          NaN   \n",
      "          30K-40K                NaN                          NaN   \n",
      "          40K-50K                NaN                          NaN   \n",
      "          50K+            520.848083                          NaN   \n",
      "          < 10K                  NaN                          NaN   \n",
      "30-39     10K-20K                NaN                          NaN   \n",
      "          20K-30K                NaN                          NaN   \n",
      "          30K-40K                NaN                          NaN   \n",
      "          40K-50K                NaN                          NaN   \n",
      "          50K+                   NaN                          NaN   \n",
      "          < 10K                  NaN                  3296.759962   \n",
      "40-49     10K-20K                NaN                          NaN   \n",
      "          20K-30K                NaN                          NaN   \n",
      "          30K-40K                NaN                          NaN   \n",
      "          40K-50K                NaN                          NaN   \n",
      "          50K+                   NaN                          NaN   \n",
      "          < 10K                  NaN                          NaN   \n",
      "50-59     10K-20K                NaN                          NaN   \n",
      "          20K-30K                NaN                          NaN   \n",
      "          30K-40K                NaN                          NaN   \n",
      "          40K-50K                NaN                          NaN   \n",
      "          50K+                   NaN                          NaN   \n",
      "          < 10K                  NaN                          NaN   \n",
      "60-69     10K-20K                NaN                          NaN   \n",
      "          20K-30K                NaN                          NaN   \n",
      "          30K-40K                NaN                          NaN   \n",
      "          40K-50K                NaN                          NaN   \n",
      "          50K+                   NaN                          NaN   \n",
      "          < 10K                  NaN                          NaN   \n",
      "70+       10K-20K                NaN                          NaN   \n",
      "          20K-30K                NaN                          NaN   \n",
      "          30K-40K                NaN                          NaN   \n",
      "          40K-50K                NaN                          NaN   \n",
      "          50K+                   NaN                          NaN   \n",
      "          < 10K                  NaN                          NaN   \n",
      "< 20      10K-20K                NaN                          NaN   \n",
      "          20K-30K                NaN                          NaN   \n",
      "          < 10K                  NaN                          NaN   \n",
      "\n",
      "income_type                   retiree     student     unemployed  \n",
      "age_group income_group                                            \n",
      "20-29     10K-20K       351429.686999  578.751554            NaN  \n",
      "          20K-30K                 NaN         NaN            NaN  \n",
      "          30K-40K       389397.167577         NaN            NaN  \n",
      "          40K-50K                 NaN         NaN            NaN  \n",
      "          50K+                    NaN         NaN            NaN  \n",
      "          < 10K         364916.431365         NaN            NaN  \n",
      "30-39     10K-20K       365323.302386         NaN            NaN  \n",
      "          20K-30K       346181.086997         NaN            NaN  \n",
      "          30K-40K       373116.487474         NaN            NaN  \n",
      "          40K-50K       393763.903338         NaN            NaN  \n",
      "          50K+          387060.864154         NaN            NaN  \n",
      "          < 10K         360283.297173         NaN  337524.466835  \n",
      "40-49     10K-20K       365533.207920         NaN            NaN  \n",
      "          20K-30K       367050.860280         NaN            NaN  \n",
      "          30K-40K       371834.470018         NaN  395302.838654  \n",
      "          40K-50K       363247.366935         NaN            NaN  \n",
      "          50K+          360678.087440         NaN            NaN  \n",
      "          < 10K         366014.693765         NaN            NaN  \n",
      "50-59     10K-20K       362915.972877         NaN            NaN  \n",
      "          20K-30K       365592.078219         NaN            NaN  \n",
      "          30K-40K       366705.510250         NaN            NaN  \n",
      "          40K-50K       361833.641497         NaN            NaN  \n",
      "          50K+          368337.719984         NaN            NaN  \n",
      "          < 10K         366360.110492         NaN            NaN  \n",
      "60-69     10K-20K       364439.311718         NaN            NaN  \n",
      "          20K-30K       364948.272515         NaN            NaN  \n",
      "          30K-40K       365405.874457         NaN            NaN  \n",
      "          40K-50K       364737.349490         NaN            NaN  \n",
      "          50K+          368539.308047         NaN            NaN  \n",
      "          < 10K         367235.189465         NaN            NaN  \n",
      "70+       10K-20K       361152.434507         NaN            NaN  \n",
      "          20K-30K       370544.398603         NaN            NaN  \n",
      "          30K-40K       370012.041710         NaN            NaN  \n",
      "          40K-50K       373176.330367         NaN            NaN  \n",
      "          50K+          382390.683885         NaN            NaN  \n",
      "          < 10K         367275.277233         NaN            NaN  \n",
      "< 20      10K-20K                 NaN         NaN            NaN  \n",
      "          20K-30K                 NaN         NaN            NaN  \n",
      "          < 10K                   NaN         NaN            NaN  \n"
     ]
    }
   ],
   "source": [
    "# Tabla dinámica de medias\n",
    "data_pivot_mean_2 = df_non_nan.pivot_table(index=['age_group', 'income_group'], columns='income_type', values='days_employed', aggfunc='mean')\n",
    "print(data_pivot_mean_2)"
   ]
  },
  {
   "cell_type": "code",
   "execution_count": 60,
   "metadata": {},
   "outputs": [
    {
     "name": "stdout",
     "output_type": "stream",
     "text": [
      "income_type                 business  civil servant     employee  \\\n",
      "age_group income_group                                             \n",
      "20-29     10K-20K         792.285881    1249.359709   963.687928   \n",
      "          20K-30K         873.643137    1344.015982   974.402391   \n",
      "          30K-40K         982.297458    1719.764110  1049.070884   \n",
      "          40K-50K        1169.895269    1124.128998  1167.710588   \n",
      "          50K+           1094.882749    1265.117765  1321.735258   \n",
      "          < 10K           556.305202    1561.605375  1013.920085   \n",
      "30-39     10K-20K        1376.274801    2522.413844  1462.129921   \n",
      "          20K-30K        1520.197545    2679.721255  1571.872786   \n",
      "          30K-40K        1629.705609    2666.912661  1546.037556   \n",
      "          40K-50K        1506.456938    2999.903512  1746.500182   \n",
      "          50K+           1551.358557    2377.533163  1763.577520   \n",
      "          < 10K          1939.045288     910.610698  1407.902748   \n",
      "40-49     10K-20K        1819.043373    3668.973353  1860.868570   \n",
      "          20K-30K        1820.198256    3122.721564  1866.777432   \n",
      "          30K-40K        1884.413467    3605.677391  1858.542184   \n",
      "          40K-50K        1960.331560    3614.865967  1989.586820   \n",
      "          50K+           2202.096910    5395.131313  2041.538711   \n",
      "          < 10K          1368.240258    2199.733119  1967.443734   \n",
      "50-59     10K-20K        1845.903625    3819.289067  2224.748904   \n",
      "          20K-30K        1951.668220    3404.817572  2130.021589   \n",
      "          30K-40K        1997.569820    4287.359349  2187.507052   \n",
      "          40K-50K        1598.743755    4610.725482  2180.745004   \n",
      "          50K+           2645.921042    2761.013854  2492.511177   \n",
      "          < 10K          2360.512425    4913.818963  2516.651344   \n",
      "60-69     10K-20K        1879.048541    2876.221697  2547.438755   \n",
      "          20K-30K        2576.120198    4137.331615  3118.594175   \n",
      "          30K-40K        2507.917003    4837.973362  3118.491121   \n",
      "          40K-50K        2646.268110    4028.109979  3608.000822   \n",
      "          50K+           2307.039136    1309.243916  2026.971952   \n",
      "          < 10K          2232.061066    2967.292449  2761.706792   \n",
      "70+       10K-20K        1899.257071     730.874426  4093.896003   \n",
      "          20K-30K        5100.749018    1678.969771  2603.212283   \n",
      "          30K-40K        8342.429770            NaN  1373.878029   \n",
      "          40K-50K       10093.858479            NaN          NaN   \n",
      "          50K+                   NaN    6025.506521          NaN   \n",
      "          < 10K                  NaN            NaN          NaN   \n",
      "< 20      10K-20K         322.024011     509.969922   841.126105   \n",
      "          20K-30K         695.968951            NaN   793.358581   \n",
      "          < 10K           724.492610            NaN          NaN   \n",
      "\n",
      "income_type             entrepreneur  paternity / maternity leave  \\\n",
      "age_group income_group                                              \n",
      "20-29     10K-20K                NaN                          NaN   \n",
      "          20K-30K                NaN                          NaN   \n",
      "          30K-40K                NaN                          NaN   \n",
      "          40K-50K                NaN                          NaN   \n",
      "          50K+            520.848083                          NaN   \n",
      "          < 10K                  NaN                          NaN   \n",
      "30-39     10K-20K                NaN                          NaN   \n",
      "          20K-30K                NaN                          NaN   \n",
      "          30K-40K                NaN                          NaN   \n",
      "          40K-50K                NaN                          NaN   \n",
      "          50K+                   NaN                          NaN   \n",
      "          < 10K                  NaN                  3296.759962   \n",
      "40-49     10K-20K                NaN                          NaN   \n",
      "          20K-30K                NaN                          NaN   \n",
      "          30K-40K                NaN                          NaN   \n",
      "          40K-50K                NaN                          NaN   \n",
      "          50K+                   NaN                          NaN   \n",
      "          < 10K                  NaN                          NaN   \n",
      "50-59     10K-20K                NaN                          NaN   \n",
      "          20K-30K                NaN                          NaN   \n",
      "          30K-40K                NaN                          NaN   \n",
      "          40K-50K                NaN                          NaN   \n",
      "          50K+                   NaN                          NaN   \n",
      "          < 10K                  NaN                          NaN   \n",
      "60-69     10K-20K                NaN                          NaN   \n",
      "          20K-30K                NaN                          NaN   \n",
      "          30K-40K                NaN                          NaN   \n",
      "          40K-50K                NaN                          NaN   \n",
      "          50K+                   NaN                          NaN   \n",
      "          < 10K                  NaN                          NaN   \n",
      "70+       10K-20K                NaN                          NaN   \n",
      "          20K-30K                NaN                          NaN   \n",
      "          30K-40K                NaN                          NaN   \n",
      "          40K-50K                NaN                          NaN   \n",
      "          50K+                   NaN                          NaN   \n",
      "          < 10K                  NaN                          NaN   \n",
      "< 20      10K-20K                NaN                          NaN   \n",
      "          20K-30K                NaN                          NaN   \n",
      "          < 10K                  NaN                          NaN   \n",
      "\n",
      "income_type                   retiree     student     unemployed  \n",
      "age_group income_group                                            \n",
      "20-29     10K-20K       349556.228592  578.751554            NaN  \n",
      "          20K-30K                 NaN         NaN            NaN  \n",
      "          30K-40K       389397.167577         NaN            NaN  \n",
      "          40K-50K                 NaN         NaN            NaN  \n",
      "          50K+                    NaN         NaN            NaN  \n",
      "          < 10K         364916.431365         NaN            NaN  \n",
      "30-39     10K-20K       365336.560325         NaN            NaN  \n",
      "          20K-30K       338939.641634         NaN            NaN  \n",
      "          30K-40K       369701.344852         NaN            NaN  \n",
      "          40K-50K       393763.903338         NaN            NaN  \n",
      "          50K+          387060.864154         NaN            NaN  \n",
      "          < 10K         360283.297173         NaN  337524.466835  \n",
      "40-49     10K-20K       366620.400282         NaN            NaN  \n",
      "          20K-30K       368810.969519         NaN            NaN  \n",
      "          30K-40K       369428.180859         NaN  395302.838654  \n",
      "          40K-50K       363992.848710         NaN            NaN  \n",
      "          50K+          364396.614911         NaN            NaN  \n",
      "          < 10K         364677.631857         NaN            NaN  \n",
      "50-59     10K-20K       362538.738376         NaN            NaN  \n",
      "          20K-30K       366596.190432         NaN            NaN  \n",
      "          30K-40K       367318.980931         NaN            NaN  \n",
      "          40K-50K       360053.208256         NaN            NaN  \n",
      "          50K+          369559.238683         NaN            NaN  \n",
      "          < 10K         368108.728834         NaN            NaN  \n",
      "60-69     10K-20K       364525.096699         NaN            NaN  \n",
      "          20K-30K       365969.779638         NaN            NaN  \n",
      "          30K-40K       366654.298592         NaN            NaN  \n",
      "          40K-50K       361489.239106         NaN            NaN  \n",
      "          50K+          365664.390203         NaN            NaN  \n",
      "          < 10K         367668.223702         NaN            NaN  \n",
      "70+       10K-20K       360659.250487         NaN            NaN  \n",
      "          20K-30K       375291.250291         NaN            NaN  \n",
      "          30K-40K       365288.561150         NaN            NaN  \n",
      "          40K-50K       378898.442367         NaN            NaN  \n",
      "          50K+          382390.683885         NaN            NaN  \n",
      "          < 10K         371297.284593         NaN            NaN  \n",
      "< 20      10K-20K                 NaN         NaN            NaN  \n",
      "          20K-30K                 NaN         NaN            NaN  \n",
      "          < 10K                   NaN         NaN            NaN  \n"
     ]
    }
   ],
   "source": [
    "# Tabla dinámica de medianas\n",
    "data_pivot_median_2 = df_non_nan.pivot_table(index=['age_group', 'income_group'], columns='income_type', values='days_employed', aggfunc='median')\n",
    "print(data_pivot_median_2)"
   ]
  },
  {
   "attachments": {},
   "cell_type": "markdown",
   "metadata": {},
   "source": [
    "También en este caso se utilizará las medianas debido a la diferencia que tiene con las medias (existen valores atípicos)."
   ]
  },
  {
   "cell_type": "code",
   "execution_count": 61,
   "metadata": {},
   "outputs": [],
   "source": [
    "# Función para reemplazar valores\n",
    "def nan_median_days(row):\n",
    "    days = row['days_employed']\n",
    "    age = row['age_group']\n",
    "    income = row['income_type']\n",
    "    in_group = row['income_group']\n",
    "    if pd.isna(days):\n",
    "        days = data_pivot_median_2.loc[(age, in_group), income]\n",
    "        return days\n",
    "    else:\n",
    "        return days"
   ]
  },
  {
   "attachments": {},
   "cell_type": "markdown",
   "metadata": {},
   "source": [
    "Se comprueba que la función es correcta."
   ]
  },
  {
   "cell_type": "code",
   "execution_count": 62,
   "metadata": {},
   "outputs": [
    {
     "name": "stdout",
     "output_type": "stream",
     "text": [
      "   days_employed income_type age_group income_group\n",
      "0            NaN    business     20-29      10K-20K\n",
      "1          120.0    employee     30-39         <10K\n",
      "\n",
      "   days_employed income_type age_group income_group\n",
      "0     792.285881    business     20-29      10K-20K\n",
      "1     120.000000    employee     30-39         <10K\n"
     ]
    }
   ],
   "source": [
    "# Comprobación de que la función es correcta\n",
    "proof_days = [float('nan'), 120]\n",
    "proof_in = ['business', 'employee']\n",
    "proof_age = ['20-29', '30-39']\n",
    "proof_group = ['10K-20K', '<10K']\n",
    "proof = pd.DataFrame()\n",
    "proof['days_employed'] = proof_days\n",
    "proof['income_type'] = proof_in\n",
    "proof['age_group'] = proof_age\n",
    "proof['income_group'] = proof_group\n",
    "\n",
    "print(proof)\n",
    "print()\n",
    "proof['days_employed'] = proof.apply(nan_median_days, axis=1)\n",
    "print(proof)"
   ]
  },
  {
   "attachments": {},
   "cell_type": "markdown",
   "metadata": {},
   "source": [
    "Se aplica la función a la tabla y se verifican los valores ausentes por columnas."
   ]
  },
  {
   "cell_type": "code",
   "execution_count": 63,
   "metadata": {},
   "outputs": [
    {
     "name": "stdout",
     "output_type": "stream",
     "text": [
      "children            0\n",
      "days_employed       1\n",
      "dob_years           0\n",
      "education           0\n",
      "education_id        0\n",
      "family_status       0\n",
      "family_status_id    0\n",
      "gender              0\n",
      "income_type         0\n",
      "debt                0\n",
      "total_income        0\n",
      "purpose             0\n",
      "age_group           0\n",
      "income_group        0\n",
      "dtype: int64\n"
     ]
    }
   ],
   "source": [
    "df['days_employed'] = df.apply(nan_median_days, axis=1)\n",
    "print(df.isna().sum())"
   ]
  },
  {
   "attachments": {},
   "cell_type": "markdown",
   "metadata": {},
   "source": [
    "Aún existe una fila con valor ausente. Se imprime dicha fila para observación."
   ]
  },
  {
   "cell_type": "code",
   "execution_count": 64,
   "metadata": {},
   "outputs": [
    {
     "name": "stdout",
     "output_type": "stream",
     "text": [
      "      children  days_employed  dob_years          education  education_id  \\\n",
      "5936         0            NaN         58  bachelor's degree             0   \n",
      "\n",
      "     family_status  family_status_id gender   income_type  debt  total_income  \\\n",
      "5936       married                 0      M  entrepreneur     0     79866.103   \n",
      "\n",
      "             purpose age_group income_group  \n",
      "5936  for real state     50-59         50K+  \n"
     ]
    }
   ],
   "source": [
    "print(df[df['days_employed'].isna()])"
   ]
  },
  {
   "attachments": {},
   "cell_type": "markdown",
   "metadata": {},
   "source": [
    "Nuevamente es la fila con el cliente cuyo valor en `'income_type'` es entrepreneur. Se reemplazará con los datos del otro cliente y se verifican los valores ausentes por columna."
   ]
  },
  {
   "cell_type": "code",
   "execution_count": 65,
   "metadata": {},
   "outputs": [
    {
     "name": "stdout",
     "output_type": "stream",
     "text": [
      "children            0\n",
      "days_employed       0\n",
      "dob_years           0\n",
      "education           0\n",
      "education_id        0\n",
      "family_status       0\n",
      "family_status_id    0\n",
      "gender              0\n",
      "income_type         0\n",
      "debt                0\n",
      "total_income        0\n",
      "purpose             0\n",
      "age_group           0\n",
      "income_group        0\n",
      "dtype: int64\n"
     ]
    }
   ],
   "source": [
    "mean_days_entrepreneur = df_entrepreneur['days_employed'].mean()\n",
    "df.loc[5936, 'days_employed'] = mean_days_entrepreneur\n",
    "print(df.isna().sum())"
   ]
  },
  {
   "attachments": {},
   "cell_type": "markdown",
   "metadata": {},
   "source": [
    "Ya no existen valores ausentes.\n",
    "\n",
    "[Volver a Contenidos](#back)"
   ]
  },
  {
   "attachments": {},
   "cell_type": "markdown",
   "metadata": {},
   "source": [
    "### 2. 4. Conclusiones <a id='data_preprocessing_conclusions'></a>\n",
    "\n",
    "Se encontraron duplicados implicítos en la mayoría de columnas de tipo object y se corrigieron aquellos que diferían por letras mayúsculas. También se agruparon aquellos que contenían sinónimos o frases que trataban el mismo propósito.\n",
    "\n",
    "Se trataron los datos problemáticos de las columnas con valores de tipo int o float. Además se decidió mantener las filas duplicadas al carecer de un identificador de cliente y por tanto desconocer si realmente se trata del mismo cliente o no.\n",
    "\n",
    "Finalmente se restauraron los valores ausentes con las medianas con factores correspondientes.\n",
    "\n",
    "[Volver a Contenidos](#back)"
   ]
  },
  {
   "attachments": {},
   "cell_type": "markdown",
   "metadata": {},
   "source": [
    "## Etapa 3. Comprobación de hipótesis <a id='hypotheses'></a>\n",
    "\n",
    "En esta etapa se comprobará la veracidad de las hipótesis planteadas en la introducción, las cuales son:\n",
    "1. El incumplimiento de pago de un préstamo de los clientes difiere según el estado civil, cantidad de hijos, ingreso mensual o propósito del pago. \n",
    "2. Los clientes con una cantidad menor de hijos forman el mayor porcentaje de pago a tiempo.\n",
    "3. Los clientes casados forman el mayor porcentaje de pago a tiempo.\n",
    "4. Los clientes con mayores ingresos forman el mayor porcentaje de pago a tiempo.\n",
    "5. Los propósitos del préstamo no interfieren con el pago a tiempo.\n",
    "\n",
    "Ya se han clasificado los datos por rangos de edad y rangos de ingreso mensual. La última clasificación útil será por cantidad de hijos del cliente. Se procede con dicha clasificación."
   ]
  },
  {
   "cell_type": "code",
   "execution_count": 66,
   "metadata": {},
   "outputs": [],
   "source": [
    "# Función para clasificar cantidad de hijos\n",
    "def children_group(number):\n",
    "    if number == 0:\n",
    "        return 'sin hijos'\n",
    "    elif 1 <= number < 3:\n",
    "        return '1 o 2 hijos'\n",
    "    elif 3<= number < 5:\n",
    "        return '3 o 4 hijos'\n",
    "    else:\n",
    "        return '5 o más hijos'"
   ]
  },
  {
   "attachments": {},
   "cell_type": "markdown",
   "metadata": {},
   "source": [
    "Se agrega la columna `'children_group'` a la tabla utilizando la función recién creada. Se obtiene la información de la tabla para comprobar que los cambios se hayan realizado correctamente."
   ]
  },
  {
   "cell_type": "code",
   "execution_count": 67,
   "metadata": {},
   "outputs": [
    {
     "name": "stdout",
     "output_type": "stream",
     "text": [
      "<class 'pandas.core.frame.DataFrame'>\n",
      "RangeIndex: 21525 entries, 0 to 21524\n",
      "Data columns (total 15 columns):\n",
      " #   Column            Non-Null Count  Dtype  \n",
      "---  ------            --------------  -----  \n",
      " 0   children          21525 non-null  int64  \n",
      " 1   days_employed     21525 non-null  float64\n",
      " 2   dob_years         21525 non-null  int64  \n",
      " 3   education         21525 non-null  object \n",
      " 4   education_id      21525 non-null  int64  \n",
      " 5   family_status     21525 non-null  object \n",
      " 6   family_status_id  21525 non-null  int64  \n",
      " 7   gender            21525 non-null  object \n",
      " 8   income_type       21525 non-null  object \n",
      " 9   debt              21525 non-null  int64  \n",
      " 10  total_income      21525 non-null  float64\n",
      " 11  purpose           21525 non-null  object \n",
      " 12  age_group         21525 non-null  object \n",
      " 13  income_group      21525 non-null  object \n",
      " 14  children_group    21525 non-null  object \n",
      "dtypes: float64(2), int64(5), object(8)\n",
      "memory usage: 2.5+ MB\n"
     ]
    }
   ],
   "source": [
    "df['children_group'] = df['children'].apply(children_group)\n",
    "df.info()"
   ]
  },
  {
   "attachments": {},
   "cell_type": "markdown",
   "metadata": {},
   "source": [
    "También se agregará la columna `'late_payment'` que describirá si el cliente ha tenido alguna deuda o no."
   ]
  },
  {
   "cell_type": "code",
   "execution_count": 68,
   "metadata": {},
   "outputs": [
    {
     "name": "stdout",
     "output_type": "stream",
     "text": [
      "<class 'pandas.core.frame.DataFrame'>\n",
      "RangeIndex: 21525 entries, 0 to 21524\n",
      "Data columns (total 16 columns):\n",
      " #   Column            Non-Null Count  Dtype  \n",
      "---  ------            --------------  -----  \n",
      " 0   children          21525 non-null  int64  \n",
      " 1   days_employed     21525 non-null  float64\n",
      " 2   dob_years         21525 non-null  int64  \n",
      " 3   education         21525 non-null  object \n",
      " 4   education_id      21525 non-null  int64  \n",
      " 5   family_status     21525 non-null  object \n",
      " 6   family_status_id  21525 non-null  int64  \n",
      " 7   gender            21525 non-null  object \n",
      " 8   income_type       21525 non-null  object \n",
      " 9   debt              21525 non-null  int64  \n",
      " 10  total_income      21525 non-null  float64\n",
      " 11  purpose           21525 non-null  object \n",
      " 12  age_group         21525 non-null  object \n",
      " 13  income_group      21525 non-null  object \n",
      " 14  children_group    21525 non-null  object \n",
      " 15  late_payment      21525 non-null  object \n",
      "dtypes: float64(2), int64(5), object(9)\n",
      "memory usage: 2.6+ MB\n"
     ]
    }
   ],
   "source": [
    "def deuda(number):\n",
    "    if number == 0:\n",
    "        return 'No'\n",
    "    else:\n",
    "        return 'Si'\n",
    "df['late_payment'] = df['debt'].apply(deuda)\n",
    "df.info()"
   ]
  },
  {
   "attachments": {},
   "cell_type": "markdown",
   "metadata": {},
   "source": [
    "[Volver a Contenidos](#back)"
   ]
  },
  {
   "attachments": {},
   "cell_type": "markdown",
   "metadata": {},
   "source": [
    "### 3.1. Hipótesis: cantidad de hijos <a id='hypotheses_children'></a>\n",
    "\n",
    "Para comenzar, se obtendrán las cantidades de clientes que han tenido alguna deuda y los que no."
   ]
  },
  {
   "cell_type": "code",
   "execution_count": 69,
   "metadata": {},
   "outputs": [
    {
     "name": "stdout",
     "output_type": "stream",
     "text": [
      "No    19784\n",
      "Si     1741\n",
      "Name: late_payment, dtype: int64\n",
      "\n",
      "Hay 1741 clientes que han tenido alguna deuda, esto es el 8%\n"
     ]
    }
   ],
   "source": [
    "df_debt = df['late_payment'].value_counts()\n",
    "print(df_debt)\n",
    "print()\n",
    "debt = df_debt[1]\n",
    "conversion_debt = debt / len(df)\n",
    "print(f'Hay {debt} clientes que han tenido alguna deuda, esto es el {conversion_debt:.0%}')"
   ]
  },
  {
   "attachments": {},
   "cell_type": "markdown",
   "metadata": {},
   "source": [
    "Tenemos que el 8% de los clientes han tenido alguna deuda en el pago de un prestámo, a esto se le llamará tendencia general.\n",
    "\n",
    "A continuación se trabajará con una tabla dinámica para conocer como influye la cantidad de hijos con el pago del préstamo."
   ]
  },
  {
   "cell_type": "code",
   "execution_count": 70,
   "metadata": {},
   "outputs": [
    {
     "name": "stdout",
     "output_type": "stream",
     "text": [
      "late_payment       No    Si  late_payment  percent_on_time\n",
      "children_group                                            \n",
      "1 o 2 hijos      6235   638      9.282700        31.515366\n",
      "3 o 4 hijos       340    31      8.355795         1.718560\n",
      "5 o más hijos      77     8      9.411765         0.389203\n",
      "sin hijos       13132  1064      7.495069        66.376870\n"
     ]
    }
   ],
   "source": [
    "df_hip_children = df.pivot_table(index='children_group', columns='late_payment', values='debt', aggfunc='count')\n",
    "\n",
    "df_hip_children['late_payment'] = (df_hip_children['Si'] / (df_hip_children['No'] + df_hip_children['Si'])) * 100\n",
    "df_hip_children['percent_on_time'] = (df_hip_children['No'] / df_hip_children['No'].sum()) * 100\n",
    "print(df_hip_children)"
   ]
  },
  {
   "attachments": {},
   "cell_type": "markdown",
   "metadata": {},
   "source": [
    "En la tabla se han agregado dos columnas. En `'late_payment'` se muestran los porcentajes de los clientes con alguna deuda por categoría (cantidad de hijos). En `'percent_on_time'` se muestran los porcentajes de clientes sin deuda de la categoría correspondiente con respecto a la cantidad total de clientes sin deuda.\n",
    "\n",
    "Como se puede apreciar en `'late_payment'`los porcentajes no difieren en más de 2% de la tendencia general. Por esta razón concluimos que la cantidad de hijos no es un factor que influya en el incumplimiento del pago de un prestámo.\n",
    "\n",
    "Por otro lado, como se aprecia en `'percent_on_time'`, el mayor porcentaje (66%) de clientes sin deuda está conformado por clientes sin hijos, seguidos por aquellos que tienen 1 o 2 hijos (31%).\n",
    "\n",
    "[Volver a Contenidos](#back)"
   ]
  },
  {
   "attachments": {},
   "cell_type": "markdown",
   "metadata": {},
   "source": [
    "### 3.2. Hipótesis: estado civil <a id='hypotheses_family_status'></a>\n",
    "\n",
    "Se obtendrá una tabla dinámica, similar a la anterior para conocer como influye el estado civil con el pago de un prestámo."
   ]
  },
  {
   "cell_type": "code",
   "execution_count": 71,
   "metadata": {},
   "outputs": [
    {
     "name": "stdout",
     "output_type": "stream",
     "text": [
      "late_payment          No   Si  late_payment  percent_on_time\n",
      "family_status                                               \n",
      "civil partnership   3789  388      9.288963        19.151840\n",
      "divorced            1110   85      7.112971         5.610594\n",
      "married            11449  931      7.520194        57.869996\n",
      "unmarried           2539  274      9.740491        12.833603\n",
      "widow / widower      897   63      6.562500         4.533967\n"
     ]
    }
   ],
   "source": [
    "df_hip_family = df.pivot_table(index='family_status', columns='late_payment', values='debt', aggfunc='count')\n",
    "\n",
    "df_hip_family['late_payment'] = (df_hip_family['Si'] / (df_hip_family['No'] + df_hip_family['Si'])) * 100\n",
    "df_hip_family['percent_on_time'] = (df_hip_family['No'] / df_hip_family['No'].sum()) * 100\n",
    "print(df_hip_family)"
   ]
  },
  {
   "attachments": {},
   "cell_type": "markdown",
   "metadata": {},
   "source": [
    "Como se puede apreciar en `'late_payment'` los porcentajes no difieren en más de 2% de la tendencia general. Por esta razón concluimos que el estado civil no es un factor que influya en el incumplimiento del pago de un prestámo.\n",
    "\n",
    "Por otro lado, como se aprecia en `'percent_on_time'`, el mayor porcentaje (57%) de clientes sin deuda está conformado por clientes casados, seguidos por aquellos que tienen una unión civil (19%).\n",
    "\n",
    "[Volver a Contenidos](#back)"
   ]
  },
  {
   "attachments": {},
   "cell_type": "markdown",
   "metadata": {},
   "source": [
    "### 3.3. Hipótesis: ingreso mensual <a id='hypotheses_total_income'></a>\n",
    "\n",
    "Se obtendrá una tabla dinámica, similar a la anterior para conocer como influye el ingreso mensual con el pago de un prestámo."
   ]
  },
  {
   "cell_type": "code",
   "execution_count": 72,
   "metadata": {},
   "outputs": [
    {
     "name": "stdout",
     "output_type": "stream",
     "text": [
      "late_payment    No   Si  late_payment  percent_on_time\n",
      "income_group                                          \n",
      "10K-20K       6211  581      8.554181        31.394056\n",
      "20K-30K       7062  659      8.535164        35.695512\n",
      "30K-40K       3024  249      7.607699        15.285079\n",
      "40K-50K       1390  102      6.836461         7.025879\n",
      "50K+          1229   92      6.964421         6.212091\n",
      "< 10K          868   58      6.263499         4.387384\n"
     ]
    }
   ],
   "source": [
    "df_hip_income = df.pivot_table(index='income_group', columns='late_payment', values='debt', aggfunc='count')\n",
    "\n",
    "df_hip_income['late_payment'] = (df_hip_income['Si'] / (df_hip_income['No'] + df_hip_income['Si'])) * 100\n",
    "df_hip_income['percent_on_time'] = (df_hip_income['No'] / df_hip_income['No'].sum()) * 100\n",
    "print(df_hip_income)"
   ]
  },
  {
   "attachments": {},
   "cell_type": "markdown",
   "metadata": {},
   "source": [
    "Como se puede apreciar en `'late_payment'` los porcentajes no difieren en más de 2% de la tendencia general. Por esta razón concluimos que el ingreso mensual no es un factor que influya en el incumplimiento del pago de un prestámo.\n",
    "\n",
    "Por otro lado, como se aprecia en `'percent_on_time'`, el mayor porcentaje (35%) de clientes sin deuda está conformado por clientes con un ingreso mensual entre 20 y 30 mil, seguidos por aquellos con un ingreso mensual entre 10 y 20 mil (19%).\n",
    "\n",
    "[Volver a Contenidos](#back)"
   ]
  },
  {
   "attachments": {},
   "cell_type": "markdown",
   "metadata": {},
   "source": [
    "### 3.4. Hipótesis: propósito del prestámo <a id='hypotheses_purpose'></a>\n",
    "\n",
    "Se obtendrá una tabla dinámica, similar a la anterior para conocer como influye el propósito del prestámo con el pago del mismo."
   ]
  },
  {
   "cell_type": "code",
   "execution_count": 73,
   "metadata": {},
   "outputs": [
    {
     "name": "stdout",
     "output_type": "stream",
     "text": [
      "late_payment       No   Si  late_payment  percent_on_time\n",
      "purpose                                                  \n",
      "for a wedding    2162  186      7.921635        10.928023\n",
      "for education    3652  370      9.199403        18.459361\n",
      "for real state  10058  782      7.214022        50.839062\n",
      "to buy a car     3912  403      9.339513        19.773554\n"
     ]
    }
   ],
   "source": [
    "df_hip_purpose = df.pivot_table(index='purpose', columns='late_payment', values='debt', aggfunc='count')\n",
    "\n",
    "df_hip_purpose['late_payment'] = (df_hip_purpose['Si'] / (df_hip_purpose['No'] + df_hip_purpose['Si'])) * 100\n",
    "df_hip_purpose['percent_on_time'] = (df_hip_purpose['No'] / df_hip_purpose['No'].sum()) * 100\n",
    "print(df_hip_purpose)"
   ]
  },
  {
   "attachments": {},
   "cell_type": "markdown",
   "metadata": {},
   "source": [
    "Como se puede apreciar en `'late_payment'` los porcentajes no difieren en más de 2% de la tendencia general. Por esta razón concluimos que el propósito del prestámo no es un factor que influya en el incumplimiento del pago del mismo.\n",
    "\n",
    "Por otro lado, como se aprecia en `'percent_on_time'`, el mayor porcentaje (50%) de clientes sin deuda está conformado por clientes con el propósito de comprar, rentar o renovar una propiedad, seguidos por aquellos con el propósito de comprar un auto (19%).\n",
    "\n",
    "[Volver a Contenidos](#back)"
   ]
  },
  {
   "attachments": {},
   "cell_type": "markdown",
   "metadata": {},
   "source": [
    "### 3.5. Conclusiones <a id='hypotheses_conclusions'></a>\n",
    "\n",
    "La primera hipótesis:\n",
    "\n",
    "**1. El incumplimiento de pago de un préstamo de los clientes difiere según el estado civil, cantidad de hijos, ingreso mensual o propósito del pago.**\n",
    "\n",
    "Es cierta aunque como se ha demostrado, estos factores no difieren por mucho de la tendencia general.\n",
    "\n",
    "La segunda hipótesis:\n",
    "\n",
    "**2. Los clientes con una cantidad menor de hijos forman el mayor porcentaje de pago a tiempo.**\n",
    "\n",
    "Es cierta como se ha demostrado.\n",
    "\n",
    "La tercera hipótesis:\n",
    "\n",
    "**3. Los clientes casados forman el mayor porcentaje de pago a tiempo.**\n",
    "\n",
    "También es cierta.\n",
    "\n",
    "La cuarta hipótesis:\n",
    "\n",
    "**4. Los clientes con mayores ingresos forman el mayor porcentaje de pago a tiempo.**\n",
    "\n",
    "Es falsa, el mayor porcentaje de clientes sin deuda está formado por clientes con un ingreso mensual de entre 10 y 30 mil.\n",
    "\n",
    "Finalmente, la última hipótesis:\n",
    "\n",
    "**5. Los propósitos del préstamo no interfieren con el pago a tiempo.**\n",
    "\n",
    "También es falsa, el mayor porcentaje de los clientes sin deuda pertenece a aquellos con el propósito de comprar, rentar o renovar una propiedad. Sin embargo, los demás propósitos tienen un porcentaje similar. Se podría concluir que sin contar los propósitos referentes a una casa, el propósito no influye con el pago del prestámo.\n",
    "\n",
    "[Volver a Contenidos](#back)"
   ]
  },
  {
   "attachments": {},
   "cell_type": "markdown",
   "metadata": {},
   "source": [
    "## Conclusión general <a id='conclusions'></a>\n",
    "\n",
    "Se probaron tres de las cinco hipótesis planteadas en un principio. Sin embargo, se debe considerar que la fuente original contenía datos ausentes que fueron restaurados con las medianas correspondientes. Además, los datos no contienen un identificador de cliente, por lo que también se tienen filas duplicadas e imposibles de determinar se pertenecen a un mismo cliente o no. Considerando esto las conclusiones sobre las hipótesis podrían diferir.\n",
    "\n",
    "Basados en este proyecto, se puede concluir que los clientes con mejor puntuación de crédito son aquellos clientes casados (o en unión civil), con a lo más 2 hijos, con un ingreso mensual de entre 10 y 30 mil y con el propósito de comoprar, rentar o renovar una propiedad."
   ]
  }
 ],
 "metadata": {
  "kernelspec": {
   "display_name": "base",
   "language": "python",
   "name": "python3"
  },
  "language_info": {
   "codemirror_mode": {
    "name": "ipython",
    "version": 3
   },
   "file_extension": ".py",
   "mimetype": "text/x-python",
   "name": "python",
   "nbconvert_exporter": "python",
   "pygments_lexer": "ipython3",
   "version": "3.8.8"
  },
  "vscode": {
   "interpreter": {
    "hash": "40d3a090f54c6569ab1632332b64b2c03c39dcf918b08424e98f38b5ae0af88f"
   }
  }
 },
 "nbformat": 4,
 "nbformat_minor": 2
}
