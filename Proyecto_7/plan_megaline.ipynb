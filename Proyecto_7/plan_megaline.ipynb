{
 "cells": [
  {
   "attachments": {},
   "cell_type": "markdown",
   "metadata": {},
   "source": [
    "# Recomendación de plan"
   ]
  },
  {
   "attachments": {},
   "cell_type": "markdown",
   "metadata": {},
   "source": [
    "## Índice <a id='back'></a>\n",
    "* [Introducción](#intro)\n",
    "* [Etapa 1. Descripción de los datos](#data_review)\n",
    "* [Etapa 2. Segmentación de los datos](#data_segmentation)\n",
    "* [Etapa 3. Elección del mejor modelo](#data_model)\n",
    "    * [3.1. Árbol de decisión](#data_model_tree)\n",
    "    * [3.2. Bosque aleatorio](#data_model_forest)\n",
    "    * [3.3. Regresicón logística](#data_model_regression)\n",
    "    * [3.4. Calidad del modelo](#data_model_test)\n",
    "* [Etapa 4. Prueba de cordura](#data_sanity)\n",
    "* [Etapa 5. Conclusiones](#data_conclusion)"
   ]
  },
  {
   "attachments": {},
   "cell_type": "markdown",
   "metadata": {},
   "source": [
    "## Introducción <a id='intro'></a>\n",
    "\n",
    "La compañía móvil Megaline tiene el objetivo de desarrollar un modelo que pueda analizar el comportamiento de los clientes y recomendar alguno de los dos planes con los que cuenta: Smart o Ultra.\n",
    "\n",
    "**Objetivo**\n",
    "\n",
    "El objetivo de este proyecto es crear un modelo con la mayor exactitud posible que elija el plan correcto, para esto se cuenta con los datos de del comportamiento de los suscriptores que ya se han cambiado a los planes nuevos.\n",
    "\n",
    "**Etapas**\n",
    "Los datos se almacenan en el archivo `/datasets/users_behavior.csv`. Ya se han procesado los datos con anterioridad por lo que se procederá a crear el modelo.\n",
    " \n",
    "El proyecto consistirá en cinco etapas:\n",
    " 1. Descripción de los datos.\n",
    " 2. Segementación de los datos.\n",
    " 3. Elección del mejor modelo.\n",
    " 4. Prueba de cordura del modelo.\n",
    " 5. Conclusión general.\n",
    "\n",
    "[Volver a Contenidos](#back)"
   ]
  },
  {
   "attachments": {},
   "cell_type": "markdown",
   "metadata": {},
   "source": [
    "## Etapa 1. Descripción de los datos <a id='data_review'></a>\n",
    "\n",
    "Se importan las librerías necesarias."
   ]
  },
  {
   "cell_type": "code",
   "execution_count": 1,
   "metadata": {},
   "outputs": [],
   "source": [
    "import pandas as pd\n",
    "from sklearn.tree import DecisionTreeClassifier\n",
    "from sklearn.metrics import accuracy_score\n",
    "from sklearn.model_selection import train_test_split\n",
    "from sklearn.ensemble import RandomForestClassifier\n",
    "from sklearn.linear_model import LogisticRegression"
   ]
  },
  {
   "attachments": {},
   "cell_type": "markdown",
   "metadata": {},
   "source": [
    "Se lee el archivo y se guardará en la variable `df`."
   ]
  },
  {
   "cell_type": "code",
   "execution_count": 2,
   "metadata": {},
   "outputs": [],
   "source": [
    "try:\n",
    "    df = pd.read_csv('users_behavior.csv')\n",
    "except:\n",
    "    df = pd.read_csv('/datasets/users_behavior.csv')"
   ]
  },
  {
   "attachments": {},
   "cell_type": "markdown",
   "metadata": {},
   "source": [
    "Se imprimirá la información general de `df` y sus primeras 10 filas."
   ]
  },
  {
   "cell_type": "code",
   "execution_count": 3,
   "metadata": {},
   "outputs": [
    {
     "name": "stdout",
     "output_type": "stream",
     "text": [
      "<class 'pandas.core.frame.DataFrame'>\n",
      "RangeIndex: 3214 entries, 0 to 3213\n",
      "Data columns (total 5 columns):\n",
      " #   Column    Non-Null Count  Dtype  \n",
      "---  ------    --------------  -----  \n",
      " 0   calls     3214 non-null   float64\n",
      " 1   minutes   3214 non-null   float64\n",
      " 2   messages  3214 non-null   float64\n",
      " 3   mb_used   3214 non-null   float64\n",
      " 4   is_ultra  3214 non-null   int64  \n",
      "dtypes: float64(4), int64(1)\n",
      "memory usage: 125.7 KB\n",
      "   calls  minutes  messages   mb_used  is_ultra\n",
      "0   40.0   311.90      83.0  19915.42         0\n",
      "1   85.0   516.75      56.0  22696.96         0\n",
      "2   77.0   467.66      86.0  21060.45         0\n",
      "3  106.0   745.53      81.0   8437.39         1\n",
      "4   66.0   418.74       1.0  14502.75         0\n",
      "5   58.0   344.56      21.0  15823.37         0\n",
      "6   57.0   431.64      20.0   3738.90         1\n",
      "7   15.0   132.40       6.0  21911.60         0\n",
      "8    7.0    43.39       3.0   2538.67         1\n",
      "9   90.0   665.41      38.0  17358.61         0\n"
     ]
    }
   ],
   "source": [
    "df.info()\n",
    "print(df.head(10))"
   ]
  },
  {
   "attachments": {},
   "cell_type": "markdown",
   "metadata": {},
   "source": [
    "El dataset cuenta con 3,214 filas, cada una de las cuales contiene información del comportamiento mensual sobre un usuario. Las 5 columnas son:\n",
    "\n",
    "1. `'calls'` - cantidad de llamadas realizadas.\n",
    "2. `'minutes'` - total de minutos utilizados.\n",
    "3. `'messages'` - cantidad de mensajes enviados.\n",
    "4. `'mb_used'` - trafico de internet utilizado en MB.\n",
    "5. `'is_ultra'` - plan para el mes actual (Ultra - 1, Smart - 0).\n",
    "\n",
    "Como se había mencionado, los datos ya han sido preprocesados, por ello ninguna de las columnas contiene valores asuentes, además, los tipos de datos son correctos.\n",
    "\n",
    "[Volver a Contenidos](#back)"
   ]
  },
  {
   "attachments": {},
   "cell_type": "markdown",
   "metadata": {},
   "source": [
    "## Etapa 2. Segmentación de los datos <a id='data_segmentation'></a>\n",
    "\n",
    "En esta etapa se segmentará el dataset `df` en tres conjuntos, siguiendo una proporción 3:1:1. Es decir, se tendrán lo siguiente:\n",
    "\n",
    "1. un conjunto de entrenamiento que representa el 60% de los datos,\n",
    "2. un conjunto validación que representa el 20% y\n",
    "3. un conjunto de prueba que representa el 20% restante."
   ]
  },
  {
   "cell_type": "code",
   "execution_count": 4,
   "metadata": {},
   "outputs": [],
   "source": [
    "# Primero se segmenta df para obtener el conjunto de entrenamiento (60%)\n",
    "df_train, df2 = train_test_split(df, test_size=0.40, random_state=12345)\n",
    "# Ahora se segmenta el resto (df2) a la mitad para obtener los conjuntos de validación y de prueba, cada uno con el 20% de df\n",
    "df_valid, df_test = train_test_split(df2, test_size=0.50, random_state=12345)"
   ]
  },
  {
   "attachments": {},
   "cell_type": "markdown",
   "metadata": {},
   "source": [
    "El conjunto de entrenamiento es `df_train`, el de validación es `df_valid` y el de prueba es `df_test`.\n",
    "\n",
    "[Volver a Contenidos](#back)"
   ]
  },
  {
   "attachments": {},
   "cell_type": "markdown",
   "metadata": {},
   "source": [
    "## Etapa 3. Elección del mejor modelo <a id='data_model'></a>\n",
    "\n",
    "En esta etapa se elegirá el mejor modelo, para ello se ajustarán hiperparámetros y se calculará la exactitud del modelo. Se filtrarán los datasets de entrenamiento y validación para establecer las características y objetivos del modelo."
   ]
  },
  {
   "cell_type": "code",
   "execution_count": 5,
   "metadata": {},
   "outputs": [],
   "source": [
    "features_train = df_train.drop(['is_ultra'], axis=1)\n",
    "target_train = df_train['is_ultra']\n",
    "features_valid = df_valid.drop(['is_ultra'], axis=1)\n",
    "target_valid = df_valid['is_ultra']"
   ]
  },
  {
   "attachments": {},
   "cell_type": "markdown",
   "metadata": {},
   "source": [
    "### 3. 1. Árbol de decisión <a id='data_model_tree'></a>\n",
    "\n",
    "En esta sección se creará un modelo con un árbol de decisión y se ajustará la profundidad máxima para obtener la mejor exactitud."
   ]
  },
  {
   "cell_type": "code",
   "execution_count": 6,
   "metadata": {},
   "outputs": [
    {
     "name": "stdout",
     "output_type": "stream",
     "text": [
      "max_depth = 1 : 0.7542768273716952\n",
      "max_depth = 2 : 0.7822706065318819\n",
      "max_depth = 3 : 0.7853810264385692\n",
      "max_depth = 4 : 0.7791601866251944\n",
      "max_depth = 5 : 0.7791601866251944\n",
      "max_depth = 6 : 0.7838258164852255\n"
     ]
    }
   ],
   "source": [
    "for i in range(1, 7):\n",
    "    model = DecisionTreeClassifier(random_state=54321, max_depth=i)\n",
    "    model.fit(features_train, target_train)\n",
    "    predictions = model.predict(features_valid)\n",
    "    result = accuracy_score(target_valid, predictions)\n",
    "    print(f'max_depth = {i} :', result)"
   ]
  },
  {
   "attachments": {},
   "cell_type": "markdown",
   "metadata": {},
   "source": [
    "El umbral de exactitud para el modelo buscado es del 75% y se observa que con profundidad máxima igual a 3 se alzcanza un 78.5% de exactitud. Se analizará si con un bosque aleatorio se obtiene una exactitud mayor y además evitar sobrejuste. "
   ]
  },
  {
   "attachments": {},
   "cell_type": "markdown",
   "metadata": {},
   "source": [
    "### 3. 2. Bosque aleatorio <a id='data_model_forest'></a>\n",
    "\n",
    "Se ajustará el número de árboles para el bosque (hiperparámetro) y se evaluará la exactitud."
   ]
  },
  {
   "cell_type": "code",
   "execution_count": 8,
   "metadata": {},
   "outputs": [
    {
     "name": "stdout",
     "output_type": "stream",
     "text": [
      "Exactitud del mejor modelo en el conjunto de validación (n_estimators = 40, max_depth = 7): 0.8055987558320373\n"
     ]
    }
   ],
   "source": [
    "best_score = 0\n",
    "best_est = 0\n",
    "best_depth = 0\n",
    "for i in range(1, 11): #rango de profundidad\n",
    "    for est in range(10, 101, 10): # rango del hiperparámetro, comenzando en 10, terminando en 100 y dando saltos de 10 en 10\n",
    "        model = RandomForestClassifier(random_state=54321, max_depth=i, n_estimators=est) # n_estimators ajusta el número de árboles\n",
    "        model.fit(features_train, target_train)\n",
    "        score = model.score(features_valid, target_valid) # exactitud en el conjunto de validación\n",
    "        if score > best_score:\n",
    "            best_score = score\n",
    "            best_est = est\n",
    "            best_depth = i\n",
    "\n",
    "print(\"Exactitud del mejor modelo en el conjunto de validación (n_estimators = {}, max_depth = {}): {}\".format(best_est, best_depth, best_score))"
   ]
  },
  {
   "attachments": {},
   "cell_type": "markdown",
   "metadata": {},
   "source": [
    "En este caso, con 40 árboles y una profundidad máxima igual a 7 se alcanza un 80% de exactitud, mayor que con un sólo árbol de decisión y sin sobreajuste. Sin embargo, también se considerará la regresión logistíca."
   ]
  },
  {
   "attachments": {},
   "cell_type": "markdown",
   "metadata": {},
   "source": [
    "### 3. 3. Regresión logística <a id='data_model_regression'></a>\n",
    "\n",
    "Se entrenará al modelo mediante la regresión logística y se calculará su exactitud en el conjunto de validación."
   ]
  },
  {
   "cell_type": "code",
   "execution_count": 9,
   "metadata": {},
   "outputs": [
    {
     "name": "stdout",
     "output_type": "stream",
     "text": [
      "Exactitud del modelo de regresión logística en el conjunto de validación: 0.7573872472783826\n"
     ]
    }
   ],
   "source": [
    "model = LogisticRegression(random_state=54321, solver='liblinear')\n",
    "model.fit(features_train, target_train)\n",
    "score_valid = model.score(features_valid, target_valid) #exactitud en el conjunto de validación\n",
    "\n",
    "print(\"Exactitud del modelo de regresión logística en el conjunto de validación:\", score_valid)"
   ]
  },
  {
   "attachments": {},
   "cell_type": "markdown",
   "metadata": {},
   "source": [
    "Aunque este modelo tiene mayor velocidad de ejecución, su exactitud (75%) es más baja que con el bosque aleatorio."
   ]
  },
  {
   "attachments": {},
   "cell_type": "markdown",
   "metadata": {},
   "source": [
    "### 3. 4. Calidad del modelo <a id='data_model_test'></a>\n",
    "\n",
    "El modelo con mayor exactitud es el que utiliza el algoritmo de bosque aleatorio con 40 áborles. Por lo que se decide que este es el mejor modelo."
   ]
  },
  {
   "cell_type": "code",
   "execution_count": 11,
   "metadata": {},
   "outputs": [
    {
     "data": {
      "text/html": [
       "<style>#sk-container-id-2 {color: black;background-color: white;}#sk-container-id-2 pre{padding: 0;}#sk-container-id-2 div.sk-toggleable {background-color: white;}#sk-container-id-2 label.sk-toggleable__label {cursor: pointer;display: block;width: 100%;margin-bottom: 0;padding: 0.3em;box-sizing: border-box;text-align: center;}#sk-container-id-2 label.sk-toggleable__label-arrow:before {content: \"▸\";float: left;margin-right: 0.25em;color: #696969;}#sk-container-id-2 label.sk-toggleable__label-arrow:hover:before {color: black;}#sk-container-id-2 div.sk-estimator:hover label.sk-toggleable__label-arrow:before {color: black;}#sk-container-id-2 div.sk-toggleable__content {max-height: 0;max-width: 0;overflow: hidden;text-align: left;background-color: #f0f8ff;}#sk-container-id-2 div.sk-toggleable__content pre {margin: 0.2em;color: black;border-radius: 0.25em;background-color: #f0f8ff;}#sk-container-id-2 input.sk-toggleable__control:checked~div.sk-toggleable__content {max-height: 200px;max-width: 100%;overflow: auto;}#sk-container-id-2 input.sk-toggleable__control:checked~label.sk-toggleable__label-arrow:before {content: \"▾\";}#sk-container-id-2 div.sk-estimator input.sk-toggleable__control:checked~label.sk-toggleable__label {background-color: #d4ebff;}#sk-container-id-2 div.sk-label input.sk-toggleable__control:checked~label.sk-toggleable__label {background-color: #d4ebff;}#sk-container-id-2 input.sk-hidden--visually {border: 0;clip: rect(1px 1px 1px 1px);clip: rect(1px, 1px, 1px, 1px);height: 1px;margin: -1px;overflow: hidden;padding: 0;position: absolute;width: 1px;}#sk-container-id-2 div.sk-estimator {font-family: monospace;background-color: #f0f8ff;border: 1px dotted black;border-radius: 0.25em;box-sizing: border-box;margin-bottom: 0.5em;}#sk-container-id-2 div.sk-estimator:hover {background-color: #d4ebff;}#sk-container-id-2 div.sk-parallel-item::after {content: \"\";width: 100%;border-bottom: 1px solid gray;flex-grow: 1;}#sk-container-id-2 div.sk-label:hover label.sk-toggleable__label {background-color: #d4ebff;}#sk-container-id-2 div.sk-serial::before {content: \"\";position: absolute;border-left: 1px solid gray;box-sizing: border-box;top: 0;bottom: 0;left: 50%;z-index: 0;}#sk-container-id-2 div.sk-serial {display: flex;flex-direction: column;align-items: center;background-color: white;padding-right: 0.2em;padding-left: 0.2em;position: relative;}#sk-container-id-2 div.sk-item {position: relative;z-index: 1;}#sk-container-id-2 div.sk-parallel {display: flex;align-items: stretch;justify-content: center;background-color: white;position: relative;}#sk-container-id-2 div.sk-item::before, #sk-container-id-2 div.sk-parallel-item::before {content: \"\";position: absolute;border-left: 1px solid gray;box-sizing: border-box;top: 0;bottom: 0;left: 50%;z-index: -1;}#sk-container-id-2 div.sk-parallel-item {display: flex;flex-direction: column;z-index: 1;position: relative;background-color: white;}#sk-container-id-2 div.sk-parallel-item:first-child::after {align-self: flex-end;width: 50%;}#sk-container-id-2 div.sk-parallel-item:last-child::after {align-self: flex-start;width: 50%;}#sk-container-id-2 div.sk-parallel-item:only-child::after {width: 0;}#sk-container-id-2 div.sk-dashed-wrapped {border: 1px dashed gray;margin: 0 0.4em 0.5em 0.4em;box-sizing: border-box;padding-bottom: 0.4em;background-color: white;}#sk-container-id-2 div.sk-label label {font-family: monospace;font-weight: bold;display: inline-block;line-height: 1.2em;}#sk-container-id-2 div.sk-label-container {text-align: center;}#sk-container-id-2 div.sk-container {/* jupyter's `normalize.less` sets `[hidden] { display: none; }` but bootstrap.min.css set `[hidden] { display: none !important; }` so we also need the `!important` here to be able to override the default hidden behavior on the sphinx rendered scikit-learn.org. See: https://github.com/scikit-learn/scikit-learn/issues/21755 */display: inline-block !important;position: relative;}#sk-container-id-2 div.sk-text-repr-fallback {display: none;}</style><div id=\"sk-container-id-2\" class=\"sk-top-container\"><div class=\"sk-text-repr-fallback\"><pre>RandomForestClassifier(max_depth=7, n_estimators=40, random_state=54321)</pre><b>In a Jupyter environment, please rerun this cell to show the HTML representation or trust the notebook. <br />On GitHub, the HTML representation is unable to render, please try loading this page with nbviewer.org.</b></div><div class=\"sk-container\" hidden><div class=\"sk-item\"><div class=\"sk-estimator sk-toggleable\"><input class=\"sk-toggleable__control sk-hidden--visually\" id=\"sk-estimator-id-2\" type=\"checkbox\" checked><label for=\"sk-estimator-id-2\" class=\"sk-toggleable__label sk-toggleable__label-arrow\">RandomForestClassifier</label><div class=\"sk-toggleable__content\"><pre>RandomForestClassifier(max_depth=7, n_estimators=40, random_state=54321)</pre></div></div></div></div></div>"
      ],
      "text/plain": [
       "RandomForestClassifier(max_depth=7, n_estimators=40, random_state=54321)"
      ]
     },
     "execution_count": 11,
     "metadata": {},
     "output_type": "execute_result"
    }
   ],
   "source": [
    "final_model = RandomForestClassifier(random_state=54321, max_depth=7, n_estimators=40)\n",
    "final_model.fit(features_train, target_train)"
   ]
  },
  {
   "attachments": {},
   "cell_type": "markdown",
   "metadata": {},
   "source": [
    "Se comprobará la calidad del modelo utilzando el conjunto de prueba."
   ]
  },
  {
   "cell_type": "code",
   "execution_count": 12,
   "metadata": {},
   "outputs": [
    {
     "name": "stdout",
     "output_type": "stream",
     "text": [
      "Exactitud del modelo final en el conjunto de prueba: 0.8055987558320373\n"
     ]
    }
   ],
   "source": [
    "features_test = df_test.drop(['is_ultra'], axis=1)\n",
    "target_test = df_test['is_ultra']\n",
    "\n",
    "test_predictions = final_model.predict(features_test)\n",
    "score_test = final_model.score(features_test, target_test)\n",
    "\n",
    "print(\"Exactitud del modelo final en el conjunto de prueba: {}\".format(score_test))"
   ]
  },
  {
   "attachments": {},
   "cell_type": "markdown",
   "metadata": {},
   "source": [
    "La exactitud del modelo final en el conjunto de prueba es del 80%, igua a la exactitud en el conjunto de validación. Por esta razón se concluye que este es el mejor modelo.\n",
    "\n",
    "[Volver a Contenidos](#back)"
   ]
  },
  {
   "attachments": {},
   "cell_type": "markdown",
   "metadata": {},
   "source": [
    "## Etapa 4. Prueba de cordura <a id='data_sanity'></a>\n",
    "\n",
    "Se realizará una prueba de cordura para comprobar que el modelo funciona mejor que la casualidad. Para ello, se utilizarán los datos del conjunto de prueba. Se obtendrán la cantidad de clientes con el plan `'ultra'` y aquellos con el plan `'smart'`."
   ]
  },
  {
   "cell_type": "code",
   "execution_count": 13,
   "metadata": {},
   "outputs": [
    {
     "name": "stdout",
     "output_type": "stream",
     "text": [
      "Clientes con plan ultra: 203\n",
      "Clientes con plan smart: 440\n"
     ]
    }
   ],
   "source": [
    "ultra_target = (target_test == 1)\n",
    "smart_target = (target_test == 0)\n",
    "\n",
    "print('Clientes con plan ultra:', ultra_target.sum())\n",
    "print('Clientes con plan smart:', smart_target.sum())"
   ]
  },
  {
   "attachments": {},
   "cell_type": "markdown",
   "metadata": {},
   "source": [
    "La cantidad de clientes con el plan `'smart'` es mayor que la de los clientes con el plan `'ultra'`. Se supondrá que se tiene un modelo aleatorio cuyas predicciones son sólo 0 (plan `'smart'`). Con esta información se calculará la exactitud de este modelo aleatorio (casualidad)."
   ]
  },
  {
   "cell_type": "code",
   "execution_count": 14,
   "metadata": {},
   "outputs": [
    {
     "name": "stdout",
     "output_type": "stream",
     "text": [
      "Exactitud del modelo aleatorio: 0.6842923794712286\n"
     ]
    }
   ],
   "source": [
    "smart_score = smart_target.sum() / len(target_test)\n",
    "print(f'Exactitud del modelo aleatorio: {smart_score}')"
   ]
  },
  {
   "attachments": {},
   "cell_type": "markdown",
   "metadata": {},
   "source": [
    "La casualidad tiene una exactitud del 68%, por lo tanto, el modelo elegido `final_model` con exactitud del 80% pasa la prueba de cordura."
   ]
  },
  {
   "attachments": {},
   "cell_type": "markdown",
   "metadata": {},
   "source": [
    "## Etapa 5. Conclusión <a id='data_conclusion'></a>\n",
    "\n",
    "El conjunto de datos se dividió en tres partes: conjunto de entrenamiento (60%), conjunto de validación (20%) y conjunto de prueba (20%). Con los datos del conjunto de entrenamiento se crearon y entrenaron los modelos, usando los tres tipos de algoritmos de clasificación: árbol de decisión, bosque aleatorio y regresión lógistica.\n",
    "\n",
    "Para elegir el mejor modelo se ajustaron hiperparámetros y se comprobó la exactitud de cada uno de los modelos con los datos del conjunto de validación. En el árbol de decisión se concluyó que la mayor exactitud se obtuvó con profundidad máxima igual a 3, mientras que para el bosque aleatorio, se alcanzó la mayor exactitud con 40 árboles y profundidad máxima igual a 7.\n",
    "\n",
    "Comprando la exactitud de los tres algoritmos, se concluyó que el mejor modelo (mayor exactitud) es el bosque aleatorio (40 árboles y produndidad máxima 7).\n",
    "\n",
    "Se comprobó la calidad del modelo con los datos del conjunto de prueba, obteniendo una exactitud del 80%, igual a la exactitud obtenida con el conjunto de validación.\n",
    "\n",
    "Finalmente, se realizó una prueba de cordura para verificar que el modelo funciona mejor que la casualidad. La exactitud de la casualidad fue de 68%, más baja que la del modelo. Por lo tanto, el modelo elegido es el mejor para predecir el plan de cada usuario."
   ]
  }
 ],
 "metadata": {
  "kernelspec": {
   "display_name": "Python 3",
   "language": "python",
   "name": "python3"
  },
  "language_info": {
   "codemirror_mode": {
    "name": "ipython",
    "version": 3
   },
   "file_extension": ".py",
   "mimetype": "text/x-python",
   "name": "python",
   "nbconvert_exporter": "python",
   "pygments_lexer": "ipython3",
   "version": "3.10.9"
  },
  "orig_nbformat": 4,
  "vscode": {
   "interpreter": {
    "hash": "7e1998ff7f8aa20ada591c520b972326324e5ea05489af9e422744c7c09f6dad"
   }
  }
 },
 "nbformat": 4,
 "nbformat_minor": 2
}
