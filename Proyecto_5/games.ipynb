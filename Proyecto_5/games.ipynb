{
 "cells": [
  {
   "attachments": {},
   "cell_type": "markdown",
   "metadata": {},
   "source": [
    "# Videojuegos exitosos"
   ]
  },
  {
   "attachments": {},
   "cell_type": "markdown",
   "metadata": {},
   "source": [
    "## Índice <a id='back'></a>\n",
    "* [Introducción](#intro)\n",
    "* [Etapa 1. Descripción y preprocesamiento de los datos](#data_review)\n",
    "    * [1.1. Duplicados](#data_review_duplicated)\n",
    "        * [1.1.1. Columna `'platform'`](#data_review_duplicated_platform)\n",
    "        * [1.1.2. Columna `'genre'`](#data_review_duplicated_genre)\n",
    "        * [1.1.3. Columna `'user_score'`](#data_review_duplicated_userscore)\n",
    "        * [1.1.4. Columna `'rating'`](#data_review_duplicated_rating)\n",
    "        * [1.1.5. Columna `'name'`](#data_review_duplicated_name)\n",
    "    * [1.2. Valores ausentes](#data_review_missing)\n",
    "        * [1.2.1. Columna `'year_of_release'`](#data_review_missing_year)\n",
    "        * [1.2.2. Columna `'critic_score'`](#data_review_missing_criticscore)\n",
    "        * [1.2.3. Columna `'user_score'`](#data_review_missing_userscore)\n",
    "    * [1.3. Conclusiones](#data_review_conclusions)\n",
    "* [Etapa 2. Preparación de los datos](#data_prep)\n",
    "    * [2.1. Tarifa por usuario](#data_prep_income)\n",
    "* [Etapa 3. Análisis exploratorio de datos](#data_analysis)\n",
    "    * [3.1. Llamadas](#data_analysis_calls)\n",
    "    * [3.2. Mensajes](#data_analysis_messages)\n",
    "    * [3.3. Internet](#data_analysis_mb)\n",
    "    * [3.4. Ingreso](#data_analysis_income)\n",
    "    * [3.4. Conclusiones](#data_analysis_conclusions)\n",
    "* [Etapa 4. Comprobación de hipótesis](#data_hypothesis)\n",
    "    * [4.1. El ingreso difiere por plan](#data_hypothesis_plan)\n",
    "    * [4.2. El ingreso difiere por región](#data_hypothesis_zone)\n",
    "* [Etapa 5. Conclusión general](#data_conclusion)"
   ]
  },
  {
   "attachments": {},
   "cell_type": "markdown",
   "metadata": {},
   "source": [
    "## Introducción <a id='intro'></a>\n",
    "\n",
    "Este proyecto es realizado para la tienda online Ice, la cual vende videojuegos por todo el mundo. Se cuenta con datos del año 2016.\n",
    "\n",
    "**Objetivo e Hipótesis**\n",
    "\n",
    "El objetivo es identificar patrones para determinar si un juego tiene éxito o no. Se establecen dos hipótesis:\n",
    "1. Las puntuaciones promedio de los usuarios para las plataformas Xbox One y PC son las mismas.\n",
    "2. Las puntuaciones promedio de los usuarios para los géneros de Acción y Deportes son distintas.\n",
    "\n",
    "**Etapas**\n",
    "Los datos se almacenan en el archivo `/datasets/games.csv`. No hay ninguna información sobre la calidad de los datos así que se examinarán antes de probar las hipótesis.\n",
    "\n",
    "Primero, se evaluará la calidad de los datos y si los problemas son significativos, entonces, durante el preprocesamiento de datos, se tomará en cuenta los problemas más críticos. Finalmente se comprobarán las hipótesis para presentar las conclusiones.\n",
    " \n",
    "El proyecto consistirá en cinco etapas:\n",
    " 1. Descripción y preprocesamiento de los datos.\n",
    " 2. Preparación de los datos.\n",
    " 3. Análisis exploratorio de los datos.\n",
    " 4. Comprobación de hipótesis.\n",
    " 5. Conclusión general.\n",
    "\n",
    "[Volver a Contenidos](#back)"
   ]
  },
  {
   "attachments": {},
   "cell_type": "markdown",
   "metadata": {},
   "source": [
    "## Etapa 1. Descripción y preprocesamiento de los datos <a id='data_review'></a>\n",
    "\n",
    "Se importan las librerías necesarias."
   ]
  },
  {
   "cell_type": "code",
   "execution_count": 2,
   "metadata": {},
   "outputs": [],
   "source": [
    "# Cargar todas las librerías\n",
    "import pandas as pd\n",
    "import matplotlib.pyplot as plt\n",
    "import numpy as np\n",
    "import re\n",
    "from scipy import stats as st\n",
    "from math import ceil, factorial"
   ]
  },
  {
   "attachments": {},
   "cell_type": "markdown",
   "metadata": {},
   "source": [
    "Se lee el archivo y se guarda en la variable `df`."
   ]
  },
  {
   "cell_type": "code",
   "execution_count": 3,
   "metadata": {},
   "outputs": [],
   "source": [
    "try:\n",
    "    df = pd.read_csv('games.csv')\n",
    "except:\n",
    "    df = pd.read_csv('/datasets/games.csv')"
   ]
  },
  {
   "attachments": {},
   "cell_type": "markdown",
   "metadata": {},
   "source": [
    "Se imprime la información general y las primeras 10 filas."
   ]
  },
  {
   "cell_type": "code",
   "execution_count": 4,
   "metadata": {},
   "outputs": [
    {
     "name": "stdout",
     "output_type": "stream",
     "text": [
      "<class 'pandas.core.frame.DataFrame'>\n",
      "RangeIndex: 16715 entries, 0 to 16714\n",
      "Data columns (total 11 columns):\n",
      " #   Column           Non-Null Count  Dtype  \n",
      "---  ------           --------------  -----  \n",
      " 0   Name             16713 non-null  object \n",
      " 1   Platform         16715 non-null  object \n",
      " 2   Year_of_Release  16446 non-null  float64\n",
      " 3   Genre            16713 non-null  object \n",
      " 4   NA_sales         16715 non-null  float64\n",
      " 5   EU_sales         16715 non-null  float64\n",
      " 6   JP_sales         16715 non-null  float64\n",
      " 7   Other_sales      16715 non-null  float64\n",
      " 8   Critic_Score     8137 non-null   float64\n",
      " 9   User_Score       10014 non-null  object \n",
      " 10  Rating           9949 non-null   object \n",
      "dtypes: float64(6), object(5)\n",
      "memory usage: 1.4+ MB\n",
      "\n",
      "                        Name Platform  Year_of_Release         Genre  \\\n",
      "0                 Wii Sports      Wii           2006.0        Sports   \n",
      "1          Super Mario Bros.      NES           1985.0      Platform   \n",
      "2             Mario Kart Wii      Wii           2008.0        Racing   \n",
      "3          Wii Sports Resort      Wii           2009.0        Sports   \n",
      "4   Pokemon Red/Pokemon Blue       GB           1996.0  Role-Playing   \n",
      "5                     Tetris       GB           1989.0        Puzzle   \n",
      "6      New Super Mario Bros.       DS           2006.0      Platform   \n",
      "7                   Wii Play      Wii           2006.0          Misc   \n",
      "8  New Super Mario Bros. Wii      Wii           2009.0      Platform   \n",
      "9                  Duck Hunt      NES           1984.0       Shooter   \n",
      "\n",
      "   NA_sales  EU_sales  JP_sales  Other_sales  Critic_Score User_Score Rating  \n",
      "0     41.36     28.96      3.77         8.45          76.0          8      E  \n",
      "1     29.08      3.58      6.81         0.77           NaN        NaN    NaN  \n",
      "2     15.68     12.76      3.79         3.29          82.0        8.3      E  \n",
      "3     15.61     10.93      3.28         2.95          80.0          8      E  \n",
      "4     11.27      8.89     10.22         1.00           NaN        NaN    NaN  \n",
      "5     23.20      2.26      4.22         0.58           NaN        NaN    NaN  \n",
      "6     11.28      9.14      6.50         2.88          89.0        8.5      E  \n",
      "7     13.96      9.18      2.93         2.84          58.0        6.6      E  \n",
      "8     14.44      6.94      4.70         2.24          87.0        8.4      E  \n",
      "9     26.93      0.63      0.28         0.47           NaN        NaN    NaN  \n"
     ]
    }
   ],
   "source": [
    "df.info()\n",
    "print()\n",
    "print(df.head(10))"
   ]
  },
  {
   "attachments": {},
   "cell_type": "markdown",
   "metadata": {},
   "source": [
    "La tabla cuenta con 16,715 filas y 11 columnas, las cuales son:\n",
    "\n",
    "1. `'Name'` - Título del videojuego.\n",
    "2. `'Platform'` - Consola o pltaforma del videojuego.\n",
    "3. `'Year_of_Release'` - Año de lanzamiento del videojuego.\n",
    "4. `'Genre'` - Género del videojuego.\n",
    "5. `'NA_sales'` - ventas en Norteamérica, en millones de dólares estadounidenses.\n",
    "6. `'EU_sales'` - ventas en Europa, en millones de dólares estadounidenses.\n",
    "7. `'JP_sales'` - ventas en Japón, en millones de dólares estadounidenses.\n",
    "8. `'Other_sales'` - ventas en otras regiones, en millones de dólares estadounidenses.\n",
    "9. `'Critic_Score'` - puntuación según la crítica (máximo 100).\n",
    "10. `'User_Score'` - puntuación según los usuarios (máximo 10).\n",
    "11. `'Rating'` - clasificación ESRB.\n",
    "\n",
    "Existen valores ausentes en las columnas `'Name'`, `'Year_of_Release'`, `'genre'`, `'Critic_Score'`, `'User_Score'`y `'Rating'`. Se investigará más sobre cada una de ellas. Los nombres de las columnas usan letras mayúsculas y minúsculas, se cambiarán por minúsculas todas las letras.\n",
    "\n",
    "Se imprimirán los títulos de las columnas en busca de problemas más sútiles."
   ]
  },
  {
   "cell_type": "code",
   "execution_count": 5,
   "metadata": {},
   "outputs": [
    {
     "name": "stdout",
     "output_type": "stream",
     "text": [
      "Index(['Name', 'Platform', 'Year_of_Release', 'Genre', 'NA_sales', 'EU_sales',\n",
      "       'JP_sales', 'Other_sales', 'Critic_Score', 'User_Score', 'Rating'],\n",
      "      dtype='object')\n"
     ]
    }
   ],
   "source": [
    "print(df.columns)"
   ]
  },
  {
   "attachments": {},
   "cell_type": "markdown",
   "metadata": {},
   "source": [
    "El único detalle es el uso de mayúsculas y minúsculas. Se cambian a minúsculas todas las letras."
   ]
  },
  {
   "cell_type": "code",
   "execution_count": 6,
   "metadata": {},
   "outputs": [
    {
     "name": "stdout",
     "output_type": "stream",
     "text": [
      "Index(['name', 'platform', 'year_of_release', 'genre', 'na_sales', 'eu_sales',\n",
      "       'jp_sales', 'other_sales', 'critic_score', 'user_score', 'rating'],\n",
      "      dtype='object')\n"
     ]
    }
   ],
   "source": [
    "df.columns = df.columns.str.lower()\n",
    "print(df.columns)"
   ]
  },
  {
   "attachments": {},
   "cell_type": "markdown",
   "metadata": {},
   "source": [
    "[Volver a Contenidos](#back)"
   ]
  },
  {
   "attachments": {},
   "cell_type": "markdown",
   "metadata": {},
   "source": [
    "### 1. 1. Duplicados <a id='data_review_duplicated'></a>\n",
    "\n",
    "En esta sección se tratarán las columnas de tipo object, principalmente para analizar si existen duplicados."
   ]
  },
  {
   "attachments": {},
   "cell_type": "markdown",
   "metadata": {},
   "source": [
    "#### 1.1.1 Columna `'platform'` <a id='data_review_duplicated_platform'></a>\n",
    "\n",
    "La columna `'platform'` no contiene valores ausentes. Se imprimirá la lista de valores únicos para determinar si existen duplicados implícitos."
   ]
  },
  {
   "cell_type": "code",
   "execution_count": 7,
   "metadata": {},
   "outputs": [
    {
     "name": "stdout",
     "output_type": "stream",
     "text": [
      "['2600' '3do' '3ds' 'dc' 'ds' 'gb' 'gba' 'gc' 'gen' 'gg' 'n64' 'nes' 'ng'\n",
      " 'pc' 'pcfx' 'ps' 'ps2' 'ps3' 'ps4' 'psp' 'psv' 'sat' 'scd' 'snes' 'tg16'\n",
      " 'wii' 'wiiu' 'ws' 'x360' 'xb' 'xone']\n"
     ]
    }
   ],
   "source": [
    "df['platform'] = df['platform'].str.lower() #convertimos a minúsculas los datos de la columna\n",
    "print(df['platform'].sort_values().unique())"
   ]
  },
  {
   "attachments": {},
   "cell_type": "markdown",
   "metadata": {},
   "source": [
    "Se tienen las siguientes consolas:\n",
    "* `'2600'` - Atari 2600.\n",
    "* `'3do'` - 3DO Interactive Multiplayer.\n",
    "* `'3ds'` - Nintendo 3DS.\n",
    "* `'dc'` - Sega Dreamcast.\n",
    "* `'ds'` - Nintendo DS.\n",
    "* `'gb'` - Nintendo Game Boy.\n",
    "* `'gba'` - Nintendo Game Boy Advance.\n",
    "* `'gc'` - Nintendo GameCube.\n",
    "* `'gen'`- Sega Genesis.\n",
    "* `'gg'` - Sega Game Gear.\n",
    "* `'n64'` - Nintendo 64.\n",
    "* `'nes'` - Nintendo.\n",
    "* `'ng'` - Neo Geo.\n",
    "* `'pc'` - Plataforma.\n",
    "* `'pcfx'` - NEC PC-FX.\n",
    "* `'ps'` - PlayStation.\n",
    "* `'ps2'` - PlayStation 2.\n",
    "* `'ps3'` - PlayStation 3.\n",
    "* `'ps4'` - PlayStation 4.\n",
    "* `'psp'` - PlayStation Portable.\n",
    "* `'psv'` - PlatStation Vita.\n",
    "* `'sat'` - Sega Saturn.\n",
    "* `'scd'` - Sega CD.\n",
    "* `'snes'` - Super Nintendo.\n",
    "* `'tg16'` - PC Engine.\n",
    "* `'wii'` - Nintendo Wii.\n",
    "* `'wiiu'` - Nintendo Wii U.\n",
    "* `'ws'` - WonderSwan.\n",
    "* `'x360'` - Xbox 360.\n",
    "* `'xb'` - Xbox.\n",
    "* `'xone'` - Xbox One.\n",
    "\n",
    "No existen duplicados implícitos.\n",
    "\n",
    "[Volver a Contenidos](#back)"
   ]
  },
  {
   "attachments": {},
   "cell_type": "markdown",
   "metadata": {},
   "source": [
    "#### 1.1.2 Columna `'genre'` <a id='data_review_duplicated_genre'></a>\n",
    "\n",
    "La columna `'genre'` contiene dos valores ausentes los cuales pueden deberse a un error en el proceso de recopilación de datos. Se imprimirán estas dos filas para investigación."
   ]
  },
  {
   "cell_type": "code",
   "execution_count": 8,
   "metadata": {},
   "outputs": [
    {
     "name": "stdout",
     "output_type": "stream",
     "text": [
      "      name platform  year_of_release genre  na_sales  eu_sales  jp_sales  \\\n",
      "659    NaN      gen           1993.0   NaN      1.78      0.53      0.00   \n",
      "14244  NaN      gen           1993.0   NaN      0.00      0.00      0.03   \n",
      "\n",
      "       other_sales  critic_score user_score rating  \n",
      "659           0.08           NaN        NaN    NaN  \n",
      "14244         0.00           NaN        NaN    NaN  \n"
     ]
    }
   ],
   "source": [
    "print(df[df['genre'].isna()])"
   ]
  },
  {
   "attachments": {},
   "cell_type": "markdown",
   "metadata": {},
   "source": [
    "Estas filas también contienen los dos valores ausentes de la columna `'name'`. Como sólo son 2 filas de 16,715 y además no hay forma de conocer a qué videjuego pertenecen, se decide eliminarlas."
   ]
  },
  {
   "cell_type": "code",
   "execution_count": 9,
   "metadata": {},
   "outputs": [
    {
     "name": "stdout",
     "output_type": "stream",
     "text": [
      "<class 'pandas.core.frame.DataFrame'>\n",
      "Int64Index: 16713 entries, 0 to 16714\n",
      "Data columns (total 11 columns):\n",
      " #   Column           Non-Null Count  Dtype  \n",
      "---  ------           --------------  -----  \n",
      " 0   name             16713 non-null  object \n",
      " 1   platform         16713 non-null  object \n",
      " 2   year_of_release  16444 non-null  float64\n",
      " 3   genre            16713 non-null  object \n",
      " 4   na_sales         16713 non-null  float64\n",
      " 5   eu_sales         16713 non-null  float64\n",
      " 6   jp_sales         16713 non-null  float64\n",
      " 7   other_sales      16713 non-null  float64\n",
      " 8   critic_score     8137 non-null   float64\n",
      " 9   user_score       10014 non-null  object \n",
      " 10  rating           9949 non-null   object \n",
      "dtypes: float64(6), object(5)\n",
      "memory usage: 1.5+ MB\n"
     ]
    }
   ],
   "source": [
    "df = df.dropna(subset='genre')\n",
    "df.info()"
   ]
  },
  {
   "attachments": {},
   "cell_type": "markdown",
   "metadata": {},
   "source": [
    "Se imprimirá la lista de valores únicos de la columna `'genre'`."
   ]
  },
  {
   "cell_type": "code",
   "execution_count": 10,
   "metadata": {},
   "outputs": [
    {
     "name": "stdout",
     "output_type": "stream",
     "text": [
      "['action' 'adventure' 'fighting' 'misc' 'platform' 'puzzle' 'racing'\n",
      " 'role-playing' 'shooter' 'simulation' 'sports' 'strategy']\n"
     ]
    }
   ],
   "source": [
    "df['genre'] = df['genre'].str.lower() #convertimos a minúsculas todos los datos de esta columna\n",
    "print(df['genre'].sort_values().unique())"
   ]
  },
  {
   "attachments": {},
   "cell_type": "markdown",
   "metadata": {},
   "source": [
    "No existen duplicados implícitos.\n",
    "\n",
    "[Volver a Contenidos](#back)"
   ]
  },
  {
   "attachments": {},
   "cell_type": "markdown",
   "metadata": {},
   "source": [
    "#### 1.1.3 Columna `'user_score'` <a id='data_review_duplicated_userscore'></a>\n",
    "\n",
    "Esta columna contiene valores ausentes, los cuales serán tratados más adelante. Además, sus datos deberían ser numéricos, sin embargo aparecen como tipo object. Se mostrarán sus valores únicos para investigación. "
   ]
  },
  {
   "cell_type": "code",
   "execution_count": 11,
   "metadata": {},
   "outputs": [
    {
     "name": "stdout",
     "output_type": "stream",
     "text": [
      "['0' '0.2' '0.3' '0.5' '0.6' '0.7' '0.9' '1' '1.1' '1.2' '1.3' '1.4' '1.5'\n",
      " '1.6' '1.7' '1.8' '1.9' '2' '2.1' '2.2' '2.3' '2.4' '2.5' '2.6' '2.7'\n",
      " '2.8' '2.9' '3' '3.1' '3.2' '3.3' '3.4' '3.5' '3.6' '3.7' '3.8' '3.9' '4'\n",
      " '4.1' '4.2' '4.3' '4.4' '4.5' '4.6' '4.7' '4.8' '4.9' '5' '5.1' '5.2'\n",
      " '5.3' '5.4' '5.5' '5.6' '5.7' '5.8' '5.9' '6' '6.1' '6.2' '6.3' '6.4'\n",
      " '6.5' '6.6' '6.7' '6.8' '6.9' '7' '7.1' '7.2' '7.3' '7.4' '7.5' '7.6'\n",
      " '7.7' '7.8' '7.9' '8' '8.1' '8.2' '8.3' '8.4' '8.5' '8.6' '8.7' '8.8'\n",
      " '8.9' '9' '9.1' '9.2' '9.3' '9.4' '9.5' '9.6' '9.7' 'tbd' nan]\n"
     ]
    }
   ],
   "source": [
    "print(df['user_score'].sort_values().unique())"
   ]
  },
  {
   "attachments": {},
   "cell_type": "markdown",
   "metadata": {},
   "source": [
    "El único valor que no es numérico es `'tbd'` (to be determined), esto significa que el videojuego aún no ha sido puntuado. Así, este valor es como si se tuviera un valor ausente pues se desconoce la razón por la que el videojuego no ha diso puntuado. Se reemplazará por NaN."
   ]
  },
  {
   "cell_type": "code",
   "execution_count": 12,
   "metadata": {},
   "outputs": [
    {
     "name": "stdout",
     "output_type": "stream",
     "text": [
      "<class 'pandas.core.frame.DataFrame'>\n",
      "Int64Index: 16713 entries, 0 to 16714\n",
      "Data columns (total 11 columns):\n",
      " #   Column           Non-Null Count  Dtype  \n",
      "---  ------           --------------  -----  \n",
      " 0   name             16713 non-null  object \n",
      " 1   platform         16713 non-null  object \n",
      " 2   year_of_release  16444 non-null  float64\n",
      " 3   genre            16713 non-null  object \n",
      " 4   na_sales         16713 non-null  float64\n",
      " 5   eu_sales         16713 non-null  float64\n",
      " 6   jp_sales         16713 non-null  float64\n",
      " 7   other_sales      16713 non-null  float64\n",
      " 8   critic_score     8137 non-null   float64\n",
      " 9   user_score       7590 non-null   float64\n",
      " 10  rating           9949 non-null   object \n",
      "dtypes: float64(7), object(4)\n",
      "memory usage: 1.5+ MB\n"
     ]
    }
   ],
   "source": [
    "df['user_score'] = df['user_score'].replace('tbd', float('nan'))\n",
    "df['user_score'] = df['user_score'].astype('float64') #convertimos los datos de la columna tipo float\n",
    "df.info()"
   ]
  },
  {
   "attachments": {},
   "cell_type": "markdown",
   "metadata": {},
   "source": [
    "[Volver a Contenidos](#back)"
   ]
  },
  {
   "attachments": {},
   "cell_type": "markdown",
   "metadata": {},
   "source": [
    "#### 1.1.4 Columna `'rating'` <a id='data_review_duplicated_rating'></a>\n",
    "\n",
    "Análogamente a las columnas anteriores, se convertirán las letras de los datos a minúsculas y se imprimirán los valores únicos."
   ]
  },
  {
   "cell_type": "code",
   "execution_count": 13,
   "metadata": {},
   "outputs": [
    {
     "name": "stdout",
     "output_type": "stream",
     "text": [
      "['ao' 'e' 'e10+' 'ec' 'k-a' 'm' 'rp' 't' nan]\n"
     ]
    }
   ],
   "source": [
    "df['rating'] = df['rating'].str.lower()\n",
    "print(df['rating'].sort_values().unique())"
   ]
  },
  {
   "attachments": {},
   "cell_type": "markdown",
   "metadata": {},
   "source": [
    "Las clasificaciones existentes de acuerdo a The Entertainment Software Rating Board (ESRB) son:\n",
    "\n",
    "1. `'ao'` - Sólo adultos (mayores de 18 años).\n",
    "2. `'e'` - Apto para todas las edades.\n",
    "3. `'e10+'` - Apto para mayores de 10 años.\n",
    "4. `'ec'` - Apto para niños pequeños.\n",
    "5. `'k-a'`- Niños y adultos, esta clasificación es la misma que `'e'` pero fue usada antes del año 1998.\n",
    "6. `'m'` - Apto para mayores de 17 años (la diferencia con `'ao'` es que contienen menos escenas o de menor duración cuyo contenido sea sexual o de violencia).\n",
    "7. `'rp'` - Indica que la clasificación está pendiente.\n",
    "8. `'t'` - Apto para mayores de 13 años.\n",
    "\n",
    "Los valores ausentes se tratarán más adelante. Se reemplazará la clasificación `'k-a'` por `'e'` ya que indican la misma información."
   ]
  },
  {
   "cell_type": "code",
   "execution_count": 14,
   "metadata": {},
   "outputs": [
    {
     "name": "stdout",
     "output_type": "stream",
     "text": [
      "['ao' 'e' 'e10+' 'ec' 'm' 'rp' 't' nan]\n",
      "\n",
      "<class 'pandas.core.frame.DataFrame'>\n",
      "Int64Index: 16713 entries, 0 to 16714\n",
      "Data columns (total 11 columns):\n",
      " #   Column           Non-Null Count  Dtype  \n",
      "---  ------           --------------  -----  \n",
      " 0   name             16713 non-null  object \n",
      " 1   platform         16713 non-null  object \n",
      " 2   year_of_release  16444 non-null  float64\n",
      " 3   genre            16713 non-null  object \n",
      " 4   na_sales         16713 non-null  float64\n",
      " 5   eu_sales         16713 non-null  float64\n",
      " 6   jp_sales         16713 non-null  float64\n",
      " 7   other_sales      16713 non-null  float64\n",
      " 8   critic_score     8137 non-null   float64\n",
      " 9   user_score       7590 non-null   float64\n",
      " 10  rating           9949 non-null   object \n",
      "dtypes: float64(7), object(4)\n",
      "memory usage: 1.5+ MB\n"
     ]
    }
   ],
   "source": [
    "df['rating'] = df['rating'].replace('k-a', 'e')\n",
    "print(df['rating'].sort_values().unique())\n",
    "print()\n",
    "df.info()"
   ]
  },
  {
   "attachments": {},
   "cell_type": "markdown",
   "metadata": {},
   "source": [
    "[Volver a Contenidos](#back)"
   ]
  },
  {
   "attachments": {},
   "cell_type": "markdown",
   "metadata": {},
   "source": [
    "#### 1.1.5 Columna `'name'` <a id='data_review_duplicated_name'></a>\n",
    "\n",
    "La columna `'name'` no contiene valores ausentes. Puede haber duplicados implícitos por el uso de mayúsculas y minúsculas, o bien, que los títulos comiencen con espacios en blanco. Esto es lo primero que se tratará."
   ]
  },
  {
   "cell_type": "code",
   "execution_count": 15,
   "metadata": {},
   "outputs": [
    {
     "name": "stdout",
     "output_type": "stream",
     "text": [
      "11559\n",
      "\n",
      "                        name platform  year_of_release         genre  \\\n",
      "0                 wii sports      wii           2006.0        sports   \n",
      "1          super mario bros.      nes           1985.0      platform   \n",
      "2             mario kart wii      wii           2008.0        racing   \n",
      "3          wii sports resort      wii           2009.0        sports   \n",
      "4   pokemon red/pokemon blue       gb           1996.0  role-playing   \n",
      "5                     tetris       gb           1989.0        puzzle   \n",
      "6      new super mario bros.       ds           2006.0      platform   \n",
      "7                   wii play      wii           2006.0          misc   \n",
      "8  new super mario bros. wii      wii           2009.0      platform   \n",
      "9                  duck hunt      nes           1984.0       shooter   \n",
      "\n",
      "   na_sales  eu_sales  jp_sales  other_sales  critic_score  user_score rating  \n",
      "0     41.36     28.96      3.77         8.45          76.0         8.0      e  \n",
      "1     29.08      3.58      6.81         0.77           NaN         NaN    NaN  \n",
      "2     15.68     12.76      3.79         3.29          82.0         8.3      e  \n",
      "3     15.61     10.93      3.28         2.95          80.0         8.0      e  \n",
      "4     11.27      8.89     10.22         1.00           NaN         NaN    NaN  \n",
      "5     23.20      2.26      4.22         0.58           NaN         NaN    NaN  \n",
      "6     11.28      9.14      6.50         2.88          89.0         8.5      e  \n",
      "7     13.96      9.18      2.93         2.84          58.0         6.6      e  \n",
      "8     14.44      6.94      4.70         2.24          87.0         8.4      e  \n",
      "9     26.93      0.63      0.28         0.47           NaN         NaN    NaN  \n"
     ]
    }
   ],
   "source": [
    "df['name'] = df['name'].str.lower().str.strip()#convertimos a minúsculas los datos y quitamos espacios en blanco al incio o final\n",
    "print(len(df['name'].sort_values().unique())) #cantidad de valores únicos\n",
    "print()\n",
    "print(df.head(10))"
   ]
  },
  {
   "attachments": {},
   "cell_type": "markdown",
   "metadata": {},
   "source": [
    "Al observar las filas 6 y 8, se tiene que se trata del mismo título pero para consolas distintas. El título de la fila 8 contiene el nombre de la consola a la que pertenece. Pueden existir más casos como este."
   ]
  },
  {
   "cell_type": "code",
   "execution_count": 16,
   "metadata": {},
   "outputs": [],
   "source": [
    "def delete_platform(row):#función para eliminar la plataforma del título si es que coincide con la columna de plataforma\n",
    "    name = str(row['name'])\n",
    "    platform = str(row['platform'])\n",
    "    platform_end = platform.rjust(len(platform)+1) #agregar un espacio en blanco al incio\n",
    "    platform_start = platform.ljust(len(platform)+1) #agregar un espacio en blanco al final\n",
    "    if re.search(platform_start, name): #elimina la plataforma si el título comienza con ella\n",
    "        name = name.strip(platform_start)\n",
    "        return name\n",
    "    elif re.search(platform_end, name): #elimina la plataforma si el título termina con ella\n",
    "        name = name.strip(platform_end)\n",
    "        return name\n",
    "    else:\n",
    "        return name"
   ]
  },
  {
   "cell_type": "code",
   "execution_count": 17,
   "metadata": {},
   "outputs": [
    {
     "name": "stdout",
     "output_type": "stream",
     "text": [
      "         name platform\n",
      "0  sports wii      wii\n",
      "1  wii-sports      wii\n",
      "2       g33ds      3ds\n",
      "3    3ds fifa      3ds\n",
      "\n",
      "         name platform\n",
      "0      sports      wii\n",
      "1  wii-sports      wii\n",
      "2       g33ds      3ds\n",
      "3        fifa      3ds\n"
     ]
    }
   ],
   "source": [
    "df_test = pd.DataFrame() #DataFrame de prueba\n",
    "df_test['name'] = ['sports wii', 'wii-sports', 'g33ds', '3ds fifa']\n",
    "df_test['platform'] = ['wii', 'wii', '3ds', '3ds']\n",
    "print(df_test)\n",
    "print()\n",
    "df_test['name'] = df_test.apply(delete_platform, axis=1) #se aplica la función al DataFrame de prueba\n",
    "print(df_test)"
   ]
  },
  {
   "cell_type": "code",
   "execution_count": 18,
   "metadata": {},
   "outputs": [
    {
     "name": "stdout",
     "output_type": "stream",
     "text": [
      "                       name platform  year_of_release         genre  na_sales  \\\n",
      "0                    sports      wii           2006.0        sports     41.36   \n",
      "1         super mario bros.      nes           1985.0      platform     29.08   \n",
      "2                mario kart      wii           2008.0        racing     15.68   \n",
      "3             sports resort      wii           2009.0        sports     15.61   \n",
      "4  pokemon red/pokemon blue       gb           1996.0  role-playing     11.27   \n",
      "5                    tetris       gb           1989.0        puzzle     23.20   \n",
      "6     new super mario bros.       ds           2006.0      platform     11.28   \n",
      "7                      play      wii           2006.0          misc     13.96   \n",
      "8     new super mario bros.      wii           2009.0      platform     14.44   \n",
      "9                 duck hunt      nes           1984.0       shooter     26.93   \n",
      "\n",
      "   eu_sales  jp_sales  other_sales  critic_score  user_score rating  \n",
      "0     28.96      3.77         8.45          76.0         8.0      e  \n",
      "1      3.58      6.81         0.77           NaN         NaN    NaN  \n",
      "2     12.76      3.79         3.29          82.0         8.3      e  \n",
      "3     10.93      3.28         2.95          80.0         8.0      e  \n",
      "4      8.89     10.22         1.00           NaN         NaN    NaN  \n",
      "5      2.26      4.22         0.58           NaN         NaN    NaN  \n",
      "6      9.14      6.50         2.88          89.0         8.5      e  \n",
      "7      9.18      2.93         2.84          58.0         6.6      e  \n",
      "8      6.94      4.70         2.24          87.0         8.4      e  \n",
      "9      0.63      0.28         0.47           NaN         NaN    NaN  \n"
     ]
    }
   ],
   "source": [
    "df['name'] = df.apply(delete_platform, axis=1) #aplicamos la función a df\n",
    "print(df.head(10))"
   ]
  },
  {
   "cell_type": "code",
   "execution_count": 19,
   "metadata": {},
   "outputs": [
    {
     "name": "stdout",
     "output_type": "stream",
     "text": [
      "4728                                     '98 koshien\n",
      "8342                      .hack//g.u. vol.1//rebirth\n",
      "7087                    .hack//g.u. vol.2//reminisce\n",
      "8597         .hack//g.u. vol.2//reminisce (jp sales)\n",
      "8293                   .hack//g.u. vol.3//redemption\n",
      "1561                         .hack//infection part 1\n",
      "9063                                     .hack//link\n",
      "2990                          .hack//mutation part 2\n",
      "4265                          .hack//outbreak part 3\n",
      "7992     .hack//quarantine part 4: the final chapter\n",
      "14329              .hack: sekai no mukou ni + versus\n",
      "3757                                      007 racing\n",
      "4475                          007: quantum of solace\n",
      "14658                         007: quantum of solace\n",
      "1285                          007: quantum of solace\n",
      "9507                          007: quantum of solace\n",
      "1785                          007: quantum of solace\n",
      "3120                          007: quantum of solace\n",
      "2243                    007: the world is not enough\n",
      "1204                    007: the world is not enough\n",
      "Name: name, dtype: object\n"
     ]
    }
   ],
   "source": [
    "print(df['name'].sort_values().head(20)) #imprimimos los primeros 20 valores de esta columna (ordenados alfabeticamente)"
   ]
  },
  {
   "attachments": {},
   "cell_type": "markdown",
   "metadata": {},
   "source": [
    "Se oberva que la fila 7087 y 8597 parecen ser el mismo videojuego salvo por `'(jp sales)'`. Se imprimiran las dos filas para investigación."
   ]
  },
  {
   "cell_type": "code",
   "execution_count": 20,
   "metadata": {},
   "outputs": [
    {
     "name": "stdout",
     "output_type": "stream",
     "text": [
      "name               .hack//g.u. vol.2//reminisce\n",
      "platform                                    ps2\n",
      "year_of_release                          2006.0\n",
      "genre                              role-playing\n",
      "na_sales                                   0.11\n",
      "eu_sales                                   0.09\n",
      "jp_sales                                    0.0\n",
      "other_sales                                0.03\n",
      "critic_score                                NaN\n",
      "user_score                                  NaN\n",
      "rating                                      NaN\n",
      "Name: 7087, dtype: object\n",
      "name               .hack//g.u. vol.2//reminisce (jp sales)\n",
      "platform                                               ps2\n",
      "year_of_release                                     2006.0\n",
      "genre                                         role-playing\n",
      "na_sales                                               0.0\n",
      "eu_sales                                               0.0\n",
      "jp_sales                                              0.16\n",
      "other_sales                                            0.0\n",
      "critic_score                                           NaN\n",
      "user_score                                             NaN\n",
      "rating                                                 NaN\n",
      "Name: 8597, dtype: object\n"
     ]
    }
   ],
   "source": [
    "for number in [7087, 8597]:\n",
    "    print(df.loc[number])"
   ]
  },
  {
   "attachments": {},
   "cell_type": "markdown",
   "metadata": {},
   "source": [
    "Los datos que no son sobre las ventas coinciden y en las ventas la diferencia es que el videojuego etiquetado con `'(jp sales)'` registra únicamente las ventas de Japón."
   ]
  },
  {
   "cell_type": "code",
   "execution_count": 21,
   "metadata": {},
   "outputs": [
    {
     "name": "stdout",
     "output_type": "stream",
     "text": [
      "['.hack//g.u. vol.2//reminisce (jp sales)' 'ape escape academy (jp sales)'\n",
      " 'atelier iris 3: grand phantasm (jp sales)'\n",
      " 'atelier iris 3: grand phantasm (us sales)'\n",
      " 'battlefield 2: modern combat(jp sales)' 'bleach: dark souls (jp sales)'\n",
      " 'bomberman (jp sales)' 'brave story: new traveler (us sales)'\n",
      " 'brave story: new traveller (jp sales)'\n",
      " 'chou-kuukan night pro yakyuu king (weekly jp sales)'\n",
      " 'chou-kuukan night pro yakyuu king(higher jp sales)'\n",
      " 'dance dance revolution: mario mix (jp sales)' 'draglade (jp sales)'\n",
      " 'dragon ball z: budokai tenkaichi 2 (jp sales)'\n",
      " 'dragon ball z: harukanaru densetsu (jp sales)'\n",
      " 'dragon ball: origins (jp & incomplete us sales)'\n",
      " 'dynasty warriors 6 (jp sales)' 'dynasty warriors vol. 2 (jp sales)'\n",
      " 'earth defense force 2017 (old jp sales)' 'enchanted arms (jp sales)'\n",
      " 'eternal poison (jp sales)'\n",
      " 'fatal fury: battle archives volume 1 (jp sales)'\n",
      " 'fatal fury: battle archives volume 2 (jp sales)'\n",
      " 'fifa soccer 2003 (weekly jp sales)' 'fishing master (jp sales)'\n",
      " 'fossil fighters (jp sales)' 'go! sudoku (jp sales)'\n",
      " \"gold's gym: cardio workout (others sales)\"\n",
      " 'growlanser: heritage of war (jp sales)' 'harvest moon ds (jp sales)'\n",
      " 'harvest moon ds (us sales)' 'harvest moon ds cute (jp sales)'\n",
      " 'harvest moon ds cute (us sales)' 'help wanted: 50 wacky jobs (jp sales)'\n",
      " 'igimon world ds (jp sales)' 'imagine figure skater (jp sales)'\n",
      " 'imagine: figure skater (us sales)'\n",
      " 'import tuner challenge (american sales)'\n",
      " 'international superstar soccer 2000 (all region sales)'\n",
      " 'international superstar soccer 2000 (jp weekly sales)'\n",
      " 'international superstar soccer 64 (weekly jp sales)'\n",
      " 'jam sessions: sing and play guitar (jp sales)'\n",
      " 'jam sessions: sing and play guitar (us sales)'\n",
      " 'luminous arc 2 (jp sales)'\n",
      " 'lunar 2: eternal blue(sales, but wrong system)' 'lux-pain (jp sales)'\n",
      " 'magical starsign (jp sales)' 'magical starsign (us sales)'\n",
      " 'mana khemia: alchemists of al-revis (jp sales)'\n",
      " 'medal of honor: european assault (all region sales)'\n",
      " 'medal of honor: european assault (weekly jp sales)'\n",
      " 'mega man battle network 5: double team ds (jp sales)'\n",
      " 'mega man battle network 5: double team ds (us sales)'\n",
      " 'metal gear solid: the essential collection (jp sales)'\n",
      " \"mickey's speedway usa (weekly jp sales)\"\n",
      " 'midnight club 3: dub edition (america weekly sales)'\n",
      " 'my pet shop (jp sales)' 'my world, my way (us sales)'\n",
      " 'namco museum 50th anniversary (jp sales)'\n",
      " 'namco museum battle collection (jp sales)'\n",
      " 'naruto: clash of ninja (jp sales)' 'naruto: ninja destiny (us sales)'\n",
      " 'naruto: ultimate ninja (jp sales)' 'naruto: ultimate ninja 3 (jp sales)'\n",
      " 'naruto: ultimate ninja heroes (jp sales)'\n",
      " 'naruto: uzumaki chronicles 2 (jp sales)'\n",
      " 'national geographic panda (jp sales)'\n",
      " 'national geographic panda (us sales)' 'nba live 06 (all region sales)'\n",
      " 'nba live 06 (weekly american sales)'\n",
      " 'pachi-slot teiou: golgo 13 las vegas (jp sales, but wrong system)'\n",
      " 'point blank ds (jp sales)' 'point blank ds (us sales)'\n",
      " 'pokémon mystery dungeon: red rescue team (us weekly sales)'\n",
      " 'pop cutie! street fashion simulation (jp sales)'\n",
      " 'popolocrois (jp sales)' 'prinny: can i really be the hero? (us sales)'\n",
      " 'pro evolution soccer 2008 (jp sales)'\n",
      " 'project gotham racing (jp weekly sales)'\n",
      " 'project gotham racing 2 (jp weekly sales)' 'puyo pop fever (jp sales)'\n",
      " 'puyo pop fever(us sales)' 'r-type command (correct us sales)'\n",
      " 'rallisport challenge(jp sales)'\n",
      " 'ratchet & clank: going commando (jp weekly sales)'\n",
      " 'ratchet & clank: up your arsenal (weekly american sales)'\n",
      " 'raw danger! (jp sales)'\n",
      " 'rengoku ii: the stairway to h.e.a.v.e.n. (jp sales)'\n",
      " 'retro game challenge (us sales)' 'river king: mystic valley (jp sales)'\n",
      " 'river king: mystic valley (us sales)' 'rondo of swords (jp sales)'\n",
      " 'rondo of swords (us sales)' 'samurai shodown anthology (jp sales)'\n",
      " 'samurai warriors 2: xtreme legends (jp sales)' 'scrabble (others sales)'\n",
      " 'secret agent clank(us sales)'\n",
      " 'shin megami tensei: devil summoner 2 - raidou kuzunoha vs. king abaddon (jp sales)'\n",
      " 'shin megami tensei: persona 3 (jp sales)' 'simcity creator (jp sales)'\n",
      " 'soulcalibur legends (jp sales)' \"spongebob's truth or square (us sales)\"\n",
      " \"street fighter ii': special champion edition (jp weekly sales)\"\n",
      " 'sudoku gridmaster (jp sales)'\n",
      " 'summer athletics: the ultimate challenge (others sales)'\n",
      " 'summer athletics: the ultimate challenge (us sales)'\n",
      " 'summer sports: paradise island (others sales)'\n",
      " 'super dodgeball brawlers (jp sales)'\n",
      " 'super robot taisen og saga: endless frontier (jp sales)'\n",
      " 'tetris 2 (all region sales)' 'tetris 2 (weekly jp sales)'\n",
      " 'the godfather (jp sales)' 'the godfather (old us sales)'\n",
      " 'the godfather (us & others sales)' 'the godfather (us sales)'\n",
      " 'the king of fighters collection: the orochi saga (jp sales)'\n",
      " 'the legend of zelda: the minish cap(weekly jp sales)'\n",
      " 'the urbz: sims in the city (all regions sales)'\n",
      " 'the urbz: sims in the city (us weekly sales)'\n",
      " \"tom clancy's  ghost recon advanced warfighter (weekly jp sales)\"\n",
      " 'tomb raider: underworld (others sales)'\n",
      " \"tony hawk's american wasteland (old all region sales)\"\n",
      " \"tony hawk's american wasteland (weekly american sales)\"\n",
      " 'touch detective (jp sales)' 'touchmaster 3(others sales)'\n",
      " \"ultimate ghosts 'n goblins (jp sales)\"\n",
      " 'virtua tennis: world tour (jp sales)'\n",
      " 'virtua tennis: world tour (us & others sales)'\n",
      " 'warriors of the lost empire (jp sales)' 'warriors orochi 2 (jp sales)'\n",
      " 'wild arms 5 (jp sales)'\n",
      " 'winning eleven: pro evolution soccer 2007 (all region sales)'\n",
      " 'world soccer winning eleven 9 (jp & others sales)'\n",
      " 'world soccer winning eleven 9 (us sales)' 'yoshi touch & go (jp sales)'\n",
      " \"yu-gi-oh! 5d's wheelie breakers (jp sales)\"\n",
      " 'yu-gi-oh! forbidden memories (jp sales)'\n",
      " 'yu-gi-oh! gx: spirit caller (american sales)'\n",
      " 'yu-gi-oh! gx: spirit caller (japan sales)'\n",
      " 'yu-gi-oh! gx: the beginning of destiny (jp sales)'\n",
      " 'yu-gi-oh! gx: the beginning of destiny (us sales)'\n",
      " 'yu-gi-oh! nightmare troubadour (jp sales)'\n",
      " 'yu-gi-oh! nightmare troubadour (us sales)'\n",
      " 'yu-gi-oh! the eternal duelist soul (jp sales)'\n",
      " 'yu-gi-oh! the sacred cards (american and others sales)'\n",
      " 'yu-gi-oh! the sacred cards (jp weekly sales)']\n"
     ]
    }
   ],
   "source": [
    "name_sales = df[df['name'].str.contains('sales')] #filtra la tabla solamente con las filas que contienen sales en la columna name\n",
    "print(name_sales['name'].sort_values().unique())"
   ]
  },
  {
   "attachments": {},
   "cell_type": "markdown",
   "metadata": {},
   "source": [
    "Se oberva que varios títulos contienen entre paréntesis las ventas de alguna o más regiones pero también, existen 3 que contienen más información:\n",
    "1. `'lunar 2: eternal blue(sales, but wrong system)'`.\n",
    "2. `'pachi-slot teiou: golgo 13 las vegas (jp sales, but wrong system)'`.\n",
    "3. `'r-type command (correct us sales)'`.\n",
    "\n",
    "Se imprimirán las filas que contienen `'lunar 2: eternal blue'` para investigación."
   ]
  },
  {
   "cell_type": "code",
   "execution_count": 22,
   "metadata": {},
   "outputs": [
    {
     "name": "stdout",
     "output_type": "stream",
     "text": [
      "                                                name platform  \\\n",
      "5331                  lunar 2: eternal blue complete       ps   \n",
      "9000  lunar 2: eternal blue(sales, but wrong system)      gen   \n",
      "9961                           lunar 2: eternal blue      sat   \n",
      "\n",
      "      year_of_release         genre  na_sales  eu_sales  jp_sales  \\\n",
      "5331           1999.0  role-playing      0.19      0.13      0.00   \n",
      "9000           1994.0  role-playing      0.00      0.00      0.14   \n",
      "9961           1998.0  role-playing      0.00      0.00      0.12   \n",
      "\n",
      "      other_sales  critic_score  user_score rating  \n",
      "5331         0.02          86.0         8.9      t  \n",
      "9000         0.00           NaN         NaN    NaN  \n",
      "9961         0.00           NaN         NaN    NaN  \n"
     ]
    }
   ],
   "source": [
    "print(df[df['name'].str.contains('lunar 2: eternal blue')])"
   ]
  },
  {
   "attachments": {},
   "cell_type": "markdown",
   "metadata": {},
   "source": [
    "Son tres filas, con años distintos, esto tiene sentido porque fue lanzado para diferentes consolas. Buscando información, el videojuego del año 1994, fue lanzado para Sega CD (scd) y no para Sega Genesis (gen)."
   ]
  },
  {
   "cell_type": "code",
   "execution_count": 23,
   "metadata": {},
   "outputs": [
    {
     "name": "stdout",
     "output_type": "stream",
     "text": [
      "name               lunar 2: eternal blue(sales, but wrong system)\n",
      "platform                                                      scd\n",
      "year_of_release                                            1994.0\n",
      "genre                                                role-playing\n",
      "na_sales                                                      0.0\n",
      "eu_sales                                                      0.0\n",
      "jp_sales                                                     0.14\n",
      "other_sales                                                   0.0\n",
      "critic_score                                                  NaN\n",
      "user_score                                                    NaN\n",
      "rating                                                        NaN\n",
      "Name: 9000, dtype: object\n"
     ]
    }
   ],
   "source": [
    "df.loc[9000, 'platform'] = 'scd' #corregimos la consola\n",
    "print(df.loc[9000])"
   ]
  },
  {
   "attachments": {},
   "cell_type": "markdown",
   "metadata": {},
   "source": [
    "Ahora se imprimirán las filas que contienen `'pachi-slot teiou: golgo 13 las vegas'` para investigación."
   ]
  },
  {
   "cell_type": "code",
   "execution_count": 24,
   "metadata": {},
   "outputs": [
    {
     "name": "stdout",
     "output_type": "stream",
     "text": [
      "                                                    name platform  \\\n",
      "16153  pachi-slot teiou: golgo 13 las vegas (jp sales...      ps2   \n",
      "\n",
      "       year_of_release genre  na_sales  eu_sales  jp_sales  other_sales  \\\n",
      "16153           2002.0  misc       0.0       0.0      0.01          0.0   \n",
      "\n",
      "       critic_score  user_score rating  \n",
      "16153           NaN         NaN    NaN  \n"
     ]
    }
   ],
   "source": [
    "print(df[df['name'].str.contains('pachi-slot teiou: golgo 13 las vegas')])"
   ]
  },
  {
   "attachments": {},
   "cell_type": "markdown",
   "metadata": {},
   "source": [
    "Es una única fila y según la información buscada este videojuego fue lanzado para la consola PlayStation (ps)."
   ]
  },
  {
   "cell_type": "code",
   "execution_count": 25,
   "metadata": {},
   "outputs": [
    {
     "name": "stdout",
     "output_type": "stream",
     "text": [
      "name               pachi-slot teiou: golgo 13 las vegas (jp sales...\n",
      "platform                                                          ps\n",
      "year_of_release                                               2002.0\n",
      "genre                                                           misc\n",
      "na_sales                                                         0.0\n",
      "eu_sales                                                         0.0\n",
      "jp_sales                                                        0.01\n",
      "other_sales                                                      0.0\n",
      "critic_score                                                     NaN\n",
      "user_score                                                       NaN\n",
      "rating                                                           NaN\n",
      "Name: 16153, dtype: object\n"
     ]
    }
   ],
   "source": [
    "df.loc[16153, 'platform'] = 'ps' #corregimos plataforma\n",
    "print(df.loc[16153])"
   ]
  },
  {
   "attachments": {},
   "cell_type": "markdown",
   "metadata": {},
   "source": [
    "Se buscarán las filas que contienen `'r-type command'` para información."
   ]
  },
  {
   "cell_type": "code",
   "execution_count": 26,
   "metadata": {},
   "outputs": [
    {
     "name": "stdout",
     "output_type": "stream",
     "text": [
      "                                    name platform  year_of_release     genre  \\\n",
      "11956                     r-type command      psp           2007.0  strategy   \n",
      "13946  r-type command (correct us sales)      psp           2007.0  strategy   \n",
      "\n",
      "       na_sales  eu_sales  jp_sales  other_sales  critic_score  user_score  \\\n",
      "11956      0.05       0.0      0.01         0.01          69.0         6.5   \n",
      "13946      0.04       0.0      0.00         0.00           NaN         NaN   \n",
      "\n",
      "      rating  \n",
      "11956   e10+  \n",
      "13946    NaN  \n"
     ]
    }
   ],
   "source": [
    "print(df[df['name'].str.contains('r-type command')])"
   ]
  },
  {
   "attachments": {},
   "cell_type": "markdown",
   "metadata": {},
   "source": [
    "Únicamente son dos filas, el mensaje entre paréntesis indica que es el dato correcto de las ventas en Norte América."
   ]
  },
  {
   "cell_type": "code",
   "execution_count": 27,
   "metadata": {},
   "outputs": [
    {
     "name": "stdout",
     "output_type": "stream",
     "text": [
      "name               r-type command\n",
      "platform                      psp\n",
      "year_of_release            2007.0\n",
      "genre                    strategy\n",
      "na_sales                     0.04\n",
      "eu_sales                      0.0\n",
      "jp_sales                     0.01\n",
      "other_sales                  0.01\n",
      "critic_score                 69.0\n",
      "user_score                    6.5\n",
      "rating                       e10+\n",
      "Name: 11956, dtype: object\n"
     ]
    }
   ],
   "source": [
    "df.loc[11956, 'na_sales'] = 0.04 #corregimos na_sales\n",
    "print(df.loc[11956])"
   ]
  },
  {
   "cell_type": "code",
   "execution_count": 28,
   "metadata": {},
   "outputs": [
    {
     "name": "stdout",
     "output_type": "stream",
     "text": [
      "                 name platform  year_of_release     genre  na_sales  eu_sales  \\\n",
      "11956  r-type command      psp           2007.0  strategy      0.04       0.0   \n",
      "\n",
      "       jp_sales  other_sales  critic_score  user_score rating  \n",
      "11956      0.01         0.01          69.0         6.5   e10+  \n"
     ]
    }
   ],
   "source": [
    "df = df.drop(index=13946) #eliminamos fila\n",
    "print(df[df['name'].str.contains('r-type command')])"
   ]
  },
  {
   "attachments": {},
   "cell_type": "markdown",
   "metadata": {},
   "source": [
    "Se eliminarán los mensajes entre paréntesis que se encontraron de los títulos de los videojuegos."
   ]
  },
  {
   "cell_type": "code",
   "execution_count": 29,
   "metadata": {},
   "outputs": [],
   "source": [
    "sales_list = ['(jp sales)', '(us sales)', '(weekly jp sales)', '(higher jp sales)', '(jp & incomplete us sales)',\n",
    "              '(old jp sales)', '(others sales)', '(american sales)', '(all region sales)', '(jp weekly sales)',\n",
    "              '(america weekly sales)', '(weekly american sales)', '(us weekly sales)', '(old us sales)',\n",
    "              '(old all region sales)', '(us & others sales)', '(jp & others sales)', '(japan sales)',\n",
    "              '(american and others sales)', '(sales, but wrong system)', '(jp sales, but wrong system)', '(all regions sales)']"
   ]
  },
  {
   "cell_type": "code",
   "execution_count": 30,
   "metadata": {},
   "outputs": [],
   "source": [
    "def delete_word(string, word): #función que evalua si el segundo argumento está en el primero\n",
    "    if word in string:\n",
    "        string = string.replace(word, '') #remueve el segundo argumento del primero\n",
    "        string = string.strip()\n",
    "        return string\n",
    "    else:\n",
    "        return string\n",
    "    \n",
    "def name_replace(string): #función que elimina el elemento de la lista del título (en caso de contenerlo)\n",
    "    for sale in sales_list: #recorre los elementos de la lista\n",
    "        string = delete_word(string, sale) #evalua la primera función para el elemento correspondiente del bucle\n",
    "    return string"
   ]
  },
  {
   "cell_type": "code",
   "execution_count": 31,
   "metadata": {},
   "outputs": [
    {
     "name": "stdout",
     "output_type": "stream",
     "text": [
      "                  name  year\n",
      "0    game 1 (jp sales)  2004\n",
      "1          g2 us sales  2005\n",
      "2  g3(jp weekly sales)  2006\n",
      "3                   g4  2007\n",
      "\n",
      "          name  year\n",
      "0       game 1  2004\n",
      "1  g2 us sales  2005\n",
      "2           g3  2006\n",
      "3           g4  2007\n"
     ]
    }
   ],
   "source": [
    "df_test = pd.DataFrame() #DataFrame de prueba\n",
    "df_test['name'] = ['game 1 (jp sales)', 'g2 us sales', 'g3(jp weekly sales)', 'g4']\n",
    "df_test['year'] = [2004, 2005, 2006, 2007]\n",
    "print(df_test)\n",
    "print()\n",
    "df_test['name'] = df_test['name'].apply(name_replace) #se aplica la función al DataFrame de prueba\n",
    "print(df_test)"
   ]
  },
  {
   "cell_type": "code",
   "execution_count": 32,
   "metadata": {},
   "outputs": [
    {
     "name": "stdout",
     "output_type": "stream",
     "text": [
      "Empty DataFrame\n",
      "Columns: [name, platform, year_of_release, genre, na_sales, eu_sales, jp_sales, other_sales, critic_score, user_score, rating]\n",
      "Index: []\n"
     ]
    }
   ],
   "source": [
    "df['name'] = df['name'].apply(name_replace) #se aplica la función a df\n",
    "df['name'] = df['name'].str.strip() #se eliminan espacios en blanco al inicio o final del título (de existir)\n",
    "print(df[df['name'].str.contains('sales')]) #se verifica que no existan más títulos con la palabra sales"
   ]
  },
  {
   "attachments": {},
   "cell_type": "markdown",
   "metadata": {},
   "source": [
    "Se han eliminado los elementos de la lista que se creó. Se imprimirá nuevamente la longitud de los valores únicos en la colunmna `'name'`."
   ]
  },
  {
   "cell_type": "code",
   "execution_count": 33,
   "metadata": {},
   "outputs": [
    {
     "name": "stdout",
     "output_type": "stream",
     "text": [
      "11418\n"
     ]
    }
   ],
   "source": [
    "print(len(df['name'].sort_values().unique()))"
   ]
  },
  {
   "attachments": {},
   "cell_type": "markdown",
   "metadata": {},
   "source": [
    "Esto indica la posibilidad que existan títulos con mensajes entre paréntesis, los cuales pueden contener información sobre los datos de las otras columnas."
   ]
  },
  {
   "cell_type": "code",
   "execution_count": 34,
   "metadata": {},
   "outputs": [
    {
     "name": "stdout",
     "output_type": "stream",
     "text": [
      "['attack on titan (koei)' 'blood: the last vampire (joukan)'\n",
      " \"cabela's big game hunter (2008)\" \"cabela's outdoor adventures (2006)\"\n",
      " \"cabela's outdoor adventures (2009)\" 'dance dance revolution (japan)'\n",
      " 'dance dance revolution (north america)' 'doom (2016)'\n",
      " 'f1 2016 (codemasters)' 'fuse (insomniac)' 'gadget racers (pal)'\n",
      " 'gallop racer (jp)' 'game of thrones (telltale)' 'ghostbusters (2016)'\n",
      " 'ghostbusters: the video game (ds version)' 'godzilla (2014)'\n",
      " 'godzilla (2015)' 'goldeneye 007 (2010)' 'gran turismo (psp)'\n",
      " 'hajime no ippo: the fighting! (2014)' 'hitman (2016)'\n",
      " 'jampack spring 2004 (rp-t)' 'jampack volume 13 (rp-m)'\n",
      " 'jampack volume 13 (rp-t)' 'jampack volume 14 (rp-t)'\n",
      " 'jampack winter 2003 (rp-m)' 'jampack winter 2003 (rp-t)'\n",
      " 'jampack: summer 2003 (rp-m)' 'jampack: summer 2003 (rp-t)'\n",
      " 'killer instinct (2013)' 'kimikiss (ebkore+)' \"king's field (japan)\"\n",
      " 'mad max (2015)' 'motor toon grand prix (japan)' 'need for speed (2015)'\n",
      " \"nobunaga's ambition (3ds)\" 'prince of persia (2008)' 'rain (2013)'\n",
      " 'ratchet & clank (2016)' 'resident evil (remake)'\n",
      " 'romance of the three kingdoms (3ds)' 'samurai spirits (cd)'\n",
      " 'simcity (2013)' 'sonic the hedgehog 2 (8-bit)'\n",
      " 'star wars battlefront (2015)' 'strider (2014)'\n",
      " 'tales of phantasia (ps1 & psp versions)' 'talkman (japan)'\n",
      " 'teenage mutant ninja turtles (3ds)' 'tetris worlds (online edition)'\n",
      " 'the amazing spider-man (console version)'\n",
      " 'the amazing spider-man (ds & mobile versions)'\n",
      " 'the amazing spider-man 2 (2014)' \"the king of fighters '94 (cd)\"\n",
      " \"the king of fighters '95 (cd)\" 'the legend of korra (3ds)'\n",
      " 'thief (2014)' 'tomb raider (2013)'\n",
      " 'transformer: rise of the dark spark (3ds)'\n",
      " 'transformers: revenge of the fallen (ds versions)'\n",
      " 'transformers: revenge of the fallen (wii & ps2 version)'\n",
      " 'transformers: revenge of the fallen (xbox 360, ps3, & pc versions)'\n",
      " 'transformers: the game (xbox 360, ps2, ps3, wii & pc versions)'\n",
      " 'transformers: war for cybertron (ds version)'\n",
      " 'transformers: war for cybertron (xbox 360, ps3, & pc versions)'\n",
      " 'twisted metal (2012)' 'wario land ii (gbc)'\n",
      " 'world soccer winning eleven 7 international (jp version)'\n",
      " 'zoo tycoon (2013)']\n"
     ]
    }
   ],
   "source": [
    "name_extra = df[df['name'].str.endswith(')')] #filtramos la tabla con las filas cuyo título termina con )\n",
    "print(name_extra['name'].sort_values().unique())"
   ]
  },
  {
   "attachments": {},
   "cell_type": "markdown",
   "metadata": {},
   "source": [
    "Algunos contienen las consolas de lanzamiento nuevamente pero ahora entre paréntesis. Se eliminará esta información de los títulos."
   ]
  },
  {
   "cell_type": "code",
   "execution_count": 35,
   "metadata": {},
   "outputs": [],
   "source": [
    "name_platform =['(ds version)', '(ds versions)', '(psp)', '(3ds)', '(cd)', '(ps1 & psp versions)', '(console version)',\n",
    "                '(ds & mobile versions)', '(wii & ps2 version)', '(xbox 360, ps3, & pc versions)',\n",
    "                '(xbox 360, ps2, ps3, wii & pc versions)', '(gbc)']"
   ]
  },
  {
   "cell_type": "code",
   "execution_count": 36,
   "metadata": {},
   "outputs": [],
   "source": [
    "def name_plat(string): #función que elimina el elemento de la lista del título (en caso de contenerlo)\n",
    "    for plat in name_platform: #recorre los elementos de la lista\n",
    "        string = delete_word(string, plat) #evalua la primera función para el elemento correspondiente del bucle\n",
    "    return string"
   ]
  },
  {
   "cell_type": "code",
   "execution_count": 37,
   "metadata": {},
   "outputs": [
    {
     "name": "stdout",
     "output_type": "stream",
     "text": [
      "                  name  year\n",
      "0  game 1 (ds version)  2004\n",
      "1               g2 psp  2005\n",
      "2              g3(3ds)  2006\n",
      "3                   g4  2007\n",
      "\n",
      "     name  year\n",
      "0  game 1  2004\n",
      "1  g2 psp  2005\n",
      "2      g3  2006\n",
      "3      g4  2007\n"
     ]
    }
   ],
   "source": [
    "df_test = pd.DataFrame() #DataFrame de prueba\n",
    "df_test['name'] = ['game 1 (ds version)', 'g2 psp', 'g3(3ds)', 'g4']\n",
    "df_test['year'] = [2004, 2005, 2006, 2007]\n",
    "print(df_test)\n",
    "print()\n",
    "df_test['name'] = df_test['name'].apply(name_plat) #se aplica la función al DataFrame de prueba\n",
    "print(df_test)"
   ]
  },
  {
   "cell_type": "code",
   "execution_count": 38,
   "metadata": {},
   "outputs": [
    {
     "name": "stdout",
     "output_type": "stream",
     "text": [
      "11406\n"
     ]
    }
   ],
   "source": [
    "df['name'] = df['name'].apply(name_plat) #aplicamos la función a df\n",
    "print(len(df['name'].sort_values().unique()))"
   ]
  },
  {
   "cell_type": "code",
   "execution_count": 39,
   "metadata": {},
   "outputs": [
    {
     "name": "stdout",
     "output_type": "stream",
     "text": [
      "['attack on titan (koei)' 'blood: the last vampire (joukan)'\n",
      " \"cabela's big game hunter (2008)\" \"cabela's outdoor adventures (2006)\"\n",
      " \"cabela's outdoor adventures (2009)\" 'dance dance revolution (japan)'\n",
      " 'dance dance revolution (north america)' 'doom (2016)'\n",
      " 'f1 2016 (codemasters)' 'fuse (insomniac)' 'gadget racers (pal)'\n",
      " 'gallop racer (jp)' 'game of thrones (telltale)' 'ghostbusters (2016)'\n",
      " 'godzilla (2014)' 'godzilla (2015)' 'goldeneye 007 (2010)'\n",
      " 'hajime no ippo: the fighting! (2014)' 'hitman (2016)'\n",
      " 'jampack spring 2004 (rp-t)' 'jampack volume 13 (rp-m)'\n",
      " 'jampack volume 13 (rp-t)' 'jampack volume 14 (rp-t)'\n",
      " 'jampack winter 2003 (rp-m)' 'jampack winter 2003 (rp-t)'\n",
      " 'jampack: summer 2003 (rp-m)' 'jampack: summer 2003 (rp-t)'\n",
      " 'killer instinct (2013)' 'kimikiss (ebkore+)' \"king's field (japan)\"\n",
      " 'mad max (2015)' 'motor toon grand prix (japan)' 'need for speed (2015)'\n",
      " 'prince of persia (2008)' 'rain (2013)' 'ratchet & clank (2016)'\n",
      " 'resident evil (remake)' 'simcity (2013)' 'sonic the hedgehog 2 (8-bit)'\n",
      " 'star wars battlefront (2015)' 'strider (2014)' 'talkman (japan)'\n",
      " 'tetris worlds (online edition)' 'the amazing spider-man 2 (2014)'\n",
      " 'thief (2014)' 'tomb raider (2013)' 'twisted metal (2012)'\n",
      " 'world soccer winning eleven 7 international (jp version)'\n",
      " 'zoo tycoon (2013)']\n"
     ]
    }
   ],
   "source": [
    "name_extra = df[df['name'].str.endswith(')')] #filtramos nuevamente la tabla con las filas cuyo título termina con )\n",
    "print(name_extra['name'].sort_values().unique())"
   ]
  },
  {
   "attachments": {},
   "cell_type": "markdown",
   "metadata": {},
   "source": [
    "Algunos títulos contienen un año o bien una región. Sin embargo, parece que esto indica un nuevo juego dentro de la misma serie. Se decide dejar esta etiqueta. Los títulos que comienzan con `'jampack'` parece que contienen su clasificación (ESRB), se imprimirán dichas filas para su investigación."
   ]
  },
  {
   "cell_type": "code",
   "execution_count": 40,
   "metadata": {},
   "outputs": [
    {
     "name": "stdout",
     "output_type": "stream",
     "text": [
      "                              name platform  year_of_release genre  na_sales  \\\n",
      "1061            jampack winter '99       ps           1999.0  misc      0.94   \n",
      "1171             jampack summer 2k       ps           2000.0  misc      0.88   \n",
      "1813            jampack winter '98       ps           1998.0  misc      0.63   \n",
      "2075           jampack winter 2000       ps           2000.0  misc      0.55   \n",
      "2140            jampack summer '99       ps           1999.0  misc      0.54   \n",
      "2746           jampack summer 2001      ps2           2001.0  misc      0.36   \n",
      "2843           jampack winter 2001      ps2           2001.0  misc      0.35   \n",
      "3163      jampack volume 13 (rp-t)      ps2           2005.0  misc      0.31   \n",
      "3386             jampack fall 2001       ps           2001.0  misc      0.33   \n",
      "3523           jampack summer 2002      ps2           2002.0  misc      0.28   \n",
      "3750             jampack volume 11      ps2           2004.0  misc      0.26   \n",
      "3768                jampack vol. 2       ps           1996.0  misc      0.30   \n",
      "3875           jampack winter 2002      ps2           2002.0  misc      0.25   \n",
      "4248    jampack winter 2003 (rp-m)      ps2           2003.0  misc      0.22   \n",
      "4380      jampack volume 13 (rp-m)      ps2           2005.0  misc      0.37   \n",
      "4657    jampack spring 2004 (rp-t)      ps2           2003.0  misc      0.20   \n",
      "4919    jampack winter 2003 (rp-t)      ps2           2003.0  misc      0.19   \n",
      "5722   jampack: summer 2003 (rp-m)      ps2           2003.0  misc      0.15   \n",
      "5775             jampack volume 12      ps2           2005.0  misc      0.15   \n",
      "7822   jampack: summer 2003 (rp-t)      ps2           2003.0  misc      0.09   \n",
      "8081                jampack vol. 1       ps           1996.0  misc      0.10   \n",
      "10363     jampack volume 14 (rp-t)      ps2           2006.0  misc      0.05   \n",
      "\n",
      "       eu_sales  jp_sales  other_sales  critic_score  user_score rating  \n",
      "1061       0.64       0.0         0.11           NaN         NaN    NaN  \n",
      "1171       0.60       0.0         0.10           NaN         NaN    NaN  \n",
      "1813       0.43       0.0         0.07           NaN         NaN    NaN  \n",
      "2075       0.38       0.0         0.07           NaN         NaN    NaN  \n",
      "2140       0.36       0.0         0.06           NaN         NaN    NaN  \n",
      "2746       0.28       0.0         0.10           NaN         NaN    NaN  \n",
      "2843       0.28       0.0         0.09           NaN         NaN    NaN  \n",
      "3163       0.24       0.0         0.08           NaN         NaN    NaN  \n",
      "3386       0.22       0.0         0.04           NaN         NaN    NaN  \n",
      "3523       0.22       0.0         0.07           NaN         NaN    NaN  \n",
      "3750       0.20       0.0         0.07           NaN         NaN    NaN  \n",
      "3768       0.20       0.0         0.03           NaN         NaN    NaN  \n",
      "3875       0.20       0.0         0.07           NaN         NaN    NaN  \n",
      "4248       0.18       0.0         0.06           NaN         NaN    NaN  \n",
      "4380       0.01       0.0         0.06           NaN         NaN    NaN  \n",
      "4657       0.16       0.0         0.05           NaN         NaN    NaN  \n",
      "4919       0.15       0.0         0.05           NaN         NaN    NaN  \n",
      "5722       0.12       0.0         0.04           NaN         NaN    NaN  \n",
      "5775       0.12       0.0         0.04           NaN         NaN    NaN  \n",
      "7822       0.07       0.0         0.02           NaN         NaN    NaN  \n",
      "8081       0.07       0.0         0.01           NaN         NaN    NaN  \n",
      "10363      0.04       0.0         0.01           NaN         NaN    NaN  \n"
     ]
    }
   ],
   "source": [
    "print(df[df['name'].str.startswith('jampack')])"
   ]
  },
  {
   "attachments": {},
   "cell_type": "markdown",
   "metadata": {},
   "source": [
    "Existen títulos cuya única diferencia en la información entre paréntesis, sin embargo, tienen ventas distintas por lo que en esencia son dos versiones distintas de la serie. Se decide continuar con estas etiquetas.\n",
    "\n",
    "Se creará una función para reemplazar el valor ausente en la clasificación de estas filas por '`rp'`."
   ]
  },
  {
   "cell_type": "code",
   "execution_count": 43,
   "metadata": {},
   "outputs": [],
   "source": [
    "def replace_rating(row):\n",
    "    name = str(row['name'])\n",
    "    rating = row['rating']\n",
    "    if re.search('rp-', name):\n",
    "        rating = 'rp'\n",
    "        return rating\n",
    "    else:\n",
    "        return rating"
   ]
  },
  {
   "cell_type": "code",
   "execution_count": 44,
   "metadata": {},
   "outputs": [
    {
     "name": "stdout",
     "output_type": "stream",
     "text": [
      "                         name rating\n",
      "0  jampack winter 2003 (rp-m)    NaN\n",
      "1                        fifa    NaN\n",
      "2  jampack winter 2003 (rp-t)    NaN\n",
      "3                     fifa 20      e\n",
      "\n",
      "                         name rating\n",
      "0  jampack winter 2003 (rp-m)     rp\n",
      "1                        fifa    NaN\n",
      "2  jampack winter 2003 (rp-t)     rp\n",
      "3                     fifa 20      e\n"
     ]
    }
   ],
   "source": [
    "df_test = pd.DataFrame()\n",
    "df_test['name'] = ['jampack winter 2003 (rp-m)', 'fifa', 'jampack winter 2003 (rp-t)', 'fifa 20']\n",
    "df_test['rating'] = [float('nan'), float('nan'), float('nan'), 'e']\n",
    "print(df_test)\n",
    "print()\n",
    "df_test['rating'] = df_test.apply(replace_rating, axis=1)\n",
    "print(df_test)"
   ]
  },
  {
   "cell_type": "code",
   "execution_count": 45,
   "metadata": {},
   "outputs": [
    {
     "name": "stdout",
     "output_type": "stream",
     "text": [
      "<class 'pandas.core.frame.DataFrame'>\n",
      "Int64Index: 16712 entries, 0 to 16714\n",
      "Data columns (total 11 columns):\n",
      " #   Column           Non-Null Count  Dtype  \n",
      "---  ------           --------------  -----  \n",
      " 0   name             16712 non-null  object \n",
      " 1   platform         16712 non-null  object \n",
      " 2   year_of_release  16443 non-null  float64\n",
      " 3   genre            16712 non-null  object \n",
      " 4   na_sales         16712 non-null  float64\n",
      " 5   eu_sales         16712 non-null  float64\n",
      " 6   jp_sales         16712 non-null  float64\n",
      " 7   other_sales      16712 non-null  float64\n",
      " 8   critic_score     8137 non-null   float64\n",
      " 9   user_score       7590 non-null   float64\n",
      " 10  rating           9957 non-null   object \n",
      "dtypes: float64(7), object(4)\n",
      "memory usage: 1.5+ MB\n"
     ]
    }
   ],
   "source": [
    "df['rating'] = df.apply(replace_rating, axis=1)\n",
    "df.info()"
   ]
  },
  {
   "cell_type": "code",
   "execution_count": 46,
   "metadata": {},
   "outputs": [
    {
     "name": "stdout",
     "output_type": "stream",
     "text": [
      "11406\n"
     ]
    }
   ],
   "source": [
    "print(len(df['name'].unique()))"
   ]
  },
  {
   "attachments": {},
   "cell_type": "markdown",
   "metadata": {},
   "source": [
    "Debido a que es una cantidad muy grande de valores únicos no se pueden revisar uno por uno en busca de ducplicados implícitos (por el tiempo). Se decide tratarlos como 11,406 juegos distintos.\n",
    "\n",
    "**Conclusiones**\n",
    "\n",
    "En esta sección se trataron las columnas con datos tipo object, en particular para buscar duplicados implícitos. Las columnas `'platform'` y `'genre'` no contenían duplicados implícitos. Se elimnaron las filas con valores ausentes en la columna `'genre'` (eran las mismas con valores ausentes para la columna `'name'`). La columna `'rating'` contenía las clasificaciones `'e'` y `'k-a'` que representan la misma información (apto pra todo público), por lo que se reemplazó `'k-a'` por `'e'`. La columna `'user_score'` contenía el valor `'tbd'` lo que significaba que el videojuego no había sido puntuado por lo que se reemplazaron estos datos por NaN (valor ausente) y se cambiaron los datos de esta columna a tipo float.\n",
    "\n",
    "En la siguiente sección se tratarán los valores ausentes.\n",
    "\n",
    "[Volver a Contenidos](#back)"
   ]
  },
  {
   "attachments": {},
   "cell_type": "markdown",
   "metadata": {},
   "source": [
    "### 1. 2. Valores ausentes <a id='data_review_missing'></a>\n",
    "\n",
    "Se imprimirá la cantidad de valores ausentes de cada columna para proceder a tratarlos."
   ]
  },
  {
   "cell_type": "code",
   "execution_count": 47,
   "metadata": {},
   "outputs": [
    {
     "name": "stdout",
     "output_type": "stream",
     "text": [
      "name                  0\n",
      "platform              0\n",
      "year_of_release     269\n",
      "genre                 0\n",
      "na_sales              0\n",
      "eu_sales              0\n",
      "jp_sales              0\n",
      "other_sales           0\n",
      "critic_score       8575\n",
      "user_score         9122\n",
      "rating             6755\n",
      "dtype: int64\n"
     ]
    }
   ],
   "source": [
    "print(df.isna().sum())"
   ]
  },
  {
   "attachments": {},
   "cell_type": "markdown",
   "metadata": {},
   "source": [
    "#### 1.2.1 Columna `'year_of_release'` <a id='data_review_missing_year'></a>\n",
    "\n",
    "Los valores ausentes en la columna `'year_of_release'` pueden deberse a un error en la recopilación de los datos. Algunos juegos se lanzan para diversas plataformas o consolas, de manera que se pueden reemplazar estos datos por el año de lanzamiento del juego para otra consola. Para esto, se definirá una función que analice el título del videojuego y asigne el año de lanzamiento para otra consola en caso de existir."
   ]
  },
  {
   "cell_type": "code",
   "execution_count": 48,
   "metadata": {},
   "outputs": [
    {
     "name": "stdout",
     "output_type": "stream",
     "text": [
      "<class 'pandas.core.frame.DataFrame'>\n",
      "Index: 11278 entries, '98 koshien to ¡shin chan flipa en colores!\n",
      "Data columns (total 1 columns):\n",
      " #   Column           Non-Null Count  Dtype  \n",
      "---  ------           --------------  -----  \n",
      " 0   year_of_release  11278 non-null  float64\n",
      "dtypes: float64(1)\n",
      "memory usage: 176.2+ KB\n",
      "\n",
      "                                             year_of_release\n",
      "name                                                        \n",
      "'98 koshien                                           1998.0\n",
      ".hack//g.u. vol.1//rebirth                            2006.0\n",
      ".hack//g.u. vol.2//reminisce                          2006.0\n",
      ".hack//g.u. vol.3//redemption                         2007.0\n",
      ".hack//infection part 1                               2002.0\n",
      ".hack//link                                           2010.0\n",
      ".hack//mutation part 2                                2002.0\n",
      ".hack//outbreak part 3                                2002.0\n",
      ".hack//quarantine part 4: the final chapter           2003.0\n",
      ".hack: sekai no mukou ni + versus                     2012.0\n"
     ]
    }
   ],
   "source": [
    "df_year_nonan = df.dropna(subset=['name']) #tabla sin valores ausentes en la columna del año de lanzamiento\n",
    "year_nonan = df_year_nonan.pivot_table(index='name', values='year_of_release')#promedio de años de un juego (diferentes consolas)\n",
    "year_nonan.info()\n",
    "print()\n",
    "print(year_nonan.head(10))"
   ]
  },
  {
   "cell_type": "code",
   "execution_count": 50,
   "metadata": {},
   "outputs": [],
   "source": [
    "def year_release(row):\n",
    "    name = row['name']\n",
    "    year = row['year_of_release']\n",
    "    if pd.isna(year):#evalua si es valor ausente\n",
    "        try:#si esxiste el juego en la tabla year_nonan\n",
    "            year = year_nonan.loc[name]\n",
    "        except:\n",
    "            year = year\n",
    "        return year\n",
    "    else:\n",
    "        return year"
   ]
  },
  {
   "cell_type": "code",
   "execution_count": 51,
   "metadata": {},
   "outputs": [
    {
     "name": "stdout",
     "output_type": "stream",
     "text": [
      "                         name  year_of_release\n",
      "0                 '98 koshien              NaN\n",
      "1  .hack//g.u. vol.1//rebirth              NaN\n",
      "2                        Fifa           2014.0\n",
      "3                  hola mundo              NaN\n",
      "\n",
      "                         name  year_of_release\n",
      "0                 '98 koshien           1998.0\n",
      "1  .hack//g.u. vol.1//rebirth           2006.0\n",
      "2                        Fifa           2014.0\n",
      "3                  hola mundo              NaN\n"
     ]
    }
   ],
   "source": [
    "df_test = pd.DataFrame()#DataFrame de prueba\n",
    "df_test['name'] = [\"'98 koshien\", '.hack//g.u. vol.1//rebirth', 'Fifa', 'hola mundo']\n",
    "df_test['year_of_release'] = [float('nan'), float('nan'), 2014, float('nan')]\n",
    "print(df_test)\n",
    "print()\n",
    "df_test['year_of_release'] = df_test.apply(year_release, axis=1)\n",
    "print(df_test)"
   ]
  },
  {
   "cell_type": "code",
   "execution_count": 52,
   "metadata": {},
   "outputs": [
    {
     "name": "stdout",
     "output_type": "stream",
     "text": [
      "name                  0\n",
      "platform              0\n",
      "year_of_release     141\n",
      "genre                 0\n",
      "na_sales              0\n",
      "eu_sales              0\n",
      "jp_sales              0\n",
      "other_sales           0\n",
      "critic_score       8575\n",
      "user_score         9122\n",
      "rating             6755\n",
      "dtype: int64\n"
     ]
    }
   ],
   "source": [
    "df['year_of_release'] = df.apply(year_release, axis=1)#se aplica la función a df\n",
    "print(df.isna().sum())"
   ]
  },
  {
   "attachments": {},
   "cell_type": "markdown",
   "metadata": {},
   "source": [
    "Aún existen valores ausentes, sin embargo estas filas representan menos del 1% de toda la tabla. Se investigará la media y mediana de los años de lanzamientos de la tabla sin valores ausentes (en la columna del año de lanzamiento) pero agrupada por consolas pues pueden existir juegos para consolas muy antiguas. Se decidirá reemplazar por alguna de las dos."
   ]
  },
  {
   "cell_type": "code",
   "execution_count": 56,
   "metadata": {},
   "outputs": [
    {
     "name": "stdout",
     "output_type": "stream",
     "text": [
      "                 mean  median\n",
      "platform                     \n",
      "2600      1982.137931  1982.0\n",
      "3do       1994.666667  1995.0\n",
      "3ds       2013.126953  2013.0\n",
      "dc        1999.942308  2000.0\n",
      "ds        2008.185290  2008.0\n"
     ]
    }
   ],
   "source": [
    "platform_year = df_year_nonan.pivot_table(index='platform', values='year_of_release', aggfunc=['mean', 'median'])\n",
    "platform_year.columns = ['mean', 'median']\n",
    "print(platform_year.head())"
   ]
  },
  {
   "attachments": {},
   "cell_type": "markdown",
   "metadata": {},
   "source": [
    "Estos dos valores son muy similares, de hecho, la medianda coincide con el redondeo de la media. Se decide utilizar la mediana para reemplazar los valores ausentes."
   ]
  },
  {
   "cell_type": "code",
   "execution_count": 63,
   "metadata": {},
   "outputs": [],
   "source": [
    "def year_release2(row):\n",
    "    platform = str(row['platform'])\n",
    "    year = float(row['year_of_release'])\n",
    "    if pd.isna(year):#evalua si es valor ausente\n",
    "        try:#si esxiste el juego en la tabla year_nonan\n",
    "            year = platform_year.loc[platform, 'median']\n",
    "        except:\n",
    "            year = year\n",
    "        return year\n",
    "    else:\n",
    "        return year"
   ]
  },
  {
   "cell_type": "code",
   "execution_count": 64,
   "metadata": {},
   "outputs": [
    {
     "name": "stdout",
     "output_type": "stream",
     "text": [
      "  platform  year_of_release\n",
      "0     2600              NaN\n",
      "1      3do              NaN\n",
      "2       xb           2014.0\n",
      "3    xbone              NaN\n",
      "\n",
      "  platform  year_of_release\n",
      "0     2600           1982.0\n",
      "1      3do           1995.0\n",
      "2       xb           2014.0\n",
      "3    xbone              NaN\n"
     ]
    }
   ],
   "source": [
    "df_test = pd.DataFrame()#DataFrame de prueba\n",
    "df_test['platform'] = ['2600', '3do', 'xb', 'xbone']\n",
    "df_test['year_of_release'] = [float('nan'), float('nan'), 2014, float('nan')]\n",
    "print(df_test)\n",
    "print()\n",
    "df_test['year_of_release'] = df_test.apply(year_release2, axis=1)\n",
    "print(df_test)"
   ]
  },
  {
   "cell_type": "code",
   "execution_count": 65,
   "metadata": {},
   "outputs": [
    {
     "name": "stdout",
     "output_type": "stream",
     "text": [
      "name                  0\n",
      "platform              0\n",
      "year_of_release       0\n",
      "genre                 0\n",
      "na_sales              0\n",
      "eu_sales              0\n",
      "jp_sales              0\n",
      "other_sales           0\n",
      "critic_score       8575\n",
      "user_score         9122\n",
      "rating             6755\n",
      "dtype: int64\n"
     ]
    }
   ],
   "source": [
    "df['year_of_release'] = df.apply(year_release2, axis=1)\n",
    "print(df.isna().sum())"
   ]
  },
  {
   "cell_type": "code",
   "execution_count": 67,
   "metadata": {},
   "outputs": [
    {
     "name": "stdout",
     "output_type": "stream",
     "text": [
      "<class 'pandas.core.frame.DataFrame'>\n",
      "Int64Index: 16712 entries, 0 to 16714\n",
      "Data columns (total 11 columns):\n",
      " #   Column           Non-Null Count  Dtype  \n",
      "---  ------           --------------  -----  \n",
      " 0   name             16712 non-null  object \n",
      " 1   platform         16712 non-null  object \n",
      " 2   year_of_release  16712 non-null  int64  \n",
      " 3   genre            16712 non-null  object \n",
      " 4   na_sales         16712 non-null  float64\n",
      " 5   eu_sales         16712 non-null  float64\n",
      " 6   jp_sales         16712 non-null  float64\n",
      " 7   other_sales      16712 non-null  float64\n",
      " 8   critic_score     8137 non-null   float64\n",
      " 9   user_score       7590 non-null   float64\n",
      " 10  rating           9957 non-null   object \n",
      "dtypes: float64(6), int64(1), object(4)\n",
      "memory usage: 1.5+ MB\n"
     ]
    }
   ],
   "source": [
    "df['year_of_release'] = df['year_of_release'].astype('int')#convertimos los datos de esta columna a tipo int\n",
    "df.info()"
   ]
  },
  {
   "attachments": {},
   "cell_type": "markdown",
   "metadata": {},
   "source": [
    "Ya no existen valores ausentes en esta columna. Además, se redondearon los valores pues el año de lanzamiento debe ser un valor entero.\n",
    "\n",
    "[Volver a Contenidos](#back)"
   ]
  },
  {
   "attachments": {},
   "cell_type": "markdown",
   "metadata": {},
   "source": [
    "#### 1.2.2 Columna `'critic_score'` <a id='data_review_missing_criticscore'></a>\n",
    "\n",
    "Para tratar los valores ausentes de la columna `'critic_score'` primero se creará una tabla sin éstos y se creará una nueva con el promedio de las puntuaciones por título (la puntuación puede variar dependiendo de la consola)."
   ]
  },
  {
   "cell_type": "code",
   "execution_count": 68,
   "metadata": {},
   "outputs": [
    {
     "name": "stdout",
     "output_type": "stream",
     "text": [
      "<class 'pandas.core.frame.DataFrame'>\n",
      "Index: 5077 entries, .hack//infection part 1 to zumba fitness: world party\n",
      "Data columns (total 1 columns):\n",
      " #   Column        Non-Null Count  Dtype  \n",
      "---  ------        --------------  -----  \n",
      " 0   critic_score  5077 non-null   float64\n",
      "dtypes: float64(1)\n",
      "memory usage: 79.3+ KB\n",
      "\n",
      "                               critic_score\n",
      "name                                       \n",
      ".hack//infection part 1                75.0\n",
      ".hack//mutation part 2                 76.0\n",
      ".hack//outbreak part 3                 70.0\n",
      "007 racing                             51.0\n",
      "007: quantum of solace                 63.8\n",
      "007: the world is not enough           61.0\n",
      "1 vs. 100                              38.0\n",
      "100 classic books                      70.0\n",
      "101-in-1 explosive megamix             46.0\n",
      "101-in-1 sports party megamix          41.0\n"
     ]
    }
   ],
   "source": [
    "df_critic_nonan = df.dropna(subset='critic_score')\n",
    "critic_nonan = df_critic_nonan.pivot_table(index='name', values='critic_score')\n",
    "critic_nonan.info()\n",
    "print()\n",
    "print(critic_nonan.head(10))"
   ]
  },
  {
   "attachments": {},
   "cell_type": "markdown",
   "metadata": {},
   "source": [
    "Se creará una función que asigne la puntuación a un título con valor ausente si es que se encuentra dentro de los títulos de la tabla anterior."
   ]
  },
  {
   "cell_type": "code",
   "execution_count": 69,
   "metadata": {},
   "outputs": [],
   "source": [
    "def critic_score(row):\n",
    "    name = row['name']\n",
    "    critic = row['critic_score']\n",
    "    if pd.isna(critic):\n",
    "        try:\n",
    "            critic = float(critic_nonan.loc[name])\n",
    "        except:\n",
    "            critic = critic\n",
    "        return critic\n",
    "    else:\n",
    "        return critic"
   ]
  },
  {
   "attachments": {},
   "cell_type": "markdown",
   "metadata": {},
   "source": [
    "Se creará una tabla de prueba para verificar si la función es correcta."
   ]
  },
  {
   "cell_type": "code",
   "execution_count": 70,
   "metadata": {},
   "outputs": [
    {
     "name": "stdout",
     "output_type": "stream",
     "text": [
      "                      name  critic_score\n",
      "0  .hack//infection part 1           NaN\n",
      "1               007 racing           NaN\n",
      "2                      XYZ           NaN\n",
      "3                     Fifa          23.0\n",
      "\n",
      "                      name  critic_score\n",
      "0  .hack//infection part 1          75.0\n",
      "1               007 racing          51.0\n",
      "2                      XYZ           NaN\n",
      "3                     Fifa          23.0\n"
     ]
    }
   ],
   "source": [
    "df_test = pd.DataFrame()\n",
    "df_test['name'] = ['.hack//infection part 1', '007 racing', 'XYZ', 'Fifa']\n",
    "df_test['critic_score'] = [float('nan'), float('nan'), float('nan'), 23]\n",
    "print(df_test)\n",
    "print()\n",
    "df_test['critic_score'] = df_test.apply(critic_score, axis=1)\n",
    "print(df_test)"
   ]
  },
  {
   "attachments": {},
   "cell_type": "markdown",
   "metadata": {},
   "source": [
    "La función es correcta. Se aplicará a `df`."
   ]
  },
  {
   "cell_type": "code",
   "execution_count": 71,
   "metadata": {},
   "outputs": [
    {
     "name": "stdout",
     "output_type": "stream",
     "text": [
      "name                  0\n",
      "platform              0\n",
      "year_of_release       0\n",
      "genre                 0\n",
      "na_sales              0\n",
      "eu_sales              0\n",
      "jp_sales              0\n",
      "other_sales           0\n",
      "critic_score       7519\n",
      "user_score         9122\n",
      "rating             6755\n",
      "dtype: int64\n"
     ]
    }
   ],
   "source": [
    "df['critic_score'] = df.apply(critic_score, axis=1)\n",
    "print(df.isna().sum())"
   ]
  },
  {
   "attachments": {},
   "cell_type": "markdown",
   "metadata": {},
   "source": [
    "Aún existe una cantidad considerable de valores ausentes en esta columna. Como no es la variable principal de interés, se reemplazarán estos valores ausentes con la media de las puntuaciones dependiendo de la consola y el género. Para esto, se creará una tabla dinámica donde las filas serán los tipos de consolas y las columnas serán los géneros."
   ]
  },
  {
   "cell_type": "code",
   "execution_count": 72,
   "metadata": {},
   "outputs": [
    {
     "name": "stdout",
     "output_type": "stream",
     "text": [
      "genre        action  adventure   fighting       misc   platform     puzzle  \\\n",
      "platform                                                                     \n",
      "3ds       63.118644  67.500000  68.857143  69.100000  72.444444  67.100000   \n",
      "dc              NaN  88.000000  89.000000        NaN  89.000000        NaN   \n",
      "ds        58.309353  61.372881  63.133333  63.322581  67.509091  66.722772   \n",
      "gba       62.152381  65.928571  67.250000  64.518519  68.074074  70.318182   \n",
      "gc        67.747126  64.571429  69.962963  63.166667  63.813559  66.600000   \n",
      "pc        74.304965  71.875000  80.000000  73.200000  74.800000  81.500000   \n",
      "ps        67.117647  58.000000  67.625000  73.833333  76.000000  81.000000   \n",
      "ps2       66.725100  62.348837  70.063291  67.888889  66.410959  72.636364   \n",
      "ps3       69.024896  68.300000  73.298246  71.960000  68.565217  75.000000   \n",
      "ps4       72.107143  73.428571  72.636364  70.555556  71.727273  88.000000   \n",
      "psp       63.898876  63.461538  67.062500  66.034483  69.541667  65.538462   \n",
      "psv       67.710526  71.400000  73.111111  77.750000  75.500000  69.000000   \n",
      "wii       60.931973  60.387097  65.785714  62.482353  66.150000  66.318182   \n",
      "wiiu      70.179487  47.000000  66.000000  68.166667  75.750000  74.000000   \n",
      "x360      67.118367  60.937500  69.964912  67.694444  65.333333  59.250000   \n",
      "xb        67.407143  68.318182  65.243902  64.677419  67.025641  52.800000   \n",
      "xone      71.490196  79.000000  63.400000  73.416667  74.000000        NaN   \n",
      "\n",
      "genre        racing  role-playing    shooter  simulation     sports   strategy  \n",
      "platform                                                                        \n",
      "3ds       62.000000     72.576923  70.000000   69.300000  62.285714  63.333333  \n",
      "dc        83.000000     88.000000  83.000000   82.000000  97.000000        NaN  \n",
      "ds        59.000000     69.154639  66.531250   62.037037  63.575000  65.636364  \n",
      "gba       67.547619     75.805556  66.142857   70.555556  69.740000  80.125000  \n",
      "gc        65.265306     72.208333  69.547619   77.200000  77.382979  74.875000  \n",
      "pc        77.270833     80.000000  76.541353   73.378049  80.333333  75.460938  \n",
      "ps        69.741935     79.428571  68.857143   80.500000  73.645161  63.800000  \n",
      "ps2       67.055215     71.639344  66.784173   70.703704  72.518672  69.512195  \n",
      "ps3       71.865672     70.551282  69.048000   62.800000  73.187500  70.777778  \n",
      "ps4       72.000000     73.375000  75.171429   72.500000  68.365854  69.750000  \n",
      "psp       68.020833     68.728571  68.121212   60.000000  71.657534  70.642857  \n",
      "psv       65.800000     71.468750  70.600000         NaN  72.833333        NaN  \n",
      "wii       53.971429     67.884615  65.558824   65.029412  63.410526  68.375000  \n",
      "wiiu      88.000000     79.500000  71.600000   51.000000  64.833333  87.000000  \n",
      "x360      70.402597     71.793103  69.664557   64.838710  69.541401  72.150000  \n",
      "xb        67.370370     75.000000  69.496000   73.565217  76.897436  68.000000  \n",
      "xone      74.133333     80.777778  77.656250   59.000000  71.093750  70.000000  \n"
     ]
    }
   ],
   "source": [
    "critic_pivot = df_critic_nonan.pivot_table(index='platform', columns='genre', values='critic_score')\n",
    "print(critic_pivot)"
   ]
  },
  {
   "cell_type": "code",
   "execution_count": 73,
   "metadata": {},
   "outputs": [],
   "source": [
    "def critic_mean(row):\n",
    "    platform = row['platform']\n",
    "    genre = row['genre']\n",
    "    critic = row['critic_score']\n",
    "    if pd.isna(critic):\n",
    "        try:\n",
    "            critic = float(critic_pivot.loc[platform, genre])\n",
    "        except:\n",
    "            critic = critic\n",
    "    else:\n",
    "        return critic\n",
    "    return critic"
   ]
  },
  {
   "cell_type": "code",
   "execution_count": 74,
   "metadata": {},
   "outputs": [
    {
     "name": "stdout",
     "output_type": "stream",
     "text": [
      "  platform      genre  critic_score\n",
      "0      3DS     Action           NaN\n",
      "1       DC       Misc           NaN\n",
      "2       DS  Adventure          23.5\n",
      "3      NES   Fighting           NaN\n",
      "\n",
      "  platform      genre  critic_score\n",
      "0      3DS     Action           NaN\n",
      "1       DC       Misc           NaN\n",
      "2       DS  Adventure          23.5\n",
      "3      NES   Fighting           NaN\n"
     ]
    }
   ],
   "source": [
    "df_test = pd.DataFrame()\n",
    "df_test['platform'] = ['3DS', 'DC', 'DS', 'NES']\n",
    "df_test['genre'] = ['Action', 'Misc', 'Adventure', 'Fighting']\n",
    "df_test['critic_score'] = [float('nan'), float('nan'), 23.5, float('nan')]\n",
    "print(df_test)\n",
    "print()\n",
    "df_test['critic_score'] = df_test.apply(critic_mean, axis=1)\n",
    "print(df_test)"
   ]
  },
  {
   "attachments": {},
   "cell_type": "markdown",
   "metadata": {},
   "source": [
    "La función es correcta, se aplicará a `df`."
   ]
  },
  {
   "cell_type": "code",
   "execution_count": 75,
   "metadata": {},
   "outputs": [
    {
     "name": "stdout",
     "output_type": "stream",
     "text": [
      "name                  0\n",
      "platform              0\n",
      "year_of_release       0\n",
      "genre                 0\n",
      "na_sales              0\n",
      "eu_sales              0\n",
      "jp_sales              0\n",
      "other_sales           0\n",
      "critic_score       1070\n",
      "user_score         9122\n",
      "rating             6755\n",
      "dtype: int64\n"
     ]
    }
   ],
   "source": [
    "df['critic_score'] = df.apply(critic_mean, axis=1)\n",
    "print(df.isna().sum())"
   ]
  },
  {
   "attachments": {},
   "cell_type": "markdown",
   "metadata": {},
   "source": [
    "Aún quedan valores ausentes, por lo que se reemplazará con la media o mediana de las puntuaciones por género."
   ]
  },
  {
   "cell_type": "code",
   "execution_count": 76,
   "metadata": {},
   "outputs": [
    {
     "name": "stdout",
     "output_type": "stream",
     "text": [
      "                   mean  median\n",
      "genre                          \n",
      "action        66.629101    68.0\n",
      "adventure     65.331269    66.0\n",
      "fighting      69.217604    72.0\n",
      "misc          66.619503    69.0\n",
      "platform      68.058350    69.0\n",
      "puzzle        67.424107    70.0\n",
      "racing        67.963612    69.0\n",
      "role-playing  72.652646    74.0\n",
      "shooter       70.181144    73.0\n",
      "simulation    68.619318    70.0\n",
      "sports        71.968174    75.0\n",
      "strategy      72.086093    73.0\n"
     ]
    }
   ],
   "source": [
    "critic_pivot2 = df_critic_nonan.pivot_table(index='genre', values='critic_score', aggfunc=['mean', 'median'])\n",
    "critic_pivot2.columns = ['mean', 'median']\n",
    "print(critic_pivot2)"
   ]
  },
  {
   "attachments": {},
   "cell_type": "markdown",
   "metadata": {},
   "source": [
    "Como las medias y medianas son distintas, se utilizará la mediana para reemplazar los valores ausentes que aún quedan."
   ]
  },
  {
   "cell_type": "code",
   "execution_count": 77,
   "metadata": {},
   "outputs": [],
   "source": [
    "def critic(row):\n",
    "    genre = str(row['genre'])\n",
    "    critic = float(row['critic_score'])\n",
    "    if pd.isna(critic):#evalua si es valor ausente\n",
    "        critic = critic_pivot2.loc[genre, 'median']\n",
    "        return critic\n",
    "    else:\n",
    "        return critic"
   ]
  },
  {
   "cell_type": "code",
   "execution_count": 78,
   "metadata": {},
   "outputs": [
    {
     "name": "stdout",
     "output_type": "stream",
     "text": [
      "       genre  critic_score\n",
      "0     action           NaN\n",
      "1  adventure           NaN\n",
      "2   fighting          23.5\n",
      "3       misc           NaN\n",
      "\n",
      "       genre  critic_score\n",
      "0     action          68.0\n",
      "1  adventure          66.0\n",
      "2   fighting          23.5\n",
      "3       misc          69.0\n"
     ]
    }
   ],
   "source": [
    "df_test = pd.DataFrame()\n",
    "df_test['genre'] = ['action', 'adventure', 'fighting', 'misc']\n",
    "df_test['critic_score'] = [float('nan'), float('nan'), 23.5, float('nan')]\n",
    "print(df_test)\n",
    "print()\n",
    "df_test['critic_score'] = df_test.apply(critic, axis=1)\n",
    "print(df_test)"
   ]
  },
  {
   "cell_type": "code",
   "execution_count": 79,
   "metadata": {},
   "outputs": [
    {
     "name": "stdout",
     "output_type": "stream",
     "text": [
      "name                  0\n",
      "platform              0\n",
      "year_of_release       0\n",
      "genre                 0\n",
      "na_sales              0\n",
      "eu_sales              0\n",
      "jp_sales              0\n",
      "other_sales           0\n",
      "critic_score          0\n",
      "user_score         9122\n",
      "rating             6755\n",
      "dtype: int64\n"
     ]
    }
   ],
   "source": [
    "df['critic_score'] = df.apply(critic, axis=1)\n",
    "print(df.isna().sum())"
   ]
  },
  {
   "attachments": {},
   "cell_type": "markdown",
   "metadata": {},
   "source": [
    "Ya no existen valores ausentes en esta columna.\n",
    "\n",
    "[Volver a Contenidos](#back)"
   ]
  },
  {
   "attachments": {},
   "cell_type": "markdown",
   "metadata": {},
   "source": [
    "#### 1.2.3 Columna `'user_score'` <a id='data_review_missing_userscore'></a>\n",
    "\n",
    "Para tratar los valores ausentes de la columna `'user_score'` primero se imprimirá las estadísticas descriptivas de esta columna."
   ]
  },
  {
   "cell_type": "code",
   "execution_count": 80,
   "metadata": {},
   "outputs": [
    {
     "name": "stdout",
     "output_type": "stream",
     "text": [
      "count    7590.000000\n",
      "mean        7.125046\n",
      "std         1.500006\n",
      "min         0.000000\n",
      "25%         6.400000\n",
      "50%         7.500000\n",
      "75%         8.200000\n",
      "max         9.700000\n",
      "Name: user_score, dtype: float64\n"
     ]
    }
   ],
   "source": [
    "print(df['user_score'].describe())"
   ]
  },
  {
   "attachments": {},
   "cell_type": "markdown",
   "metadata": {},
   "source": [
    "Como los valores están dentro de un rango específico se reemplazarán los valores ausentes por la media."
   ]
  },
  {
   "cell_type": "code",
   "execution_count": 81,
   "metadata": {},
   "outputs": [
    {
     "name": "stdout",
     "output_type": "stream",
     "text": [
      "name                  0\n",
      "platform              0\n",
      "year_of_release       0\n",
      "genre                 0\n",
      "na_sales              0\n",
      "eu_sales              0\n",
      "jp_sales              0\n",
      "other_sales           0\n",
      "critic_score          0\n",
      "user_score            0\n",
      "rating             6755\n",
      "dtype: int64\n"
     ]
    }
   ],
   "source": [
    "user_mean = df['user_score'].mean()\n",
    "df['user_score'] = df['user_score'].fillna(user_mean)\n",
    "print(df.isna().sum())"
   ]
  },
  {
   "attachments": {},
   "cell_type": "markdown",
   "metadata": {},
   "source": [
    "Ya no existen valores ausentes en esta columna.\n",
    "\n",
    "[Volver a Contenidos](#back)"
   ]
  },
  {
   "attachments": {},
   "cell_type": "markdown",
   "metadata": {},
   "source": [
    "#### 1.2.4 Columna `'rating'` <a id='data_review_missing_rating'></a>\n",
    "\n",
    "Los datos de la columna `'rating'` son variables categóricas, por esta razón, los valores ausentes se reemplazarán con el valor más frecuente por género."
   ]
  },
  {
   "cell_type": "code",
   "execution_count": 87,
   "metadata": {},
   "outputs": [
    {
     "name": "stdout",
     "output_type": "stream",
     "text": [
      "dict_keys(['action', 'adventure', 'fighting', 'misc', 'platform', 'puzzle', 'racing', 'role-playing', 'shooter', 'simulation', 'sports', 'strategy'])\n"
     ]
    }
   ],
   "source": [
    "df_rating_nonan = df.dropna(subset='rating')\n",
    "\n",
    "genre_list = ['action', 'adventure', 'fighting', 'misc', 'platform', 'puzzle', 'racing', 'role-playing',\n",
    "              'shooter', 'simulation', 'sports', 'strategy']\n",
    "\n",
    "rating = {} #diccionario de dataframe por género\n",
    "for genre in genre_list:\n",
    "    rating[genre] = df_rating_nonan[df_rating_nonan['genre'] == genre]\n",
    "    \n",
    "print(rating.keys())"
   ]
  },
  {
   "cell_type": "code",
   "execution_count": 90,
   "metadata": {},
   "outputs": [],
   "source": [
    "def mode_rating(data):\n",
    "    rat = data['rating']\n",
    "    frequency = {}#diccionario rating-frecuencia\n",
    "    for element in rat:\n",
    "        frequency[element] = frequency.get(element, 0) + 1\n",
    "    most_frequent = max(frequency.values())#frecuencia maxima\n",
    "    for key, value in frequency.items():#devuelve el rating\n",
    "        if value == most_frequent:\n",
    "            mode = key\n",
    "    return mode"
   ]
  },
  {
   "cell_type": "code",
   "execution_count": 91,
   "metadata": {},
   "outputs": [
    {
     "name": "stdout",
     "output_type": "stream",
     "text": [
      "       genre rating\n",
      "0     action      m\n",
      "1  adventure      t\n",
      "2   fighting      m\n",
      "3       misc     rp\n",
      "\n",
      "m\n"
     ]
    }
   ],
   "source": [
    "df_test = pd.DataFrame()#DataFrame de prueba\n",
    "df_test['genre'] = ['action', 'adventure', 'fighting', 'misc']\n",
    "df_test['rating'] = ['m', 't', 'm', 'rp']\n",
    "print(df_test)\n",
    "print()\n",
    "mode_df_test = mode_rating(df_test)\n",
    "print(mode_df_test)"
   ]
  },
  {
   "cell_type": "code",
   "execution_count": 92,
   "metadata": {},
   "outputs": [
    {
     "name": "stdout",
     "output_type": "stream",
     "text": [
      "{'action': 't', 'adventure': 'e', 'fighting': 't', 'misc': 'e', 'platform': 'e', 'puzzle': 'e', 'racing': 'e', 'role-playing': 't', 'shooter': 'm', 'simulation': 'e', 'sports': 'e', 'strategy': 't'}\n"
     ]
    }
   ],
   "source": [
    "modes = {}#diccionario género-moda\n",
    "for genre in genre_list:\n",
    "    modes[genre] = mode_rating(rating[genre])\n",
    "\n",
    "print(modes)"
   ]
  },
  {
   "cell_type": "code",
   "execution_count": 93,
   "metadata": {},
   "outputs": [],
   "source": [
    "def assign_rating(row):\n",
    "    genre = str(row['genre'])\n",
    "    rating = row['rating']\n",
    "    if pd.isna(rating):\n",
    "        rating = modes[genre]\n",
    "        return rating\n",
    "    else:\n",
    "        return rating"
   ]
  },
  {
   "cell_type": "code",
   "execution_count": 95,
   "metadata": {},
   "outputs": [
    {
     "name": "stdout",
     "output_type": "stream",
     "text": [
      "       genre rating\n",
      "0     action    NaN\n",
      "1  adventure      t\n",
      "2   fighting    NaN\n",
      "3       misc     rp\n",
      "\n",
      "       genre rating\n",
      "0     action      t\n",
      "1  adventure      t\n",
      "2   fighting      t\n",
      "3       misc     rp\n"
     ]
    }
   ],
   "source": [
    "df_test = pd.DataFrame()#DataFrame de prueba\n",
    "df_test['genre'] = ['action', 'adventure', 'fighting', 'misc']\n",
    "df_test['rating'] = [float('nan'), 't', float('nan'), 'rp']\n",
    "print(df_test)\n",
    "print()\n",
    "df_test['rating'] = df_test.apply(assign_rating, axis=1)\n",
    "print(df_test)"
   ]
  },
  {
   "cell_type": "code",
   "execution_count": 96,
   "metadata": {},
   "outputs": [
    {
     "name": "stdout",
     "output_type": "stream",
     "text": [
      "name               0\n",
      "platform           0\n",
      "year_of_release    0\n",
      "genre              0\n",
      "na_sales           0\n",
      "eu_sales           0\n",
      "jp_sales           0\n",
      "other_sales        0\n",
      "critic_score       0\n",
      "user_score         0\n",
      "rating             0\n",
      "dtype: int64\n"
     ]
    }
   ],
   "source": [
    "df['rating'] = df.apply(assign_rating, axis=1)#aplicamos la función a df\n",
    "print(df.isna().sum())"
   ]
  },
  {
   "attachments": {},
   "cell_type": "markdown",
   "metadata": {},
   "source": [
    "Ya no existen valores ausentes en esta columna.\n",
    "\n",
    "**Conclusiones**\n",
    "Se reemplazaron los valores ausentes de las columnas `'year_of_release'`, `'critic_score'` y `'user_score'` con medias o medianas dependiendo de las coonsolas y los géneros de los videojuegos. Para la columna `'rating'` se utilizó la moda de las clasificaciones por género de los videojuegos. Esto fue así porque los datos son categóricos.\n",
    "\n",
    "[Volver a Contenidos](#back)"
   ]
  },
  {
   "attachments": {},
   "cell_type": "markdown",
   "metadata": {},
   "source": [
    "### 1.3 Conclusiones <a id='data_review_conclusions'></a>\n",
    "\n",
    "Se examinó el DataFrame, donde las columnas que no presentaron valores ausentes fuero `'platform'` y la de las ventas. Se cambiaron a minúsculas todas las letras de los títulos de las columnas, así como los valores de las columnas de tipo object. Se eliminaron las 2 filas que contenían los valores ausentes tanto de la columna `'name'` como de `'genre'`.\n",
    "\n",
    "Se analizaron las columnas de tipo object en busqueda de duplicados implícitos. En la columna `'rating'` se unificaron dos valores que aportan la misma información: `'k-a'` y `'e'`. Se eliminaron algunos duplicados implícitos de la columna `'name'`, sin embargo tendría que revisarse con más detalle para asegurar que ya no existen tales duplicados.\n",
    "\n",
    "Se convirtieron los datos de la columna `'year_of_release'` a tipo int. Se reemplazaron los valores ausentes de las columnas numéricas con la media o mediana dependiendo de consola y género, mientras que los de la columna con valores categóricos se reemplazaron con la moda de la clasificación por género.\n",
    "\n",
    "Los datos son suficientes para comprobar hipótesis.\n",
    "\n",
    "[Volver a Contenidos](#back)"
   ]
  }
 ],
 "metadata": {
  "kernelspec": {
   "display_name": "Python 3",
   "language": "python",
   "name": "python3"
  },
  "language_info": {
   "codemirror_mode": {
    "name": "ipython",
    "version": 3
   },
   "file_extension": ".py",
   "mimetype": "text/x-python",
   "name": "python",
   "nbconvert_exporter": "python",
   "pygments_lexer": "ipython3",
   "version": "3.10.9"
  },
  "orig_nbformat": 4
 },
 "nbformat": 4,
 "nbformat_minor": 2
}
