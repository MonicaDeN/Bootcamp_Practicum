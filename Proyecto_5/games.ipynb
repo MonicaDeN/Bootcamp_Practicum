{
 "cells": [
  {
   "attachments": {},
   "cell_type": "markdown",
   "metadata": {},
   "source": [
    "# Videojuegos exitosos"
   ]
  },
  {
   "attachments": {},
   "cell_type": "markdown",
   "metadata": {},
   "source": [
    "## Índice <a id='back'></a>\n",
    "* [Introducción](#intro)\n",
    "* [Etapa 1. Descripción y preprocesamiento de los datos](#data_review)\n",
    "    * [1.1. Duplicados implícitos](#data_review_duplicated1)\n",
    "    * [1.2. Valores ausentes](#data_review_missing)\n",
    "    * [1.3. Llamadas](#data_review_calls)\n",
    "    * [1.4. Mensajes](#data_review_messages)\n",
    "    * [1.5. Internet](#data_review_internet)\n",
    "    * [1.6. Conclusiones](#data_review_conclusion)\n",
    "* [Etapa 2. Preparación de los datos](#data_prep)\n",
    "    * [2.1. Tarifa por usuario](#data_prep_income)\n",
    "* [Etapa 3. Análisis exploratorio de datos](#data_analysis)\n",
    "    * [3.1. Llamadas](#data_analysis_calls)\n",
    "    * [3.2. Mensajes](#data_analysis_messages)\n",
    "    * [3.3. Internet](#data_analysis_mb)\n",
    "    * [3.4. Ingreso](#data_analysis_income)\n",
    "    * [3.4. Conclusiones](#data_analysis_conclusions)\n",
    "* [Etapa 4. Comprobación de hipótesis](#data_hypothesis)\n",
    "    * [4.1. El ingreso difiere por plan](#data_hypothesis_plan)\n",
    "    * [4.2. El ingreso difiere por región](#data_hypothesis_zone)\n",
    "* [Etapa 5. Conclusión general](#data_conclusion)"
   ]
  },
  {
   "attachments": {},
   "cell_type": "markdown",
   "metadata": {},
   "source": [
    "## Introducción <a id='intro'></a>\n",
    "\n",
    "Este proyecto es realizado para la tienda online Ice, la cual vende videojuegos por todo el mundo. Se cuenta con datos del año 2016.\n",
    "\n",
    "**Objetivo e Hipótesis**\n",
    "\n",
    "El objetivo es identificar patrones para determinar si un juego tiene éxito o no. Se establecen dos hipótesis:\n",
    "1. Las calificaciones promedio de los usuarios para las plataformas Xbox One y PC son las mismas.\n",
    "2. Las calificaciones promedio de los usuarios para los géneros de Acción y Deportes son distintas.\n",
    "\n",
    "**Etapas**\n",
    "Los datos se almacenan en el archivo `/datasets/games.csv`. No hay ninguna información sobre la calidad de los datos así que se examinarán antes de probar las hipótesis.\n",
    "\n",
    "Primero, se evaluará la calidad de los datos y si los problemas son significativos, entonces, durante el preprocesamiento de datos, se tomará en cuenta los problemas más críticos. Finalmente se comprobarán las hipótesis para presentar las conclusiones.\n",
    " \n",
    "El proyecto consistirá en cinco etapas:\n",
    " 1. Descripción y preprocesamiento de los datos.\n",
    " 2. Preparación de los datos.\n",
    " 3. Análisis exploratorio de los datos.\n",
    " 4. Comprobación de hipótesis.\n",
    " 5. Conclusión general.\n",
    "\n",
    "[Volver a Contenidos](#back)"
   ]
  },
  {
   "attachments": {},
   "cell_type": "markdown",
   "metadata": {},
   "source": [
    "## Etapa 1. Descripción y preprocesamiento de los datos <a id='data_review'></a>\n",
    "\n",
    "Se importan las librerías necesarias."
   ]
  },
  {
   "cell_type": "code",
   "execution_count": 1,
   "metadata": {},
   "outputs": [],
   "source": [
    "# Cargar todas las librerías\n",
    "import pandas as pd\n",
    "import matplotlib.pyplot as plt\n",
    "import numpy as np\n",
    "from scipy import stats as st\n",
    "from math import ceil, factorial"
   ]
  },
  {
   "attachments": {},
   "cell_type": "markdown",
   "metadata": {},
   "source": [
    "Se lee el archivo y se guarda en la variable `df`."
   ]
  },
  {
   "cell_type": "code",
   "execution_count": 2,
   "metadata": {},
   "outputs": [],
   "source": [
    "try:\n",
    "    df = pd.read_csv('games.csv')\n",
    "except:\n",
    "    df = pd.read_csv('/datasets/games.csv')"
   ]
  },
  {
   "attachments": {},
   "cell_type": "markdown",
   "metadata": {},
   "source": [
    "Se imprime la información general y las primeras 10 filas."
   ]
  },
  {
   "cell_type": "code",
   "execution_count": 3,
   "metadata": {},
   "outputs": [
    {
     "name": "stdout",
     "output_type": "stream",
     "text": [
      "<class 'pandas.core.frame.DataFrame'>\n",
      "RangeIndex: 16715 entries, 0 to 16714\n",
      "Data columns (total 11 columns):\n",
      " #   Column           Non-Null Count  Dtype  \n",
      "---  ------           --------------  -----  \n",
      " 0   Name             16713 non-null  object \n",
      " 1   Platform         16715 non-null  object \n",
      " 2   Year_of_Release  16446 non-null  float64\n",
      " 3   Genre            16713 non-null  object \n",
      " 4   NA_sales         16715 non-null  float64\n",
      " 5   EU_sales         16715 non-null  float64\n",
      " 6   JP_sales         16715 non-null  float64\n",
      " 7   Other_sales      16715 non-null  float64\n",
      " 8   Critic_Score     8137 non-null   float64\n",
      " 9   User_Score       10014 non-null  object \n",
      " 10  Rating           9949 non-null   object \n",
      "dtypes: float64(6), object(5)\n",
      "memory usage: 1.4+ MB\n",
      "\n",
      "                        Name Platform  Year_of_Release         Genre  \\\n",
      "0                 Wii Sports      Wii           2006.0        Sports   \n",
      "1          Super Mario Bros.      NES           1985.0      Platform   \n",
      "2             Mario Kart Wii      Wii           2008.0        Racing   \n",
      "3          Wii Sports Resort      Wii           2009.0        Sports   \n",
      "4   Pokemon Red/Pokemon Blue       GB           1996.0  Role-Playing   \n",
      "5                     Tetris       GB           1989.0        Puzzle   \n",
      "6      New Super Mario Bros.       DS           2006.0      Platform   \n",
      "7                   Wii Play      Wii           2006.0          Misc   \n",
      "8  New Super Mario Bros. Wii      Wii           2009.0      Platform   \n",
      "9                  Duck Hunt      NES           1984.0       Shooter   \n",
      "\n",
      "   NA_sales  EU_sales  JP_sales  Other_sales  Critic_Score User_Score Rating  \n",
      "0     41.36     28.96      3.77         8.45          76.0          8      E  \n",
      "1     29.08      3.58      6.81         0.77           NaN        NaN    NaN  \n",
      "2     15.68     12.76      3.79         3.29          82.0        8.3      E  \n",
      "3     15.61     10.93      3.28         2.95          80.0          8      E  \n",
      "4     11.27      8.89     10.22         1.00           NaN        NaN    NaN  \n",
      "5     23.20      2.26      4.22         0.58           NaN        NaN    NaN  \n",
      "6     11.28      9.14      6.50         2.88          89.0        8.5      E  \n",
      "7     13.96      9.18      2.93         2.84          58.0        6.6      E  \n",
      "8     14.44      6.94      4.70         2.24          87.0        8.4      E  \n",
      "9     26.93      0.63      0.28         0.47           NaN        NaN    NaN  \n"
     ]
    }
   ],
   "source": [
    "df.info()\n",
    "print()\n",
    "print(df.head(10))"
   ]
  },
  {
   "attachments": {},
   "cell_type": "markdown",
   "metadata": {},
   "source": [
    "La tabla cuenta con 16,715 filas y 11 columnas, las cuales son:\n",
    "\n",
    "1. `'Name'` - Título del videojuego.\n",
    "2. `'Platform'` - Consola o pltaforma del videojuego.\n",
    "3. `'Year_of_Release'` - Año de lanzamiento del videojuego.\n",
    "4. `'Genre'` - Género del videojuego.\n",
    "5. `'NA_sales'` - ventas en Norteamérica, en millones de dólares estadounidenses.\n",
    "6. `'EU_sales'` - ventas en Europa, en millones de dólares estadounidenses.\n",
    "7. `'JP_sales'` - ventas en Japón, en millones de dólares estadounidenses.\n",
    "8. `'Other_sales'` - ventas en otras regiones, en millones de dólares estadounidenses.\n",
    "9. `'Critic_Score'` - calificación según la crítica (máximo 100).\n",
    "10. `'User_Score'` - calificación según los usuarios (máximo 10).\n",
    "11. `'Rating'` - clasificación ESRB.\n",
    "\n",
    "Existen valores ausentes en las columnas `'Name'`, `'Year_of_Release'`, `'genre'`, `'Critic_Score'`, `'User_Score'`y `'Rating'`. Se investigará más sobre cada una de ellas. Los nombres de las columnas usan letras mayúsculas y minúsculas, se cambiarán por minúsculas todas las letras.\n",
    "\n",
    "Se imprimirán los títulos de las columnas en busca de problemas más sútiles."
   ]
  },
  {
   "cell_type": "code",
   "execution_count": 4,
   "metadata": {},
   "outputs": [
    {
     "name": "stdout",
     "output_type": "stream",
     "text": [
      "Index(['Name', 'Platform', 'Year_of_Release', 'Genre', 'NA_sales', 'EU_sales',\n",
      "       'JP_sales', 'Other_sales', 'Critic_Score', 'User_Score', 'Rating'],\n",
      "      dtype='object')\n"
     ]
    }
   ],
   "source": [
    "print(df.columns)"
   ]
  },
  {
   "attachments": {},
   "cell_type": "markdown",
   "metadata": {},
   "source": [
    "El único detalle es el uso de mayúsculas y minúsculas. Se cambian a minúsculas todas las letras."
   ]
  },
  {
   "cell_type": "code",
   "execution_count": 5,
   "metadata": {},
   "outputs": [
    {
     "name": "stdout",
     "output_type": "stream",
     "text": [
      "Index(['name', 'platform', 'year_of_release', 'genre', 'na_sales', 'eu_sales',\n",
      "       'jp_sales', 'other_sales', 'critic_score', 'user_score', 'rating'],\n",
      "      dtype='object')\n"
     ]
    }
   ],
   "source": [
    "df.columns = df.columns.str.lower()\n",
    "print(df.columns)"
   ]
  },
  {
   "attachments": {},
   "cell_type": "markdown",
   "metadata": {},
   "source": [
    "A continuación se imprimirán los valores únicos de la columna `'platform'` (la cual no tiene valores ausentes)."
   ]
  },
  {
   "cell_type": "code",
   "execution_count": 6,
   "metadata": {},
   "outputs": [
    {
     "name": "stdout",
     "output_type": "stream",
     "text": [
      "['2600' '3DO' '3DS' 'DC' 'DS' 'GB' 'GBA' 'GC' 'GEN' 'GG' 'N64' 'NES' 'NG'\n",
      " 'PC' 'PCFX' 'PS' 'PS2' 'PS3' 'PS4' 'PSP' 'PSV' 'SAT' 'SCD' 'SNES' 'TG16'\n",
      " 'WS' 'Wii' 'WiiU' 'X360' 'XB' 'XOne']\n"
     ]
    }
   ],
   "source": [
    "print(df['platform'].sort_values().unique())"
   ]
  },
  {
   "attachments": {},
   "cell_type": "markdown",
   "metadata": {},
   "source": [
    "Estos valores únicos pertenecen a 31 consolas (o plataformas). Se creará un diccionario con estos valores únicos como claves y los nombres completos de las consolas como sus valores (la información fue encontrada en internet). Esto es por si resulta neceario más adelante y para verificar que no existen duplicados implícitos."
   ]
  },
  {
   "cell_type": "code",
   "execution_count": 7,
   "metadata": {},
   "outputs": [],
   "source": [
    "platform_dict = {\n",
    "    '2600': 'Atari 2600',\n",
    "    '3DO': '3DO Interactive Multiplayer',\n",
    "    '3DS': 'Nintendo 3DS',\n",
    "    'DC': 'Sega Dreamcast',\n",
    "    'DS': 'Nintendo DS',\n",
    "    'GB': 'Nintendo Game Boy',\n",
    "    'GBA': 'Nintengo Game Boy Advance',\n",
    "    'GC': 'Nintendo GameCube',\n",
    "    'GEN': 'Sega Genesis',\n",
    "    'GG': 'Sega Game Gear',\n",
    "    'N64': 'Nintendo 64',\n",
    "    'NES': 'Nintendo NES',\n",
    "    'NG': 'Neo Geo',\n",
    "    'PC': 'Portable Computer',\n",
    "    'PCFX': 'NEC PC-FX',\n",
    "    'PS': 'PlayStation',\n",
    "    'PS1': 'PlayStation 2',\n",
    "    'PS3': 'PlayStation 3',\n",
    "    'PS4': 'PlayStation 4',\n",
    "    'PSP': 'PlayStation Portable',\n",
    "    'PSV': 'PlayStation Vita',\n",
    "    'SAT': 'Sega Saturn',\n",
    "    'SCD': 'Sega CD',\n",
    "    'SNES': 'Super Nintendo',\n",
    "    'TG16': 'PC Engine',\n",
    "    'WS': 'WonderSwan',\n",
    "    'Wii': 'Nintendo Wii',\n",
    "    'WiiU': 'Nintendo Wii U',\n",
    "    'X360': 'Xbox 360',\n",
    "    'XB': 'Xbox',\n",
    "    'XOne': 'Xbox One'\n",
    "}"
   ]
  },
  {
   "attachments": {},
   "cell_type": "markdown",
   "metadata": {},
   "source": [
    "No existen duplicados implícitos. En la siguiente sección se analizarán los datos de la columna '`name'`.\n",
    "\n",
    "[Volver a Contenidos](#back)"
   ]
  },
  {
   "attachments": {},
   "cell_type": "markdown",
   "metadata": {},
   "source": [
    "### 1. 1. Duplicados implícitos <a id='data_review_duplicated1'></a>\n",
    "\n",
    "Los datos de la columna `'name'` son de tipo object, por lo que pueden existir duplicados implícitos, además contiene dos valores ausentes que pueden deberse a un error en la recopilación de los datos. Lo primero que se realizará es eliminar espacios en blanco al inicio o final, se cambiarán a minúsculas todos los datos y se reemplazarán los dos valores ausentes por `'unknown'`."
   ]
  },
  {
   "cell_type": "code",
   "execution_count": 8,
   "metadata": {},
   "outputs": [],
   "source": [
    "df['name'] = df['name'].str.strip() #quita espacios en blanco al inicio o final\n",
    "df['name'] = df['name'].str.lower()\n",
    "df['name'] = df['name'].fillna('unknown')"
   ]
  },
  {
   "attachments": {},
   "cell_type": "markdown",
   "metadata": {},
   "source": [
    "A continuación se imprimirá la cantidad de valores únicos de esta columna."
   ]
  },
  {
   "cell_type": "code",
   "execution_count": 9,
   "metadata": {},
   "outputs": [
    {
     "name": "stdout",
     "output_type": "stream",
     "text": [
      "11560\n"
     ]
    }
   ],
   "source": [
    "print(len(df['name'].sort_values().unique()))"
   ]
  },
  {
   "attachments": {},
   "cell_type": "markdown",
   "metadata": {},
   "source": [
    "Existen 11,560 valores únicos de 16,715 filas, es muy probable que existan duplicados implícitos. Se imprimirán las primeras 10 filas con los títulos en orden."
   ]
  },
  {
   "cell_type": "code",
   "execution_count": 10,
   "metadata": {},
   "outputs": [
    {
     "name": "stdout",
     "output_type": "stream",
     "text": [
      "4728                                    '98 koshien\n",
      "8342                     .hack//g.u. vol.1//rebirth\n",
      "7087                   .hack//g.u. vol.2//reminisce\n",
      "8597        .hack//g.u. vol.2//reminisce (jp sales)\n",
      "8293                  .hack//g.u. vol.3//redemption\n",
      "1561                        .hack//infection part 1\n",
      "9063                                    .hack//link\n",
      "2990                         .hack//mutation part 2\n",
      "4265                         .hack//outbreak part 3\n",
      "7992    .hack//quarantine part 4: the final chapter\n",
      "Name: name, dtype: object\n"
     ]
    }
   ],
   "source": [
    "print(df['name'].sort_values().head(10))"
   ]
  },
  {
   "attachments": {},
   "cell_type": "markdown",
   "metadata": {},
   "source": [
    "Se oberva que la fila 7087 y 8597 parecen ser el mismo videojuego salvo por `'(jp sales)'`. Se imprimiran las dos filas para investigación."
   ]
  },
  {
   "cell_type": "code",
   "execution_count": 11,
   "metadata": {},
   "outputs": [
    {
     "name": "stdout",
     "output_type": "stream",
     "text": [
      "name               .hack//g.u. vol.2//reminisce\n",
      "platform                                    PS2\n",
      "year_of_release                          2006.0\n",
      "genre                              Role-Playing\n",
      "na_sales                                   0.11\n",
      "eu_sales                                   0.09\n",
      "jp_sales                                    0.0\n",
      "other_sales                                0.03\n",
      "critic_score                                NaN\n",
      "user_score                                  NaN\n",
      "rating                                      NaN\n",
      "Name: 7087, dtype: object\n",
      "name               .hack//g.u. vol.2//reminisce (jp sales)\n",
      "platform                                               PS2\n",
      "year_of_release                                     2006.0\n",
      "genre                                         Role-Playing\n",
      "na_sales                                               0.0\n",
      "eu_sales                                               0.0\n",
      "jp_sales                                              0.16\n",
      "other_sales                                            0.0\n",
      "critic_score                                           NaN\n",
      "user_score                                             NaN\n",
      "rating                                                 NaN\n",
      "Name: 8597, dtype: object\n"
     ]
    }
   ],
   "source": [
    "for number in [7087, 8597]:\n",
    "    print(df.loc[number])"
   ]
  },
  {
   "attachments": {},
   "cell_type": "markdown",
   "metadata": {},
   "source": [
    "Los datos que no son sobre las ventas coinciden y en las ventas la diferencia es que el videojuego etiquetado con `'(jp sales)'` registra únicamente las ventas de Japón. Se filtrará la tabla por filas que contengan la palabra `'sales'` para detectar estos duplicados y eliminarlos."
   ]
  },
  {
   "cell_type": "code",
   "execution_count": 12,
   "metadata": {},
   "outputs": [
    {
     "name": "stdout",
     "output_type": "stream",
     "text": [
      "['.hack//g.u. vol.2//reminisce (jp sales)' 'ape escape academy (jp sales)'\n",
      " 'atelier iris 3: grand phantasm (jp sales)'\n",
      " 'atelier iris 3: grand phantasm (us sales)'\n",
      " 'battlefield 2: modern combat(jp sales)' 'bleach: dark souls (jp sales)'\n",
      " 'bomberman (jp sales)' 'brave story: new traveler (us sales)'\n",
      " 'brave story: new traveller (jp sales)'\n",
      " 'chou-kuukan night pro yakyuu king (weekly jp sales)'\n",
      " 'chou-kuukan night pro yakyuu king(higher jp sales)'\n",
      " 'dance dance revolution: mario mix (jp sales)'\n",
      " 'digimon world ds (jp sales)' 'draglade (jp sales)'\n",
      " 'dragon ball z: budokai tenkaichi 2 (jp sales)'\n",
      " 'dragon ball z: harukanaru densetsu (jp sales)'\n",
      " 'dragon ball: origins (jp & incomplete us sales)'\n",
      " 'dynasty warriors 6 (jp sales)' 'dynasty warriors vol. 2 (jp sales)'\n",
      " 'earth defense force 2017 (old jp sales)' 'enchanted arms (jp sales)'\n",
      " 'eternal poison (jp sales)'\n",
      " 'fatal fury: battle archives volume 1 (jp sales)'\n",
      " 'fatal fury: battle archives volume 2 (jp sales)'\n",
      " 'fifa soccer 2003 (weekly jp sales)' 'fishing master (jp sales)'\n",
      " 'fossil fighters (jp sales)' 'go! sudoku (jp sales)'\n",
      " \"gold's gym: cardio workout (others sales)\"\n",
      " 'growlanser: heritage of war (jp sales)' 'harvest moon ds (jp sales)'\n",
      " 'harvest moon ds (us sales)' 'harvest moon ds cute (jp sales)'\n",
      " 'harvest moon ds cute (us sales)' 'help wanted: 50 wacky jobs (jp sales)'\n",
      " 'imagine figure skater (jp sales)' 'imagine: figure skater (us sales)'\n",
      " 'import tuner challenge (american sales)'\n",
      " 'international superstar soccer 2000 (all region sales)'\n",
      " 'international superstar soccer 2000 (jp weekly sales)'\n",
      " 'international superstar soccer 64 (weekly jp sales)'\n",
      " 'jam sessions: sing and play guitar (jp sales)'\n",
      " 'jam sessions: sing and play guitar (us sales)'\n",
      " 'luminous arc 2 (jp sales)'\n",
      " 'lunar 2: eternal blue(sales, but wrong system)' 'lux-pain (jp sales)'\n",
      " 'magical starsign (jp sales)' 'magical starsign (us sales)'\n",
      " 'mana khemia: alchemists of al-revis (jp sales)'\n",
      " 'medal of honor: european assault (all region sales)'\n",
      " 'medal of honor: european assault (weekly jp sales)'\n",
      " 'mega man battle network 5: double team ds (jp sales)'\n",
      " 'mega man battle network 5: double team ds (us sales)'\n",
      " 'metal gear solid: the essential collection (jp sales)'\n",
      " \"mickey's speedway usa (weekly jp sales)\"\n",
      " 'midnight club 3: dub edition (america weekly sales)'\n",
      " 'my pet shop (jp sales)' 'my world, my way (us sales)'\n",
      " 'namco museum 50th anniversary (jp sales)'\n",
      " 'namco museum battle collection (jp sales)'\n",
      " 'naruto: clash of ninja (jp sales)' 'naruto: ninja destiny (us sales)'\n",
      " 'naruto: ultimate ninja (jp sales)' 'naruto: ultimate ninja 3 (jp sales)'\n",
      " 'naruto: ultimate ninja heroes (jp sales)'\n",
      " 'naruto: uzumaki chronicles 2 (jp sales)'\n",
      " 'national geographic panda (jp sales)'\n",
      " 'national geographic panda (us sales)' 'nba live 06 (all region sales)'\n",
      " 'nba live 06 (weekly american sales)'\n",
      " 'pachi-slot teiou: golgo 13 las vegas (jp sales, but wrong system)'\n",
      " 'point blank ds (jp sales)' 'point blank ds (us sales)'\n",
      " 'pokémon mystery dungeon: red rescue team (us weekly sales)'\n",
      " 'pop cutie! street fashion simulation (jp sales)'\n",
      " 'popolocrois (jp sales)' 'prinny: can i really be the hero? (us sales)'\n",
      " 'pro evolution soccer 2008 (jp sales)'\n",
      " 'project gotham racing (jp weekly sales)'\n",
      " 'project gotham racing 2 (jp weekly sales)' 'puyo pop fever (jp sales)'\n",
      " 'puyo pop fever(us sales)' 'r-type command (correct us sales)'\n",
      " 'rallisport challenge(jp sales)'\n",
      " 'ratchet & clank: going commando (jp weekly sales)'\n",
      " 'ratchet & clank: up your arsenal (weekly american sales)'\n",
      " 'raw danger! (jp sales)'\n",
      " 'rengoku ii: the stairway to h.e.a.v.e.n. (jp sales)'\n",
      " 'retro game challenge (us sales)' 'river king: mystic valley (jp sales)'\n",
      " 'river king: mystic valley (us sales)' 'rondo of swords (jp sales)'\n",
      " 'rondo of swords (us sales)' 'samurai shodown anthology (jp sales)'\n",
      " 'samurai warriors 2: xtreme legends (jp sales)' 'scrabble (others sales)'\n",
      " 'secret agent clank(us sales)'\n",
      " 'shin megami tensei: devil summoner 2 - raidou kuzunoha vs. king abaddon (jp sales)'\n",
      " 'shin megami tensei: persona 3 (jp sales)' 'simcity creator (jp sales)'\n",
      " 'soulcalibur legends (jp sales)' \"spongebob's truth or square (us sales)\"\n",
      " \"street fighter ii': special champion edition (jp weekly sales)\"\n",
      " 'sudoku gridmaster (jp sales)'\n",
      " 'summer athletics: the ultimate challenge (others sales)'\n",
      " 'summer athletics: the ultimate challenge (us sales)'\n",
      " 'summer sports: paradise island (others sales)'\n",
      " 'super dodgeball brawlers (jp sales)'\n",
      " 'super robot taisen og saga: endless frontier (jp sales)'\n",
      " 'tetris 2 (all region sales)' 'tetris 2 (weekly jp sales)'\n",
      " 'the godfather (jp sales)' 'the godfather (old us sales)'\n",
      " 'the godfather (us & others sales)' 'the godfather (us sales)'\n",
      " 'the king of fighters collection: the orochi saga (jp sales)'\n",
      " 'the legend of zelda: the minish cap(weekly jp sales)'\n",
      " 'the urbz: sims in the city (all regions sales)'\n",
      " 'the urbz: sims in the city (us weekly sales)'\n",
      " \"tom clancy's  ghost recon advanced warfighter (weekly jp sales)\"\n",
      " 'tomb raider: underworld (others sales)'\n",
      " \"tony hawk's american wasteland (old all region sales)\"\n",
      " \"tony hawk's american wasteland (weekly american sales)\"\n",
      " 'touch detective (jp sales)' 'touchmaster 3(others sales)'\n",
      " \"ultimate ghosts 'n goblins (jp sales)\"\n",
      " 'virtua tennis: world tour (jp sales)'\n",
      " 'virtua tennis: world tour (us & others sales)'\n",
      " 'warriors of the lost empire (jp sales)' 'warriors orochi 2 (jp sales)'\n",
      " 'wild arms 5 (jp sales)'\n",
      " 'winning eleven: pro evolution soccer 2007 (all region sales)'\n",
      " 'world soccer winning eleven 9 (jp & others sales)'\n",
      " 'world soccer winning eleven 9 (us sales)' 'yoshi touch & go (jp sales)'\n",
      " \"yu-gi-oh! 5d's wheelie breakers (jp sales)\"\n",
      " 'yu-gi-oh! forbidden memories (jp sales)'\n",
      " 'yu-gi-oh! gx: spirit caller (american sales)'\n",
      " 'yu-gi-oh! gx: spirit caller (japan sales)'\n",
      " 'yu-gi-oh! gx: the beginning of destiny (jp sales)'\n",
      " 'yu-gi-oh! gx: the beginning of destiny (us sales)'\n",
      " 'yu-gi-oh! nightmare troubadour (jp sales)'\n",
      " 'yu-gi-oh! nightmare troubadour (us sales)'\n",
      " 'yu-gi-oh! the eternal duelist soul (jp sales)'\n",
      " 'yu-gi-oh! the sacred cards (american and others sales)'\n",
      " 'yu-gi-oh! the sacred cards (jp weekly sales)']\n"
     ]
    }
   ],
   "source": [
    "name_sales = df[df['name'].str.contains('sales')]\n",
    "print(name_sales['name'].sort_values().unique())"
   ]
  },
  {
   "attachments": {},
   "cell_type": "markdown",
   "metadata": {},
   "source": [
    "Se oberva que varios títulos contienen entre paréntesis las ventas de alguna o más regiones pero también, existen 3 que contienen más información:\n",
    "1. `'lunar 2: eternal blue(sales, but wrong system)'`.\n",
    "2. `'pachi-slot teiou: golgo 13 las vegas (jp sales, but wrong system)'`.\n",
    "3. `'r-type command (correct us sales)'`.\n",
    "\n",
    "Se imprimirán las filas que contienen `'lunar 2: eternal blue'` para investigación."
   ]
  },
  {
   "cell_type": "code",
   "execution_count": 13,
   "metadata": {},
   "outputs": [
    {
     "name": "stdout",
     "output_type": "stream",
     "text": [
      "                                                name platform  \\\n",
      "5331                  lunar 2: eternal blue complete       PS   \n",
      "9000  lunar 2: eternal blue(sales, but wrong system)      GEN   \n",
      "9961                           lunar 2: eternal blue      SAT   \n",
      "\n",
      "      year_of_release         genre  na_sales  eu_sales  jp_sales  \\\n",
      "5331           1999.0  Role-Playing      0.19      0.13      0.00   \n",
      "9000           1994.0  Role-Playing      0.00      0.00      0.14   \n",
      "9961           1998.0  Role-Playing      0.00      0.00      0.12   \n",
      "\n",
      "      other_sales  critic_score user_score rating  \n",
      "5331         0.02          86.0        8.9      T  \n",
      "9000         0.00           NaN        NaN    NaN  \n",
      "9961         0.00           NaN        NaN    NaN  \n"
     ]
    }
   ],
   "source": [
    "print(df[df['name'].str.contains('lunar 2: eternal blue')])"
   ]
  },
  {
   "attachments": {},
   "cell_type": "markdown",
   "metadata": {},
   "source": [
    "Son tres filas, con años distintos, esto tienen sentido porque fue lanzado para diferentes consolas. Buscando información, el videojuego del año 1994, fue lanzado para Sega CD (SCD) y no para Sega Genesis (GEN). Se corregirá este dato."
   ]
  },
  {
   "cell_type": "code",
   "execution_count": 14,
   "metadata": {},
   "outputs": [
    {
     "name": "stdout",
     "output_type": "stream",
     "text": [
      "name               lunar 2: eternal blue(sales, but wrong system)\n",
      "platform                                                      SCD\n",
      "year_of_release                                            1994.0\n",
      "genre                                                Role-Playing\n",
      "na_sales                                                      0.0\n",
      "eu_sales                                                      0.0\n",
      "jp_sales                                                     0.14\n",
      "other_sales                                                   0.0\n",
      "critic_score                                                  NaN\n",
      "user_score                                                    NaN\n",
      "rating                                                        NaN\n",
      "Name: 9000, dtype: object\n"
     ]
    }
   ],
   "source": [
    "df.loc[9000, 'platform'] = 'SCD'\n",
    "print(df.loc[9000])"
   ]
  },
  {
   "attachments": {},
   "cell_type": "markdown",
   "metadata": {},
   "source": [
    "Ahora se imprimirán las filas que contienen `'pachi-slot teiou: golgo 13 las vegas'` para investigación."
   ]
  },
  {
   "cell_type": "code",
   "execution_count": 15,
   "metadata": {},
   "outputs": [
    {
     "name": "stdout",
     "output_type": "stream",
     "text": [
      "                                                    name platform  \\\n",
      "16153  pachi-slot teiou: golgo 13 las vegas (jp sales...      PS2   \n",
      "\n",
      "       year_of_release genre  na_sales  eu_sales  jp_sales  other_sales  \\\n",
      "16153           2002.0  Misc       0.0       0.0      0.01          0.0   \n",
      "\n",
      "       critic_score user_score rating  \n",
      "16153           NaN        NaN    NaN  \n"
     ]
    }
   ],
   "source": [
    "print(df[df['name'].str.contains('pachi-slot teiou: golgo 13 las vegas')])"
   ]
  },
  {
   "attachments": {},
   "cell_type": "markdown",
   "metadata": {},
   "source": [
    "Es una única fila y según la información buscada este videojuego fue lanzado para la consola PlayStation. Se modificará este dato."
   ]
  },
  {
   "cell_type": "code",
   "execution_count": 16,
   "metadata": {},
   "outputs": [
    {
     "name": "stdout",
     "output_type": "stream",
     "text": [
      "name               pachi-slot teiou: golgo 13 las vegas (jp sales...\n",
      "platform                                                          PS\n",
      "year_of_release                                               2002.0\n",
      "genre                                                           Misc\n",
      "na_sales                                                         0.0\n",
      "eu_sales                                                         0.0\n",
      "jp_sales                                                        0.01\n",
      "other_sales                                                      0.0\n",
      "critic_score                                                     NaN\n",
      "user_score                                                       NaN\n",
      "rating                                                           NaN\n",
      "Name: 16153, dtype: object\n"
     ]
    }
   ],
   "source": [
    "df.loc[16153, 'platform'] = 'PS'\n",
    "print(df.loc[16153])"
   ]
  },
  {
   "attachments": {},
   "cell_type": "markdown",
   "metadata": {},
   "source": [
    "Se buscarán las filas que contienen `'r-type command'` para información."
   ]
  },
  {
   "cell_type": "code",
   "execution_count": 17,
   "metadata": {},
   "outputs": [
    {
     "name": "stdout",
     "output_type": "stream",
     "text": [
      "                                    name platform  year_of_release     genre  \\\n",
      "11956                     r-type command      PSP           2007.0  Strategy   \n",
      "13946  r-type command (correct us sales)      PSP           2007.0  Strategy   \n",
      "\n",
      "       na_sales  eu_sales  jp_sales  other_sales  critic_score user_score  \\\n",
      "11956      0.05       0.0      0.01         0.01          69.0        6.5   \n",
      "13946      0.04       0.0      0.00         0.00           NaN        NaN   \n",
      "\n",
      "      rating  \n",
      "11956   E10+  \n",
      "13946    NaN  \n"
     ]
    }
   ],
   "source": [
    "print(df[df['name'].str.contains('r-type command')])"
   ]
  },
  {
   "attachments": {},
   "cell_type": "markdown",
   "metadata": {},
   "source": [
    "Únicamente son dos filas, el mensaja entre paréntesis parece indicar que es el dato correcto de las ventas en Norte América. Se corregirá este dato en la primera fila y se eliminará la segunda."
   ]
  },
  {
   "cell_type": "code",
   "execution_count": 18,
   "metadata": {},
   "outputs": [
    {
     "name": "stdout",
     "output_type": "stream",
     "text": [
      "name               r-type command\n",
      "platform                      PSP\n",
      "year_of_release            2007.0\n",
      "genre                    Strategy\n",
      "na_sales                     0.04\n",
      "eu_sales                      0.0\n",
      "jp_sales                     0.01\n",
      "other_sales                  0.01\n",
      "critic_score                 69.0\n",
      "user_score                    6.5\n",
      "rating                       E10+\n",
      "Name: 11956, dtype: object\n"
     ]
    }
   ],
   "source": [
    "df.loc[11956, 'na_sales'] = 0.04\n",
    "print(df.loc[11956])"
   ]
  },
  {
   "cell_type": "code",
   "execution_count": 19,
   "metadata": {},
   "outputs": [
    {
     "name": "stdout",
     "output_type": "stream",
     "text": [
      "       index            name platform  year_of_release     genre  na_sales  \\\n",
      "11956  11956  r-type command      PSP           2007.0  Strategy      0.04   \n",
      "\n",
      "       eu_sales  jp_sales  other_sales  critic_score user_score rating  \n",
      "11956       0.0      0.01         0.01          69.0        6.5   E10+  \n"
     ]
    }
   ],
   "source": [
    "df = df.drop(index=13946).reset_index()\n",
    "print(df[df['name'].str.contains('r-type command')])"
   ]
  },
  {
   "attachments": {},
   "cell_type": "markdown",
   "metadata": {},
   "source": [
    "Se hará una lista con los mensajes entre paréntesis que se encontraron y que indican las ventas en ciertas regiones para porteriorme quitar los paréntesis de los títulos y eliminar así algunos duplicados ímplicitos."
   ]
  },
  {
   "cell_type": "code",
   "execution_count": 20,
   "metadata": {},
   "outputs": [],
   "source": [
    "sales_list = ['(jp sales)', '(us sales)', '(weekly jp sales)', '(higher jp sales)', '(jp & incomplete us sales)',\n",
    "              '(old jp sales)', '(others sales)', '(american sales)', '(all region sales)', '(jp weekly sales)',\n",
    "              '(america weekly sales)', '(weekly american sales)', '(us weekly sales)', '(old us sales)',\n",
    "              '(old all region sales)', '(us & others sales)', '(jp & others sales)', '(japan sales)',\n",
    "              '(american and others sales)', '(sales, but wrong system)', '(jp sales, but wrong system)', '(all regions sales)']"
   ]
  },
  {
   "attachments": {},
   "cell_type": "markdown",
   "metadata": {},
   "source": [
    "Se creará una función que recorra los elementos de la lista y evalúe si un título de videojuego contiene alguno de ellos para posteriormente eliminar esta información entre paréntesis."
   ]
  },
  {
   "cell_type": "code",
   "execution_count": 21,
   "metadata": {},
   "outputs": [],
   "source": [
    "def name_re(string, sale):\n",
    "    if sale in string:\n",
    "        string = string.replace(sale, '')\n",
    "    else:\n",
    "        return string\n",
    "    return string\n",
    "def name_replace(string):\n",
    "    for sale in sales_list:\n",
    "        string = name_re(string, sale)\n",
    "    return string"
   ]
  },
  {
   "attachments": {},
   "cell_type": "markdown",
   "metadata": {},
   "source": [
    "Se creará una tabla de prueba y se aplicará la función para verificar que es correcta."
   ]
  },
  {
   "cell_type": "code",
   "execution_count": 22,
   "metadata": {},
   "outputs": [
    {
     "name": "stdout",
     "output_type": "stream",
     "text": [
      "                  name  year\n",
      "0    game 1 (jp sales)  2004\n",
      "1        g2 (us sales)  2005\n",
      "2  g3(jp weekly sales)  2006\n",
      "3                   g4  2007\n",
      "\n",
      "      name  year\n",
      "0  game 1   2004\n",
      "1      g2   2005\n",
      "2       g3  2006\n",
      "3       g4  2007\n"
     ]
    }
   ],
   "source": [
    "df_test = pd.DataFrame()\n",
    "df_test['name'] = ['game 1 (jp sales)', 'g2 (us sales)', 'g3(jp weekly sales)', 'g4']\n",
    "df_test['year'] = [2004, 2005, 2006, 2007]\n",
    "print(df_test)\n",
    "print()\n",
    "df_test['name'] = df_test['name'].apply(name_replace)\n",
    "print(df_test)"
   ]
  },
  {
   "attachments": {},
   "cell_type": "markdown",
   "metadata": {},
   "source": [
    "La función es correcta y además es importante observar que puede dejar espacio en blanco si es que había entre la información antes del paréntesis y el paréntesis. Se aplicará a la tabla, se eliminarán nuevamente los espacios en blanco y se buscarán filas que contengan `'sales'` en el título del dibujo. Si todo es correcto no deben existir estas filas."
   ]
  },
  {
   "cell_type": "code",
   "execution_count": 23,
   "metadata": {},
   "outputs": [
    {
     "name": "stdout",
     "output_type": "stream",
     "text": [
      "Empty DataFrame\n",
      "Columns: [index, name, platform, year_of_release, genre, na_sales, eu_sales, jp_sales, other_sales, critic_score, user_score, rating]\n",
      "Index: []\n"
     ]
    }
   ],
   "source": [
    "df['name'] = df['name'].apply(name_replace)\n",
    "df['name'] = df['name'].str.strip()\n",
    "print(df[df['name'].str.contains('sales')])"
   ]
  },
  {
   "attachments": {},
   "cell_type": "markdown",
   "metadata": {},
   "source": [
    "Se imprimirá nuevamente la longitud de los valores únicos en la colunmna `'name'`."
   ]
  },
  {
   "cell_type": "code",
   "execution_count": 24,
   "metadata": {},
   "outputs": [
    {
     "name": "stdout",
     "output_type": "stream",
     "text": [
      "11441\n"
     ]
    }
   ],
   "source": [
    "print(len(df['name'].sort_values().unique()))"
   ]
  },
  {
   "attachments": {},
   "cell_type": "markdown",
   "metadata": {},
   "source": [
    "Debido a que es una cantidad muy grande de valores únicos no se pueden revisar uno por uno en busca de ducplicados implícitos (por el tiempo). Se decide tratarlos como 11,441 juegos distintos."
   ]
  },
  {
   "cell_type": "code",
   "execution_count": 33,
   "metadata": {},
   "outputs": [
    {
     "name": "stdout",
     "output_type": "stream",
     "text": [
      "[\"'\", '.', '0', '1', '2', '3', '4', '5', '6', '7', '9', '[', 'a', 'b', 'c', 'd', 'e', 'f', 'g', 'h', 'i', 'j', 'k', 'l', 'm', 'n', 'o', 'p', 'q', 'r', 's', 't', 'u', 'v', 'w', 'x', 'y', 'z', '¡']\n"
     ]
    }
   ],
   "source": [
    "caracter_name = []\n",
    "for name in df['name']:\n",
    "    if name[0] not in caracter_name:\n",
    "        caracter_name.append(name[0])\n",
    "\n",
    "caracter_name = sorted(caracter_name)\n",
    "print(caracter_name)"
   ]
  },
  {
   "cell_type": "code",
   "execution_count": 35,
   "metadata": {},
   "outputs": [],
   "source": [
    "caracter_df = {}\n",
    "for caracter in caracter_name:\n",
    "    caracter_df[caracter] = df[df['name'].str.startswith(caracter)]"
   ]
  },
  {
   "cell_type": "code",
   "execution_count": 40,
   "metadata": {},
   "outputs": [
    {
     "name": "stdout",
     "output_type": "stream",
     "text": [
      "[\"'98 koshien\"]\n",
      "['.hack//g.u. vol.1//rebirth' '.hack//g.u. vol.2//reminisce'\n",
      " '.hack//g.u. vol.3//redemption' '.hack//infection part 1' '.hack//link'\n",
      " '.hack//mutation part 2' '.hack//outbreak part 3'\n",
      " '.hack//quarantine part 4: the final chapter'\n",
      " '.hack: sekai no mukou ni + versus']\n",
      "['007 racing' '007: quantum of solace' '007: the world is not enough'\n",
      " '007: tomorrow never dies']\n",
      "['1 vs. 100' '1/2 summer +' '10 minute solution' '100 all-time favorites'\n",
      " '100 classic books' '100 classic games'\n",
      " '1000 cooking recipes from elle à table' '1001 touch games'\n",
      " '101-in-1 explosive megamix' '101-in-1 party megamix wii'\n",
      " '101-in-1 sports megamix' '101-in-1 sports party megamix'\n",
      " '1080°: teneighty snowboarding' '11eyes: crossover'\n",
      " '12-sai. honto no kimochi' '12-sai. koisuru diary'\n",
      " '12riven: the psi-climinal of integral' '15 days' '1701 a.d.'\n",
      " '18 wheeler: american pro trucker' '18 wheels of steel: extreme trucker'\n",
      " '18 wheels of steel: extreme trucker 2' '187: ride or die' '1942']\n",
      "['2 games in 1 double pack: hot wheels velocity x / hot wheels world race'\n",
      " '2 games in 1 double pack: the incredibles / finding nemo: the continuing adventures'\n",
      " '2 games in 1: disney princess & the lion king'\n",
      " \"2 games in 1: disney's brother bear / the lion king 1 1/2\"\n",
      " '2 games in 1: sonic advance & chuchu rocket!'\n",
      " '2 games in 1: sonic battle & chuchu rocket!'\n",
      " '2 games in 1: sonic pinball party & columns crown'\n",
      " '2 games in 1: spongebob squarepants: supersponge & rugrats go wild'\n",
      " '2 in 1 combo pack: sonic heroes / super monkey ball deluxe'\n",
      " '2-in-1 game pack: spider-man & spider-man 2' '2002 fifa world cup'\n",
      " '2010 fifa world cup south africa' '2014 fifa world cup brazil'\n",
      " '24: the game' '25 to life' '2xtreme']\n",
      "['3 in 1: solitaire, mahjong & tangram' '300: march to glory'\n",
      " '3d baseball' '3d dot game heroes' '3d lemmings'\n",
      " '3d tank warfare simulator panzer front' '3ds classic collection'\n",
      " '3rd super robot wars z jigoku hen' '3rd super robot wars z: tengoku-hen'\n",
      " '3xtreme']\n",
      "['4 elements' '4 game fun pack: monopoly / boggle / yahtzee / battleship'\n",
      " '4 nin uchi mahjong' '4 play collection - dark mysteries' '40 winks'\n",
      " '428: fuusa sareta shibuya de' '4x4 evo 2' '4x4 evolution']\n",
      "['50 cent: blood on the sand' '50 cent: bulletproof' '50 classic games']\n",
      "['64 de hakken! tamagotchi minna de tamagotchi world']\n",
      "['7 days to die' '7 roses: a darkness rises' '7 wonders ii'\n",
      " '7 wonders of the ancient world' '7 wonders: treasures of seven'\n",
      " \"7'scarlet\" '7th dragon' '7th dragon 2020' '7th dragon 2020-ii'\n",
      " '7th dragon iii code: vfd']\n",
      "['99 no namida' '999: nine hours, nine persons, nine doors']\n",
      "['[prototype 2]' '[prototype]']\n"
     ]
    }
   ],
   "source": [
    "for caracter in caracter_name[:12]:\n",
    "    print(caracter_df[caracter]['name'].sort_values().unique())"
   ]
  },
  {
   "attachments": {},
   "cell_type": "markdown",
   "metadata": {},
   "source": [
    "No existen duplicados implícitos."
   ]
  },
  {
   "cell_type": "code",
   "execution_count": 41,
   "metadata": {},
   "outputs": [
    {
     "name": "stdout",
     "output_type": "stream",
     "text": [
      "['a boy and his blob' \"a bug's life\"\n",
      " 'a collection of activision classic games for the atari 2600'\n",
      " 'a collection of classic games from the intellivision'\n",
      " 'a game of thrones: genesis'\n",
      " 'a good librarian like a good shepherd: library party'\n",
      " 'a lli s.v.: a ressha de gyoukou 3 super version' 'a new beginning'\n",
      " 'a ressha de gyoukou 2001' 'a ressha de ikou ds' 'a vampyre story'\n",
      " \"a witch's tale\" 'a-train' 'a-train 6' 'a-train: city simulator'\n",
      " 'a. iv evolution: a ressha de ikou 4' \"a.c.e.: another century's episode\"\n",
      " \"a.c.e.: another century's episode 2\"\n",
      " \"a.c.e.: another century's episode 3: the final\"\n",
      " \"a.c.e.: another century's episode portable\"\n",
      " \"a.c.e.: another century's episode r\" 'aa megami-samaa'\n",
      " 'abba: you can dance' 'abunai: koi no sousa shitsu'\n",
      " 'ac/dc live: rock band track pack' 'academy of champions: soccer'\n",
      " 'accel world: ginyoku no kakusei' 'accel world: kasoku no chouten'\n",
      " 'ace attorney 6' 'ace attorney investigations 2'\n",
      " 'ace attorney investigations: miles edgeworth'\n",
      " 'ace combat 04: shattered skies' 'ace combat 2'\n",
      " 'ace combat 3: electrosphere' 'ace combat 5: the unsung war'\n",
      " 'ace combat 6: fires of liberation' 'ace combat x: skies of deception'\n",
      " 'ace combat zero: the belkan war' 'ace combat: assault horizon'\n",
      " 'ace combat: assault horizon legacy' 'ace combat: joint assault'\n",
      " 'achtung panzer: kharkov 1943' 'act of aggression' 'action bass'\n",
      " 'action force' 'action man-operation extreme'\n",
      " 'active health with carol vorderman' 'active life explorer'\n",
      " 'active life: extreme challenge' 'active life: magical carnival'\n",
      " 'active life: outdoor challenge' 'activision anthology'\n",
      " 'activision hits: remixed' 'actua tennis' 'adidas power soccer'\n",
      " 'adidas power soccer 98' 'adrenalin misfits' 'advance guardian heroes'\n",
      " 'advance wars' 'advance wars 2: black hole rising'\n",
      " 'advance wars: days of ruin' 'advance wars: dual strike' 'advent rising'\n",
      " 'adventure' 'adventure island'\n",
      " \"adventure time: explore the dungeon because i don't know!\"\n",
      " 'adventure time: finn & jake investigations'\n",
      " 'adventure time: the secret of the nameless'\n",
      " 'adventure time: the secret of the nameless kingdom' 'adventures of lolo'\n",
      " 'adventures of tron' 'adventures to go!'\n",
      " 'aedis eclipse: generation of chaos' 'aegis of earth: protonovus assault'\n",
      " 'aeon flux' 'aero elite: combat academy' 'aero gauge'\n",
      " 'aerofighters assault' 'afrika' 'afro samurai' 'after hours athletes'\n",
      " 'again' 'agarest senki: re-appearance' 'agassi tennis generation'\n",
      " \"agatha christie's the abc murders\"\n",
      " 'agatha christie: and then there were none'\n",
      " 'agatha christie: death on the nile'\n",
      " 'agatha christie: evil under the sun'\n",
      " 'agatha christie: peril at end house' 'agatha christie: the abc murders'\n",
      " 'age of conan: rise of the godslayer'\n",
      " 'age of empires ii: the age of kings' 'age of empires iii'\n",
      " 'age of empires iii: complete collection'\n",
      " 'age of empires iii: gold edition'\n",
      " 'age of empires iii: the asian dynasties' 'age of empires online'\n",
      " \"age of empires: collector's edition\" 'age of empires: mythologies'\n",
      " 'age of empires: the age of kings' 'age of mythology'\n",
      " 'age of mythology: the titans' 'aggressive inline' 'agile warrior f-111x'\n",
      " 'aibou ds' 'aidyn chronicles: the first mage'\n",
      " 'aikatsu stars! my special appeal' 'aikatsu! 2-nin no my princess'\n",
      " 'aikatsu! 365 idol days' 'aikatsu! cinderella lesson'\n",
      " 'aikatsu! my no.1 stage!' 'ailu de puzzle' 'air' 'air combat'\n",
      " 'air conflicts: aces of world war ii' 'air conflicts: secret wars'\n",
      " 'air raid' 'air traffic chaos' 'air-sea battle' 'airblade'\n",
      " 'airborne troops: countdown to d-day' 'airforce delta storm'\n",
      " 'airforce delta strike' 'airline tycoon' 'airline tycoon 2' 'airlock'\n",
      " 'airport simulator' 'airship q' 'aiyoku no eustia'\n",
      " 'akagawa jirou mystery: yasoukyoku - hon ni manekareta satsujin'\n",
      " 'akai ito ds' 'akai katana shin' 'akane iro ni somaru saka parallel'\n",
      " 'akatsuki no amaneka to aoi kyojin' 'akatsuki no goei trinity'\n",
      " 'akb1/149: love election' 'akb1/48: idol to guam de koishitara...'\n",
      " 'akb1/48: idol to koishitara...' 'akb48+me' \"akiba's trip\"\n",
      " \"akiba's trip plus\" \"akiba's trip: undead & undressed\"\n",
      " 'akko ni omakase! brain shock' 'akuji the heartless'\n",
      " 'aladdin magic racer' 'alan wake' 'alex rider: stormbreaker'\n",
      " 'alexi lalas international soccer' 'alfa romeo racing italiano'\n",
      " \"alia's carnival! sacrament\" 'alias' 'alice in wonderland'\n",
      " 'alice: madness returns' 'alien' 'alien breed trilogy' 'alien hominid'\n",
      " 'alien monster bowling league' 'alien resurrection' 'alien syndrome'\n",
      " 'alien trilogy' \"alien's return\" 'alien: isolation'\n",
      " 'alienators: evolution continues' 'aliens in the attic'\n",
      " 'aliens versus predator: extinction' 'aliens vs predator'\n",
      " 'aliens vs predator: requiem' 'aliens: colonial marines'\n",
      " 'aliens: infestation' 'all grown up! express yourself'\n",
      " 'all grown up!: game boy advance video volume 1'\n",
      " 'all japan pro wrestling featuring virtua'\n",
      " 'all kamen rider: rider generation' 'all kamen rider: rider generation 2'\n",
      " 'all points bulletin' 'all star cheer squad' 'all star cheer squad 2'\n",
      " 'all star karate' 'all star pro-wrestling' 'all star tennis 99'\n",
      " 'all-pro football 2k8' 'all-star baseball 2000' 'all-star baseball 2001'\n",
      " 'all-star baseball 2002' 'all-star baseball 2003'\n",
      " 'all-star baseball 2004' 'all-star baseball 2005' 'all-star baseball 99'\n",
      " 'alleyway' 'allied general' 'alone in the dark'\n",
      " 'alone in the dark: inferno' \"alone in the dark: one-eyed jack's revenge\"\n",
      " 'alone in the dark: the new nightmare' 'alpha and omega' 'alpha protocol'\n",
      " 'alter echo' 'alter ego' 'altered beast: guardian of the realms'\n",
      " 'alundra' 'alundra 2: a new legend begins' 'alvin and the chipmunks'\n",
      " 'alvin and the chipmunks: chipwrecked'\n",
      " 'alvin and the chipmunks: the squeakquel' 'amagami' 'amagoushi no yakata'\n",
      " 'amatsumi sora ni! kumo no hatate ni'\n",
      " 'amazing adventures: the forgotten ruins' 'amazing island'\n",
      " 'america oudan ultra-quiz' \"america's army: rise of a soldier\"\n",
      " \"america's army: true soldiers\" \"america's next top model\"\n",
      " \"america's test kitchen: let's get cooking\" 'american bass challenge'\n",
      " 'american chopper' 'american chopper 2: full throttle'\n",
      " 'american girl: julie finds a way'\n",
      " 'american girl: kit mystery challenge!' 'american idol'\n",
      " 'amf bowling 2004' 'amf bowling pinbusters!' 'amf bowling world lanes'\n",
      " 'amf xtreme bowling' 'amnesia' 'amnesia crowd' 'amnesia later'\n",
      " 'amnesia world' 'amped 2' 'amped 3' 'amped: freestyle snowboarding'\n",
      " 'amplitude' \"an american tail: fievel's gold rush\" 'anarchy reigns'\n",
      " 'and1 streetball' 'andretti racing' 'angel blade: neo tokyo guardians'\n",
      " 'angelique duet' 'angelique retour' 'angelique trois'\n",
      " 'angelique: maren no rokukishi' \"angler's club: ultimate bass fishing 3d\"\n",
      " 'angry birds' 'angry birds star wars' 'angry birds trilogy'\n",
      " 'angry birds: rio' 'anima - gate of memories' 'animal crossing'\n",
      " 'animal crossing: amiibo festival' 'animal crossing: city folk'\n",
      " 'animal crossing: happy home designer' 'animal crossing: new leaf'\n",
      " 'animal crossing: wild world' 'animal genius'\n",
      " 'animal kingdom: wildlife expedition' 'animal paradise'\n",
      " 'animal planet: emergency vets' 'animal planet: vet collection'\n",
      " 'animal planet: vet life' 'animaniacs ten pin alley'\n",
      " 'animaniacs: the great edgar hunt' 'animates!'\n",
      " 'animorphs: shattered reality' 'anno 1701: dawn of discovery' 'anno 2070'\n",
      " 'anno 2205' 'ano hi mita hana no namae o bokutachi wa mada shiranai'\n",
      " 'another code r: a journey into lost memories'\n",
      " 'ansatsu kyoushitsu: assassin ikusei keikaku!!' 'ant nation'\n",
      " 'antiphona no seikahime: tenshi no gakufu op.a' 'antz extreme racing'\n",
      " 'anubis ii' 'ao no exorcist: genkoku no labyrinth'\n",
      " 'ao no kanata no four rhythm' 'aoishiro' 'apache: air assault'\n",
      " 'apassionata: die galanacht der pferde' 'apb reloaded' 'ape escape'\n",
      " 'ape escape 2' 'ape escape 3' 'ape escape academy'\n",
      " 'ape escape: on the loose' 'ape escape: pumped & primed' 'apex'\n",
      " 'apocalypse' 'apollo justice: ace attorney' 'aqua aqua' 'aqua panic!'\n",
      " 'aqua teen hunger force: zombie ninja pro-am'\n",
      " 'aquaman: battle for atlantis' \"aquanaut's holiday\"\n",
      " \"aquanaut's holiday: kakusareta kiroku\" 'aquapazza: aquaplus dream match'\n",
      " 'aquarium by ds' 'ar nosurge: ode to an unborn star'\n",
      " 'ar tonelico 2: melody of metafalica'\n",
      " 'ar tonelico qoga: knell of ar ciel' 'ar tonelico: melody of elemia'\n",
      " 'arabians lost: the engagement on desert' 'arc rise fantasia'\n",
      " 'arc the lad' 'arc the lad ii' 'arc the lad iii'\n",
      " 'arc the lad: end of darkness' 'arc the lad: twilight of the spirits'\n",
      " 'arcade hits: frisky tom' 'arcade party pak' 'arcade shooting gallery'\n",
      " 'arcade zone' 'arcana famiglia 2'\n",
      " 'arcana famiglia: la storia della aracana famiglia'\n",
      " 'arcana famiglia: vascello phantasma no majutsushi' 'arcana heart'\n",
      " 'arcana heart 3' 'arcania: gothic 4'\n",
      " 'archer maclean presents: pool paradise' \"archer maclean's 3d pool\"\n",
      " \"archer maclean's mercury\" 'arctic tale' 'arctic thunder'\n",
      " 'are you alice?' 'are you smarter than a 5th grader?'\n",
      " 'are you smarter than a 5th grader? back to school'\n",
      " 'are you smarter than a 5th grader? game time'\n",
      " 'are you smarter than a 5th grader? make the grade' 'area 51'\n",
      " 'arena football' 'aria: the natural ~tooi yume no mirage~'\n",
      " 'aria: the origination ~aoi wakusei no el cielo~' 'arkanoid ds' 'arma ii'\n",
      " 'arma iii' 'armed and dangerous' 'armor ambush' 'armored core'\n",
      " 'armored core 2' 'armored core 2: another age' 'armored core 3'\n",
      " 'armored core 3 portable' 'armored core 4'\n",
      " 'armored core sl: silent line portable' 'armored core v'\n",
      " 'armored core: for answer' 'armored core: formula front extreme battle'\n",
      " 'armored core: last raven' 'armored core: last raven portable'\n",
      " 'armored core: master of arena' 'armored core: nexus'\n",
      " 'armored core: nine breaker' 'armored core: project phantasma'\n",
      " 'armored core: silent line' 'armored core: verdict day'\n",
      " 'armorines: project s.w.a.r.m.' 'army corps of hell' 'army men 3d'\n",
      " 'army men world war: final front' 'army men world war: land, sea, air'\n",
      " 'army men world war: team assault' 'army men: air attack'\n",
      " 'army men: air attack 2' 'army men: air combat'\n",
      " 'army men: air combat - the elite missions' 'army men: green rogue'\n",
      " 'army men: major malfunction' 'army men: rts' \"army men: sarge's heroes\"\n",
      " \"army men: sarge's heroes 2\" \"army men: sarge's war\"\n",
      " 'army men: soldiers of misfortune' 'army of two'\n",
      " 'army of two: the 40th day' \"army of two: the devil's cartel\"\n",
      " 'army rescue' 'around the world in 80 days'\n",
      " 'arslan: the warriors of legend' 'art academy' 'art academy: home studio'\n",
      " 'art academy: lessons for everyone'\n",
      " 'art of fighting 3: the path of the warrior' 'art of fighting anthology'\n",
      " 'arthur and the invisibles' 'arthur! ready to race' 'arx fatalis'\n",
      " 'ash: archaic sealed heat' 'ashes cricket 2009' 'asphalt 3d'\n",
      " 'asphalt: injection' 'asphalt: urban gt' 'asphalt: urban gt 2'\n",
      " \"assassin's creed\" \"assassin's creed chronicles\"\n",
      " \"assassin's creed chronicles: china\" \"assassin's creed ii\"\n",
      " \"assassin's creed ii: discovery\" \"assassin's creed iii\"\n",
      " \"assassin's creed iii: liberation\" \"assassin's creed iv: black flag\"\n",
      " \"assassin's creed syndicate\" \"assassin's creed the ezio collection\"\n",
      " \"assassin's creed: altair's chronicles\" \"assassin's creed: bloodlines\"\n",
      " \"assassin's creed: brotherhood\" \"assassin's creed: revelations\"\n",
      " \"assassin's creed: rogue\" \"assassin's creed: unity\"\n",
      " 'assassination classroom: grand siege on kuro-sensei' 'assault'\n",
      " 'assault rigs' 'assault suit leynos' 'assault: retribution'\n",
      " 'assetto corsa' 'asterix & obelix: kick buttix' 'asteroids'\n",
      " 'asteroids hyper 64' 'astonishia story' 'astro boy'\n",
      " 'astro boy: omega factor' 'astro boy: the video game' 'astroblast'\n",
      " 'astrology ds' \"asura's wrath\" 'atari anniversary advance'\n",
      " 'atari anniversary edition redux' 'atari anthology'\n",
      " 'atari classics evolved' 'atari flashback classics: volume 1'\n",
      " 'atari flashback classics: volume 2' \"atari's greatest hits: volume 1\"\n",
      " \"atari's greatest hits: volume 2\"\n",
      " 'atelier annie: alchemists of sera island'\n",
      " 'atelier ayesha: the alchemist of dusk'\n",
      " 'atelier escha & logy: alchemists of the dusk sky'\n",
      " 'atelier firis: the alchemist of the mysterious journey'\n",
      " 'atelier iris 2: the azoth of destiny' 'atelier iris 3: grand phantasm'\n",
      " 'atelier iris: eternal mana' 'atelier meruru: alchemist of arland 3'\n",
      " 'atelier rorona: alchemist of arland'\n",
      " 'atelier shallie plus: alchemists of the dusk sea'\n",
      " 'atelier shallie: alchemists of the dusk sea'\n",
      " 'atelier sophie: the alchemist of the mysterious book'\n",
      " 'atelier totori: the adventurer of arland' 'athens 2004' 'atlantic quest'\n",
      " 'atlantis' 'atomic betty' 'atsumare! power pro kun no ds koushien'\n",
      " 'attack of the movies 3d' 'attack on titan (koei)'\n",
      " 'attack on titan: humanity in chains' 'atv offroad fury'\n",
      " 'atv offroad fury 2' 'atv offroad fury 3' 'atv offroad fury pro'\n",
      " \"atv offroad fury: blazin' trails\" 'atv quad kings'\n",
      " 'atv quad power racing 2' 'atv/monster truck mayhem' 'atv: quad frenzy'\n",
      " 'atv: quad power racing' 'auto destruct' 'auto modellista'\n",
      " 'automobili lamborghini' 'avalon code' 'avatar: the game'\n",
      " 'avatar: the last airbender'\n",
      " 'avatar: the last airbender - into the inferno'\n",
      " 'avatar: the last airbender - the burning earth' 'away: shuffle dungeon'\n",
      " 'azada' 'azure dreams' 'azure striker gunvolt'\n",
      " 'azure striker gunvolt: striker pack' 'azurik: rise of perathia']\n"
     ]
    }
   ],
   "source": [
    "print(caracter_df['a']['name'].sort_values().unique())"
   ]
  },
  {
   "cell_type": "code",
   "execution_count": 30,
   "metadata": {},
   "outputs": [
    {
     "name": "stdout",
     "output_type": "stream",
     "text": [
      "                                                    year_of_release\n",
      "name                                                               \n",
      "2014 fifa world cup brazil                                        2\n",
      "24: the game                                                      1\n",
      "25 to life                                                        2\n",
      "2xtreme                                                           1\n",
      "3 in 1: solitaire, mahjong & tangram                              1\n",
      "300: march to glory                                               1\n",
      "3d baseball                                                       1\n",
      "3d dot game heroes                                                1\n",
      "3d lemmings                                                       1\n",
      "3d tank warfare simulator panzer front                            1\n",
      "3ds classic collection                                            1\n",
      "3rd super robot wars z jigoku hen                                 2\n",
      "3rd super robot wars z: tengoku-hen                               2\n",
      "3xtreme                                                           1\n",
      "4 elements                                                        1\n",
      "4 game fun pack: monopoly / boggle / yahtzee / ...                1\n",
      "4 nin uchi mahjong                                                1\n",
      "4 play collection - dark mysteries                                1\n",
      "40 winks                                                          1\n",
      "428: fuusa sareta shibuya de                                      3\n",
      "4x4 evo 2                                                         2\n",
      "4x4 evolution                                                     1\n",
      "50 cent: blood on the sand                                        2\n",
      "50 cent: bulletproof                                              3\n",
      "50 classic games                                                  2\n",
      "64 de hakken! tamagotchi minna de tamagotchi world                1\n",
      "7 days to die                                                     2\n",
      "7 roses: a darkness rises                                         1\n",
      "7 wonders ii                                                      1\n",
      "7 wonders of the ancient world                                    2\n",
      "7 wonders: treasures of seven                                     1\n",
      "7'scarlet                                                         1\n",
      "7th dragon                                                        1\n",
      "7th dragon 2020                                                   1\n",
      "7th dragon 2020-ii                                                1\n",
      "7th dragon iii code: vfd                                          1\n",
      "99 no namida                                                      1\n",
      "999: nine hours, nine persons, nine doors                         1\n",
      "[prototype 2]                                                     3\n",
      "[prototype]                                                       2\n",
      "a boy and his blob                                                1\n",
      "a bug's life                                                      2\n",
      "a collection of activision classic games for th...                1\n",
      "a collection of classic games from the intelliv...                1\n",
      "a game of thrones: genesis                                        1\n",
      "a good librarian like a good shepherd: library ...                1\n",
      "a lli s.v.: a ressha de gyoukou 3 super version                   1\n",
      "a new beginning                                                   1\n",
      "a ressha de gyoukou 2001                                          1\n",
      "a ressha de ikou ds                                               1\n"
     ]
    }
   ],
   "source": [
    "df_names = df.pivot_table(index='name', values='year_of_release', aggfunc='count')\n",
    "print(df_names.iloc[50: 100])"
   ]
  },
  {
   "attachments": {},
   "cell_type": "markdown",
   "metadata": {},
   "source": [
    "Se ha notado que algunos títulos contienen información sobre datos de las otras columnas, por esta razón se imprimirán aquellos que contienen paréntesis para una mejor investigación."
   ]
  },
  {
   "cell_type": "code",
   "execution_count": null,
   "metadata": {},
   "outputs": [],
   "source": [
    "name_extra = df[df['name'].str.endswith(')')]\n",
    "print(name_extra['name'].sort_values().unique())"
   ]
  },
  {
   "attachments": {},
   "cell_type": "markdown",
   "metadata": {},
   "source": [
    "Algunos parece que contienen los años de lanzamiento o las plataformas en las que fueron lanzados. Se creará una lista con estos años y una lista con las plataformas."
   ]
  },
  {
   "cell_type": "code",
   "execution_count": null,
   "metadata": {},
   "outputs": [],
   "source": [
    "name_year = ['(2006)', '(2008)', '(2009)', '(2010)', '(2013)', '(2014)', '(2015)', '(2016)']\n",
    "name_platforms = ['(ds version)', '(psp)', '(3ds)', '(cd)', '(ps1 & psp versions)', '(console version)', '(ds & mobile versions)',\n",
    "                  '(ds versions)', '(wii & ps2 version)', '(xbox 360, ps3, & pc versions)',\n",
    "                  '(xbox 360, ps2, ps3, wii & pc versions)', '(xbox 360, ps3, & pc versions)', '(ds version)', '(gbc)']"
   ]
  },
  {
   "attachments": {},
   "cell_type": "markdown",
   "metadata": {},
   "source": [
    "Se imprimirán las filas que contienen el año en el títutlo para investigación."
   ]
  },
  {
   "cell_type": "code",
   "execution_count": null,
   "metadata": {},
   "outputs": [],
   "source": [
    "for year in name_year:\n",
    "    print(df[(df['name'].str.contains(year)) & (df['name'].str.endswith(')'))])"
   ]
  },
  {
   "cell_type": "code",
   "execution_count": null,
   "metadata": {},
   "outputs": [],
   "source": [
    "print(df[df['name'].str.contains('dragon ball: origins')])"
   ]
  },
  {
   "cell_type": "code",
   "execution_count": null,
   "metadata": {},
   "outputs": [],
   "source": [
    "print(df['platform'].sort_values().unique())"
   ]
  },
  {
   "attachments": {},
   "cell_type": "markdown",
   "metadata": {},
   "source": [
    "### 1. 1. Valores ausentes <a id='data_review_missing'></a>\n",
    "\n",
    "Se imprimirá la cantidad de valores ausentes de cada columna para proceder a tratarlos."
   ]
  },
  {
   "cell_type": "code",
   "execution_count": null,
   "metadata": {},
   "outputs": [],
   "source": [
    "print(df.isna().sum())"
   ]
  },
  {
   "attachments": {},
   "cell_type": "markdown",
   "metadata": {},
   "source": [
    "Los valores ausentes de las columnas `'name'` y `'genre'` pueden deberse a un error en la recopilación de datos. Como únicamente son dos valores ausentes en cada columna, se reemplazarán por `'unknown'`."
   ]
  },
  {
   "cell_type": "code",
   "execution_count": null,
   "metadata": {},
   "outputs": [],
   "source": [
    "for column in ['name', 'genre']:\n",
    "    df[column] = df[column].fillna('unknown')\n",
    "print(df.isna().sum())"
   ]
  },
  {
   "attachments": {},
   "cell_type": "markdown",
   "metadata": {},
   "source": [
    "Los valores ausentes en la columna `'year_of_release'` también pueden deberse a un error en la recopilación de los datos. Algunos juegos se lanzan para diversas plataformas o consolas, de manera que se pueden reemplazar estos datos por el año de lanzamiento del juego para otra consola. Para esto, se definirá una función que analice el título del videojuego y asigne el año de lanzamiento para otra consola en caso de existir."
   ]
  },
  {
   "cell_type": "code",
   "execution_count": null,
   "metadata": {},
   "outputs": [],
   "source": [
    "df['name'] = df['name'].str.strip()\n",
    "df['name'] = df['name'].str.lower()"
   ]
  },
  {
   "cell_type": "code",
   "execution_count": null,
   "metadata": {},
   "outputs": [],
   "source": [
    "df_year_nan = df[df['year_of_release'].isna()]\n",
    "print(df_year_nan.head(10))"
   ]
  },
  {
   "cell_type": "code",
   "execution_count": null,
   "metadata": {},
   "outputs": [],
   "source": [
    "df_year_nonan = df.dropna(subset=['name'])\n",
    "year_nonan = df_year_nonan.pivot_table(index='name', values='year_of_release')\n",
    "year_nonan.info()\n",
    "print()\n",
    "print(year_nonan.head(10))"
   ]
  },
  {
   "cell_type": "code",
   "execution_count": null,
   "metadata": {},
   "outputs": [],
   "source": [
    "def year_release(row):\n",
    "    name = row['name']\n",
    "    year = row['year_of_release']\n",
    "    if pd.isna(year):\n",
    "        try:\n",
    "            year = year_nonan.loc[name]\n",
    "        except:\n",
    "            year = year\n",
    "        return year\n",
    "    else:\n",
    "        return year"
   ]
  },
  {
   "cell_type": "code",
   "execution_count": null,
   "metadata": {},
   "outputs": [],
   "source": [
    "df_test = pd.DataFrame()\n",
    "df_test['name'] = [\"'98 koshien\", '.hack//g.u. vol.1//rebirth', 'Fifa']\n",
    "df_test['year_of_release'] = [float('nan'), float('nan'), 2014]\n",
    "print(df_test)\n",
    "print()\n",
    "df_test['year_of_release'] = df_test.apply(year_release, axis=1)\n",
    "print(df_test)"
   ]
  },
  {
   "attachments": {},
   "cell_type": "markdown",
   "metadata": {},
   "source": [
    "La función es correcta. Se aplicará a `df`."
   ]
  },
  {
   "cell_type": "code",
   "execution_count": null,
   "metadata": {},
   "outputs": [],
   "source": [
    "df['year_of_release'] = df.apply(year_release, axis=1)\n",
    "print(df.isna().sum())"
   ]
  },
  {
   "cell_type": "code",
   "execution_count": null,
   "metadata": {},
   "outputs": [],
   "source": [
    "df_year_nan = df[df['year_of_release'].isna()]\n",
    "print(df_year_nan.head(10))"
   ]
  },
  {
   "cell_type": "code",
   "execution_count": null,
   "metadata": {},
   "outputs": [],
   "source": [
    "print(df[df['name'] == 'rock band'])"
   ]
  },
  {
   "cell_type": "code",
   "execution_count": null,
   "metadata": {},
   "outputs": [],
   "source": [
    "print(df['name'].sort_values().unique())"
   ]
  },
  {
   "cell_type": "code",
   "execution_count": null,
   "metadata": {},
   "outputs": [],
   "source": [
    "print(df[df['name'] == '.hack//g.u. vol.2//reminisce'])\n",
    "print(df[df['name'] == '.hack//g.u. vol.2//reminisce (jp sales)'])"
   ]
  },
  {
   "cell_type": "code",
   "execution_count": null,
   "metadata": {},
   "outputs": [],
   "source": [
    "name_a = df[df['name'].str.contains('sales')]\n",
    "print(name_a['name'].sort_values().unique())"
   ]
  }
 ],
 "metadata": {
  "kernelspec": {
   "display_name": "Python 3",
   "language": "python",
   "name": "python3"
  },
  "language_info": {
   "codemirror_mode": {
    "name": "ipython",
    "version": 3
   },
   "file_extension": ".py",
   "mimetype": "text/x-python",
   "name": "python",
   "nbconvert_exporter": "python",
   "pygments_lexer": "ipython3",
   "version": "3.10.9"
  },
  "orig_nbformat": 4
 },
 "nbformat": 4,
 "nbformat_minor": 2
}
