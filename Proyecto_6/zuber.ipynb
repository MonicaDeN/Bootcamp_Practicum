{
 "cells": [
  {
   "attachments": {},
   "cell_type": "markdown",
   "metadata": {},
   "source": [
    "# Zuber en Chicago"
   ]
  },
  {
   "attachments": {},
   "cell_type": "markdown",
   "metadata": {},
   "source": [
    "## Índice <a id='back'></a>\n",
    "* [Introducción](#intro)\n",
    "* [Etapa 1. Descripción y preprocesamiento de los datos](#data_review)\n",
    "    * [1.1. Empresas de taxis](#data_review_taxis)\n",
    "    * [1.2. Barrios de Chicago](#data_review_neighborhoods)\n",
    "    * [1.3. Viajes al aeropuerto](#data_review_airport)\n",
    "    * [1.4. Conclusiones](#data_review_conclusions)\n",
    "* [Etapa 2. Análisis exploratorio de datos](#data_analysis)\n",
    "    * [2.1. Las empresas más populares](#data_analysis_companys)\n",
    "    * [2.2. Los barrios más populares](#data_analysis_neighborhoods)\n",
    "    * [2.3. Conclusiones](#data_analysis_conclusions)\n",
    "* [Etapa 4. Comprobación de hipótesis](#data_hypothesis)\n",
    "* [Etapa 5. Conclusión general](#data_conclusion)"
   ]
  },
  {
   "attachments": {},
   "cell_type": "markdown",
   "metadata": {},
   "source": [
    "## Introducción <a id='intro'></a>\n",
    "\n",
    "Este proyecto es realizado para la empresa Zuber de viajes compartidos que se está lanzando en Chicago. Se desea encontrar patrones en la información disponible. Se cuenta con datos sobre compañías de taxis, los viajes realizados en noviembre de 2017, así como las condiciones climáticas de las mismas fechas.\n",
    "\n",
    "**Objetivo e Hipótesis**\n",
    "\n",
    "El objetivo es comprender las preferencias de los pasajeros y el impacto de los factores externos sobre los viajes. Se establece la siguiente hipótesis:\n",
    "\n",
    "* La duración promedio de los viajes desde el Loop hasta el Aeropuerto Internacional O'Hare cambia los sábados lluviosos.\n",
    "\n",
    "**Etapas**\n",
    "Los datos se almacenan en tres archivos\n",
    "\n",
    "* `/datasets/project_sql-result_01.csv`.\n",
    "* `/datasets/project_sql-result_04.csv`.\n",
    "* `/datasets/project_sql-result_07.csv`.\n",
    "\n",
    "No hay ninguna información sobre la calidad de los datos así que se examinarán antes de probar la hipótesis.\n",
    "\n",
    "Primero, se evaluará la calidad de los datos y si los problemas son significativos, entonces, durante el preprocesamiento de datos, se tomará en cuenta los problemas más críticos. Finalmente se comprobará la hipótesis para presentar las conclusiones.\n",
    " \n",
    "El proyecto consistirá en cuatro etapas:\n",
    " 1. Descripción y preprocesamiento de los datos.\n",
    " 2. Análisis exploratorio de los datos.\n",
    " 3. Comprobación de hipótesis.\n",
    " 4. Conclusión general.\n",
    "\n",
    "[Volver a Contenidos](#back)"
   ]
  },
  {
   "attachments": {},
   "cell_type": "markdown",
   "metadata": {},
   "source": [
    "## Etapa 1. Descripción y preprocesamiento de los datos <a id='data_review'></a>\n",
    "\n",
    "Se importan las librerías necesarias."
   ]
  },
  {
   "cell_type": "code",
   "execution_count": 1,
   "metadata": {},
   "outputs": [],
   "source": [
    "import pandas as pd\n",
    "import matplotlib.pyplot as plt\n",
    "import numpy as np\n",
    "import re\n",
    "from scipy import stats as st\n",
    "from math import ceil, factorial\n",
    "from scipy.stats import levene"
   ]
  },
  {
   "attachments": {},
   "cell_type": "markdown",
   "metadata": {},
   "source": [
    "Se leen los archivos y se guardarán en un diccionario."
   ]
  },
  {
   "cell_type": "code",
   "execution_count": 2,
   "metadata": {},
   "outputs": [],
   "source": [
    "name_file = ['project_sql_result_01.csv', 'project_sql_result_04.csv', 'project_sql_result_07.csv']\n",
    "files = ['/datasets/project_sql_result_01.csv', '/datasets/project_sql_result_04.csv', '/datasets/project_sql_result_07.csv']\n",
    "sql = {}\n",
    "for i in [0, 1, 2]:\n",
    "    try:\n",
    "        sql[i] = pd.read_csv(name_file[i])\n",
    "    except:\n",
    "        sql[i] = pd.read_csv(files[i])"
   ]
  },
  {
   "attachments": {},
   "cell_type": "markdown",
   "metadata": {},
   "source": [
    "### 1. 1. Empresas de taxis <a id='data_review_taxis'></a>\n",
    "\n",
    "Se imprimirá la información general del primer archivo y las primeras 10 filas. Este archivo contiene los nombres de las empresas de taxis y la cantidad de viajes realizados el 15 y 16 de noviembre de 2017."
   ]
  },
  {
   "cell_type": "code",
   "execution_count": 3,
   "metadata": {},
   "outputs": [
    {
     "name": "stdout",
     "output_type": "stream",
     "text": [
      "<class 'pandas.core.frame.DataFrame'>\n",
      "RangeIndex: 64 entries, 0 to 63\n",
      "Data columns (total 2 columns):\n",
      " #   Column        Non-Null Count  Dtype \n",
      "---  ------        --------------  ----- \n",
      " 0   company_name  64 non-null     object\n",
      " 1   trips_amount  64 non-null     int64 \n",
      "dtypes: int64(1), object(1)\n",
      "memory usage: 1.1+ KB\n",
      "                        company_name  trips_amount\n",
      "0                          Flash Cab         19558\n",
      "1          Taxi Affiliation Services         11422\n",
      "2                   Medallion Leasin         10367\n",
      "3                         Yellow Cab          9888\n",
      "4    Taxi Affiliation Service Yellow          9299\n",
      "5          Chicago Carriage Cab Corp          9181\n",
      "6                       City Service          8448\n",
      "7                           Sun Taxi          7701\n",
      "8          Star North Management LLC          7455\n",
      "9  Blue Ribbon Taxi Association Inc.          5953\n"
     ]
    }
   ],
   "source": [
    "sql[0].info()\n",
    "print(sql[0].head(10))"
   ]
  },
  {
   "attachments": {},
   "cell_type": "markdown",
   "metadata": {},
   "source": [
    "La tabla contiene 64 filas y 2 columnas, las cuales son:\n",
    "\n",
    "1. `'company_name'` - nombre de la empresa de taxis.\n",
    "2. `'trips_amount'` - cantidad de viajes realizados el 15 y 16 de noviembre de 2017.\n",
    "\n",
    "No existen valores ausentes y los tipos de datos son correctos. Se imprimirán los valores únicos de la columna `'company_name'` para determinar si existen duplicados implícitos."
   ]
  },
  {
   "cell_type": "code",
   "execution_count": 4,
   "metadata": {},
   "outputs": [
    {
     "name": "stdout",
     "output_type": "stream",
     "text": [
      "['0118 - 42111 Godfrey S.Awir' '1085 - 72312 N and W Cab Co'\n",
      " '1469 - 64126 Omar Jada' '2092 - 61288 Sbeih company'\n",
      " '2192 - 73487 Zeymane Corp' '2241 - 44667 - Felman Corp, Manuel Alonso'\n",
      " '24 Seven Taxi' '2733 - 74600 Benny Jona'\n",
      " '2809 - 95474 C & D Cab Co Inc.' '2823 - 73307 Lee Express Inc'\n",
      " '3011 - 66308 JBL Cab Inc.' '303 Taxi' '3556 - 36214 RC Andrews Cab'\n",
      " '3591 - 63480 Chuks Cab' '3620 - 52292 David K. Cab Corp.'\n",
      " '3623 - 72222 Arrington Enterprises'\n",
      " '3721 - Santamaria Express, Alvaro Santamaria'\n",
      " '4053 - 40193 Adwar H. Nikola' '4615 - 83503 Tyrone Henderson'\n",
      " '4623 - 27290 Jay Kim' '5 Star Taxi' '5006 - 39261 Salifu Bawa'\n",
      " '5062 - 34841 Sam Mestas' '5074 - 54002 Ahzmi Inc'\n",
      " '5874 - 73628 Sergey Cab Corp.' '5997 - 65283 AW Services Inc.'\n",
      " '6057 - 24657 Richard Addo' '6574 - Babylon Express Inc.'\n",
      " '6742 - 83735 Tasha ride inc' '6743 - 78771 Luhak Corp' 'American United'\n",
      " 'American United Taxi Affiliation' 'Blue Diamond'\n",
      " 'Blue Ribbon Taxi Association Inc.' 'Checker Taxi'\n",
      " 'Checker Taxi Affiliation' 'Chicago Carriage Cab Corp'\n",
      " 'Chicago Independents' 'Chicago Medallion Leasing INC'\n",
      " 'Chicago Medallion Management' 'Chicago Star Taxicab' 'Chicago Taxicab'\n",
      " 'Choice Taxi Association' 'City Service' 'Dispatch Taxi Affiliation'\n",
      " 'Flash Cab' 'Globe Taxi' 'Gold Coast Taxi' 'KOAM Taxi Association'\n",
      " 'Leonard Cab Co' 'Medallion Leasin' 'Metro Group' 'Metro Jet Taxi A'\n",
      " 'Norshore Cab' 'Nova Taxi Affiliation Llc'\n",
      " 'Patriot Taxi Dba Peace Taxi Associat' 'Service Taxi Association'\n",
      " 'Setare Inc' 'Star North Management LLC' 'Sun Taxi'\n",
      " 'Taxi Affiliation Service Yellow' 'Taxi Affiliation Services'\n",
      " 'Top Cab Affiliation' 'Yellow Cab']\n"
     ]
    }
   ],
   "source": [
    "print(sql[0]['company_name'].sort_values().unique())"
   ]
  },
  {
   "attachments": {},
   "cell_type": "markdown",
   "metadata": {},
   "source": [
    "No existen duplicados implícitos.\n",
    "\n",
    "[Volver a Contenidos](#back)"
   ]
  },
  {
   "attachments": {},
   "cell_type": "markdown",
   "metadata": {},
   "source": [
    "### 1. 2. Barrios de Chicago <a id='data_review_neighborhoods'></a>\n",
    "\n",
    "Se imprimirá la información general del segundo archivo y las primeras diez filas. Este archivo contiene los nombres de los barrios de Chicago donde terminaron los viajes (en noviembre de 2017), así como el promedio de éstos."
   ]
  },
  {
   "cell_type": "code",
   "execution_count": 5,
   "metadata": {},
   "outputs": [
    {
     "name": "stdout",
     "output_type": "stream",
     "text": [
      "<class 'pandas.core.frame.DataFrame'>\n",
      "RangeIndex: 94 entries, 0 to 93\n",
      "Data columns (total 2 columns):\n",
      " #   Column                 Non-Null Count  Dtype  \n",
      "---  ------                 --------------  -----  \n",
      " 0   dropoff_location_name  94 non-null     object \n",
      " 1   average_trips          94 non-null     float64\n",
      "dtypes: float64(1), object(1)\n",
      "memory usage: 1.6+ KB\n",
      "  dropoff_location_name  average_trips\n",
      "0                  Loop   10727.466667\n",
      "1           River North    9523.666667\n",
      "2         Streeterville    6664.666667\n",
      "3             West Loop    5163.666667\n",
      "4                O'Hare    2546.900000\n",
      "5             Lake View    2420.966667\n",
      "6            Grant Park    2068.533333\n",
      "7         Museum Campus    1510.000000\n",
      "8            Gold Coast    1364.233333\n",
      "9    Sheffield & DePaul    1259.766667\n"
     ]
    }
   ],
   "source": [
    "sql[1].info()\n",
    "print(sql[1].head(10))"
   ]
  },
  {
   "attachments": {},
   "cell_type": "markdown",
   "metadata": {},
   "source": [
    "La tabla contiene 94 filas y 2 columnas, las cuales son:\n",
    "\n",
    "1. `'dropoff_location_name'` - barrios de Chicago donde finalizaron los viajes.\n",
    "2. `'average_trips'` - el promedio de viajes (noviembre de 2017) que terminaron en cada barrio.\n",
    "\n",
    "No existen valores ausentes y el tipo de datos es correcto. Se imprimirán los valores únicos de la columna `'dropoff_location_name'` para verificar que no existan duplicados implícitos."
   ]
  },
  {
   "cell_type": "code",
   "execution_count": 6,
   "metadata": {},
   "outputs": [
    {
     "name": "stdout",
     "output_type": "stream",
     "text": [
      "['Albany Park' 'Andersonville' 'Archer Heights' 'Armour Square' 'Ashburn'\n",
      " 'Auburn Gresham' 'Austin' 'Avalon Park' 'Avondale' 'Belmont Cragin'\n",
      " 'Beverly' 'Boystown' 'Bridgeport' 'Brighton Park' 'Bucktown' 'Burnside'\n",
      " 'Calumet Heights' 'Chatham' 'Chicago Lawn' 'Chinatown' 'Clearing'\n",
      " 'Douglas' 'Dunning' 'East Side' 'East Village' 'Edgewater' 'Edison Park'\n",
      " 'Englewood' 'Fuller Park' 'Gage Park' 'Garfield Park' 'Garfield Ridge'\n",
      " 'Gold Coast' 'Grand Boulevard' 'Grand Crossing' 'Grant Park' 'Hegewisch'\n",
      " 'Hermosa' 'Humboldt Park' 'Hyde Park' 'Irving Park' 'Jackson Park'\n",
      " 'Jefferson Park' 'Kenwood' 'Lake View' 'Lincoln Park' 'Lincoln Square'\n",
      " 'Little Italy, UIC' 'Little Village' 'Logan Square' 'Loop'\n",
      " 'Lower West Side' 'Mckinley Park' 'Montclare' 'Morgan Park'\n",
      " 'Mount Greenwood' 'Museum Campus' 'Near South Side' 'New City'\n",
      " 'North Center' 'North Lawndale' 'North Park' 'Norwood Park' \"O'Hare\"\n",
      " 'Oakland' 'Old Town' 'Portage Park' 'Pullman' 'River North' 'Riverdale'\n",
      " 'Rogers Park' 'Roseland' 'Rush & Division' 'Sauganash,Forest Glen'\n",
      " 'Sheffield & DePaul' 'South Chicago' 'South Deering' 'South Shore'\n",
      " 'Streeterville' 'Ukrainian Village' 'Undef' 'United Center' 'Uptown'\n",
      " 'Washington Heights' 'Washington Park' 'West Elsdon' 'West Lawn'\n",
      " 'West Loop' 'West Pullman' 'West Ridge' 'West Town' 'Wicker Park'\n",
      " 'Woodlawn' 'Wrigleyville']\n"
     ]
    }
   ],
   "source": [
    "print(sql[1]['dropoff_location_name'].sort_values().unique())"
   ]
  },
  {
   "attachments": {},
   "cell_type": "markdown",
   "metadata": {},
   "source": [
    "No existen duplicados implícitos.\n",
    "\n",
    "[Volver a Contenidos](#back)"
   ]
  },
  {
   "attachments": {},
   "cell_type": "markdown",
   "metadata": {},
   "source": [
    "### 1. 3. Viajes al aeropuerto <a id='data_review_airport'></a>\n",
    "\n",
    "Se imprimirá la información general del tercer archivo y las primeras 10 filas. Este archivo contiene información sobre viajes desde el barrio Loop al Aeropuerto Internacional O'Hare."
   ]
  },
  {
   "cell_type": "code",
   "execution_count": 7,
   "metadata": {},
   "outputs": [
    {
     "name": "stdout",
     "output_type": "stream",
     "text": [
      "<class 'pandas.core.frame.DataFrame'>\n",
      "RangeIndex: 1068 entries, 0 to 1067\n",
      "Data columns (total 3 columns):\n",
      " #   Column              Non-Null Count  Dtype  \n",
      "---  ------              --------------  -----  \n",
      " 0   start_ts            1068 non-null   object \n",
      " 1   weather_conditions  1068 non-null   object \n",
      " 2   duration_seconds    1068 non-null   float64\n",
      "dtypes: float64(1), object(2)\n",
      "memory usage: 25.2+ KB\n",
      "              start_ts weather_conditions  duration_seconds\n",
      "0  2017-11-25 16:00:00               Good            2410.0\n",
      "1  2017-11-25 14:00:00               Good            1920.0\n",
      "2  2017-11-25 12:00:00               Good            1543.0\n",
      "3  2017-11-04 10:00:00               Good            2512.0\n",
      "4  2017-11-11 07:00:00               Good            1440.0\n",
      "5  2017-11-11 04:00:00               Good            1320.0\n",
      "6  2017-11-04 16:00:00                Bad            2969.0\n",
      "7  2017-11-18 11:00:00               Good            2280.0\n",
      "8  2017-11-11 14:00:00               Good            2460.0\n",
      "9  2017-11-11 12:00:00               Good            2040.0\n"
     ]
    }
   ],
   "source": [
    "sql[2].info()\n",
    "print(sql[2].head(10))"
   ]
  },
  {
   "attachments": {},
   "cell_type": "markdown",
   "metadata": {},
   "source": [
    "La tabla contiene 1068 filas y 3 columnas, las cuales son:\n",
    "\n",
    "1. `'start_ts'` - fecha y hora de inicio del viaje.\n",
    "2. `'weather_conditions'` - condiciones climáticas al inicio del viaje (`'Bad'` para lluvia o tormenta y `'Good'` en cualquier otro caso).\n",
    "3. `'duration_seconds'` - duración del viaje en segundos.\n",
    "\n",
    "No contiene valores ausentes. Se cambiará el tipo de datos de la columna `'start_ts'` a formato fecha."
   ]
  },
  {
   "cell_type": "code",
   "execution_count": 8,
   "metadata": {},
   "outputs": [
    {
     "name": "stdout",
     "output_type": "stream",
     "text": [
      "<class 'pandas.core.frame.DataFrame'>\n",
      "RangeIndex: 1068 entries, 0 to 1067\n",
      "Data columns (total 3 columns):\n",
      " #   Column              Non-Null Count  Dtype         \n",
      "---  ------              --------------  -----         \n",
      " 0   start_ts            1068 non-null   datetime64[ns]\n",
      " 1   weather_conditions  1068 non-null   object        \n",
      " 2   duration_seconds    1068 non-null   float64       \n",
      "dtypes: datetime64[ns](1), float64(1), object(1)\n",
      "memory usage: 25.2+ KB\n"
     ]
    }
   ],
   "source": [
    "sql[2]['start_ts'] = pd.to_datetime(sql[2]['start_ts'], format='%Y-%m-%d %H:%M:%S')\n",
    "sql[2].info()"
   ]
  },
  {
   "attachments": {},
   "cell_type": "markdown",
   "metadata": {},
   "source": [
    "Se cambiará el tipo de datos en la columna `'duration_seconds'` por int64."
   ]
  },
  {
   "cell_type": "code",
   "execution_count": 9,
   "metadata": {},
   "outputs": [
    {
     "name": "stdout",
     "output_type": "stream",
     "text": [
      "<class 'pandas.core.frame.DataFrame'>\n",
      "RangeIndex: 1068 entries, 0 to 1067\n",
      "Data columns (total 3 columns):\n",
      " #   Column              Non-Null Count  Dtype         \n",
      "---  ------              --------------  -----         \n",
      " 0   start_ts            1068 non-null   datetime64[ns]\n",
      " 1   weather_conditions  1068 non-null   object        \n",
      " 2   duration_seconds    1068 non-null   int64         \n",
      "dtypes: datetime64[ns](1), int64(1), object(1)\n",
      "memory usage: 25.2+ KB\n"
     ]
    }
   ],
   "source": [
    "sql[2]['duration_seconds'] = sql[2]['duration_seconds'].astype('int64')\n",
    "sql[2].info()"
   ]
  },
  {
   "attachments": {},
   "cell_type": "markdown",
   "metadata": {},
   "source": [
    "Los tipos de datos son correctos para cada columna.\n",
    "\n",
    "[Volver a Contenidos](#back)"
   ]
  },
  {
   "attachments": {},
   "cell_type": "markdown",
   "metadata": {},
   "source": [
    "### 1. 4. Conclusiones <a id='data_review_conclusions'></a>\n",
    "\n",
    "Se importaron las librerías necesarias y se guardaron los tres archivos en un diccionario. Al imprimir la información de cada uno se observó que ninguna de las tablas contenía valores ausentes ni duplicados implícitos.\n",
    "\n",
    "En el tercer archivo se cambiaron los tipos de datos de las columnas `'start_ts'` y `'duration_seconds'` a formato fecha y a enteros respectivamente.\n",
    "\n",
    "Los datos son suficientes para comprobar hipótesis.\n",
    "\n",
    "[Volver a Contenidos](#back)"
   ]
  },
  {
   "attachments": {},
   "cell_type": "markdown",
   "metadata": {},
   "source": [
    "## Etapa 2. Análisis exploratorio de datos <a id='data_analysis'></a>\n",
    "\n",
    "En esta etapa se analizarán los datos. Primero se analizarán cuáles fueron las compañías con más viajes los días 15 y 16 de noviembre de 2017. También se identificarán los 10 barrios de Chicago donde finalizaron más viajes."
   ]
  },
  {
   "attachments": {},
   "cell_type": "markdown",
   "metadata": {},
   "source": [
    "### 2. 1. Las empresas más populares <a id='data_analysis_companys'></a>\n",
    "\n",
    "Se analizarán los datos del primer DataFrame `sql[0]` el cual contiene la cantidad de viajes realizados el 15 y 16 de noviembre de 2017 por compañía de taxis."
   ]
  },
  {
   "cell_type": "code",
   "execution_count": 10,
   "metadata": {},
   "outputs": [
    {
     "name": "stdout",
     "output_type": "stream",
     "text": [
      "       trips_amount\n",
      "count     64.000000\n",
      "mean    2145.484375\n",
      "std     3812.310186\n",
      "min        2.000000\n",
      "25%       20.750000\n",
      "50%      178.500000\n",
      "75%     2106.500000\n",
      "max    19558.000000\n"
     ]
    }
   ],
   "source": [
    "print(sql[0].describe())"
   ]
  },
  {
   "attachments": {},
   "cell_type": "markdown",
   "metadata": {},
   "source": [
    "Se observa que el 75% de las empresas registraron menos de 2106 viajes en esos dos días, esta cantidad no difiere mucho de la media. Sin embargo, existen empresas que registraron hasta 19,558 viajes, lo que indica una gran dispersión en los datos. Se agruparán las compañías que hayan registrado menos de 3,000 bajo la etiqueta `'other'` para determinar las compañías más populares."
   ]
  },
  {
   "cell_type": "code",
   "execution_count": 11,
   "metadata": {},
   "outputs": [],
   "source": [
    "def company_group(row): #función para agrupar en other la compañias menos populares\n",
    "    company = row['company_name']\n",
    "    trips = row['trips_amount']\n",
    "    if trips < 3000:\n",
    "        company = 'other'\n",
    "    else:\n",
    "        company\n",
    "    return company"
   ]
  },
  {
   "cell_type": "code",
   "execution_count": 12,
   "metadata": {},
   "outputs": [
    {
     "name": "stdout",
     "output_type": "stream",
     "text": [
      "  company_name  trips_amount\n",
      "0       taxi 1            23\n",
      "1       taxi 2          3001\n",
      "\n",
      "  company_name  trips_amount\n",
      "0        other            23\n",
      "1       taxi 2          3001\n"
     ]
    }
   ],
   "source": [
    "df_test = pd.DataFrame() #DataFrane de prueba\n",
    "df_test['company_name'] = ['taxi 1', 'taxi 2']\n",
    "df_test['trips_amount'] = [23, 3001]\n",
    "print(df_test)\n",
    "print()\n",
    "df_test['company_name'] = df_test.apply(company_group, axis=1)\n",
    "print(df_test)"
   ]
  },
  {
   "cell_type": "code",
   "execution_count": 13,
   "metadata": {},
   "outputs": [
    {
     "name": "stdout",
     "output_type": "stream",
     "text": [
      "50\n"
     ]
    }
   ],
   "source": [
    "sql[0]['company_name'] = sql[0].apply(company_group, axis=1) #aplicamos la función al DataFrame\n",
    "print(len(sql[0].query('company_name == \"other\"'))) #cantidad de compañias en 'other'"
   ]
  },
  {
   "attachments": {},
   "cell_type": "markdown",
   "metadata": {},
   "source": [
    "De las 64 compañías, 50 de ellas no superan los 3,000 viajes en dos días. Se agrupará la tabla por compañía y se mostrará un gráfico de barras."
   ]
  },
  {
   "cell_type": "code",
   "execution_count": 14,
   "metadata": {},
   "outputs": [
    {
     "name": "stdout",
     "output_type": "stream",
     "text": [
      "company_name\n",
      "other                                22111\n",
      "Flash Cab                            19558\n",
      "Taxi Affiliation Services            11422\n",
      "Medallion Leasin                     10367\n",
      "Yellow Cab                            9888\n",
      "Taxi Affiliation Service Yellow       9299\n",
      "Chicago Carriage Cab Corp             9181\n",
      "City Service                          8448\n",
      "Sun Taxi                              7701\n",
      "Star North Management LLC             7455\n",
      "Blue Ribbon Taxi Association Inc.     5953\n",
      "Choice Taxi Association               5015\n",
      "Globe Taxi                            4383\n",
      "Dispatch Taxi Affiliation             3355\n",
      "Nova Taxi Affiliation Llc             3175\n",
      "Name: trips_amount, dtype: int64\n"
     ]
    }
   ],
   "source": [
    "company_trips = sql[0].groupby('company_name')['trips_amount'].sum().sort_values(ascending=False)\n",
    "print(company_trips)"
   ]
  },
  {
   "cell_type": "code",
   "execution_count": 15,
   "metadata": {},
   "outputs": [
    {
     "data": {
      "text/plain": [
       "Text(0, 0.5, 'Trips amount')"
      ]
     },
     "execution_count": 15,
     "metadata": {},
     "output_type": "execute_result"
    },
    {
     "data": {
      "image/png": "[encoded data removed]",
      "text/plain": [
       "<Figure size 800x600 with 1 Axes>"
      ]
     },
     "metadata": {},
     "output_type": "display_data"
    }
   ],
   "source": [
    "company_trips.plot(kind='bar', grid=True, figsize=(8, 6), title='Trips by company')\n",
    "plt.xlabel('company')\n",
    "plt.ylabel('Trips amount')"
   ]
  },
  {
   "attachments": {},
   "cell_type": "markdown",
   "metadata": {},
   "source": [
    "La empresa Flash Cab es la más popular con 19,558 viajes en dos días, casi la misma cantidad de las 50 empresas que conforman el grupo `'other'` con 22,111. El tercer puesto lo ocupa la empresa Taxi Affiliation Services 11,422 viajes lo que es una diferencia considerable con Flash Cab. Para los siguientes puestos, la cantidad de viajes va disminuyendo no tan abruptamente.\n",
    "\n",
    "[Volver a Contenidos](#back)"
   ]
  },
  {
   "attachments": {},
   "cell_type": "markdown",
   "metadata": {},
   "source": [
    "### 2. 2. Las barrios más populares <a id='data_analysis_neighborhoods'></a>\n",
    "\n",
    "Se analizarán los datos del segundo DataFrame `sql[1]` el cual contiene el promedio de viajes terminados en noviembre de 2017 para cada barrio de Chicago. Este DataFrame contiene 94 filas, se imprimirá la cantidad de valores únicos en la columna `'dropoff_location_name'` para identificar cuantos barrios se tienen."
   ]
  },
  {
   "cell_type": "code",
   "execution_count": 16,
   "metadata": {},
   "outputs": [
    {
     "name": "stdout",
     "output_type": "stream",
     "text": [
      "94\n"
     ]
    }
   ],
   "source": [
    "print(len(sql[1]['dropoff_location_name'].unique()))"
   ]
  },
  {
   "attachments": {},
   "cell_type": "markdown",
   "metadata": {},
   "source": [
    "Esta cantidad coincide con el número de filas, es decir, no se tienen barrios repetidos. Se imprimirán las estadísticas de este DataFrame."
   ]
  },
  {
   "cell_type": "code",
   "execution_count": 17,
   "metadata": {},
   "outputs": [
    {
     "name": "stdout",
     "output_type": "stream",
     "text": [
      "       average_trips\n",
      "count      94.000000\n",
      "mean      599.953728\n",
      "std      1714.591098\n",
      "min         1.800000\n",
      "25%        14.266667\n",
      "50%        52.016667\n",
      "75%       298.858333\n",
      "max     10727.466667\n"
     ]
    }
   ],
   "source": [
    "print(sql[1].describe())"
   ]
  },
  {
   "attachments": {},
   "cell_type": "markdown",
   "metadata": {},
   "source": [
    "La media es 599.95 viajes terminados por barrio, sin embargo, existen barrios con 10,727 viajes terminados y otros con sólo 1.8. Se imprimirán únicamente los 10 barrios que cuenten con más viajes terminados y se mostrará un gráfico de barras para mejor visualización."
   ]
  },
  {
   "cell_type": "code",
   "execution_count": 18,
   "metadata": {},
   "outputs": [
    {
     "name": "stdout",
     "output_type": "stream",
     "text": [
      "  dropoff_location_name  average_trips\n",
      "0                  Loop   10727.466667\n",
      "1           River North    9523.666667\n",
      "2         Streeterville    6664.666667\n",
      "3             West Loop    5163.666667\n",
      "4                O'Hare    2546.900000\n",
      "5             Lake View    2420.966667\n",
      "6            Grant Park    2068.533333\n",
      "7         Museum Campus    1510.000000\n",
      "8            Gold Coast    1364.233333\n",
      "9    Sheffield & DePaul    1259.766667\n"
     ]
    }
   ],
   "source": [
    "neighborhoods_top = sql[1].sort_values(by='average_trips', ascending=False)\n",
    "neighborhoods_top = neighborhoods_top[ : 10]\n",
    "print(neighborhoods_top)"
   ]
  },
  {
   "cell_type": "code",
   "execution_count": 19,
   "metadata": {},
   "outputs": [
    {
     "data": {
      "text/plain": [
       "Text(0, 0.5, 'Average trips')"
      ]
     },
     "execution_count": 19,
     "metadata": {},
     "output_type": "execute_result"
    },
    {
     "data": {
      "image/png": "[encoded data removed]",
      "text/plain": [
       "<Figure size 800x600 with 1 Axes>"
      ]
     },
     "metadata": {},
     "output_type": "display_data"
    }
   ],
   "source": [
    "neighborhoods_top.plot(kind='bar', x='dropoff_location_name', title='Trips by Neighborhood', figsize=(8, 6), grid=True)\n",
    "plt.xlabel('Neighborhoods')\n",
    "plt.ylabel('Average trips')"
   ]
  },
  {
   "attachments": {},
   "cell_type": "markdown",
   "metadata": {},
   "source": [
    "El barrio Loop es donde se terminaron más viajes 10,727 seguido por River North (9,523) y Street Ville (6,664). De esta lista de 10 barrios, el que menos viajes tiene es Sheffield & DePaul con 1,259, una diferencia considerable con el más popular.\n",
    "\n",
    "[Volver a Contenidos](#back)"
   ]
  },
  {
   "attachments": {},
   "cell_type": "markdown",
   "metadata": {},
   "source": [
    "### 2. 3. Conclusiones <a id='data_analysis_conclusions'></a>\n",
    "\n",
    "Se determinó que la empresa Flash Cab fue la más popular con casi 19,558 viajes en dos días que es casi la misma cantidad que todos los viajes realizados por 50 empresas en esos mismos dos días. Las otras dos empresas populares son Taxi Affiliation Services y Medallion Leasin con 11,422 y 10,367 viajes respectivamente.\n",
    "\n",
    "También se identificó que los barrios con la mayor cantidad de viajes finalizados en el mes de noviembre de 2017 fueron Loop (10,727), River North (9,523) y Street Ville (6,664).\n",
    "\n",
    "[Volver a Contenidos](#back)"
   ]
  },
  {
   "attachments": {},
   "cell_type": "markdown",
   "metadata": {},
   "source": [
    "## Etapa 3. Comprobación de hipótesis <a id='data_hypothesis'></a>\n",
    "\n",
    "Se planteó la siguiente hipótesis:\n",
    "\n",
    "* La duración promedio de los viajes desde el Loop hasta el Aeropuerto Internacional O'Hare cambia los sábados lluviosos.\n",
    "\n",
    "Para comprobar esta hipótesis se utilizarán los datos del tercer DataFrame `sql[2]` el cual contiene datos sobre viajes desde Loop al Aeropuerto Internacional O'Hare (fecha, hora y duración del viaje) así como las condiciones climáticas de cuando comenzó el viaje. En este sentido, se tienen dos condiciones `'Bad'` para condiciones con lluvia o tormenta y `'Good'` para cualquier otro caso. Cabe mencionar que las fechas corresponde únicamente a días sabados de noviembre de 2017.\n",
    "\n",
    "Se establece como hipótesis nula la siguiente afirmación:\n",
    "\n",
    "**H0: La duración promedio de los viajes desde el Loop hasta el Aeropuerto Internacional O'Hare en sábados lluviosos es la misma que en sábados no lluviosos.**\n",
    "\n",
    "De esta manera, la hipótesis alternativa coincide con la hipótesis planteada.\n",
    "\n",
    "Se crearán dos tablas filtradas por condición climática."
   ]
  },
  {
   "cell_type": "code",
   "execution_count": 20,
   "metadata": {},
   "outputs": [],
   "source": [
    "weather = {}\n",
    "\n",
    "for condition in ['Bad', 'Good']:\n",
    "    weather[condition] = sql[2].query('weather_conditions == @condition')"
   ]
  },
  {
   "attachments": {},
   "cell_type": "markdown",
   "metadata": {},
   "source": [
    "Antes de realizar un prueba-t se realizará una prueba de Levene para comprobar si las varianzas son iguales o no. El nivel de significancia será del 5%."
   ]
  },
  {
   "cell_type": "code",
   "execution_count": 22,
   "metadata": {},
   "outputs": [
    {
     "name": "stdout",
     "output_type": "stream",
     "text": [
      "p-value: 0.5332038671974493\n",
      "Las varianzas son iguales\n"
     ]
    }
   ],
   "source": [
    "alpha = 0.05 #nivel de significancia\n",
    "\n",
    "results_var = st.levene(weather['Bad']['duration_seconds'], weather['Good']['duration_seconds'])\n",
    "\n",
    "print('p-value:', results_var.pvalue)\n",
    "\n",
    "if results_var.pvalue < alpha:\n",
    "    print(\"Las varianzas no son iguales\")\n",
    "else:\n",
    "    print(\"Las varianzas son iguales\")"
   ]
  },
  {
   "attachments": {},
   "cell_type": "markdown",
   "metadata": {},
   "source": [
    "Con este resultado se realizará la prueba-t para varianzas iguales."
   ]
  },
  {
   "cell_type": "code",
   "execution_count": 23,
   "metadata": {},
   "outputs": [
    {
     "name": "stdout",
     "output_type": "stream",
     "text": [
      "p-value: 6.517970327099473e-12\n",
      "Rechazamos la hipótesis nula\n"
     ]
    }
   ],
   "source": [
    "results_score = st.ttest_ind(weather['Bad']['duration_seconds'], weather['Good']['duration_seconds'], equal_var=True)\n",
    "\n",
    "print('p-value:', results_score.pvalue)\n",
    "\n",
    "if results_score.pvalue < alpha:\n",
    "    print(\"Rechazamos la hipótesis nula\")\n",
    "else:\n",
    "    print(\"No rechazamos la hipótesis nula\")"
   ]
  },
  {
   "attachments": {},
   "cell_type": "markdown",
   "metadata": {},
   "source": [
    "**Conclusiones**\n",
    "\n",
    "Con el resultado de la prueba-t se rechaza la hipótesis nula, es decir, con un nivel de confianza del 95% se concluye que el promedio de la duración de los viajes en sábados lluviosos es distinta a los sábados no lluviosos."
   ]
  },
  {
   "attachments": {},
   "cell_type": "markdown",
   "metadata": {},
   "source": [
    "## Etapa 4. Conclusión general <a id='data_conclusion'></a>\n",
    "\n",
    "En este estudio se analizaron datos de viajes de Taxi en Chicago durante el mes de noviembre de 2017. El objetivo fue identificar las preferencias de los pasajeros y el impacto de los factores externos sobre los viajes. De este modo, se estudió la cantidad de viajes por compañía de taxis. Se concluyó que la empresa Flash Cab es la más popular.\n",
    "\n",
    "También se analizó el promedio de viajes finalizados por barrios de Chicago y se concluyó que Loop es el barrio donde se concluyeron más viajes. \n",
    "\n",
    "Finalmente se comprobó la hipótesis:\n",
    "\n",
    "* La duración promedio de los viajes desde el Loop hasta el Aeropuerto Internacional O'Hare cambia los sábados lluviosos.\n",
    "\n",
    "Para veririficar esta hipótesis se hizo una prueba-t con un nivel de significancia del 5%, con lo que se concluyó que puede aceptarse.\n",
    "\n",
    "[Volver a Contenidos](#back)"
   ]
  }
 ],
 "metadata": {
  "kernelspec": {
   "display_name": "Python 3",
   "language": "python",
   "name": "python3"
  },
  "language_info": {
   "codemirror_mode": {
    "name": "ipython",
    "version": 3
   },
   "file_extension": ".py",
   "mimetype": "text/x-python",
   "name": "python",
   "nbconvert_exporter": "python",
   "pygments_lexer": "ipython3",
   "version": "3.10.9"
  },
  "orig_nbformat": 4
 },
 "nbformat": 4,
 "nbformat_minor": 2
}
