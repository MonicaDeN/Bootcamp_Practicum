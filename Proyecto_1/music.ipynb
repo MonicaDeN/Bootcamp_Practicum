{
 "cells": [
  {
   "cell_type": "markdown",
   "metadata": {
    "id": "E0vqbgi9ay0H"
   },
   "source": [
    "# Yandex.Music"
   ]
  },
  {
   "attachments": {},
   "cell_type": "markdown",
   "metadata": {
    "id": "fhq_eyov_Zcs"
   },
   "source": [
    "## Índice <a class='anchor' id='back'></a>\n",
    "\n",
    "* [Introducción](#intro)\n",
    "* [Etapa 1. Descripción de los datos](#data_review)\n",
    "    * [1.1. Conclusiones](#data_review_conclusions)\n",
    "* [Etapa 2. Preprocesamiento de datos](#data_preprocessing)\n",
    "    * [2.1 Estilo del encabezado](#header_style)\n",
    "    * [2.2 Valores ausentes](#missing_values)\n",
    "    * [2.3 Duplicados](#duplicates)\n",
    "    * [2.4 Conclusiones](#data_preprocessing_conclusions)\n",
    "* [Etapa 3. Prueba de hipótesis](#hypotheses)\n",
    "    * [3.1 Hipótesis 1: comparar el comportamiento del usuario en las dos ciudades](#activity)\n",
    "    * [3.2 Hipótesis 2: música al principio y al final de la semana](#week)\n",
    "    * [3.3 Hipótesis 3: preferencias de género en Springfield y Shelbyville](#genre)\n",
    "* [Conclusiones.](#end)"
   ]
  },
  {
   "attachments": {},
   "cell_type": "markdown",
   "metadata": {
    "id": "VUC88oWjTJw2"
   },
   "source": [
    "## Introducción <a class='anchor' id='intro'></a>\n",
    "\n",
    "En este proyecto, se compararán las preferencias musicales de las ciudades de Springfield y Shelbyville. Se estudiarán datos de Yandex.Music para probar las siguientes hipótesis y comparar el comportamiento del usuario de las dos ciudades mencionadas.\n",
    "\n",
    "**Hipótesis** \n",
    " \n",
    "1. La actividad de los usuarios difiere según el día de la semana y la ciudad. \n",
    "2. Los lunes por la mañana, los habitantes de Springfield y Shelbyville escuchan diferentes géneros. Lo mismo ocurre con los viernes por la noche.\n",
    "3. Los oyentes de Springfield y Shelbyville tienen preferencias distintas. En Springfield prefieren el pop mientras que en Shelbyville hay más aficionados al rap.\n",
    "\n",
    "**Etapas**\n",
    "Los datos del comportamiento del usuario se almacenan en el archivo `/datasets/music_project_en.csv`. No hay ninguna información sobre la calidad de los datos así que se examinarán antes de probar las hipótesis. \n",
    "\n",
    "Primero, se evaluará la calidad de los datos y si los problemas son significativos. Entonces, durante el preprocesamiento de datos, se tomarán en cuenta los problemas más críticos.\n",
    " \n",
    "El proyecto consistirá en tres etapas:\n",
    " 1. Descripción de los datos\n",
    " 2. Preprocesamiento de datos\n",
    " 3. Prueba de hipótesis\n",
    " \n",
    "[Volver a Contenidos](#back)"
   ]
  },
  {
   "attachments": {},
   "cell_type": "markdown",
   "metadata": {
    "id": "Ml1hmfXC_Zcs"
   },
   "source": [
    "## Etapa 1. Descripción de los datos <a class='anchor' id='data_review'></a>\n",
    "\n",
    "Se importa la librería `pandas`."
   ]
  },
  {
   "cell_type": "code",
   "execution_count": 2,
   "metadata": {
    "id": "AXN7PHPN_Zcs"
   },
   "outputs": [],
   "source": [
    "# importando pandas\n",
    "import pandas as pd"
   ]
  },
  {
   "attachments": {},
   "cell_type": "markdown",
   "metadata": {
    "id": "SG23P8tt_Zcs"
   },
   "source": [
    "Se lee el archivo `music_project_en.csv` de la carpeta `/datasets/` y se guarda en la variable `df`."
   ]
  },
  {
   "cell_type": "code",
   "execution_count": 3,
   "metadata": {
    "id": "fFVu7vqh_Zct"
   },
   "outputs": [
    {
     "data": {
      "text/html": [
       "<div>\n",
       "<style scoped>\n",
       "    .dataframe tbody tr th:only-of-type {\n",
       "        vertical-align: middle;\n",
       "    }\n",
       "\n",
       "    .dataframe tbody tr th {\n",
       "        vertical-align: top;\n",
       "    }\n",
       "\n",
       "    .dataframe thead th {\n",
       "        text-align: right;\n",
       "    }\n",
       "</style>\n",
       "<table border=\"1\" class=\"dataframe\">\n",
       "  <thead>\n",
       "    <tr style=\"text-align: right;\">\n",
       "      <th></th>\n",
       "      <th>userID</th>\n",
       "      <th>Track</th>\n",
       "      <th>artist</th>\n",
       "      <th>genre</th>\n",
       "      <th>City</th>\n",
       "      <th>time</th>\n",
       "      <th>Day</th>\n",
       "    </tr>\n",
       "  </thead>\n",
       "  <tbody>\n",
       "    <tr>\n",
       "      <th>count</th>\n",
       "      <td>65079</td>\n",
       "      <td>63736</td>\n",
       "      <td>57512</td>\n",
       "      <td>63881</td>\n",
       "      <td>65079</td>\n",
       "      <td>65079</td>\n",
       "      <td>65079</td>\n",
       "    </tr>\n",
       "    <tr>\n",
       "      <th>unique</th>\n",
       "      <td>41748</td>\n",
       "      <td>39666</td>\n",
       "      <td>37806</td>\n",
       "      <td>268</td>\n",
       "      <td>2</td>\n",
       "      <td>20392</td>\n",
       "      <td>3</td>\n",
       "    </tr>\n",
       "    <tr>\n",
       "      <th>top</th>\n",
       "      <td>A8AE9169</td>\n",
       "      <td>Brand</td>\n",
       "      <td>Kartvelli</td>\n",
       "      <td>pop</td>\n",
       "      <td>Springfield</td>\n",
       "      <td>08:14:07</td>\n",
       "      <td>Friday</td>\n",
       "    </tr>\n",
       "    <tr>\n",
       "      <th>freq</th>\n",
       "      <td>76</td>\n",
       "      <td>136</td>\n",
       "      <td>136</td>\n",
       "      <td>8850</td>\n",
       "      <td>45360</td>\n",
       "      <td>14</td>\n",
       "      <td>23149</td>\n",
       "    </tr>\n",
       "  </tbody>\n",
       "</table>\n",
       "</div>"
      ],
      "text/plain": [
       "          userID  Track     artist  genre       City        time     Day\n",
       "count      65079  63736      57512  63881        65079     65079   65079\n",
       "unique     41748  39666      37806    268            2     20392       3\n",
       "top     A8AE9169  Brand  Kartvelli    pop  Springfield  08:14:07  Friday\n",
       "freq          76    136        136   8850        45360        14   23149"
      ]
     },
     "execution_count": 3,
     "metadata": {},
     "output_type": "execute_result"
    }
   ],
   "source": [
    "# leyendo el archivo y almacenándolo en df\n",
    "try:\n",
    "    df = pd.read_csv('music_project_en.csv')\n",
    "except:\n",
    "    df = pd.read_csv('/datasets/music_project_en.csv')\n",
    "df.describe()"
   ]
  },
  {
   "attachments": {},
   "cell_type": "markdown",
   "metadata": {
    "id": "rDoOMd3uTqnZ"
   },
   "source": [
    "Se imprimen las 10 primeras filas de la tabla."
   ]
  },
  {
   "cell_type": "code",
   "execution_count": 3,
   "metadata": {
    "id": "oWTVX3gW_Zct"
   },
   "outputs": [
    {
     "name": "stdout",
     "output_type": "stream",
     "text": [
      "     userID                        Track            artist   genre  \\\n",
      "0  FFB692EC            Kamigata To Boots  The Mass Missile    rock   \n",
      "1  55204538  Delayed Because of Accident  Andreas Rönnberg    rock   \n",
      "2    20EC38            Funiculì funiculà       Mario Lanza     pop   \n",
      "3  A3DD03C9        Dragons in the Sunset        Fire + Ice    folk   \n",
      "4  E2DC1FAE                  Soul People        Space Echo   dance   \n",
      "5  842029A1                       Chains          Obladaet  rusrap   \n",
      "6  4CB90AA5                         True      Roman Messer   dance   \n",
      "7  F03E1C1F             Feeling This Way   Polina Griffith   dance   \n",
      "8  8FA1D3BE                     L’estate       Julia Dalia  ruspop   \n",
      "9  E772D5C0                    Pessimist               NaN   dance   \n",
      "\n",
      "        City        time        Day  \n",
      "0  Shelbyville  20:28:33  Wednesday  \n",
      "1  Springfield  14:07:09     Friday  \n",
      "2  Shelbyville  20:58:07  Wednesday  \n",
      "3  Shelbyville  08:37:09     Monday  \n",
      "4  Springfield  08:34:34     Monday  \n",
      "5  Shelbyville  13:09:41     Friday  \n",
      "6  Springfield  13:00:07  Wednesday  \n",
      "7  Springfield  20:47:49  Wednesday  \n",
      "8  Springfield  09:17:40     Friday  \n",
      "9  Shelbyville  21:20:49  Wednesday  \n"
     ]
    }
   ],
   "source": [
    "# obteniendo las 10 primeras filas de la tabla df\n",
    "print(df.head(10))"
   ]
  },
  {
   "attachments": {},
   "cell_type": "markdown",
   "metadata": {
    "id": "EO73Kwic_Zct"
   },
   "source": [
    "Se obtiene la información general de la tabla."
   ]
  },
  {
   "cell_type": "code",
   "execution_count": 4,
   "metadata": {
    "id": "DSf2kIb-_Zct"
   },
   "outputs": [
    {
     "name": "stdout",
     "output_type": "stream",
     "text": [
      "<class 'pandas.core.frame.DataFrame'>\n",
      "RangeIndex: 65079 entries, 0 to 65078\n",
      "Data columns (total 7 columns):\n",
      " #   Column    Non-Null Count  Dtype \n",
      "---  ------    --------------  ----- \n",
      " 0     userID  65079 non-null  object\n",
      " 1   Track     63736 non-null  object\n",
      " 2   artist    57512 non-null  object\n",
      " 3   genre     63881 non-null  object\n",
      " 4     City    65079 non-null  object\n",
      " 5   time      65079 non-null  object\n",
      " 6   Day       65079 non-null  object\n",
      "dtypes: object(7)\n",
      "memory usage: 3.5+ MB\n"
     ]
    }
   ],
   "source": [
    "# obteniendo información general sobre los datos en df\n",
    "df.info()"
   ]
  },
  {
   "attachments": {},
   "cell_type": "markdown",
   "metadata": {
    "id": "TaQ2Iwbr_Zct"
   },
   "source": [
    "La tabla contiene siete columnas. Todas almacenan el mismo tipo de datos: objeto.\n",
    "\n",
    "De acuerdo con la documentación:\n",
    "- `'userID'` — identificador del usuario\n",
    "- `'Track'` — título de la pista\n",
    "- `'artist'` — nombre del artista\n",
    "- `'genre'` — género\n",
    "- `'City'` — ciudad del usuario\n",
    "- `'time'` — el periodo de tiempo exacto en que se reprodujo la pista\n",
    "- `'Day'` — día de la semana\n",
    "\n",
    "Existen tres problemas con el estilo en los nombres de las columnas:\n",
    "1. Algunos nombres están en mayúsculas, otros en minúsculas.\n",
    "2. Hay algunos espacios en algunos nombres.\n",
    "3. Si el nombre consta de más de una palabra se debe utilizar snake_case.\n",
    "\n",
    "El número de valores de las columnas es diferente. Esto significa que los datos contienen valores ausentes.\n",
    "\n",
    "[Volver a Contenidos](#back)\n"
   ]
  },
  {
   "attachments": {},
   "cell_type": "markdown",
   "metadata": {
    "id": "MCB6-dXG_Zct"
   },
   "source": [
    "### 1.1. Conclusiones <a class='anchor' id='data_review_conclusions'></a> \n",
    "\n",
    "Cada fila de la tabla almacena datos de la pista que fue reproducida. Algunas columnas describen la pista en sí: su título, el artista y el género. El resto transmite la información del usuario: la ciudad de la que viene, el tiempo que ha reproducido la pista. \n",
    "\n",
    "Está claro que los datos son suficientes para probar la hipótesis. Sin embargo, hay valores ausentes.\n",
    "\n",
    "Para continuar, es necesario preprocesar los datos.\n",
    "\n",
    "[Volver a Contenidos](#back)"
   ]
  },
  {
   "attachments": {},
   "cell_type": "markdown",
   "metadata": {
    "id": "SjYF6Ub9_Zct"
   },
   "source": [
    "## Etapa 2. Preprocesamiento de datos <a class='anchor' id='data_preprocessing'></a>\n",
    "\n",
    "Se corrige el formato en los encabezados de las columnas y se tratarán los valores ausentes. Después, se comprobará si hay duplicados en los datos."
   ]
  },
  {
   "attachments": {},
   "cell_type": "markdown",
   "metadata": {
    "id": "dIaKXr29_Zct"
   },
   "source": [
    "### 2.1 Estilo del encabezado <a class='anchor' id='header_style'></a>\n",
    "\n",
    "Se imprime el encabezado de las columnas."
   ]
  },
  {
   "cell_type": "code",
   "execution_count": 5,
   "metadata": {
    "id": "oKOTdF_Q_Zct"
   },
   "outputs": [
    {
     "name": "stdout",
     "output_type": "stream",
     "text": [
      "Index(['  userID', 'Track', 'artist', 'genre', '  City  ', 'time', 'Day'], dtype='object')\n"
     ]
    }
   ],
   "source": [
    "# la lista de los nombres de las columnas en la tabla df\n",
    "print(df.columns)"
   ]
  },
  {
   "attachments": {},
   "cell_type": "markdown",
   "metadata": {
    "id": "zj5534cv_Zct"
   },
   "source": [
    "Se cambiarán los nombres de las columnas de acuerdo con las reglas del buen estilo:\n",
    "* Si el nombre tiene varias palabras, se utiliza snake_case.\n",
    "* Todos los caracteres deben ser minúsculas.\n",
    "* Se eliminan los espacios."
   ]
  },
  {
   "cell_type": "code",
   "execution_count": 6,
   "metadata": {
    "id": "ISlFqs5y_Zct"
   },
   "outputs": [],
   "source": [
    "# renombra las columnas\n",
    "df = df.rename(\n",
    "    columns = {\n",
    "        '  userID': 'user_id',\n",
    "        'Track': 'track',\n",
    "        '  City  ': 'city',\n",
    "        'Day': 'day'\n",
    "    })"
   ]
  },
  {
   "attachments": {},
   "cell_type": "markdown",
   "metadata": {
    "id": "1dqbh00J_Zct"
   },
   "source": [
    "Se comprueba el resultado."
   ]
  },
  {
   "cell_type": "code",
   "execution_count": 7,
   "metadata": {
    "id": "d4NOAmTW_Zct"
   },
   "outputs": [
    {
     "name": "stdout",
     "output_type": "stream",
     "text": [
      "Index(['user_id', 'track', 'artist', 'genre', 'city', 'time', 'day'], dtype='object')\n"
     ]
    }
   ],
   "source": [
    "# comprobando el resultado: la lista de los nombres de las columnas\n",
    "print(df.columns)"
   ]
  },
  {
   "cell_type": "markdown",
   "metadata": {
    "id": "xYJk6ksJVpOl"
   },
   "source": [
    "[Volver a Contenidos](#back)"
   ]
  },
  {
   "attachments": {},
   "cell_type": "markdown",
   "metadata": {
    "id": "5ISfbcfY_Zct"
   },
   "source": [
    "### 2.2 Valores ausentes <a class='anchor' id='missing_values'></a>\n",
    "Se imprime la cantidad de valores ausentes en la tabla."
   ]
  },
  {
   "cell_type": "code",
   "execution_count": 8,
   "metadata": {
    "id": "RskX29qr_Zct"
   },
   "outputs": [
    {
     "name": "stdout",
     "output_type": "stream",
     "text": [
      "user_id       0\n",
      "track      1343\n",
      "artist     7567\n",
      "genre      1198\n",
      "city          0\n",
      "time          0\n",
      "day           0\n",
      "dtype: int64\n"
     ]
    }
   ],
   "source": [
    "print(df.isna().sum())"
   ]
  },
  {
   "attachments": {},
   "cell_type": "markdown",
   "metadata": {
    "id": "qubhgnlO_Zct"
   },
   "source": [
    "No todos los valores ausentes afectan a la investigación. Por ejemplo, los valores ausentes en `'track'` y `'artist'` no son cruciales. Se pueden reemplazar por marcadores claros.\n",
    "\n",
    "Pero los valores ausentes en `'genre'` pueden afectar la comparación entre las preferencias musicales de Springfield y Shelbyville.\n",
    "\n",
    "Se reemplazarán los valores ausentes en `'track'`, `'artist'`, y `'genre'` con la string `'unknown'`."
   ]
  },
  {
   "cell_type": "code",
   "execution_count": 9,
   "metadata": {
    "id": "KplB5qWs_Zct"
   },
   "outputs": [],
   "source": [
    "columns_to_replace = ['track', 'artist', 'genre']\n",
    "for element in columns_to_replace:\n",
    "    df[element] = df[element].fillna('unknown')"
   ]
  },
  {
   "attachments": {},
   "cell_type": "markdown",
   "metadata": {
    "id": "Ilsm-MZo_Zct"
   },
   "source": [
    "Se imprimen nuevamente los valores ausentes para comprobar los cambios."
   ]
  },
  {
   "cell_type": "code",
   "execution_count": 10,
   "metadata": {
    "id": "Tq4nYRX4_Zct"
   },
   "outputs": [
    {
     "name": "stdout",
     "output_type": "stream",
     "text": [
      "user_id    0\n",
      "track      0\n",
      "artist     0\n",
      "genre      0\n",
      "city       0\n",
      "time       0\n",
      "day        0\n",
      "dtype: int64\n"
     ]
    }
   ],
   "source": [
    "print(df.isna().sum())"
   ]
  },
  {
   "cell_type": "markdown",
   "metadata": {
    "id": "74ZIBmq9VrsK"
   },
   "source": [
    "[Volver a Contenidos](#back)"
   ]
  },
  {
   "attachments": {},
   "cell_type": "markdown",
   "metadata": {
    "id": "BWKRtBJ3_Zct"
   },
   "source": [
    "### 2.3 Duplicados <a class='anchor' id='duplicates'></a>\n",
    "Se imprime la cantidad de duplicados obvios (filas duplicadas) en la tabla."
   ]
  },
  {
   "cell_type": "code",
   "execution_count": 11,
   "metadata": {
    "id": "36eES_S0_Zct"
   },
   "outputs": [
    {
     "name": "stdout",
     "output_type": "stream",
     "text": [
      "3826\n"
     ]
    }
   ],
   "source": [
    "print(df.duplicated().sum())"
   ]
  },
  {
   "attachments": {},
   "cell_type": "markdown",
   "metadata": {
    "id": "Ot25h6XR_Zct"
   },
   "source": [
    "Se eliminan estas filas duplicadas."
   ]
  },
  {
   "cell_type": "code",
   "execution_count": 12,
   "metadata": {
    "id": "exFHq6tt_Zct"
   },
   "outputs": [],
   "source": [
    "# eliminando duplicados obvios y actualizando el índice sin la columna 'index'\n",
    "df = df.drop_duplicates().reset_index(drop=True)"
   ]
  },
  {
   "attachments": {},
   "cell_type": "markdown",
   "metadata": {
    "id": "Im2YwBEG_Zct"
   },
   "source": [
    "Se imprime nuevamente la cantidad de filas duplicadas para comprobar cambios."
   ]
  },
  {
   "cell_type": "code",
   "execution_count": 13,
   "metadata": {
    "id": "-8PuNWQ0_Zct"
   },
   "outputs": [
    {
     "name": "stdout",
     "output_type": "stream",
     "text": [
      "0\n"
     ]
    }
   ],
   "source": [
    "print(df.duplicated().sum())"
   ]
  },
  {
   "attachments": {},
   "cell_type": "markdown",
   "metadata": {
    "id": "QlFBsxAr_Zct"
   },
   "source": [
    "Ahora se investigarán los duplicados implícitos en la columna `'genre'`. Por ejemplo, el nombre de un género se puede escribir de varias formas. Dichos errores también pueden afectar a resultado."
   ]
  },
  {
   "cell_type": "code",
   "execution_count": 14,
   "metadata": {
    "id": "JIUcqzZN_Zct"
   },
   "outputs": [
    {
     "name": "stdout",
     "output_type": "stream",
     "text": [
      "['acid' 'acoustic' 'action' 'adult' 'africa' 'afrikaans' 'alternative'\n",
      " 'ambient' 'americana' 'animated' 'anime' 'arabesk' 'arabic' 'arena'\n",
      " 'argentinetango' 'art' 'audiobook' 'avantgarde' 'axé' 'baile' 'balkan'\n",
      " 'beats' 'bigroom' 'black' 'bluegrass' 'blues' 'bollywood' 'bossa'\n",
      " 'brazilian' 'breakbeat' 'breaks' 'broadway' 'cantautori' 'cantopop'\n",
      " 'canzone' 'caribbean' 'caucasian' 'celtic' 'chamber' 'children' 'chill'\n",
      " 'chinese' 'choral' 'christian' 'christmas' 'classical' 'classicmetal'\n",
      " 'club' 'colombian' 'comedy' 'conjazz' 'contemporary' 'country' 'cuban'\n",
      " 'dance' 'dancehall' 'dancepop' 'dark' 'death' 'deep' 'deutschrock'\n",
      " 'deutschspr' 'dirty' 'disco' 'dnb' 'documentary' 'downbeat' 'downtempo'\n",
      " 'drum' 'dub' 'dubstep' 'eastern' 'easy' 'electronic' 'electropop' 'emo'\n",
      " 'entehno' 'epicmetal' 'estrada' 'ethnic' 'eurofolk' 'european'\n",
      " 'experimental' 'extrememetal' 'fado' 'film' 'fitness' 'flamenco' 'folk'\n",
      " 'folklore' 'folkmetal' 'folkrock' 'folktronica' 'forró' 'frankreich'\n",
      " 'französisch' 'french' 'funk' 'future' 'gangsta' 'garage' 'german'\n",
      " 'ghazal' 'gitarre' 'glitch' 'gospel' 'gothic' 'grime' 'grunge' 'gypsy'\n",
      " 'handsup' \"hard'n'heavy\" 'hardcore' 'hardstyle' 'hardtechno' 'hip'\n",
      " 'hip-hop' 'hiphop' 'historisch' 'holiday' 'hop' 'horror' 'house' 'idm'\n",
      " 'independent' 'indian' 'indie' 'indipop' 'industrial' 'inspirational'\n",
      " 'instrumental' 'international' 'irish' 'jam' 'japanese' 'jazz' 'jewish'\n",
      " 'jpop' 'jungle' 'k-pop' 'karadeniz' 'karaoke' 'kayokyoku' 'korean'\n",
      " 'laiko' 'latin' 'latino' 'leftfield' 'local' 'lounge' 'loungeelectronic'\n",
      " 'lovers' 'malaysian' 'mandopop' 'marschmusik' 'meditative'\n",
      " 'mediterranean' 'melodic' 'metal' 'metalcore' 'mexican' 'middle'\n",
      " 'minimal' 'miscellaneous' 'modern' 'mood' 'mpb' 'muslim' 'native'\n",
      " 'neoklassik' 'neue' 'new' 'newage' 'newwave' 'nu' 'nujazz' 'numetal'\n",
      " 'oceania' 'old' 'opera' 'orchestral' 'other' 'piano' 'pop'\n",
      " 'popelectronic' 'popeurodance' 'post' 'posthardcore' 'postrock' 'power'\n",
      " 'progmetal' 'progressive' 'psychedelic' 'punjabi' 'punk' 'quebecois'\n",
      " 'ragga' 'ram' 'rancheras' 'rap' 'rave' 'reggae' 'reggaeton' 'regional'\n",
      " 'relax' 'religious' 'retro' 'rhythm' 'rnb' 'rnr' 'rock' 'rockabilly'\n",
      " 'romance' 'roots' 'ruspop' 'rusrap' 'rusrock' 'salsa' 'samba' 'schlager'\n",
      " 'self' 'sertanejo' 'shoegazing' 'showtunes' 'singer' 'ska' 'slow'\n",
      " 'smooth' 'soul' 'soulful' 'sound' 'soundtrack' 'southern' 'specialty'\n",
      " 'speech' 'spiritual' 'sport' 'stonerrock' 'surf' 'swing' 'synthpop'\n",
      " 'sängerportrait' 'tango' 'tanzorchester' 'taraftar' 'tech' 'techno'\n",
      " 'thrash' 'top' 'traditional' 'tradjazz' 'trance' 'tribal' 'trip'\n",
      " 'triphop' 'tropical' 'türk' 'türkçe' 'unknown' 'urban' 'uzbek' 'variété'\n",
      " 'vi' 'videogame' 'vocal' 'western' 'world' 'worldbeat' 'ïîï']\n"
     ]
    }
   ],
   "source": [
    "# inspeccionando los nombres de géneros únicos ordenados alfabeticamente\n",
    "print(df['genre'].sort_values().unique())"
   ]
  },
  {
   "attachments": {},
   "cell_type": "markdown",
   "metadata": {
    "id": "qej-Qmuo_Zct"
   },
   "source": [
    "Existen duplicados implícitos del género `hiphop`, los cuales son:\n",
    "\n",
    "* `hip`\n",
    "* `hop`\n",
    "* `hip-hop`\n",
    "\n",
    "Para eliminarlos se creará la función `replace_wrong_genres()` con dos parámetros:\n",
    "\n",
    "* `wrong_genres=` — la lista de duplicados\n",
    "* `correct_genre=` — la string con el valor correcto\n",
    "\n",
    "La función debería corregir los nombres en la columna `'genre'` de la tabla `df`, es decir, remplaza cada valor de la lista `wrong_genres` con el valor en `correct_genre`."
   ]
  },
  {
   "cell_type": "code",
   "execution_count": 15,
   "metadata": {
    "id": "ErNDkmns_Zct"
   },
   "outputs": [],
   "source": [
    "# función para reemplazar duplicados implícitos\n",
    "def replace_wrong_genres(wrong_genres, correct_genre):\n",
    "    for wrong_genre in wrong_genres:\n",
    "        df['genre'] = df['genre'].replace(wrong_genre, correct_genre)"
   ]
  },
  {
   "attachments": {},
   "cell_type": "markdown",
   "metadata": {
    "id": "aDoBJxbA_Zct"
   },
   "source": [
    "Se crea la lista con los duplicados ímplicitos y se aplica la función."
   ]
  },
  {
   "cell_type": "code",
   "execution_count": 16,
   "metadata": {
    "id": "YN5i2hpmSo09"
   },
   "outputs": [],
   "source": [
    "# eliminando duplicados implícitos\n",
    "duplicates_hiphop = ['hip', 'hop', 'hip-hop']\n",
    "replace_wrong_genres(duplicates_hiphop, 'hiphop')"
   ]
  },
  {
   "attachments": {},
   "cell_type": "markdown",
   "metadata": {
    "id": "zQKF16_RG15m"
   },
   "source": [
    "Se imprimen nuevamente los valores de la columna `'genre'` para comprobar los cambios."
   ]
  },
  {
   "cell_type": "code",
   "execution_count": 17,
   "metadata": {
    "id": "wvixALnFG15m"
   },
   "outputs": [
    {
     "name": "stdout",
     "output_type": "stream",
     "text": [
      "['acid' 'acoustic' 'action' 'adult' 'africa' 'afrikaans' 'alternative'\n",
      " 'ambient' 'americana' 'animated' 'anime' 'arabesk' 'arabic' 'arena'\n",
      " 'argentinetango' 'art' 'audiobook' 'avantgarde' 'axé' 'baile' 'balkan'\n",
      " 'beats' 'bigroom' 'black' 'bluegrass' 'blues' 'bollywood' 'bossa'\n",
      " 'brazilian' 'breakbeat' 'breaks' 'broadway' 'cantautori' 'cantopop'\n",
      " 'canzone' 'caribbean' 'caucasian' 'celtic' 'chamber' 'children' 'chill'\n",
      " 'chinese' 'choral' 'christian' 'christmas' 'classical' 'classicmetal'\n",
      " 'club' 'colombian' 'comedy' 'conjazz' 'contemporary' 'country' 'cuban'\n",
      " 'dance' 'dancehall' 'dancepop' 'dark' 'death' 'deep' 'deutschrock'\n",
      " 'deutschspr' 'dirty' 'disco' 'dnb' 'documentary' 'downbeat' 'downtempo'\n",
      " 'drum' 'dub' 'dubstep' 'eastern' 'easy' 'electronic' 'electropop' 'emo'\n",
      " 'entehno' 'epicmetal' 'estrada' 'ethnic' 'eurofolk' 'european'\n",
      " 'experimental' 'extrememetal' 'fado' 'film' 'fitness' 'flamenco' 'folk'\n",
      " 'folklore' 'folkmetal' 'folkrock' 'folktronica' 'forró' 'frankreich'\n",
      " 'französisch' 'french' 'funk' 'future' 'gangsta' 'garage' 'german'\n",
      " 'ghazal' 'gitarre' 'glitch' 'gospel' 'gothic' 'grime' 'grunge' 'gypsy'\n",
      " 'handsup' \"hard'n'heavy\" 'hardcore' 'hardstyle' 'hardtechno' 'hiphop'\n",
      " 'historisch' 'holiday' 'horror' 'house' 'idm' 'independent' 'indian'\n",
      " 'indie' 'indipop' 'industrial' 'inspirational' 'instrumental'\n",
      " 'international' 'irish' 'jam' 'japanese' 'jazz' 'jewish' 'jpop' 'jungle'\n",
      " 'k-pop' 'karadeniz' 'karaoke' 'kayokyoku' 'korean' 'laiko' 'latin'\n",
      " 'latino' 'leftfield' 'local' 'lounge' 'loungeelectronic' 'lovers'\n",
      " 'malaysian' 'mandopop' 'marschmusik' 'meditative' 'mediterranean'\n",
      " 'melodic' 'metal' 'metalcore' 'mexican' 'middle' 'minimal'\n",
      " 'miscellaneous' 'modern' 'mood' 'mpb' 'muslim' 'native' 'neoklassik'\n",
      " 'neue' 'new' 'newage' 'newwave' 'nu' 'nujazz' 'numetal' 'oceania' 'old'\n",
      " 'opera' 'orchestral' 'other' 'piano' 'pop' 'popelectronic' 'popeurodance'\n",
      " 'post' 'posthardcore' 'postrock' 'power' 'progmetal' 'progressive'\n",
      " 'psychedelic' 'punjabi' 'punk' 'quebecois' 'ragga' 'ram' 'rancheras'\n",
      " 'rap' 'rave' 'reggae' 'reggaeton' 'regional' 'relax' 'religious' 'retro'\n",
      " 'rhythm' 'rnb' 'rnr' 'rock' 'rockabilly' 'romance' 'roots' 'ruspop'\n",
      " 'rusrap' 'rusrock' 'salsa' 'samba' 'schlager' 'self' 'sertanejo'\n",
      " 'shoegazing' 'showtunes' 'singer' 'ska' 'slow' 'smooth' 'soul' 'soulful'\n",
      " 'sound' 'soundtrack' 'southern' 'specialty' 'speech' 'spiritual' 'sport'\n",
      " 'stonerrock' 'surf' 'swing' 'synthpop' 'sängerportrait' 'tango'\n",
      " 'tanzorchester' 'taraftar' 'tech' 'techno' 'thrash' 'top' 'traditional'\n",
      " 'tradjazz' 'trance' 'tribal' 'trip' 'triphop' 'tropical' 'türk' 'türkçe'\n",
      " 'unknown' 'urban' 'uzbek' 'variété' 'vi' 'videogame' 'vocal' 'western'\n",
      " 'world' 'worldbeat' 'ïîï']\n"
     ]
    }
   ],
   "source": [
    "print(df['genre'].sort_values().unique())"
   ]
  },
  {
   "cell_type": "markdown",
   "metadata": {
    "id": "ALgNbvF3VtPA"
   },
   "source": [
    "[Volver a Contenidos](#back)"
   ]
  },
  {
   "attachments": {},
   "cell_type": "markdown",
   "metadata": {
    "id": "jz6a9-7HQUDd"
   },
   "source": [
    "### 2.4 Conclusiones <a class='anchor' id='data_preprocessing_conclusions'></a>\n",
    "\n",
    "Existían tres problemas con los datos:\n",
    "\n",
    "- Estilos de encabezados incorrectos\n",
    "- Valores ausentes\n",
    "- Duplicados obvios e implícitos\n",
    "\n",
    "Los encabezados han sido eliminados para conseguir que el procesamiento de la tabla sea más sencillo.\n",
    "\n",
    "Todos los valores ausentes han sido reemplazados por `'unknown'`. Pero se debe verificar si los valores ausentes en `'genre'` afectan a los cálculos.\n",
    "\n",
    "La ausencia de duplicados hará que los resultados sean mas precisos y fáciles de entender.\n",
    "\n",
    "Se continuará probando las hipótesis. \n",
    "\n",
    "[Volver a Contenidos](#back)"
   ]
  },
  {
   "attachments": {},
   "cell_type": "markdown",
   "metadata": {
    "id": "WttZHXH0SqKk"
   },
   "source": [
    "## Etapa 3. Prueba de hipótesis <a class='anchor' id='hypotheses'></a>"
   ]
  },
  {
   "attachments": {},
   "cell_type": "markdown",
   "metadata": {
    "id": "Im936VVi_Zcu"
   },
   "source": [
    "### 3. 1 Hipótesis 1: comparar el comportamiento del usuario en las dos ciudades <a class='anchor' id='activity'></a>\n",
    "\n",
    "De acuerdo con la primera hipótesis, los usuarios de Springfield y Shelbyville escuchan música de forma distinta. Se comprobará esto utilizando los datos de tres días de la semana: lunes, miércoles y viernes.\n",
    "\n",
    "Se agruparán los datos por ciudad para encontrar la cantidad de canciones reproducidas en cada grupo."
   ]
  },
  {
   "cell_type": "code",
   "execution_count": 18,
   "metadata": {
    "id": "0_Qs96oh_Zcu"
   },
   "outputs": [
    {
     "name": "stdout",
     "output_type": "stream",
     "text": [
      "city\n",
      "Shelbyville    18512\n",
      "Springfield    42741\n",
      "Name: city, dtype: int64\n"
     ]
    }
   ],
   "source": [
    "# contando las pistas reproducidas en cada ciudad y con una sola columna\n",
    "print(df.groupby('city')['city'].count())"
   ]
  },
  {
   "attachments": {},
   "cell_type": "markdown",
   "metadata": {
    "id": "dzli3w8o_Zcu"
   },
   "source": [
    "Springfield ha reproducido más pistas que Shelbyville. Pero eso no implica que los ciudadanos de Springfield escuchen música más a menudo. Esta ciudad es simplemente más grande y hay más usuarios.\n",
    "\n",
    "A continuación se agruparán los datos por día de la semana para encontrar la cantidad de pistas reproducidas el lunes, miércoles y viernes."
   ]
  },
  {
   "cell_type": "code",
   "execution_count": 19,
   "metadata": {
    "id": "uZMKjiJz_Zcu"
   },
   "outputs": [
    {
     "name": "stdout",
     "output_type": "stream",
     "text": [
      "day\n",
      "Friday       21840\n",
      "Monday       21354\n",
      "Wednesday    18059\n",
      "Name: day, dtype: int64\n"
     ]
    }
   ],
   "source": [
    "# calculando las pistas reproducidas en cada uno de los tres días\n",
    "print(df.groupby('day')['day'].count())"
   ]
  },
  {
   "attachments": {},
   "cell_type": "markdown",
   "metadata": {
    "id": "cC2tNrlL_Zcu"
   },
   "source": [
    "El miércoles fue el día más silencioso de todos. Pero si se considera a las dos ciudades por separado se podría llegar a una conclusión diferente.\n",
    "\n",
    "Se creará la función `number_tracks()` para calcular el número de canciones reproducidas en un determinado día y ciudad. Requerirá dos parámetros:\n",
    "* día de la semana.\n",
    "* nombre de la ciudad.\n",
    "\n",
    "En la función, se utiliza una variable para almacenar las filas de la tabla original, donde:\n",
    "  * el valor de la columna `'day'` es igual al parámetro de día.\n",
    "  * el valor de la columna `'city'` es igual al parámetro de ciudad."
   ]
  },
  {
   "cell_type": "code",
   "execution_count": 20,
   "metadata": {
    "id": "Nz3GdQB1_Zcu"
   },
   "outputs": [],
   "source": [
    "def number_tracks(day, city):\n",
    "    track_list = df[df['day'] == day]\n",
    "    track_list = track_list[track_list['city'] == city]\n",
    "    track_list_count = track_list['user_id'].count()\n",
    "    return track_list_count"
   ]
  },
  {
   "attachments": {},
   "cell_type": "markdown",
   "metadata": {
    "id": "ytf7xFrFJQ2r"
   },
   "source": [
    "Se aplicará la función `number_tracks()` seis veces, cambiando los valores de los parámetros, para recuperar los datos de ambas ciudades para cada uno de los tres días."
   ]
  },
  {
   "cell_type": "code",
   "execution_count": 21,
   "metadata": {
    "id": "rJcRATNQ_Zcu"
   },
   "outputs": [
    {
     "name": "stdout",
     "output_type": "stream",
     "text": [
      "15740\n"
     ]
    }
   ],
   "source": [
    "# el número de canciones reproducidas en Springfield el lunes\n",
    "print(number_tracks('Monday', 'Springfield'))"
   ]
  },
  {
   "cell_type": "code",
   "execution_count": 22,
   "metadata": {
    "id": "hq_ncZ5T_Zcu"
   },
   "outputs": [
    {
     "name": "stdout",
     "output_type": "stream",
     "text": [
      "5614\n"
     ]
    }
   ],
   "source": [
    "# el número de canciones reproducidas en Shelbyville el lunes\n",
    "print(number_tracks('Monday', 'Shelbyville'))"
   ]
  },
  {
   "cell_type": "code",
   "execution_count": 23,
   "metadata": {
    "id": "_NTy2VPU_Zcu"
   },
   "outputs": [
    {
     "name": "stdout",
     "output_type": "stream",
     "text": [
      "11056\n"
     ]
    }
   ],
   "source": [
    "# el número de canciones reproducidas en Springfield el miércoles\n",
    "print(number_tracks('Wednesday', 'Springfield'))"
   ]
  },
  {
   "cell_type": "code",
   "execution_count": 24,
   "metadata": {
    "id": "j2y3TAwo_Zcu"
   },
   "outputs": [
    {
     "name": "stdout",
     "output_type": "stream",
     "text": [
      "7003\n"
     ]
    }
   ],
   "source": [
    "# el número de canciones reproducidas en Shelbyville el miércoles\n",
    "print(number_tracks('Wednesday', 'Shelbyville'))"
   ]
  },
  {
   "cell_type": "code",
   "execution_count": 25,
   "metadata": {
    "id": "vYDw5u_K_Zcu"
   },
   "outputs": [
    {
     "name": "stdout",
     "output_type": "stream",
     "text": [
      "15945\n"
     ]
    }
   ],
   "source": [
    "# el número de canciones reproducidas en Springfield el viernes\n",
    "print(number_tracks('Friday', 'Springfield'))"
   ]
  },
  {
   "cell_type": "code",
   "execution_count": 26,
   "metadata": {
    "id": "8_yzFtW3_Zcu"
   },
   "outputs": [
    {
     "name": "stdout",
     "output_type": "stream",
     "text": [
      "5895\n"
     ]
    }
   ],
   "source": [
    "# el número de canciones reproducidas en Shelbyville el viernes\n",
    "print(number_tracks('Friday', 'Shelbyville'))"
   ]
  },
  {
   "attachments": {},
   "cell_type": "markdown",
   "metadata": {
    "id": "7QXffbO-_Zcu"
   },
   "source": [
    "Se creará una tabla, donde\n",
    "* Los nombres de las columnas son: `['city', 'monday', 'wednesday', 'friday']`\n",
    "* Los datos son los resultados de `number_tracks()`"
   ]
  },
  {
   "cell_type": "code",
   "execution_count": 28,
   "metadata": {},
   "outputs": [],
   "source": [
    "columns_city_day = ['city', 'monday', 'wednesday', 'friday']\n",
    "data_city_day =[\n",
    "    ['Springfield', number_tracks('Monday', 'Springfield'), number_tracks('Wednesday', 'Springfield'), number_tracks('Friday', 'Springfield')],\n",
    "    ['Shelbyville', number_tracks('Monday', 'Shelbyville'), number_tracks('Wednesday', 'Shelbyville'), number_tracks('Friday', 'Shelbyville')]\n",
    "]\n",
    "df_city_day = pd.DataFrame(data=data_city_day, columns=columns_city_day)"
   ]
  },
  {
   "cell_type": "code",
   "execution_count": 29,
   "metadata": {
    "id": "APAcLpOr_Zcu"
   },
   "outputs": [
    {
     "name": "stdout",
     "output_type": "stream",
     "text": [
      "          city  monday  wednesday  friday\n",
      "0  Springfield   15740      11056   15945\n",
      "1  Shelbyville    5614       7003    5895\n"
     ]
    }
   ],
   "source": [
    "# tabla con los resultados\n",
    "print(df_city_day)"
   ]
  },
  {
   "attachments": {},
   "cell_type": "markdown",
   "metadata": {
    "id": "-EgPIHYu_Zcu"
   },
   "source": [
    "**Conclusiones**\n",
    "\n",
    "Los datos revelan las diferencias en el comportamiento de los usuarios:\n",
    "\n",
    "- En Springfield, el número de canciones reproducidas alcanzan el punto máximo los lunes y viernes mientras que los miércoles hay un descenso de la actividad.\n",
    "- En Shelbyville, al contario, los usuarios escuchan más música los miércoles. La actividad de los usuarios los lunes y viernes es menor.\n",
    "\n",
    "Así que la primera hipótesis parece ser correcta.\n",
    "\n",
    "[Volver a Contenidos](#back)"
   ]
  },
  {
   "attachments": {},
   "cell_type": "markdown",
   "metadata": {
    "id": "atZAxtq4_Zcu"
   },
   "source": [
    "### 3. 2 Hipótesis 2: música al principio y al final de la semana <a class='anchor' id='week'></a>\n",
    "\n",
    "De acuerdo con la segunda hipótesis, los lunes por la mañana y los viernes por la noche los ciudadanos de Springfield escuchan géneros que difieren de aquellos que los usuarios de Shelbyville disfrutan.\n",
    "\n",
    "Se crearán dos tablas a partir de la original, es decir, se filtará la tabla original por ciudad."
   ]
  },
  {
   "cell_type": "code",
   "execution_count": 30,
   "metadata": {
    "id": "qeaFfM_P_Zcu"
   },
   "outputs": [],
   "source": [
    "spr_general = df[df['city'] == 'Springfield']"
   ]
  },
  {
   "cell_type": "code",
   "execution_count": 31,
   "metadata": {
    "id": "ORaVRKto_Zcu"
   },
   "outputs": [],
   "source": [
    "shel_general = df[df['city'] == 'Shelbyville']"
   ]
  },
  {
   "attachments": {},
   "cell_type": "markdown",
   "metadata": {
    "id": "MEJV-CX2_Zcu"
   },
   "source": [
    "Se creará la función `genre_weekday()` con cuatro parámetros:\n",
    "* Una tabla para los datos (`df`)\n",
    "* El día de la semana (`day`)\n",
    "* La marca de fecha y hora en formato 'hh:mm' (`time1`)\n",
    "* La marca de fecha y hora en formato 'hh:mm' (`time2`)\n",
    "\n",
    "La función debería devolver información de los 15 géneros más populares de un día determinado en un período entre dos marcas de fecha y hora."
   ]
  },
  {
   "cell_type": "code",
   "execution_count": 32,
   "metadata": {
    "id": "laJT9BYl_Zcu"
   },
   "outputs": [],
   "source": [
    "def genre_weekday(data, day, time1, time2):\n",
    "    genre_df = data[data['day'] == day]\n",
    "    genre_df = genre_df[genre_df['time'] < time2]\n",
    "    genre_df = genre_df[genre_df['time'] > time1]\n",
    "    genre_df_grouped = genre_df.groupby('genre')['genre'].count()\n",
    "    genre_df_sorted = genre_df_grouped.sort_values(ascending=False)\n",
    "    return genre_df_sorted[:15]"
   ]
  },
  {
   "attachments": {},
   "cell_type": "markdown",
   "metadata": {
    "id": "la2s2_PF_Zcu"
   },
   "source": [
    "Se aplicará la función `genre_weekday()` para comparar los resultados de Springfield y Shelbyville el lunes por la mañana (de 7 a 11) y el viernes por la tarde (de 17:00 a 23:00)."
   ]
  },
  {
   "cell_type": "code",
   "execution_count": 33,
   "metadata": {
    "id": "yz7itPUQ_Zcu"
   },
   "outputs": [
    {
     "name": "stdout",
     "output_type": "stream",
     "text": [
      "genre\n",
      "pop            781\n",
      "dance          549\n",
      "electronic     480\n",
      "rock           474\n",
      "hiphop         286\n",
      "ruspop         186\n",
      "world          181\n",
      "rusrap         175\n",
      "alternative    164\n",
      "unknown        161\n",
      "classical      157\n",
      "metal          120\n",
      "jazz           100\n",
      "folk            97\n",
      "soundtrack      95\n",
      "Name: genre, dtype: int64\n"
     ]
    }
   ],
   "source": [
    "# llamando a la función para el lunes por la mañana en Springfield (utilizando spr_general en vez de la tabla df)\n",
    "print(genre_weekday(spr_general, 'Monday', '07:00', '11:00'))"
   ]
  },
  {
   "cell_type": "code",
   "execution_count": 34,
   "metadata": {
    "id": "kwUcHPdy_Zcu"
   },
   "outputs": [
    {
     "name": "stdout",
     "output_type": "stream",
     "text": [
      "genre\n",
      "pop            218\n",
      "dance          182\n",
      "rock           162\n",
      "electronic     147\n",
      "hiphop          80\n",
      "ruspop          64\n",
      "alternative     58\n",
      "rusrap          55\n",
      "jazz            44\n",
      "classical       40\n",
      "world           36\n",
      "rap             32\n",
      "soundtrack      31\n",
      "rnb             27\n",
      "metal           27\n",
      "Name: genre, dtype: int64\n"
     ]
    }
   ],
   "source": [
    "# llamando a la función para el lunes por la mañana en Shelbyville (utilizando shel_general en vez de la tabla df)\n",
    "print(genre_weekday(shel_general, 'Monday', '07:00', '11:00'))"
   ]
  },
  {
   "cell_type": "code",
   "execution_count": 35,
   "metadata": {
    "id": "EzXVRE1o_Zcu"
   },
   "outputs": [
    {
     "name": "stdout",
     "output_type": "stream",
     "text": [
      "genre\n",
      "pop            713\n",
      "rock           517\n",
      "dance          495\n",
      "electronic     482\n",
      "hiphop         273\n",
      "world          208\n",
      "ruspop         170\n",
      "classical      163\n",
      "alternative    163\n",
      "rusrap         142\n",
      "jazz           111\n",
      "unknown        110\n",
      "soundtrack     105\n",
      "rnb             90\n",
      "metal           88\n",
      "Name: genre, dtype: int64\n"
     ]
    }
   ],
   "source": [
    "# llamando a la función para el viernes por la tarde en Springfield\n",
    "print(genre_weekday(spr_general, 'Friday', '17:00', '23:00'))"
   ]
  },
  {
   "cell_type": "code",
   "execution_count": 36,
   "metadata": {
    "id": "JZaEKu5v_Zcu"
   },
   "outputs": [
    {
     "name": "stdout",
     "output_type": "stream",
     "text": [
      "genre\n",
      "pop            256\n",
      "rock           216\n",
      "electronic     216\n",
      "dance          210\n",
      "hiphop          97\n",
      "alternative     63\n",
      "jazz            61\n",
      "classical       60\n",
      "rusrap          59\n",
      "world           54\n",
      "unknown         47\n",
      "ruspop          47\n",
      "soundtrack      40\n",
      "metal           39\n",
      "rap             36\n",
      "Name: genre, dtype: int64\n"
     ]
    }
   ],
   "source": [
    "# llamando a la función para el viernes por la tarde en Shelbyville\n",
    "print(genre_weekday(shel_general, 'Friday', '17:00', '23:00'))"
   ]
  },
  {
   "attachments": {},
   "cell_type": "markdown",
   "metadata": {
    "id": "wrCe4MNX_Zcu"
   },
   "source": [
    "**Conclusión**\n",
    "\n",
    "Habiendo comparado los 15 géneros más populares del lunes por la mañana se concluye lo siguiente:\n",
    "\n",
    "1. Los usuarios de Springfield y Shelbyville escuchan música similar. Los cinco géneros más populares son los mismos, solo rock y electrónica han intercambiado posiciones.\n",
    "\n",
    "2. En Springfield el número de valores ausentes resultaron ser tan altos que el valor `'unknown'` llegó al décimo. Esto significa que los valores ausentes forman una parte considerable de los datos, lo que podría ser la base de la cuestión sobre la fiabilidad de las conclusiones.\n",
    "\n",
    "3. Para el viernes por la tarde, la situación es similar. Los géneros individuales varían pero, en general, los 15 más populares son parecidos en las dos ciudades.\n",
    "\n",
    "De esta forma, la segunda hipótesis ha sido parcialmente demostrada:\n",
    "* Los usuarios escuchan música similar al principio y al final de la semana.\n",
    "* No hay una gran diferencia entre Springfield y Shelbyville. En ambas ciudades, el pop es el género más popular.\n",
    "\n",
    "Sin embargo, el número de valores ausentes hace este resultado un tanto cuestionable. En Springfield, hay tantos que afectan a los 15 géneros más populares. De no faltar esos valores, las cosas podrían parecer diferentes.\n",
    "\n",
    "[Volver a Contenidos](#back)"
   ]
  },
  {
   "attachments": {},
   "cell_type": "markdown",
   "metadata": {
    "id": "JolODAqr_Zcu"
   },
   "source": [
    "### 3. 3 Hipótesis 3: preferencias de género en Springfield y Shelbyville <a class='anchor' id='genre'></a>\n",
    "\n",
    "La hipótesis es: Shelbyville ama la música rap. A los ciudadanos de Springfield les gusta más el pop.\n",
    "\n",
    "Se agrupará la tabla `spr_general` por género para encontrar el número de canciones reproducidas de cada género."
   ]
  },
  {
   "cell_type": "code",
   "execution_count": 37,
   "metadata": {
    "id": "r19lIPke_Zcu"
   },
   "outputs": [],
   "source": [
    "genre_spr_general = spr_general.groupby('genre')['genre'].count()\n",
    "spr_genres = genre_spr_general.sort_values(ascending=False)"
   ]
  },
  {
   "attachments": {},
   "cell_type": "markdown",
   "metadata": {
    "id": "6kMuomxTiIr8"
   },
   "source": [
    "Se imprimen las 10 primeras filas de `spr_genres`."
   ]
  },
  {
   "cell_type": "code",
   "execution_count": 38,
   "metadata": {
    "id": "WhCSooF8_Zcv"
   },
   "outputs": [
    {
     "name": "stdout",
     "output_type": "stream",
     "text": [
      "genre\n",
      "pop            5892\n",
      "dance          4435\n",
      "rock           3965\n",
      "electronic     3786\n",
      "hiphop         2096\n",
      "classical      1616\n",
      "world          1432\n",
      "alternative    1379\n",
      "ruspop         1372\n",
      "rusrap         1161\n",
      "Name: genre, dtype: int64\n"
     ]
    }
   ],
   "source": [
    "# imprimiendo las 10 primeras filas de spr_genres\n",
    "print(spr_genres.head(10))"
   ]
  },
  {
   "attachments": {},
   "cell_type": "markdown",
   "metadata": {
    "id": "cnPG2vnN_Zcv"
   },
   "source": [
    "Se procede de manera análoga con los datos de Shelbyville. Se agrupará la tabla `shel_general` por género para encontrar el número de canciones reproducidas de cada género."
   ]
  },
  {
   "cell_type": "code",
   "execution_count": 39,
   "metadata": {
    "id": "gluLIpE7_Zcv"
   },
   "outputs": [],
   "source": [
    "genre_shel_general = shel_general.groupby('genre')['genre'].count()\n",
    "shel_genres = genre_shel_general.sort_values(ascending=False)"
   ]
  },
  {
   "attachments": {},
   "cell_type": "markdown",
   "metadata": {
    "id": "5Doha_ODgyQ8"
   },
   "source": [
    "Se imprimen las 10 primeras filas de `shel_genres`."
   ]
  },
  {
   "cell_type": "code",
   "execution_count": 40,
   "metadata": {
    "id": "uaGJHjVU_Zcv"
   },
   "outputs": [
    {
     "name": "stdout",
     "output_type": "stream",
     "text": [
      "genre\n",
      "pop            2431\n",
      "dance          1932\n",
      "rock           1879\n",
      "electronic     1736\n",
      "hiphop          960\n",
      "alternative     649\n",
      "classical       646\n",
      "rusrap          564\n",
      "ruspop          538\n",
      "world           515\n",
      "Name: genre, dtype: int64\n"
     ]
    }
   ],
   "source": [
    "# imprimiendo las 10 primeras filas de shel_genres\n",
    "print(shel_genres.head(10))"
   ]
  },
  {
   "attachments": {},
   "cell_type": "markdown",
   "metadata": {
    "id": "RY51YJYu_Zcv"
   },
   "source": [
    "**Conclusión**\n",
    "\n",
    "La hipótesis ha sido parcialmente demostrada:\n",
    "\n",
    "* La música pop es el género más popular en Springfield, tal como se esperaba.\n",
    "* Sin embargo, la música pop ha resultado ser igual de popular en Springfield que en Shelbyville y el rap no está entre los 5 más populares en ninguna de las ciudades.\n",
    "\n",
    "[Volver a Contenidos](#back)"
   ]
  },
  {
   "attachments": {},
   "cell_type": "markdown",
   "metadata": {
    "id": "ykKQ0N65_Zcv"
   },
   "source": [
    "## Conclusiones <a class='anchor' id='end'></a>\n",
    "\n",
    "Se han probado las siguientes tres hipótesis:\n",
    "\n",
    "1. La actividad de los usuarios difiere dependiendo del día de la semana y de las distintas ciudades. \n",
    "2. Los lunes por la mañana los residentes de Springfield y Shelbyville escuchan géneros distintos. Lo mismo ocurre con los viernes por la noche.\n",
    "3. Los oyentes de Springfield y Shelbyville tienen distintas preferencias. En ambas ciudades, Springfield y Shelbyville, se prefiere el pop.\n",
    "\n",
    "Tras analizar los datos, se concluye:\n",
    "\n",
    "1. La actividad del usuario en Springfield y Shelbyville depende del día de la semana aunque las ciudades varían de diferentes formas. \n",
    "\n",
    "La primera hipótesis ha sido aceptada completamente.\n",
    "\n",
    "2. Las preferencias musicales no varían significativamente en el transcurso de la semana en Springfield y Shelbyville. Se observan pequeñas diferencias en el orden los lunes, pero:\n",
    "* En Springfield y Shelbyville la gente lo que más escucha es la música pop.\n",
    "\n",
    "Así que no se puede aceptar esta hipótesis. También se tiene en cuenta que el resultado podría haber sido diferente si no fuera por los valores ausentes.\n",
    "\n",
    "3. Resulta que las preferencias musicales de los usuarios de Springfield y Shelbyville son bastante parecidas.\n",
    "\n",
    "La tercera hipótesis es rechazada. Si hay alguna diferencia en las preferencias no se puede observar en los datos.\n",
    "\n",
    "[Volver a Contenidos](#back)"
   ]
  }
 ],
 "metadata": {
  "colab": {
   "collapsed_sections": [
    "E0vqbgi9ay0H",
    "VUC88oWjTJw2",
    "atZAxtq4_Zcu"
   ],
   "name": "EmptyFinalProject.ipynb\"",
   "provenance": []
  },
  "kernelspec": {
   "display_name": "Python 3 (ipykernel)",
   "language": "python",
   "name": "python3"
  },
  "language_info": {
   "codemirror_mode": {
    "name": "ipython",
    "version": 3
   },
   "file_extension": ".py",
   "mimetype": "text/x-python",
   "name": "python",
   "nbconvert_exporter": "python",
   "pygments_lexer": "ipython3",
   "version": "3.10.10"
  },
  "toc": {
   "base_numbering": 1,
   "nav_menu": {},
   "number_sections": true,
   "sideBar": true,
   "skip_h1_title": true,
   "title_cell": "Table of Contents",
   "title_sidebar": "Contents",
   "toc_cell": false,
   "toc_position": {},
   "toc_section_display": true,
   "toc_window_display": false
  }
 },
 "nbformat": 4,
 "nbformat_minor": 4
}
