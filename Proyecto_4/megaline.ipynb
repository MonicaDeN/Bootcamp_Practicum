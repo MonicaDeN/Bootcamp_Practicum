{
 "cells": [
  {
   "cell_type": "markdown",
   "metadata": {},
   "source": [
    "# ¿Cuál es un mejor plan?"
   ]
  },
  {
   "cell_type": "markdown",
   "metadata": {},
   "source": [
    "## Índice <a id='back'></a>\n",
    "* [Introducción](#intro)\n",
    "* [Etapa 1. Descripción y preprocesamiento de los datos](#data_review)\n",
    "    * [1.1. Planes](#data_review_plans)\n",
    "    * [1.2. Usuarios](#data_review_users)\n",
    "    * [1.3. Llamadas](#data_review_calls)\n",
    "    * [1.4. Mensajes](#data_review_messages)\n",
    "    * [1.5. Internet](#data_review_internet)\n",
    "    * [1.6. Conclusiones](#data_review_conclusion)\n",
    "* [Etapa 2. Preparación de los datos](#data_prep)\n",
    "    * [2.1. Tarifa por usuario](#data_prep_income)\n",
    "* [Etapa 3. Análisis exploratorio de datos](#data_analysis)\n",
    "    * [3.1. Llamadas](#data_analysis_calls)\n",
    "    * [3.2. Mensajes](#data_analysis_messages)\n",
    "    * [3.3. Internet](#data_analysis_mb)\n",
    "    * [3.4. Ingreso](#data_analysis_income)\n",
    "    * [3.4. Conclusiones](#data_analysis_conclusions)\n",
    "* [Etapa 4. Comprobación de hipótesis](#data_hypothesis)\n",
    "    * [4.1. El ingreso difiere por plan](#data_hypothesis_plan)\n",
    "    * [4.2. El ingreso difiere por región](#data_hypothesis_zone)\n",
    "* [Etapa 5. Conclusión general](#data_conclusion)"
   ]
  },
  {
   "cell_type": "markdown",
   "metadata": {},
   "source": [
    "## Introducción <a id='intro'></a>\n",
    "\n",
    "Este proyecto es realizado para el operador de telecomunicaciones Megaline, el cual ofrece a sus clientes dos tarifas de prepago, Surf y Ultimate. Para ello se cuentan con los datos de 500 clientes incluidos la cantidad de llamadas que hicieron y los mensajes de texto que enviaron en 2018.\n",
    "\n",
    "**Objetivo e Hipótesis**\n",
    "\n",
    "El objetivo es determinar cuál de los planes genera más ingresos para ajustar el presupuesto de publicidad. Se establecen dos hipótesis:\n",
    "1. El ingreso promedio de los usuarios de las tarifas Ultimate y Surf difiere.\n",
    "2. El ingreso promedio de los usuarios en el área de estados Nueva York - Nueva Jersey es diferente al de los usuarios de otras regiones.\n",
    "\n",
    "**Etapas**\n",
    "Los datos se almacenan en los archivos:\n",
    "- `/datasets/megaline_calls.csv`\n",
    "- `/datasets/megaline_internet.csv`\n",
    "- `/datasets/megaline_messages.csv`\n",
    "- `/datasets/megaline_plans.csv`\n",
    "- `/datasets/megaline_users.csv`\n",
    "\n",
    "No hay ninguna información sobre la calidad de los datos así que se examinarán antes de probar las hipótesis.\n",
    "\n",
    "Primero, se evaluará la calidad de los datos y si los problemas son significativos, entonces, durante el preprocesamiento de datos, se tomará en cuenta los problemas más críticos. Finalmente se comprobarán las hipótesis para presentar las conclusiones.\n",
    " \n",
    "El proyecto consistirá en cinco etapas:\n",
    " 1. Descripción y preprocesamiento de los datos.\n",
    " 2. Preparación de los datos.\n",
    " 3. Análisis exploratorio de los datos.\n",
    " 4. Comprobación de hipótesis.\n",
    " 5. Conclusión general.\n",
    "\n",
    "[Volver a Contenidos](#back)"
   ]
  },
  {
   "cell_type": "markdown",
   "metadata": {},
   "source": [
    "## Etapa 1. Descripción y preprocesamiento de los datos <a id='data_review'></a>\n",
    "\n",
    "Se importan las librerías necesarias."
   ]
  },
  {
   "cell_type": "code",
   "execution_count": 1,
   "metadata": {},
   "outputs": [],
   "source": [
    "# Cargar todas las librerías\n",
    "import pandas as pd\n",
    "import matplotlib.pyplot as plt\n",
    "import numpy as np\n",
    "from scipy import stats as st\n",
    "from math import ceil, factorial"
   ]
  },
  {
   "cell_type": "markdown",
   "metadata": {},
   "source": [
    "Debido a que son cinco archivos se creará un diccionario que contenga estos DataFrames."
   ]
  },
  {
   "cell_type": "code",
   "execution_count": 2,
   "metadata": {},
   "outputs": [],
   "source": [
    "# Carga los archivos de datos en diferentes DataFrames\n",
    "df = {}\n",
    "df_names = ['calls', 'internet', 'messages', 'plans', 'users']\n",
    "df_csv = ['megaline_calls.csv', 'megaline_internet.csv', 'megaline_messages.csv', 'megaline_plans.csv', 'megaline_users.csv']\n",
    "df_path = ['/datasets/megaline_calls.csv', '/datasets/megaline_internet.csv', '/datasets/megaline_messages.csv',\n",
    "           '/datasets/megaline_plans.csv', '/datasets/megaline_users.csv']\n",
    "\n",
    "for i in range(0,5):\n",
    "    try:\n",
    "        df[df_names[i]] = pd.read_csv(df_csv[i])\n",
    "    except:\n",
    "        df[df_names[i]] = pd.read_csv(df_path[i])"
   ]
  },
  {
   "cell_type": "markdown",
   "metadata": {},
   "source": [
    "[Volver a Contenidos](#back)"
   ]
  },
  {
   "cell_type": "markdown",
   "metadata": {},
   "source": [
    "### 1. 1. Planes <a id='data_review_plans'></a>\n",
    "\n",
    "Megaline redondea los segundos a minutos y los megabytes a gigabytes. Cada **llamada individual** se redondea al minuto siguiente, incluso si duró sólo un segundo. Las **sesiones web individuales** no se redondea, se contabiliza por mes y se redondea al gigabyte siguiente.\n",
    "\n",
    "Los planes consisten en lo siguiente:\n",
    "\n",
    "**Surf**\n",
    "1. Pago mensual: \\$20.\n",
    "2. 500 minutos al mes, 50 SMS y 15 GB de datos.\n",
    "3. Si se exceden los límites del paquete:\n",
    "    * 1 minuto: 3 centavos.\n",
    "    * 1 SMS: 3 centavos.\n",
    "    * 1 GB de datos: \\$10.\n",
    "\n",
    "**Ultimate**\n",
    "1. Pago mensual: \\$70.\n",
    "2. 3000 minutos al mes, 1,000 SMS y 30 GB de datos.\n",
    "3. Si se exceden los límites del paquete:\n",
    "    * 1 minuto: 1 centavo.\n",
    "    * 1 SMS: 1 centavo.\n",
    "    * 1 GB de datos: \\$7.\n",
    "\n",
    "Se mostrará la tabla de los planes y su información general."
   ]
  },
  {
   "cell_type": "code",
   "execution_count": 3,
   "metadata": {},
   "outputs": [
    {
     "name": "stdout",
     "output_type": "stream",
     "text": [
      "<class 'pandas.core.frame.DataFrame'>\n",
      "RangeIndex: 2 entries, 0 to 1\n",
      "Data columns (total 8 columns):\n",
      " #   Column                 Non-Null Count  Dtype  \n",
      "---  ------                 --------------  -----  \n",
      " 0   messages_included      2 non-null      int64  \n",
      " 1   mb_per_month_included  2 non-null      int64  \n",
      " 2   minutes_included       2 non-null      int64  \n",
      " 3   usd_monthly_pay        2 non-null      int64  \n",
      " 4   usd_per_gb             2 non-null      int64  \n",
      " 5   usd_per_message        2 non-null      float64\n",
      " 6   usd_per_minute         2 non-null      float64\n",
      " 7   plan_name              2 non-null      object \n",
      "dtypes: float64(2), int64(5), object(1)\n",
      "memory usage: 256.0+ bytes\n"
     ]
    }
   ],
   "source": [
    "# Información general sobre el DataFrame de los planes\n",
    "df['plans'].info()"
   ]
  },
  {
   "cell_type": "code",
   "execution_count": 4,
   "metadata": {},
   "outputs": [
    {
     "name": "stdout",
     "output_type": "stream",
     "text": [
      "   messages_included  mb_per_month_included  minutes_included  \\\n",
      "0                 50                  15360               500   \n",
      "1               1000                  30720              3000   \n",
      "\n",
      "   usd_monthly_pay  usd_per_gb  usd_per_message  usd_per_minute plan_name  \n",
      "0               20          10             0.03            0.03      surf  \n",
      "1               70           7             0.01            0.01  ultimate  \n"
     ]
    }
   ],
   "source": [
    "# Datos para los planes\n",
    "print(df['plans'])"
   ]
  },
  {
   "cell_type": "markdown",
   "metadata": {},
   "source": [
    "Este DataFrame contiene la información de los planes desglosada en 8 columnas, las cuales son:\n",
    "1. `messages_included` - SMS incluidos por mes.\n",
    "2. `mb_per_month_included` - datos incluidos por mes (en megabytes, 1 GB = 1,024 MB).\n",
    "3. `minutes_included` - minutos incluidos por mes.\n",
    "4. `usd_monthly_pay` - pago mensual en dólares estadounidenses.\n",
    "5. `usd_per_gb` - precio por gigabyte de los datos extra tras exceder los límites del plan.\n",
    "6. `usd_per_message` - precio por SMS tras exceder los límites del plan.\n",
    "7. `usd_per_minute` - precio por minuto tras exceder los límites del plan.\n",
    "8. `plan_name` - nombre del plan.\n",
    "\n",
    "No existen datos ausentes ni duplicados. Se procede con el siguiente DataFrame.\n",
    "\n",
    "[Volver a Contenidos](#back)"
   ]
  },
  {
   "cell_type": "markdown",
   "metadata": {},
   "source": [
    "### 1. 2. Usuarios <a id='data_review_users'></a>\n",
    "\n",
    "El siguiente DataFrame muestra información sobre los 500 usuarios. Se mostrará la información general y las primeras 10 filas de dicha tabla."
   ]
  },
  {
   "cell_type": "code",
   "execution_count": 5,
   "metadata": {},
   "outputs": [
    {
     "name": "stdout",
     "output_type": "stream",
     "text": [
      "<class 'pandas.core.frame.DataFrame'>\n",
      "RangeIndex: 500 entries, 0 to 499\n",
      "Data columns (total 8 columns):\n",
      " #   Column      Non-Null Count  Dtype \n",
      "---  ------      --------------  ----- \n",
      " 0   user_id     500 non-null    int64 \n",
      " 1   first_name  500 non-null    object\n",
      " 2   last_name   500 non-null    object\n",
      " 3   age         500 non-null    int64 \n",
      " 4   city        500 non-null    object\n",
      " 5   reg_date    500 non-null    object\n",
      " 6   plan        500 non-null    object\n",
      " 7   churn_date  34 non-null     object\n",
      "dtypes: int64(2), object(6)\n",
      "memory usage: 31.4+ KB\n"
     ]
    }
   ],
   "source": [
    "# Información general/resumen sobre el DataFrame de los usuarios\n",
    "df['users'].info()"
   ]
  },
  {
   "cell_type": "code",
   "execution_count": 6,
   "metadata": {},
   "outputs": [
    {
     "name": "stdout",
     "output_type": "stream",
     "text": [
      "   user_id first_name  last_name  age                                    city  \\\n",
      "0     1000   Anamaria      Bauer   45   Atlanta-Sandy Springs-Roswell, GA MSA   \n",
      "1     1001     Mickey  Wilkerson   28         Seattle-Tacoma-Bellevue, WA MSA   \n",
      "2     1002     Carlee    Hoffman   36    Las Vegas-Henderson-Paradise, NV MSA   \n",
      "3     1003   Reynaldo    Jenkins   52                           Tulsa, OK MSA   \n",
      "4     1004    Leonila   Thompson   40         Seattle-Tacoma-Bellevue, WA MSA   \n",
      "5     1005      Livia    Shields   31     Dallas-Fort Worth-Arlington, TX MSA   \n",
      "6     1006     Jesusa   Bradford   73  San Francisco-Oakland-Berkeley, CA MSA   \n",
      "7     1007    Eusebio      Welch   42           Grand Rapids-Kentwood, MI MSA   \n",
      "8     1008      Emely    Hoffman   53       Orlando-Kissimmee-Sanford, FL MSA   \n",
      "9     1009      Gerry     Little   19  San Jose-Sunnyvale-Santa Clara, CA MSA   \n",
      "\n",
      "     reg_date      plan  churn_date  \n",
      "0  2018-12-24  ultimate         NaN  \n",
      "1  2018-08-13      surf         NaN  \n",
      "2  2018-10-21      surf         NaN  \n",
      "3  2018-01-28      surf         NaN  \n",
      "4  2018-05-23      surf         NaN  \n",
      "5  2018-11-29      surf         NaN  \n",
      "6  2018-11-27  ultimate  2018-12-18  \n",
      "7  2018-07-11      surf         NaN  \n",
      "8  2018-08-03  ultimate         NaN  \n",
      "9  2018-04-22      surf         NaN  \n"
     ]
    }
   ],
   "source": [
    "print(df['users'].head(10))"
   ]
  },
  {
   "cell_type": "markdown",
   "metadata": {},
   "source": [
    "Este DataFrame tiene 8 columnas, las cuales son:\n",
    "1. `user_id` - identificador único de usuario.\n",
    "2. `firs_name` - nombre del usuario.\n",
    "3. `last_name` - apellido del usuario.\n",
    "4. `age` - edad del usuario (en años).\n",
    "5. `city` - ciudad de residencia del usuario.\n",
    "6. `reg_date` - fecha de suscripción (aaaa-mm-dd).\n",
    "7. `plan` - nombre del plan contratado.\n",
    "8. `churn_date` - fecha en la que el usuario dejó de usar el servicio (si el valor es ausente, la tarifa se estaba usando cuando se recuperaron los datos).\n",
    "\n",
    "Debido al identificador único de usuario es sencillo determinar si existen duplicados obvios. Se mostrará la cantidad de filas duplicadas."
   ]
  },
  {
   "cell_type": "code",
   "execution_count": 7,
   "metadata": {},
   "outputs": [
    {
     "name": "stdout",
     "output_type": "stream",
     "text": [
      "0\n"
     ]
    }
   ],
   "source": [
    "print(df['users'].duplicated().sum())"
   ]
  },
  {
   "cell_type": "markdown",
   "metadata": {},
   "source": [
    "No existen filas duplicadas. La única columna con valores ausentes es `churn_date` y esto es debido a que los usuarios estaban suscritos cuando se recuperaron los datos. Se imprimirá la cantidad de valores en esta columna."
   ]
  },
  {
   "cell_type": "code",
   "execution_count": 8,
   "metadata": {},
   "outputs": [
    {
     "name": "stdout",
     "output_type": "stream",
     "text": [
      "2018-12-18    3\n",
      "2018-11-14    2\n",
      "2018-12-31    2\n",
      "2018-12-19    2\n",
      "2018-11-16    1\n",
      "2018-12-15    1\n",
      "2018-08-16    1\n",
      "2018-12-30    1\n",
      "2018-12-10    1\n",
      "2018-11-21    1\n",
      "2018-08-19    1\n",
      "2018-11-18    1\n",
      "2018-12-27    1\n",
      "2018-11-30    1\n",
      "2018-09-07    1\n",
      "2018-09-01    1\n",
      "2018-10-07    1\n",
      "2018-12-26    1\n",
      "2018-12-22    1\n",
      "2018-10-22    1\n",
      "2018-11-29    1\n",
      "2018-12-12    1\n",
      "2018-09-17    1\n",
      "2018-11-24    1\n",
      "2018-09-18    1\n",
      "2018-11-11    1\n",
      "2018-10-03    1\n",
      "2018-07-31    1\n",
      "2018-10-13    1\n",
      "Name: churn_date, dtype: int64\n"
     ]
    }
   ],
   "source": [
    "print(df['users']['churn_date'].value_counts())"
   ]
  },
  {
   "attachments": {},
   "cell_type": "markdown",
   "metadata": {},
   "source": [
    "Como se había mencionado todas las fechas son del año 2018. Se dedice mantener los valores ausentes de esta columna para indicar que son usuarios aún suscritos al plan (además no se trabajará con los valores de esta columna).\n",
    "\n",
    "Se cambiará el formato de fecha para las columnas `'reg_date'` y `'churn_date'`."
   ]
  },
  {
   "cell_type": "code",
   "execution_count": 9,
   "metadata": {},
   "outputs": [
    {
     "name": "stdout",
     "output_type": "stream",
     "text": [
      "<class 'pandas.core.frame.DataFrame'>\n",
      "RangeIndex: 500 entries, 0 to 499\n",
      "Data columns (total 8 columns):\n",
      " #   Column      Non-Null Count  Dtype         \n",
      "---  ------      --------------  -----         \n",
      " 0   user_id     500 non-null    int64         \n",
      " 1   first_name  500 non-null    object        \n",
      " 2   last_name   500 non-null    object        \n",
      " 3   age         500 non-null    int64         \n",
      " 4   city        500 non-null    object        \n",
      " 5   reg_date    500 non-null    datetime64[ns]\n",
      " 6   plan        500 non-null    object        \n",
      " 7   churn_date  34 non-null     datetime64[ns]\n",
      "dtypes: datetime64[ns](2), int64(2), object(4)\n",
      "memory usage: 31.4+ KB\n"
     ]
    }
   ],
   "source": [
    "df['users']['reg_date'] = pd.to_datetime(df['users']['reg_date'], format='%Y-%m-%d')\n",
    "df['users']['churn_date'] = pd.to_datetime(df['users']['churn_date'], format='%Y-%m-%d')\n",
    "df['users'].info()"
   ]
  },
  {
   "cell_type": "markdown",
   "metadata": {},
   "source": [
    "Finalmente, se determinará si existen duplicados ímplicitos en la columna `'city'`."
   ]
  },
  {
   "cell_type": "code",
   "execution_count": 10,
   "metadata": {},
   "outputs": [
    {
     "name": "stdout",
     "output_type": "stream",
     "text": [
      "['Albany-Schenectady-Troy, NY MSA' 'Albuquerque, NM MSA'\n",
      " 'Atlanta-Sandy Springs-Roswell, GA MSA'\n",
      " 'Austin-Round Rock-Georgetown, TX MSA' 'Bakersfield, CA MSA'\n",
      " 'Baltimore-Columbia-Towson, MD MSA' 'Baton Rouge, LA MSA'\n",
      " 'Birmingham-Hoover, AL MSA' 'Boston-Cambridge-Newton, MA-NH MSA'\n",
      " 'Bridgeport-Stamford-Norwalk, CT MSA' 'Buffalo-Cheektowaga, NY MSA'\n",
      " 'Cape Coral-Fort Myers, FL MSA' 'Charleston-North Charleston, SC MSA'\n",
      " 'Charlotte-Concord-Gastonia, NC-SC MSA'\n",
      " 'Chicago-Naperville-Elgin, IL-IN-WI MSA' 'Cincinnati, OH-KY-IN MSA'\n",
      " 'Cleveland-Elyria, OH MSA' 'Colorado Springs, CO MSA' 'Columbia, SC MSA'\n",
      " 'Columbus, OH MSA' 'Dallas-Fort Worth-Arlington, TX MSA'\n",
      " 'Dayton-Kettering, OH MSA' 'Denver-Aurora-Lakewood, CO MSA'\n",
      " 'Detroit-Warren-Dearborn, MI MSA' 'El Paso, TX MSA' 'Fresno, CA MSA'\n",
      " 'Grand Rapids-Kentwood, MI MSA' 'Greensboro-High Point, NC MSA'\n",
      " 'Houston-The Woodlands-Sugar Land, TX MSA'\n",
      " 'Indianapolis-Carmel-Anderson, IN MSA' 'Jacksonville, FL MSA'\n",
      " 'Kansas City, MO-KS MSA' 'Knoxville, TN MSA'\n",
      " 'Las Vegas-Henderson-Paradise, NV MSA'\n",
      " 'Los Angeles-Long Beach-Anaheim, CA MSA'\n",
      " 'Louisville/Jefferson County, KY-IN MSA' 'Memphis, TN-MS-AR MSA'\n",
      " 'Miami-Fort Lauderdale-West Palm Beach, FL MSA'\n",
      " 'Milwaukee-Waukesha, WI MSA'\n",
      " 'Minneapolis-St. Paul-Bloomington, MN-WI MSA'\n",
      " 'Nashville-Davidson–Murfreesboro–Franklin, TN MSA'\n",
      " 'New Haven-Milford, CT MSA' 'New Orleans-Metairie, LA MSA'\n",
      " 'New York-Newark-Jersey City, NY-NJ-PA MSA'\n",
      " 'North Port-Sarasota-Bradenton, FL MSA' 'Oklahoma City, OK MSA'\n",
      " 'Omaha-Council Bluffs, NE-IA MSA' 'Orlando-Kissimmee-Sanford, FL MSA'\n",
      " 'Oxnard-Thousand Oaks-Ventura, CA MSA'\n",
      " 'Philadelphia-Camden-Wilmington, PA-NJ-DE-MD MSA'\n",
      " 'Phoenix-Mesa-Chandler, AZ MSA' 'Pittsburgh, PA MSA'\n",
      " 'Portland-Vancouver-Hillsboro, OR-WA MSA' 'Providence-Warwick, RI-MA MSA'\n",
      " 'Raleigh-Cary, NC MSA' 'Richmond, VA MSA'\n",
      " 'Riverside-San Bernardino-Ontario, CA MSA' 'Rochester, NY MSA'\n",
      " 'Sacramento–Roseville–Folsom, CA MSA' 'Salt Lake City, UT MSA'\n",
      " 'San Antonio-New Braunfels, TX MSA'\n",
      " 'San Diego-Chula Vista-Carlsbad, CA MSA'\n",
      " 'San Francisco-Oakland-Berkeley, CA MSA'\n",
      " 'San Jose-Sunnyvale-Santa Clara, CA MSA'\n",
      " 'Seattle-Tacoma-Bellevue, WA MSA' 'St. Louis, MO-IL MSA'\n",
      " 'Stockton, CA MSA' 'Tampa-St. Petersburg-Clearwater, FL MSA'\n",
      " 'Tucson, AZ MSA' 'Tulsa, OK MSA' 'Urban Honolulu, HI MSA'\n",
      " 'Virginia Beach-Norfolk-Newport News, VA-NC MSA'\n",
      " 'Washington-Arlington-Alexandria, DC-VA-MD-WV MSA']\n"
     ]
    }
   ],
   "source": [
    "print(df['users']['city'].sort_values().unique())"
   ]
  },
  {
   "cell_type": "markdown",
   "metadata": {},
   "source": [
    "No existen duplicados ímplicitos. Se procede con el siguiente DataFrame.\n",
    "\n",
    "[Volver a Contenidos](#back)"
   ]
  },
  {
   "cell_type": "markdown",
   "metadata": {},
   "source": [
    "### 1. 3. Llamadas <a id='data_review_calls'></a>\n",
    "\n",
    "El siguiente DataFrame muestra información sobre las llamadas realizadas por los usuarios. Se mostrará la información general y las primeras 10 filas de dicha tabla."
   ]
  },
  {
   "cell_type": "code",
   "execution_count": 11,
   "metadata": {},
   "outputs": [
    {
     "name": "stdout",
     "output_type": "stream",
     "text": [
      "<class 'pandas.core.frame.DataFrame'>\n",
      "RangeIndex: 137735 entries, 0 to 137734\n",
      "Data columns (total 4 columns):\n",
      " #   Column     Non-Null Count   Dtype  \n",
      "---  ------     --------------   -----  \n",
      " 0   id         137735 non-null  object \n",
      " 1   user_id    137735 non-null  int64  \n",
      " 2   call_date  137735 non-null  object \n",
      " 3   duration   137735 non-null  float64\n",
      "dtypes: float64(1), int64(1), object(2)\n",
      "memory usage: 4.2+ MB\n"
     ]
    }
   ],
   "source": [
    "# Iformación/resumen general sobre el DataFrame de las llamadas\n",
    "df['calls'].info()"
   ]
  },
  {
   "cell_type": "code",
   "execution_count": 12,
   "metadata": {},
   "outputs": [
    {
     "name": "stdout",
     "output_type": "stream",
     "text": [
      "         id  user_id   call_date  duration\n",
      "0   1000_93     1000  2018-12-27      8.52\n",
      "1  1000_145     1000  2018-12-27     13.66\n",
      "2  1000_247     1000  2018-12-27     14.48\n",
      "3  1000_309     1000  2018-12-28      5.76\n",
      "4  1000_380     1000  2018-12-30      4.22\n",
      "5  1000_388     1000  2018-12-31      2.20\n",
      "6  1000_510     1000  2018-12-27      5.75\n",
      "7  1000_521     1000  2018-12-28     14.18\n",
      "8  1000_530     1000  2018-12-28      5.77\n",
      "9  1000_544     1000  2018-12-26      4.40\n"
     ]
    }
   ],
   "source": [
    "# Imprime una muestra de datos para llamadas\n",
    "print(df['calls'].head(10))"
   ]
  },
  {
   "cell_type": "markdown",
   "metadata": {},
   "source": [
    "Con la información general se observa que no existen valores ausentes. El DataFrame contiene 4 columnas, las cuales son:\n",
    "1. `id` - identificador único de llamada.\n",
    "2. `user_id` - identificador del usuario que realizó la llamada.\n",
    "3. `call_date` - fecha de la llamada.\n",
    "4. `duration` - duración de la llamada (en minutos).\n",
    "\n",
    "Debido al identificador único de llamada es sencillo determinar si existen duplicados obvios. Se mostrará la cantidad de filas duplicadas."
   ]
  },
  {
   "cell_type": "code",
   "execution_count": 13,
   "metadata": {},
   "outputs": [
    {
     "name": "stdout",
     "output_type": "stream",
     "text": [
      "0\n"
     ]
    }
   ],
   "source": [
    "print(df['calls'].duplicated().sum())"
   ]
  },
  {
   "cell_type": "markdown",
   "metadata": {},
   "source": [
    "No existen filas duplicadas. Se cambiará el formato de fecha de la columna `'call_date'`."
   ]
  },
  {
   "cell_type": "code",
   "execution_count": 14,
   "metadata": {},
   "outputs": [
    {
     "name": "stdout",
     "output_type": "stream",
     "text": [
      "<class 'pandas.core.frame.DataFrame'>\n",
      "RangeIndex: 137735 entries, 0 to 137734\n",
      "Data columns (total 4 columns):\n",
      " #   Column     Non-Null Count   Dtype         \n",
      "---  ------     --------------   -----         \n",
      " 0   id         137735 non-null  object        \n",
      " 1   user_id    137735 non-null  int64         \n",
      " 2   call_date  137735 non-null  datetime64[ns]\n",
      " 3   duration   137735 non-null  float64       \n",
      "dtypes: datetime64[ns](1), float64(1), int64(1), object(1)\n",
      "memory usage: 4.2+ MB\n"
     ]
    }
   ],
   "source": [
    "df['calls']['call_date'] = pd.to_datetime(df['calls']['call_date'], format='%Y-%m-%d')\n",
    "df['calls'].info()"
   ]
  },
  {
   "cell_type": "markdown",
   "metadata": {},
   "source": [
    "Para la siguiente etapa (análisis exploratorio de datos) se determinará la cantidad de llamadas y su duración por período mensual, por lo que se determinará el mes al que pertenece la fecha de la llamada. Se agregará la columna `'month'` la cual tendrá el mes del año en el que se realizó la llamada."
   ]
  },
  {
   "cell_type": "code",
   "execution_count": 15,
   "metadata": {},
   "outputs": [
    {
     "name": "stdout",
     "output_type": "stream",
     "text": [
      "         id  user_id  call_date  duration  month\n",
      "0   1000_93     1000 2018-12-27      8.52     12\n",
      "1  1000_145     1000 2018-12-27     13.66     12\n",
      "2  1000_247     1000 2018-12-27     14.48     12\n",
      "3  1000_309     1000 2018-12-28      5.76     12\n",
      "4  1000_380     1000 2018-12-30      4.22     12\n",
      "5  1000_388     1000 2018-12-31      2.20     12\n",
      "6  1000_510     1000 2018-12-27      5.75     12\n",
      "7  1000_521     1000 2018-12-28     14.18     12\n",
      "8  1000_530     1000 2018-12-28      5.77     12\n",
      "9  1000_544     1000 2018-12-26      4.40     12\n"
     ]
    }
   ],
   "source": [
    "df['calls']['month'] = pd.DatetimeIndex(df['calls']['call_date']).month\n",
    "print(df['calls'].head(10))"
   ]
  },
  {
   "cell_type": "markdown",
   "metadata": {},
   "source": [
    "Como Megaline redondea cada llamada individual al minuto siguiente incluso si duró sólo un segundo, entonces se redondearán al minuto siguiente los datos de la columna `'duration'`."
   ]
  },
  {
   "cell_type": "code",
   "execution_count": 16,
   "metadata": {},
   "outputs": [
    {
     "name": "stdout",
     "output_type": "stream",
     "text": [
      "         id  user_id  call_date  duration  month\n",
      "0   1000_93     1000 2018-12-27         9     12\n",
      "1  1000_145     1000 2018-12-27        14     12\n",
      "2  1000_247     1000 2018-12-27        15     12\n",
      "3  1000_309     1000 2018-12-28         6     12\n",
      "4  1000_380     1000 2018-12-30         5     12\n",
      "5  1000_388     1000 2018-12-31         3     12\n",
      "6  1000_510     1000 2018-12-27         6     12\n",
      "7  1000_521     1000 2018-12-28        15     12\n",
      "8  1000_530     1000 2018-12-28         6     12\n",
      "9  1000_544     1000 2018-12-26         5     12\n"
     ]
    }
   ],
   "source": [
    "df['calls']['duration'] = df['calls']['duration'].apply(ceil)\n",
    "print(df['calls'].head(10))"
   ]
  },
  {
   "cell_type": "markdown",
   "metadata": {},
   "source": [
    "Cabe la posibilidad que existan llamadas de duración 0, se mostrará la cantidad y su porcentaje."
   ]
  },
  {
   "cell_type": "code",
   "execution_count": 17,
   "metadata": {},
   "outputs": [
    {
     "name": "stdout",
     "output_type": "stream",
     "text": [
      "Existen 26834 llamadas de 0 segundos, esto representa el 19%\n"
     ]
    }
   ],
   "source": [
    "missed_calls = len(df['calls'][df['calls']['duration'] == 0])\n",
    "conv_missed_calls = missed_calls / len(df['calls'])\n",
    "print(f'Existen {missed_calls} llamadas de 0 segundos, esto representa el {conv_missed_calls:.0%}')"
   ]
  },
  {
   "attachments": {},
   "cell_type": "markdown",
   "metadata": {},
   "source": [
    "La razón de la existencia de llamadas de 0 segundos puede ser que pertenezcan a llamadas perdidas. Se observa que es un porcentaje considerable por lo que se decide conservar dichas filas. Además, los planes de Megaline contabilizan las llamadas por minutos y no por cantidad. Por lo tanto, estas filas aportarán información sobre actividad aunque no afecten en la tarifa del plan.\n",
    "\n",
    "Se muestra nuevamente la información general de este DataFrame tras los últimos cambios."
   ]
  },
  {
   "cell_type": "code",
   "execution_count": 18,
   "metadata": {},
   "outputs": [
    {
     "name": "stdout",
     "output_type": "stream",
     "text": [
      "<class 'pandas.core.frame.DataFrame'>\n",
      "RangeIndex: 137735 entries, 0 to 137734\n",
      "Data columns (total 5 columns):\n",
      " #   Column     Non-Null Count   Dtype         \n",
      "---  ------     --------------   -----         \n",
      " 0   id         137735 non-null  object        \n",
      " 1   user_id    137735 non-null  int64         \n",
      " 2   call_date  137735 non-null  datetime64[ns]\n",
      " 3   duration   137735 non-null  int64         \n",
      " 4   month      137735 non-null  int64         \n",
      "dtypes: datetime64[ns](1), int64(3), object(1)\n",
      "memory usage: 5.3+ MB\n"
     ]
    }
   ],
   "source": [
    "df['calls'].info()"
   ]
  },
  {
   "cell_type": "markdown",
   "metadata": {},
   "source": [
    "Se procede a investigar el siguiente DataFrame.\n",
    "\n",
    "[Volver a Contenidos](#back)"
   ]
  },
  {
   "cell_type": "markdown",
   "metadata": {},
   "source": [
    "### 1. 4. Mensajes <a id='data_review_messages'></a>\n",
    "\n",
    "El siguiente DataFrame muestra información sobre los mensajes enviados por los usuarios. Se mostrará la información general y las primeras 10 filas de dicha tabla."
   ]
  },
  {
   "cell_type": "code",
   "execution_count": 19,
   "metadata": {},
   "outputs": [
    {
     "name": "stdout",
     "output_type": "stream",
     "text": [
      "<class 'pandas.core.frame.DataFrame'>\n",
      "RangeIndex: 76051 entries, 0 to 76050\n",
      "Data columns (total 3 columns):\n",
      " #   Column        Non-Null Count  Dtype \n",
      "---  ------        --------------  ----- \n",
      " 0   id            76051 non-null  object\n",
      " 1   user_id       76051 non-null  int64 \n",
      " 2   message_date  76051 non-null  object\n",
      "dtypes: int64(1), object(2)\n",
      "memory usage: 1.7+ MB\n"
     ]
    }
   ],
   "source": [
    "# Información/resumen general sobre el DataFrame de los mensajes\n",
    "df['messages'].info()"
   ]
  },
  {
   "cell_type": "code",
   "execution_count": 20,
   "metadata": {},
   "outputs": [
    {
     "name": "stdout",
     "output_type": "stream",
     "text": [
      "         id  user_id message_date\n",
      "0  1000_125     1000   2018-12-27\n",
      "1  1000_160     1000   2018-12-31\n",
      "2  1000_223     1000   2018-12-31\n",
      "3  1000_251     1000   2018-12-27\n",
      "4  1000_255     1000   2018-12-26\n",
      "5  1000_346     1000   2018-12-29\n",
      "6  1000_386     1000   2018-12-30\n",
      "7  1000_413     1000   2018-12-31\n",
      "8  1000_502     1000   2018-12-27\n",
      "9  1000_525     1000   2018-12-28\n"
     ]
    }
   ],
   "source": [
    "print(df['messages'].head(10))"
   ]
  },
  {
   "cell_type": "markdown",
   "metadata": {},
   "source": [
    "Con la información general se observa que no existen datos ausentes. La tabla contiene 3 columnas, las cuales son:\n",
    "1. `id` - identificador único del SMS.\n",
    "2. `user_id` - identificador del usuario que envió el SMS.\n",
    "3. `message_date` - fecha en la que se envió el SMS.\n",
    "\n",
    "Debido al identificador único de SMS es sencillo determinar si existen duplicados obvios. Se mostrará la cantidad de filas duplicadas."
   ]
  },
  {
   "cell_type": "code",
   "execution_count": 21,
   "metadata": {},
   "outputs": [
    {
     "name": "stdout",
     "output_type": "stream",
     "text": [
      "0\n"
     ]
    }
   ],
   "source": [
    "print(df['messages'].duplicated().sum())"
   ]
  },
  {
   "cell_type": "markdown",
   "metadata": {},
   "source": [
    "No existen filas duplicadas. Se cambiará el formato de fecha en la columna `'message_date'`. "
   ]
  },
  {
   "cell_type": "code",
   "execution_count": 22,
   "metadata": {},
   "outputs": [
    {
     "name": "stdout",
     "output_type": "stream",
     "text": [
      "<class 'pandas.core.frame.DataFrame'>\n",
      "RangeIndex: 76051 entries, 0 to 76050\n",
      "Data columns (total 3 columns):\n",
      " #   Column        Non-Null Count  Dtype         \n",
      "---  ------        --------------  -----         \n",
      " 0   id            76051 non-null  object        \n",
      " 1   user_id       76051 non-null  int64         \n",
      " 2   message_date  76051 non-null  datetime64[ns]\n",
      "dtypes: datetime64[ns](1), int64(1), object(1)\n",
      "memory usage: 1.7+ MB\n"
     ]
    }
   ],
   "source": [
    "df['messages']['message_date'] = pd.to_datetime(df['messages']['message_date'], format='%Y-%m-%d')\n",
    "df['messages'].info()"
   ]
  },
  {
   "cell_type": "markdown",
   "metadata": {},
   "source": [
    "Como en el DataFrame anterior, se agregará la columna `'month'` la cual tendrá el mes del año en el que se envió el SMS."
   ]
  },
  {
   "cell_type": "code",
   "execution_count": 23,
   "metadata": {},
   "outputs": [
    {
     "name": "stdout",
     "output_type": "stream",
     "text": [
      "         id  user_id message_date  month\n",
      "0  1000_125     1000   2018-12-27     12\n",
      "1  1000_160     1000   2018-12-31     12\n",
      "2  1000_223     1000   2018-12-31     12\n",
      "3  1000_251     1000   2018-12-27     12\n",
      "4  1000_255     1000   2018-12-26     12\n",
      "5  1000_346     1000   2018-12-29     12\n",
      "6  1000_386     1000   2018-12-30     12\n",
      "7  1000_413     1000   2018-12-31     12\n",
      "8  1000_502     1000   2018-12-27     12\n",
      "9  1000_525     1000   2018-12-28     12\n"
     ]
    }
   ],
   "source": [
    "df['messages']['month'] = pd.DatetimeIndex(df['messages']['message_date']).month\n",
    "print(df['messages'].head(10))"
   ]
  },
  {
   "cell_type": "markdown",
   "metadata": {},
   "source": [
    "Finalmente, se muestra la información general del DataFrame tras los últimos cambios."
   ]
  },
  {
   "cell_type": "code",
   "execution_count": 24,
   "metadata": {},
   "outputs": [
    {
     "name": "stdout",
     "output_type": "stream",
     "text": [
      "<class 'pandas.core.frame.DataFrame'>\n",
      "RangeIndex: 76051 entries, 0 to 76050\n",
      "Data columns (total 4 columns):\n",
      " #   Column        Non-Null Count  Dtype         \n",
      "---  ------        --------------  -----         \n",
      " 0   id            76051 non-null  object        \n",
      " 1   user_id       76051 non-null  int64         \n",
      " 2   message_date  76051 non-null  datetime64[ns]\n",
      " 3   month         76051 non-null  int64         \n",
      "dtypes: datetime64[ns](1), int64(2), object(1)\n",
      "memory usage: 2.3+ MB\n"
     ]
    }
   ],
   "source": [
    "df['messages'].info()"
   ]
  },
  {
   "cell_type": "markdown",
   "metadata": {},
   "source": [
    "[Volver a Contenidos](#back)"
   ]
  },
  {
   "cell_type": "markdown",
   "metadata": {},
   "source": [
    "### 1. 5. Internet <a id='data_review_internet'></a>\n",
    "\n",
    "El siguiente DataFrame muestra información sobre los megabytes utilizados por los usuarios. Se mostrará la información general y las primeras 10 filas de dicha tabla."
   ]
  },
  {
   "cell_type": "code",
   "execution_count": 25,
   "metadata": {},
   "outputs": [
    {
     "name": "stdout",
     "output_type": "stream",
     "text": [
      "<class 'pandas.core.frame.DataFrame'>\n",
      "RangeIndex: 104825 entries, 0 to 104824\n",
      "Data columns (total 4 columns):\n",
      " #   Column        Non-Null Count   Dtype  \n",
      "---  ------        --------------   -----  \n",
      " 0   id            104825 non-null  object \n",
      " 1   user_id       104825 non-null  int64  \n",
      " 2   session_date  104825 non-null  object \n",
      " 3   mb_used       104825 non-null  float64\n",
      "dtypes: float64(1), int64(1), object(2)\n",
      "memory usage: 3.2+ MB\n"
     ]
    }
   ],
   "source": [
    "# Información/resumen general sobre el DataFrame del internet\n",
    "df['internet'].info()"
   ]
  },
  {
   "cell_type": "code",
   "execution_count": 26,
   "metadata": {},
   "outputs": [
    {
     "name": "stdout",
     "output_type": "stream",
     "text": [
      "         id  user_id session_date  mb_used\n",
      "0   1000_13     1000   2018-12-29    89.86\n",
      "1  1000_204     1000   2018-12-31     0.00\n",
      "2  1000_379     1000   2018-12-28   660.40\n",
      "3  1000_413     1000   2018-12-26   270.99\n",
      "4  1000_442     1000   2018-12-27   880.22\n",
      "5    1001_0     1001   2018-08-24   284.68\n",
      "6    1001_3     1001   2018-12-09   656.04\n",
      "7    1001_4     1001   2018-11-04    16.97\n",
      "8   1001_10     1001   2018-11-27   135.18\n",
      "9   1001_15     1001   2018-12-13   761.92\n"
     ]
    }
   ],
   "source": [
    "print(df['internet'].head(10))"
   ]
  },
  {
   "cell_type": "markdown",
   "metadata": {},
   "source": [
    "Con la información general se observa que no existen datos ausentes. La tabla contiene 4 columnas, las cuales son:\n",
    "1. `id` - identificador único de la sesión.\n",
    "2. `user_id` - identificador del usuario.\n",
    "3. `session_date` - fecha en la que se utilizaron los megabytes.\n",
    "4. `mb_used` - cantidad de datos gastados durante la sesión (en megabytes).\n",
    "\n",
    "Debido al identificador único de la sesión es sencillo determinar si existen duplicados obvios. Se mostrará la cantidad de filas duplicadas."
   ]
  },
  {
   "cell_type": "code",
   "execution_count": 27,
   "metadata": {},
   "outputs": [
    {
     "name": "stdout",
     "output_type": "stream",
     "text": [
      "0\n"
     ]
    }
   ],
   "source": [
    "print(df['internet'].duplicated().sum())"
   ]
  },
  {
   "cell_type": "markdown",
   "metadata": {},
   "source": [
    "No existen filas duplicadas. También se puede observar que hay sesiones de 0 megabytes, esto puede deberse a que el usuario abrió algún navegador por equivocación. Como los planes de Megaline contabilizan el tráfico de internet por el total de megabytes utilizados durante el mes, entonces estas filas no afectarán el costo de la tarifa mensual pero si mostrarán información sobre actividad del usuario. Se decide conservar estas filas al igual que con las llamadas de 0 segundos.\n",
    "\n",
    "Se cambiará el formato de fecha en la columna `'session_date'`. "
   ]
  },
  {
   "cell_type": "code",
   "execution_count": 28,
   "metadata": {},
   "outputs": [
    {
     "name": "stdout",
     "output_type": "stream",
     "text": [
      "<class 'pandas.core.frame.DataFrame'>\n",
      "RangeIndex: 104825 entries, 0 to 104824\n",
      "Data columns (total 4 columns):\n",
      " #   Column        Non-Null Count   Dtype         \n",
      "---  ------        --------------   -----         \n",
      " 0   id            104825 non-null  object        \n",
      " 1   user_id       104825 non-null  int64         \n",
      " 2   session_date  104825 non-null  datetime64[ns]\n",
      " 3   mb_used       104825 non-null  float64       \n",
      "dtypes: datetime64[ns](1), float64(1), int64(1), object(1)\n",
      "memory usage: 3.2+ MB\n"
     ]
    }
   ],
   "source": [
    "df['internet']['session_date'] = pd.to_datetime(df['internet']['session_date'], format='%Y-%m-%d')\n",
    "df['internet'].info()"
   ]
  },
  {
   "cell_type": "markdown",
   "metadata": {},
   "source": [
    "Como en los DataFrames anteriores, se agregará la columna `'month'` la cual tendrá el día del año en el que se utilizaron los megabytes."
   ]
  },
  {
   "cell_type": "code",
   "execution_count": 29,
   "metadata": {},
   "outputs": [
    {
     "name": "stdout",
     "output_type": "stream",
     "text": [
      "         id  user_id session_date  mb_used  month\n",
      "0   1000_13     1000   2018-12-29    89.86     12\n",
      "1  1000_204     1000   2018-12-31     0.00     12\n",
      "2  1000_379     1000   2018-12-28   660.40     12\n",
      "3  1000_413     1000   2018-12-26   270.99     12\n",
      "4  1000_442     1000   2018-12-27   880.22     12\n",
      "5    1001_0     1001   2018-08-24   284.68      8\n",
      "6    1001_3     1001   2018-12-09   656.04     12\n",
      "7    1001_4     1001   2018-11-04    16.97     11\n",
      "8   1001_10     1001   2018-11-27   135.18     11\n",
      "9   1001_15     1001   2018-12-13   761.92     12\n"
     ]
    }
   ],
   "source": [
    "df['internet']['month'] = pd.DatetimeIndex(df['internet']['session_date']).month\n",
    "print(df['internet'].head(10))"
   ]
  },
  {
   "cell_type": "markdown",
   "metadata": {},
   "source": [
    "[Volver a Contenidos](#back)"
   ]
  },
  {
   "cell_type": "markdown",
   "metadata": {},
   "source": [
    "### 1. 6. Conclusiones <a id='data_review_conclusion'></a>\n",
    "\n",
    "Se examinaron los cinco DataFrames, donde el único que presentó valores ausentes fue el que pertenece a la información de los usuarios. Estos valores ausentes se encontraban en la columna `'churn_date'` (fecha en que el usuario dejó de utilizar el servicio) y esto se debió a que los usuarios aún continuaban suscritos al plan correspondiente cuando se recabaron los datos. Se decidió mantener estos valores ausentes pues no afectarán al análisis de los datos que son de interés.\n",
    "\n",
    "Ningún DataFrame contenía duplicados obvios y se cambió el formato fecha en las columnas correspondientes. Además, en los DataFrames sobre llamadas, mensajes e internet se agregó la columna `'month'`. Dicha columna corresponde al mes del año en el que se utilizó el servicio.\n",
    "\n",
    "En el DataFrame de las llamadas se redondearon los datos de la columna `'duration'`, es decir, la duración de cada llamada se redondeó al minuto siguiente pues Megaline contabiliza de esta manera los minutos incluidos o exras de los planes.\n",
    "\n",
    "Finalmente, en los DataFrames de llamadas o internet se encontraron filas con 0 minutos de duración o 0 megabytes, lo que puede ser por equivocaciones. Se mantuvieron estas filas pues representan actividad del usuario durante el mes correspondiente.\n",
    "\n",
    "Los datos son suficientes para comprobar hipótesis.\n",
    "\n",
    "[Volver a Contenidos](#back)"
   ]
  },
  {
   "cell_type": "markdown",
   "metadata": {},
   "source": [
    "## Etapa 2. Preparación de los datos <a id='data_prep'></a>\n",
    "\n",
    "A partir del DataFrame de las llamadas, se creará una tabla que contabilice las llamadas y minutos por mes para cada usuario."
   ]
  },
  {
   "cell_type": "code",
   "execution_count": 30,
   "metadata": {},
   "outputs": [
    {
     "name": "stdout",
     "output_type": "stream",
     "text": [
      "   user_id  month  calls_per_month  minutes_per_month\n",
      "0     1000     12               16                124\n",
      "1     1001      8               27                182\n",
      "2     1001      9               49                315\n",
      "3     1001     10               65                393\n",
      "4     1001     11               64                426\n",
      "5     1001     12               56                412\n",
      "6     1002     10               11                 59\n",
      "7     1002     11               55                386\n",
      "8     1002     12               47                384\n",
      "9     1003     12              149               1104\n"
     ]
    }
   ],
   "source": [
    "# Tabla con la cantidad de llamadas hechas y minutos utilizados por cada usuario por mes.\n",
    "df_calls = df['calls'].pivot_table(index=['user_id', 'month'], values='duration', aggfunc=['count', 'sum'])\n",
    "df_calls.columns = ['calls_per_month', 'minutes_per_month']\n",
    "df_calls = df_calls.reset_index() #Eliminar multi índice y convierte pivot_table a DataFrame\n",
    "print(df_calls.head(10))"
   ]
  },
  {
   "cell_type": "markdown",
   "metadata": {},
   "source": [
    "Análogamente, a partir del DataFrame de los mensajes se creará una tabla que contabilice los mensajes enviados por cada usuario por mes."
   ]
  },
  {
   "cell_type": "code",
   "execution_count": 31,
   "metadata": {},
   "outputs": [
    {
     "name": "stdout",
     "output_type": "stream",
     "text": [
      "   user_id  month  messages_per_month\n",
      "0     1000     12                  11\n",
      "1     1001      8                  30\n",
      "2     1001      9                  44\n",
      "3     1001     10                  53\n",
      "4     1001     11                  36\n",
      "5     1001     12                  44\n",
      "6     1002     10                  15\n",
      "7     1002     11                  32\n",
      "8     1002     12                  41\n",
      "9     1003     12                  50\n"
     ]
    }
   ],
   "source": [
    "# Tabla con la cantidad de mensajes enviados por cada usuario por mes.\n",
    "df_messages = df['messages'].pivot_table(index=['user_id', 'month'], values='id', aggfunc='count')\n",
    "df_messages.columns = ['messages_per_month']\n",
    "df_messages = df_messages.reset_index()\n",
    "print(df_messages.head(10))"
   ]
  },
  {
   "cell_type": "markdown",
   "metadata": {},
   "source": [
    "A partir del DataFrame del internet se creará una tabla que contabilice los megabytes utilizados por cada usuario por mes."
   ]
  },
  {
   "cell_type": "code",
   "execution_count": 32,
   "metadata": {},
   "outputs": [
    {
     "name": "stdout",
     "output_type": "stream",
     "text": [
      "   user_id  month  mb_per_month\n",
      "0     1000     12       1901.47\n",
      "1     1001      8       6919.15\n",
      "2     1001      9      13314.82\n",
      "3     1001     10      22330.49\n",
      "4     1001     11      18504.30\n",
      "5     1001     12      19369.18\n",
      "6     1002     10       6552.01\n",
      "7     1002     11      19345.08\n",
      "8     1002     12      14396.24\n",
      "9     1003     12      27044.14\n"
     ]
    }
   ],
   "source": [
    "#Tabla con el volumen del trafico de internet usado por cada usuario por mes.\n",
    "df_internet = df['internet'].pivot_table(index=['user_id', 'month'], values='mb_used', aggfunc='sum')\n",
    "df_internet.columns = ['mb_per_month']\n",
    "df_internet = df_internet.reset_index()\n",
    "print(df_internet.head(10))"
   ]
  },
  {
   "cell_type": "markdown",
   "metadata": {},
   "source": [
    "Megaline redondea los gigabytes usados por mes al gigabyte siguiente. Así, se redondearán los datos de la columna correspondientes (1 GB = 1024 MB)."
   ]
  },
  {
   "cell_type": "code",
   "execution_count": 33,
   "metadata": {},
   "outputs": [
    {
     "name": "stdout",
     "output_type": "stream",
     "text": [
      "   user_id  month  gb_per_month\n",
      "0     1000     12             2\n",
      "1     1001      8             7\n",
      "2     1001      9            14\n",
      "3     1001     10            22\n",
      "4     1001     11            19\n",
      "5     1001     12            19\n",
      "6     1002     10             7\n",
      "7     1002     11            19\n",
      "8     1002     12            15\n",
      "9     1003     12            27\n"
     ]
    }
   ],
   "source": [
    "df_internet['mb_per_month'] = (df_internet['mb_per_month'] / 1024).apply(ceil)\n",
    "df_internet.columns = ['user_id', 'month', 'gb_per_month']\n",
    "print(df_internet.head(10))"
   ]
  },
  {
   "cell_type": "markdown",
   "metadata": {},
   "source": [
    "Se obtendrá la información de estas tres tablas."
   ]
  },
  {
   "cell_type": "code",
   "execution_count": 34,
   "metadata": {},
   "outputs": [
    {
     "name": "stdout",
     "output_type": "stream",
     "text": [
      "<class 'pandas.core.frame.DataFrame'>\n",
      "RangeIndex: 2258 entries, 0 to 2257\n",
      "Data columns (total 4 columns):\n",
      " #   Column             Non-Null Count  Dtype\n",
      "---  ------             --------------  -----\n",
      " 0   user_id            2258 non-null   int64\n",
      " 1   month              2258 non-null   int64\n",
      " 2   calls_per_month    2258 non-null   int64\n",
      " 3   minutes_per_month  2258 non-null   int64\n",
      "dtypes: int64(4)\n",
      "memory usage: 70.7 KB\n",
      "\n",
      "<class 'pandas.core.frame.DataFrame'>\n",
      "RangeIndex: 1806 entries, 0 to 1805\n",
      "Data columns (total 3 columns):\n",
      " #   Column              Non-Null Count  Dtype\n",
      "---  ------              --------------  -----\n",
      " 0   user_id             1806 non-null   int64\n",
      " 1   month               1806 non-null   int64\n",
      " 2   messages_per_month  1806 non-null   int64\n",
      "dtypes: int64(3)\n",
      "memory usage: 42.5 KB\n",
      "\n",
      "<class 'pandas.core.frame.DataFrame'>\n",
      "RangeIndex: 2277 entries, 0 to 2276\n",
      "Data columns (total 3 columns):\n",
      " #   Column        Non-Null Count  Dtype\n",
      "---  ------        --------------  -----\n",
      " 0   user_id       2277 non-null   int64\n",
      " 1   month         2277 non-null   int64\n",
      " 2   gb_per_month  2277 non-null   int64\n",
      "dtypes: int64(3)\n",
      "memory usage: 53.5 KB\n"
     ]
    }
   ],
   "source": [
    "df_calls.info()\n",
    "print()\n",
    "df_messages.info()\n",
    "print()\n",
    "df_internet.info()"
   ]
  },
  {
   "cell_type": "markdown",
   "metadata": {},
   "source": [
    "A continuación se unirán estas tres tablas y debido a que no tienen la misma cantidad de filas habrá valores ausentes."
   ]
  },
  {
   "cell_type": "code",
   "execution_count": 35,
   "metadata": {},
   "outputs": [
    {
     "name": "stdout",
     "output_type": "stream",
     "text": [
      "<class 'pandas.core.frame.DataFrame'>\n",
      "Int64Index: 2293 entries, 0 to 2292\n",
      "Data columns (total 6 columns):\n",
      " #   Column              Non-Null Count  Dtype  \n",
      "---  ------              --------------  -----  \n",
      " 0   user_id             2293 non-null   int64  \n",
      " 1   month               2293 non-null   int64  \n",
      " 2   calls_per_month     2258 non-null   float64\n",
      " 3   minutes_per_month   2258 non-null   float64\n",
      " 4   messages_per_month  1806 non-null   float64\n",
      " 5   gb_per_month        2277 non-null   float64\n",
      "dtypes: float64(4), int64(2)\n",
      "memory usage: 125.4 KB\n",
      "\n",
      "   user_id  month  calls_per_month  minutes_per_month  messages_per_month  \\\n",
      "0     1000     12             16.0              124.0                11.0   \n",
      "1     1001      8             27.0              182.0                30.0   \n",
      "2     1001      9             49.0              315.0                44.0   \n",
      "3     1001     10             65.0              393.0                53.0   \n",
      "4     1001     11             64.0              426.0                36.0   \n",
      "5     1001     12             56.0              412.0                44.0   \n",
      "6     1002     10             11.0               59.0                15.0   \n",
      "7     1002     11             55.0              386.0                32.0   \n",
      "8     1002     12             47.0              384.0                41.0   \n",
      "9     1003     12            149.0             1104.0                50.0   \n",
      "\n",
      "   gb_per_month  \n",
      "0           2.0  \n",
      "1           7.0  \n",
      "2          14.0  \n",
      "3          22.0  \n",
      "4          19.0  \n",
      "5          19.0  \n",
      "6           7.0  \n",
      "7          19.0  \n",
      "8          15.0  \n",
      "9          27.0  \n"
     ]
    }
   ],
   "source": [
    "# DataFrame con los datos para las llamadas, minutos, mensajes e internet con base en el user_id y el mes\n",
    "df_users_periods = df_calls.merge(df_messages, on=['user_id', 'month'], how='outer')\n",
    "df_users_periods = df_users_periods.merge(df_internet, on=['user_id', 'month'], how='outer')\n",
    "df_users_periods.info()\n",
    "print()\n",
    "print(df_users_periods.head(10))"
   ]
  },
  {
   "cell_type": "markdown",
   "metadata": {},
   "source": [
    "También es necesario unir la información del plan de cada usuario a partir del DataFrame de usuarios. Se creará un nuevo DataFrame a partir de usuarios que contenga únicamente las columnas de `'user_id'`, `'city'` y `'plan'` para posteriormente unirlo al DataFrame anterior."
   ]
  },
  {
   "cell_type": "code",
   "execution_count": 36,
   "metadata": {},
   "outputs": [
    {
     "name": "stdout",
     "output_type": "stream",
     "text": [
      "   user_id                                    city      plan\n",
      "0     1000   Atlanta-Sandy Springs-Roswell, GA MSA  ultimate\n",
      "1     1001         Seattle-Tacoma-Bellevue, WA MSA      surf\n",
      "2     1002    Las Vegas-Henderson-Paradise, NV MSA      surf\n",
      "3     1003                           Tulsa, OK MSA      surf\n",
      "4     1004         Seattle-Tacoma-Bellevue, WA MSA      surf\n",
      "5     1005     Dallas-Fort Worth-Arlington, TX MSA      surf\n",
      "6     1006  San Francisco-Oakland-Berkeley, CA MSA  ultimate\n",
      "7     1007           Grand Rapids-Kentwood, MI MSA      surf\n",
      "8     1008       Orlando-Kissimmee-Sanford, FL MSA  ultimate\n",
      "9     1009  San Jose-Sunnyvale-Santa Clara, CA MSA      surf\n"
     ]
    }
   ],
   "source": [
    "df_plans = df['users'].drop(['first_name', 'last_name', 'age', 'reg_date', 'churn_date'], axis='columns')\n",
    "print(df_plans.head(10))"
   ]
  },
  {
   "cell_type": "code",
   "execution_count": 37,
   "metadata": {},
   "outputs": [
    {
     "name": "stdout",
     "output_type": "stream",
     "text": [
      "   user_id  month  calls_per_month  minutes_per_month  messages_per_month  \\\n",
      "0     1000   12.0             16.0              124.0                11.0   \n",
      "1     1001    8.0             27.0              182.0                30.0   \n",
      "2     1001    9.0             49.0              315.0                44.0   \n",
      "3     1001   10.0             65.0              393.0                53.0   \n",
      "4     1001   11.0             64.0              426.0                36.0   \n",
      "5     1001   12.0             56.0              412.0                44.0   \n",
      "6     1002   10.0             11.0               59.0                15.0   \n",
      "7     1002   11.0             55.0              386.0                32.0   \n",
      "8     1002   12.0             47.0              384.0                41.0   \n",
      "9     1003   12.0            149.0             1104.0                50.0   \n",
      "\n",
      "   gb_per_month                                   city      plan  \n",
      "0           2.0  Atlanta-Sandy Springs-Roswell, GA MSA  ultimate  \n",
      "1           7.0        Seattle-Tacoma-Bellevue, WA MSA      surf  \n",
      "2          14.0        Seattle-Tacoma-Bellevue, WA MSA      surf  \n",
      "3          22.0        Seattle-Tacoma-Bellevue, WA MSA      surf  \n",
      "4          19.0        Seattle-Tacoma-Bellevue, WA MSA      surf  \n",
      "5          19.0        Seattle-Tacoma-Bellevue, WA MSA      surf  \n",
      "6           7.0   Las Vegas-Henderson-Paradise, NV MSA      surf  \n",
      "7          19.0   Las Vegas-Henderson-Paradise, NV MSA      surf  \n",
      "8          15.0   Las Vegas-Henderson-Paradise, NV MSA      surf  \n",
      "9          27.0                          Tulsa, OK MSA      surf  \n"
     ]
    }
   ],
   "source": [
    "df_users_periods = df_users_periods.merge(df_plans, on='user_id', how='outer')\n",
    "print(df_users_periods.head(10))"
   ]
  },
  {
   "cell_type": "markdown",
   "metadata": {},
   "source": [
    "Este DataFrame contiene valores ausentes pues pueden existir usuarios que no utilicen alguno de los tres servicios en algún período. Se investigará la existencia de valores ausentes."
   ]
  },
  {
   "cell_type": "code",
   "execution_count": 38,
   "metadata": {},
   "outputs": [
    {
     "name": "stdout",
     "output_type": "stream",
     "text": [
      "<class 'pandas.core.frame.DataFrame'>\n",
      "Int64Index: 2303 entries, 0 to 2302\n",
      "Data columns (total 8 columns):\n",
      " #   Column              Non-Null Count  Dtype  \n",
      "---  ------              --------------  -----  \n",
      " 0   user_id             2303 non-null   int64  \n",
      " 1   month               2293 non-null   float64\n",
      " 2   calls_per_month     2258 non-null   float64\n",
      " 3   minutes_per_month   2258 non-null   float64\n",
      " 4   messages_per_month  1806 non-null   float64\n",
      " 5   gb_per_month        2277 non-null   float64\n",
      " 6   city                2303 non-null   object \n",
      " 7   plan                2303 non-null   object \n",
      "dtypes: float64(5), int64(1), object(2)\n",
      "memory usage: 161.9+ KB\n"
     ]
    }
   ],
   "source": [
    "df_users_periods.info()"
   ]
  },
  {
   "cell_type": "code",
   "execution_count": 39,
   "metadata": {},
   "outputs": [
    {
     "name": "stdout",
     "output_type": "stream",
     "text": [
      "user_id                 0\n",
      "month                  10\n",
      "calls_per_month        45\n",
      "minutes_per_month      45\n",
      "messages_per_month    497\n",
      "gb_per_month           26\n",
      "city                    0\n",
      "plan                    0\n",
      "dtype: int64\n"
     ]
    }
   ],
   "source": [
    "print(df_users_periods.isna().sum())"
   ]
  },
  {
   "cell_type": "markdown",
   "metadata": {},
   "source": [
    "La columna `'month'` contiene 10 valores ausentes, lo cual indica que son usuarios cuyo id no aparece en los DataFrames de llamadas, mensajes e internet. Se mostrarán estas filas para comprobarlo."
   ]
  },
  {
   "cell_type": "code",
   "execution_count": 40,
   "metadata": {},
   "outputs": [
    {
     "name": "stdout",
     "output_type": "stream",
     "text": [
      "      user_id  month  calls_per_month  minutes_per_month  messages_per_month  \\\n",
      "2293     1025    NaN              NaN                NaN                 NaN   \n",
      "2294     1129    NaN              NaN                NaN                 NaN   \n",
      "2295     1143    NaN              NaN                NaN                 NaN   \n",
      "2296     1269    NaN              NaN                NaN                 NaN   \n",
      "2297     1275    NaN              NaN                NaN                 NaN   \n",
      "2298     1307    NaN              NaN                NaN                 NaN   \n",
      "2299     1319    NaN              NaN                NaN                 NaN   \n",
      "2300     1378    NaN              NaN                NaN                 NaN   \n",
      "2301     1463    NaN              NaN                NaN                 NaN   \n",
      "2302     1473    NaN              NaN                NaN                 NaN   \n",
      "\n",
      "      gb_per_month                                       city      plan  \n",
      "2293           NaN      Atlanta-Sandy Springs-Roswell, GA MSA  ultimate  \n",
      "2294           NaN                        Baton Rouge, LA MSA      surf  \n",
      "2295           NaN                   Cincinnati, OH-KY-IN MSA      surf  \n",
      "2296           NaN        Dallas-Fort Worth-Arlington, TX MSA  ultimate  \n",
      "2297           NaN  New York-Newark-Jersey City, NY-NJ-PA MSA  ultimate  \n",
      "2298           NaN         Boston-Cambridge-Newton, MA-NH MSA      surf  \n",
      "2299           NaN                   Colorado Springs, CO MSA      surf  \n",
      "2300           NaN             Denver-Aurora-Lakewood, CO MSA      surf  \n",
      "2301           NaN      Atlanta-Sandy Springs-Roswell, GA MSA  ultimate  \n",
      "2302           NaN     Louisville/Jefferson County, KY-IN MSA      surf  \n"
     ]
    }
   ],
   "source": [
    "print(df_users_periods[df_users_periods['month'].isna()])"
   ]
  },
  {
   "cell_type": "markdown",
   "metadata": {},
   "source": [
    "Lo más probable es que sea debido a un error al recabar los datos. Como representan menos del 0.5% de las filas del DataFrame, se decide eliminar estas filas."
   ]
  },
  {
   "cell_type": "code",
   "execution_count": 41,
   "metadata": {},
   "outputs": [
    {
     "name": "stdout",
     "output_type": "stream",
     "text": [
      "<class 'pandas.core.frame.DataFrame'>\n",
      "Int64Index: 2293 entries, 0 to 2292\n",
      "Data columns (total 8 columns):\n",
      " #   Column              Non-Null Count  Dtype  \n",
      "---  ------              --------------  -----  \n",
      " 0   user_id             2293 non-null   int64  \n",
      " 1   month               2293 non-null   float64\n",
      " 2   calls_per_month     2258 non-null   float64\n",
      " 3   minutes_per_month   2258 non-null   float64\n",
      " 4   messages_per_month  1806 non-null   float64\n",
      " 5   gb_per_month        2277 non-null   float64\n",
      " 6   city                2293 non-null   object \n",
      " 7   plan                2293 non-null   object \n",
      "dtypes: float64(5), int64(1), object(2)\n",
      "memory usage: 161.2+ KB\n"
     ]
    }
   ],
   "source": [
    "df_users_periods = df_users_periods.dropna(subset=['month'])\n",
    "df_users_periods.info()"
   ]
  },
  {
   "cell_type": "markdown",
   "metadata": {},
   "source": [
    "Las otras columnas que contienen valores ausentes son las columnas correspondientes a las llamadas, minutos, mensajes e internet del período. Pueden existir usuarios que no utilicen todos los servicios del plan en cada período. Se decide reemplazar los valores ausentes de esta columna por el valor 0."
   ]
  },
  {
   "cell_type": "code",
   "execution_count": 42,
   "metadata": {},
   "outputs": [
    {
     "name": "stdout",
     "output_type": "stream",
     "text": [
      "<class 'pandas.core.frame.DataFrame'>\n",
      "Int64Index: 2293 entries, 0 to 2292\n",
      "Data columns (total 8 columns):\n",
      " #   Column              Non-Null Count  Dtype  \n",
      "---  ------              --------------  -----  \n",
      " 0   user_id             2293 non-null   int64  \n",
      " 1   month               2293 non-null   float64\n",
      " 2   calls_per_month     2293 non-null   float64\n",
      " 3   minutes_per_month   2293 non-null   float64\n",
      " 4   messages_per_month  2293 non-null   float64\n",
      " 5   gb_per_month        2293 non-null   float64\n",
      " 6   city                2293 non-null   object \n",
      " 7   plan                2293 non-null   object \n",
      "dtypes: float64(5), int64(1), object(2)\n",
      "memory usage: 161.2+ KB\n"
     ]
    }
   ],
   "source": [
    "df_users_periods = df_users_periods.fillna(0)\n",
    "df_users_periods.info()"
   ]
  },
  {
   "cell_type": "markdown",
   "metadata": {},
   "source": [
    "[Volver a Contenidos](#back)"
   ]
  },
  {
   "cell_type": "markdown",
   "metadata": {},
   "source": [
    "### 2. 1. Tarifa por usuario <a id='data_prep_income'></a>\n",
    "\n",
    "Antes de comenzar el análisis estadístico de los datos es necesario calcular la tarifa de cada usuario por cada período según el plan al que esté suscrito.\n",
    "\n",
    "Primero se crearán funciones para calcular la tarifa de minutos, mensajes y gigabytes utilizados por cada período y de acuerdo al plan."
   ]
  },
  {
   "cell_type": "code",
   "execution_count": 43,
   "metadata": {},
   "outputs": [],
   "source": [
    "def minutes_pay(plan, number):\n",
    "    if (plan == 'surf') and (number > 500):\n",
    "        pay = (number - 500) * 0.03\n",
    "    elif (plan == 'ultimate') and (number > 3000):\n",
    "        pay = (number - 3000) * 0.01\n",
    "    else:\n",
    "        pay = 0\n",
    "    return pay"
   ]
  },
  {
   "cell_type": "markdown",
   "metadata": {},
   "source": [
    "Se verifica que la función sea correcta."
   ]
  },
  {
   "cell_type": "code",
   "execution_count": 44,
   "metadata": {},
   "outputs": [
    {
     "name": "stdout",
     "output_type": "stream",
     "text": [
      "0\n",
      "\n",
      "0.06\n",
      "\n",
      "0\n",
      "\n",
      "0.02\n"
     ]
    }
   ],
   "source": [
    "print(minutes_pay('surf', 10))\n",
    "print()\n",
    "print(minutes_pay('surf', 502))\n",
    "print()\n",
    "print(minutes_pay('ultimate', 501))\n",
    "print()\n",
    "print(minutes_pay('ultimate', 3002))"
   ]
  },
  {
   "cell_type": "markdown",
   "metadata": {},
   "source": [
    "La función es correcta. Análogamente se crean las funciones de tarifas para mensajes y gigabytes."
   ]
  },
  {
   "cell_type": "code",
   "execution_count": 45,
   "metadata": {},
   "outputs": [],
   "source": [
    "def messages_pay(plan, number):\n",
    "    if (plan == 'surf') and (number > 50):\n",
    "        pay = (number - 50) * 0.03\n",
    "    elif (plan == 'ultimate') and (number > 1000):\n",
    "        pay = (number - 1000) * 0.01\n",
    "    else:\n",
    "        pay = 0\n",
    "    return pay"
   ]
  },
  {
   "cell_type": "code",
   "execution_count": 46,
   "metadata": {},
   "outputs": [],
   "source": [
    "def internet_pay(plan, gb):\n",
    "    if (plan == 'surf') and (gb > 15):\n",
    "        pay = (gb - 15) * 10\n",
    "    elif (plan == 'ultimate') and (gb > 30):\n",
    "        pay = (gb - 30) * 7\n",
    "    else:\n",
    "        pay = 0\n",
    "    return pay"
   ]
  },
  {
   "cell_type": "markdown",
   "metadata": {},
   "source": [
    "Se prueba que esta última función sea correcta."
   ]
  },
  {
   "cell_type": "code",
   "execution_count": 47,
   "metadata": {},
   "outputs": [
    {
     "name": "stdout",
     "output_type": "stream",
     "text": [
      "0\n",
      "\n",
      "20\n",
      "\n",
      "0\n",
      "\n",
      "14\n"
     ]
    }
   ],
   "source": [
    "print(internet_pay('surf', 12))\n",
    "print()\n",
    "print(internet_pay('surf', 17))\n",
    "print()\n",
    "print(internet_pay('ultimate', 30))\n",
    "print()\n",
    "print(internet_pay('ultimate', 32))"
   ]
  },
  {
   "cell_type": "markdown",
   "metadata": {},
   "source": [
    "La función es correcta. A continuación se creará una función cuyo argumento sea una fila del DataFrame. Dicha función calcula la tarifa por período dependiendo del plan contratado utilizando las tres funciones anteriores."
   ]
  },
  {
   "cell_type": "code",
   "execution_count": 48,
   "metadata": {},
   "outputs": [],
   "source": [
    "def period_pay(row):\n",
    "    plan = row['plan']\n",
    "    minutes = row['minutes_per_month']\n",
    "    messages = row['messages_per_month']\n",
    "    gb = row['gb_per_month']\n",
    "    pay = minutes_pay(plan, minutes) + messages_pay(plan, messages) + internet_pay(plan, gb)\n",
    "    if plan == 'surf':\n",
    "        pay += 20\n",
    "    else:\n",
    "        pay += 70\n",
    "    return pay"
   ]
  },
  {
   "cell_type": "markdown",
   "metadata": {},
   "source": [
    "Se verifica que la función sea correcta con un DataFrame de prueba creado anteriormente."
   ]
  },
  {
   "cell_type": "code",
   "execution_count": 49,
   "metadata": {},
   "outputs": [
    {
     "name": "stdout",
     "output_type": "stream",
     "text": [
      "       plan  minutes_per_month  messages_per_month  gb_per_month\n",
      "0      surf                500                  50            15\n",
      "1      surf                501                  51            16\n",
      "2  ultimate               3000                1000            30\n",
      "3  ultimate               3002                1002            32\n",
      "\n",
      "       plan  minutes_per_month  messages_per_month  gb_per_month  month_pay\n",
      "0      surf                500                  50            15      20.00\n",
      "1      surf                501                  51            16      30.06\n",
      "2  ultimate               3000                1000            30      70.00\n",
      "3  ultimate               3002                1002            32      84.04\n"
     ]
    }
   ],
   "source": [
    "plan = ['surf', 'surf', 'ultimate', 'ultimate']\n",
    "minutes = [500, 501, 3000, 3002]\n",
    "messages = [50, 51, 1000, 1002]\n",
    "gb = [15, 16, 30, 32]\n",
    "df_test = pd.DataFrame()\n",
    "df_test['plan'] = plan\n",
    "df_test['minutes_per_month'] = minutes\n",
    "df_test['messages_per_month'] = messages\n",
    "df_test['gb_per_month'] = gb\n",
    "print(df_test)\n",
    "print()\n",
    "df_test['month_pay'] = df_test.apply(period_pay, axis=1)\n",
    "print(df_test)"
   ]
  },
  {
   "cell_type": "markdown",
   "metadata": {},
   "source": [
    "La función es correcta. Se aplicará al DataFrame."
   ]
  },
  {
   "cell_type": "code",
   "execution_count": 50,
   "metadata": {},
   "outputs": [
    {
     "name": "stdout",
     "output_type": "stream",
     "text": [
      "   user_id  month  calls_per_month  minutes_per_month  messages_per_month  \\\n",
      "0     1000   12.0             16.0              124.0                11.0   \n",
      "1     1001    8.0             27.0              182.0                30.0   \n",
      "2     1001    9.0             49.0              315.0                44.0   \n",
      "3     1001   10.0             65.0              393.0                53.0   \n",
      "4     1001   11.0             64.0              426.0                36.0   \n",
      "5     1001   12.0             56.0              412.0                44.0   \n",
      "6     1002   10.0             11.0               59.0                15.0   \n",
      "7     1002   11.0             55.0              386.0                32.0   \n",
      "8     1002   12.0             47.0              384.0                41.0   \n",
      "9     1003   12.0            149.0             1104.0                50.0   \n",
      "\n",
      "   gb_per_month                                   city      plan  period_pay  \n",
      "0           2.0  Atlanta-Sandy Springs-Roswell, GA MSA  ultimate       70.00  \n",
      "1           7.0        Seattle-Tacoma-Bellevue, WA MSA      surf       20.00  \n",
      "2          14.0        Seattle-Tacoma-Bellevue, WA MSA      surf       20.00  \n",
      "3          22.0        Seattle-Tacoma-Bellevue, WA MSA      surf       90.09  \n",
      "4          19.0        Seattle-Tacoma-Bellevue, WA MSA      surf       60.00  \n",
      "5          19.0        Seattle-Tacoma-Bellevue, WA MSA      surf       60.00  \n",
      "6           7.0   Las Vegas-Henderson-Paradise, NV MSA      surf       20.00  \n",
      "7          19.0   Las Vegas-Henderson-Paradise, NV MSA      surf       60.00  \n",
      "8          15.0   Las Vegas-Henderson-Paradise, NV MSA      surf       20.00  \n",
      "9          27.0                          Tulsa, OK MSA      surf      158.12  \n"
     ]
    }
   ],
   "source": [
    "df_users_periods['period_pay'] = df_users_periods.apply(period_pay, axis=1)\n",
    "print(df_users_periods.head(10))"
   ]
  },
  {
   "cell_type": "markdown",
   "metadata": {},
   "source": [
    "Con este DataFrame se puede iniciar el análisis exploratorio de los datos.\n",
    "\n",
    "[Volver a Contenidos](#back)"
   ]
  },
  {
   "cell_type": "markdown",
   "metadata": {},
   "source": [
    "## Etapa 3. Análisis exploratorio de los datos <a id='data_analysis'></a>\n",
    "\n",
    "En esta etapa se compararán los planes para decidir cuál de ellos es más rentable. El análisis se dividirá por llamadas, mensajes e internet. Se mostrarán gráficos para una mejor visualización."
   ]
  },
  {
   "cell_type": "markdown",
   "metadata": {},
   "source": [
    "### 3. 1. Llamadas <a id='data_analysis_calls'></a>\n",
    "\n",
    "A partir del último DataFrame, se creará una tabla dinámica para mostrar el promedio de minutos utilizados por los usuarios de cada plan por mes. También se mostrará una gráfica de barras para comparar de mejor manera los datos."
   ]
  },
  {
   "cell_type": "code",
   "execution_count": 51,
   "metadata": {},
   "outputs": [
    {
     "name": "stdout",
     "output_type": "stream",
     "text": [
      "plan         surf    ultimate\n",
      "month                        \n",
      "1.0    203.000000  193.500000\n",
      "2.0    297.000000  403.142857\n",
      "3.0    330.000000  304.250000\n",
      "4.0    351.540000  336.857143\n",
      "5.0    399.584416  406.241379\n",
      "6.0    431.298969  370.957447\n",
      "7.0    449.983471  427.067797\n",
      "8.0    410.111111  421.436620\n",
      "9.0    414.226804  437.511628\n",
      "10.0   429.729958  450.735849\n",
      "11.0   423.325088  445.196850\n",
      "12.0   473.836478  459.099338\n"
     ]
    }
   ],
   "source": [
    "calls_plan = df_users_periods.pivot_table(index='month', columns='plan', values='minutes_per_month', aggfunc='mean')\n",
    "print(calls_plan)"
   ]
  },
  {
   "cell_type": "code",
   "execution_count": 52,
   "metadata": {},
   "outputs": [
    {
     "data": {
      "text/plain": [
       "Text(0, 0.5, 'minutes')"
      ]
     },
     "execution_count": 52,
     "metadata": {},
     "output_type": "execute_result"
    },
    {
     "data": {
      "image/png": "[encoded data removed]",
      "text/plain": [
       "<Figure size 900x700 with 1 Axes>"
      ]
     },
     "metadata": {},
     "output_type": "display_data"
    }
   ],
   "source": [
    "calls_plan.plot(kind='bar', grid=True, figsize=(9, 7))\n",
    "plt.ylabel('minutes')"
   ]
  },
  {
   "cell_type": "markdown",
   "metadata": {},
   "source": [
    "En 7 períodos el promedio de minutos utilizados por los usuarios del plan Ultimate supera a los del plan Surf. Sin embargo, salvo en el mes de Febrero, no es una diferencia considerable. Además, en ninguno de los planes este promedio supera los 500 minutos.\n",
    "\n",
    "A continuación se filtrará el DataFrame por plan. Se estudiarán los minutos que requiere cada usuario por mes de cada plan y se mostrarán los histogramas correspondientes para una mejor visualización."
   ]
  },
  {
   "cell_type": "code",
   "execution_count": 53,
   "metadata": {},
   "outputs": [
    {
     "data": {
      "image/png": "[encoded data removed]",
      "text/plain": [
       "<Figure size 800x800 with 1 Axes>"
      ]
     },
     "metadata": {},
     "output_type": "display_data"
    },
    {
     "data": {
      "image/png": "[encoded data removed]",
      "text/plain": [
       "<Figure size 800x800 with 1 Axes>"
      ]
     },
     "metadata": {},
     "output_type": "display_data"
    }
   ],
   "source": [
    "for name, group_data in df_users_periods.groupby('plan'):\n",
    "    group_data.plot(kind='hist', y='minutes_per_month', bins=30, title=name, grid=True, figsize=(8, 8))"
   ]
  },
  {
   "cell_type": "markdown",
   "metadata": {},
   "source": [
    "Como se observa, las distribuciones de los datos son similares. Se encontrará la media de cada plan y su desviación estándar para comparar sus dispersiones."
   ]
  },
  {
   "cell_type": "code",
   "execution_count": 54,
   "metadata": {},
   "outputs": [
    {
     "name": "stdout",
     "output_type": "stream",
     "text": [
      "surf\n",
      "count    1573.000000\n",
      "mean      428.749523\n",
      "std       234.453150\n",
      "min         0.000000\n",
      "25%       272.000000\n",
      "50%       425.000000\n",
      "75%       576.000000\n",
      "max      1510.000000\n",
      "Name: minutes_per_month, dtype: float64\n",
      "\n",
      "ultimate\n",
      "count     720.000000\n",
      "mean      430.450000\n",
      "std       240.508762\n",
      "min         0.000000\n",
      "25%       260.000000\n",
      "50%       424.000000\n",
      "75%       565.250000\n",
      "max      1369.000000\n",
      "Name: minutes_per_month, dtype: float64\n",
      "\n"
     ]
    }
   ],
   "source": [
    "for name, group_data in df_users_periods.groupby('plan'):\n",
    "    print(name)\n",
    "    print(group_data['minutes_per_month'].describe())\n",
    "    print()"
   ]
  },
  {
   "cell_type": "markdown",
   "metadata": {},
   "source": [
    "La diferencia entre la media y la desviación estándar del plan surf es 194.3, la cual es mayor que la del plan ultimate (189.94) pero no con una gran diferencia. Esto indica que los datos para ambos planes tienen una dispersión similar.\n",
    "\n",
    "Los cuartiles del plan surf tienen valores mayores que los del plan ultimate. En el plan surf existen usuarios que necesitan 1510 minutos y en el plan ultimate existen usuarios que necesitan 1369 minutos.\n",
    "\n",
    "Estas diferencias no son considerables, se mostrarán diagramas de caja para visualizar mejor estas similitudes."
   ]
  },
  {
   "cell_type": "code",
   "execution_count": 55,
   "metadata": {},
   "outputs": [
    {
     "data": {
      "image/png": "[encoded data removed]",
      "text/plain": [
       "<Figure size 640x480 with 1 Axes>"
      ]
     },
     "metadata": {},
     "output_type": "display_data"
    }
   ],
   "source": [
    "df_users_periods.boxplot(column='minutes_per_month', by='plan')\n",
    "plt.tight_layout()"
   ]
  },
  {
   "cell_type": "markdown",
   "metadata": {},
   "source": [
    "El comportamiento de los usuarios con respecto a los minutos utilizados por período es muy similar sin importar el plan. El promedio mensual para ambos planes no supera los 500 minutos. Sin embargo, el plan surf ofrece 500 minutos incluidos en el precio base, mientras que ultimate ofrece 3000 minutos. La cantidad máxima de minutos para el plan ultimate es 1369, lejos del límite de 3000. Por otro lado, más del 25% de usuarios del plan surf sobrepasan 500 minutos. Se concluye que el plan surf para llamadas le reditua más ingresos a Megaline por los cargos extra.\n",
    "\n",
    "[Volver a Contenidos](#back)"
   ]
  },
  {
   "cell_type": "markdown",
   "metadata": {},
   "source": [
    "### 3. 2. Mensajes <a id='data_analysis_messages'></a>\n",
    "\n",
    "A partir del último DataFrame, se creará una tabla dinámica para mostrar el promedio de mensajes enviados por los usuarios de cada plan por mes. También se mostrará una gráfica de barras para comparar de mejor manera los datos."
   ]
  },
  {
   "cell_type": "code",
   "execution_count": 56,
   "metadata": {},
   "outputs": [
    {
     "name": "stdout",
     "output_type": "stream",
     "text": [
      "plan        surf   ultimate\n",
      "month                      \n",
      "1.0    10.500000  15.500000\n",
      "2.0    12.000000  21.571429\n",
      "3.0    15.260870  20.250000\n",
      "4.0    17.400000  22.047619\n",
      "5.0    24.012987  32.103448\n",
      "6.0    25.298969  29.340426\n",
      "7.0    27.033058  32.830508\n",
      "8.0    28.777778  38.478873\n",
      "9.0    30.762887  37.895349\n",
      "10.0   33.839662  39.443396\n",
      "11.0   32.385159  38.606299\n",
      "12.0   38.600629  45.006623\n"
     ]
    }
   ],
   "source": [
    "messages_plan = df_users_periods.pivot_table(index='month', columns='plan', values='messages_per_month', aggfunc='mean')\n",
    "print(messages_plan)"
   ]
  },
  {
   "cell_type": "code",
   "execution_count": 57,
   "metadata": {},
   "outputs": [
    {
     "data": {
      "text/plain": [
       "Text(0, 0.5, 'messages')"
      ]
     },
     "execution_count": 57,
     "metadata": {},
     "output_type": "execute_result"
    },
    {
     "data": {
      "image/png": "[encoded data removed]",
      "text/plain": [
       "<Figure size 900x700 with 1 Axes>"
      ]
     },
     "metadata": {},
     "output_type": "display_data"
    }
   ],
   "source": [
    "messages_plan.plot(kind='bar', grid=True, figsize=(9, 7))\n",
    "plt.ylabel('messages')"
   ]
  },
  {
   "cell_type": "markdown",
   "metadata": {},
   "source": [
    "El promedio de mensajes enviados por los usuarios del plan ultimate supera al de los usuarios del plan surf en todos los meses. Cabe destacar que dichos promedios, en ninguno de los dos planes, supera 50 mensajes. Se estudiarán los datos por plan."
   ]
  },
  {
   "cell_type": "code",
   "execution_count": 58,
   "metadata": {},
   "outputs": [
    {
     "data": {
      "image/png": "[encoded data removed]",
      "text/plain": [
       "<Figure size 800x800 with 1 Axes>"
      ]
     },
     "metadata": {},
     "output_type": "display_data"
    },
    {
     "data": {
      "image/png": "[encoded data removed]",
      "text/plain": [
       "<Figure size 800x800 with 1 Axes>"
      ]
     },
     "metadata": {},
     "output_type": "display_data"
    }
   ],
   "source": [
    "for name, group_data in df_users_periods.groupby('plan'):\n",
    "    group_data.plot(kind='hist', y='messages_per_month', bins=20, title=name, grid=True, figsize=(8, 8))"
   ]
  },
  {
   "cell_type": "markdown",
   "metadata": {},
   "source": [
    "En ambas distribuciones, la mayoría de datos está entre 0 y 50 mensajes enviados pero se observa que en el plan ultimate hay más usuarios que envían más de 50 mensajes. Se compararán las dispersiones de ambos planes."
   ]
  },
  {
   "cell_type": "code",
   "execution_count": 59,
   "metadata": {},
   "outputs": [
    {
     "name": "stdout",
     "output_type": "stream",
     "text": [
      "surf\n",
      "count    1573.000000\n",
      "mean       31.159568\n",
      "std        33.566717\n",
      "min         0.000000\n",
      "25%         3.000000\n",
      "50%        24.000000\n",
      "75%        47.000000\n",
      "max       266.000000\n",
      "Name: messages_per_month, dtype: float64\n",
      "\n",
      "ultimate\n",
      "count    720.000000\n",
      "mean      37.551389\n",
      "std       34.767179\n",
      "min        0.000000\n",
      "25%        7.000000\n",
      "50%       30.000000\n",
      "75%       61.000000\n",
      "max      166.000000\n",
      "Name: messages_per_month, dtype: float64\n",
      "\n"
     ]
    }
   ],
   "source": [
    "for name, group_data in df_users_periods.groupby('plan'):\n",
    "    print(name)\n",
    "    print(group_data['messages_per_month'].describe())\n",
    "    print()"
   ]
  },
  {
   "cell_type": "markdown",
   "metadata": {},
   "source": [
    "La media del plan surf es 31.15 mensajes enviados por mes, mientras que del plan ultimate es 37.5. La diferencia entre las medias y las desviaciones estándar son muy similares (ligeramente mayor en el plan ultimate).\n",
    "\n",
    "Los valores de los cuartiles del plan ultimate son mayores que los del plan surf. En el plan surf, el 25% de usuarios envian más de 47 mensajes al mes con un máximo de 266, mientras que el 25% de los usuarios del plan ultimate envían más de 60 mensajes al mes, con un máximo de 166. Se mostrarán los diagramas de caja de ambos planes."
   ]
  },
  {
   "cell_type": "code",
   "execution_count": 60,
   "metadata": {},
   "outputs": [
    {
     "data": {
      "image/png": "[encoded data removed]",
      "text/plain": [
       "<Figure size 640x480 with 1 Axes>"
      ]
     },
     "metadata": {},
     "output_type": "display_data"
    }
   ],
   "source": [
    "df_users_periods.boxplot(column='messages_per_month', by='plan')\n",
    "plt.tight_layout()"
   ]
  },
  {
   "cell_type": "markdown",
   "metadata": {},
   "source": [
    "Los usuarios del plan ultimate envían una mayor cantidad de mensajes al mes que los del plan surf. Aunque el promedio mensual para ambos planes no supera los 50 mensajes, por las características de los planes, el más rentable es el plan surf. Esto es porque el precio base del plan surf ofrece 50 mensajes incluidos, mientras que el plan ultimate ofrece 1000 mensajes, cifra muy lejana del máximo presentado que es 165. Así, el plan surf para mensajes le reditua más ingresos a Megaline por los cargos extra.\n",
    "\n",
    "[Volver a Contenidos](#back)"
   ]
  },
  {
   "cell_type": "markdown",
   "metadata": {},
   "source": [
    "### 3. 3. Internet <a id='data_analysis_mb'></a>\n",
    "\n",
    "Como en las secciones anteriores, se creará una tabla dinámica para mostrar el promedio de megabytes utilizados por los usuarios de cada plan por mes. También se mostrará una gráfica de barras para comparar de mejor manera los datos."
   ]
  },
  {
   "cell_type": "code",
   "execution_count": 61,
   "metadata": {},
   "outputs": [
    {
     "name": "stdout",
     "output_type": "stream",
     "text": [
      "plan        surf   ultimate\n",
      "month                      \n",
      "1.0     5.000000   7.250000\n",
      "2.0    12.222222  17.285714\n",
      "3.0    13.565217  18.416667\n",
      "4.0    12.220000  16.333333\n",
      "5.0    14.116883  16.862069\n",
      "6.0    15.484536  15.425532\n",
      "7.0    16.876033  16.491525\n",
      "8.0    16.882716  17.845070\n",
      "9.0    16.690722  17.011628\n",
      "10.0   17.409283  17.716981\n",
      "11.0   16.431095  17.118110\n",
      "12.0   18.238994  18.397351\n"
     ]
    }
   ],
   "source": [
    "internet_plan = df_users_periods.pivot_table(index='month', columns='plan', values='gb_per_month', aggfunc='mean')\n",
    "print(internet_plan)"
   ]
  },
  {
   "cell_type": "code",
   "execution_count": 62,
   "metadata": {},
   "outputs": [
    {
     "data": {
      "text/plain": [
       "Text(0, 0.5, 'gigabytes')"
      ]
     },
     "execution_count": 62,
     "metadata": {},
     "output_type": "execute_result"
    },
    {
     "data": {
      "image/png": "[encoded data removed]",
      "text/plain": [
       "<Figure size 900x700 with 1 Axes>"
      ]
     },
     "metadata": {},
     "output_type": "display_data"
    }
   ],
   "source": [
    "internet_plan.plot(kind='bar', grid=True, figsize=(9, 7))\n",
    "plt.ylabel('gigabytes')"
   ]
  },
  {
   "cell_type": "markdown",
   "metadata": {},
   "source": [
    "El promedio de megabytes utilizados por los usuarios del plan ultimate supera al de los usuarios del plan surf en 10 períodos. Cabe destacar que dichos promedios, en ninguno de los dos planes, supera 19 GB. Se estudiarán los datos por plan."
   ]
  },
  {
   "cell_type": "code",
   "execution_count": 63,
   "metadata": {},
   "outputs": [
    {
     "data": {
      "image/png": "[encoded data removed]",
      "text/plain": [
       "<Figure size 800x800 with 1 Axes>"
      ]
     },
     "metadata": {},
     "output_type": "display_data"
    },
    {
     "data": {
      "image/png": "[encoded data removed]",
      "text/plain": [
       "<Figure size 800x800 with 1 Axes>"
      ]
     },
     "metadata": {},
     "output_type": "display_data"
    }
   ],
   "source": [
    "for name, group_data in df_users_periods.groupby('plan'):\n",
    "    group_data.plot(kind='hist', y='gb_per_month', bins=20, title=name, grid=True, figsize=(8, 8))"
   ]
  },
  {
   "cell_type": "markdown",
   "metadata": {},
   "source": [
    "En ambas distribuciones, la mayoría de datos está son menores a 30 gigabytes. Se compararán las dispersiones de ambos planes."
   ]
  },
  {
   "cell_type": "code",
   "execution_count": 64,
   "metadata": {},
   "outputs": [
    {
     "name": "stdout",
     "output_type": "stream",
     "text": [
      "surf\n",
      "count    1573.000000\n",
      "mean       16.670693\n",
      "std         7.847522\n",
      "min         0.000000\n",
      "25%        12.000000\n",
      "50%        17.000000\n",
      "75%        21.000000\n",
      "max        70.000000\n",
      "Name: gb_per_month, dtype: float64\n",
      "\n",
      "ultimate\n",
      "count    720.000000\n",
      "mean      17.306944\n",
      "std        7.670108\n",
      "min        0.000000\n",
      "25%       13.000000\n",
      "50%       17.000000\n",
      "75%       21.000000\n",
      "max       46.000000\n",
      "Name: gb_per_month, dtype: float64\n",
      "\n"
     ]
    }
   ],
   "source": [
    "for name, group_data in df_users_periods.groupby('plan'):\n",
    "    print(name)\n",
    "    print(group_data['gb_per_month'].describe())\n",
    "    print()"
   ]
  },
  {
   "cell_type": "markdown",
   "metadata": {},
   "source": [
    "La media del plan surf es 16.67 GB utilizados por mes, mientras que del plan ultimate es 17.30 GB. La diferencia entre las medias y las desviaciones estándar son muy similares, al igual que los valores de los cuartiles de ambos planes. En el plan surf, un 50% de usuarios utilizan más de 15 GB (limite de los megabytes incluidos en el precio base) con un máximo de 70 GB (más de 50 GB extras). Mientras que un 25% de los usuarios del plan ultimate utilizan más de 20 GB al mes, con un máximo de 46 GB (este plan incluye 30GB, por lo que serían 16 GB extras). Se mostrarán los diagramas de caja de ambos planes."
   ]
  },
  {
   "cell_type": "code",
   "execution_count": 65,
   "metadata": {},
   "outputs": [
    {
     "data": {
      "image/png": "[encoded data removed]",
      "text/plain": [
       "<Figure size 640x480 with 1 Axes>"
      ]
     },
     "metadata": {},
     "output_type": "display_data"
    }
   ],
   "source": [
    "df_users_periods.boxplot(column='gb_per_month', by='plan')\n",
    "plt.tight_layout()"
   ]
  },
  {
   "cell_type": "markdown",
   "metadata": {},
   "source": [
    "El plan surf en cuanto a gigabytes utilizados es mucho más rentable para Megaline por los cargos extra, pues más del 50% de los usuarios sobrepasan el límite de los gigabytes incluidos en el precio base.\n",
    "\n",
    "[Volver a Contenidos](#back)"
   ]
  },
  {
   "cell_type": "markdown",
   "metadata": {},
   "source": [
    "### 3. 4. Ingreso <a id='data_analysis_income'></a>\n",
    "\n",
    "Finalmente, se creará una tabla dinámica para mostrar el promedio del pago mensual realizado por los usuarios de cada plan. También se mostrará una gráfica de barras para comparar de mejor manera los datos."
   ]
  },
  {
   "cell_type": "code",
   "execution_count": 66,
   "metadata": {},
   "outputs": [
    {
     "name": "stdout",
     "output_type": "stream",
     "text": [
      "plan        surf   ultimate\n",
      "month                      \n",
      "1.0    20.000000  70.000000\n",
      "2.0    34.396667  70.000000\n",
      "3.0    45.941304  74.666667\n",
      "4.0    40.710600  73.000000\n",
      "5.0    47.628182  70.724138\n",
      "6.0    49.276289  71.638298\n",
      "7.0    62.674050  71.898305\n",
      "8.0    63.931173  72.859155\n",
      "9.0    58.271495  72.034884\n",
      "10.0   65.421224  72.311321\n",
      "11.0   58.004276  71.708661\n",
      "12.0   70.557044  73.291391\n"
     ]
    }
   ],
   "source": [
    "pay_plan = df_users_periods.pivot_table(index='month', columns='plan', values='period_pay', aggfunc='mean')\n",
    "print(pay_plan)"
   ]
  },
  {
   "cell_type": "code",
   "execution_count": 67,
   "metadata": {},
   "outputs": [
    {
     "data": {
      "text/plain": [
       "Text(0, 0.5, 'USD')"
      ]
     },
     "execution_count": 67,
     "metadata": {},
     "output_type": "execute_result"
    },
    {
     "data": {
      "image/png": "[encoded data removed]",
      "text/plain": [
       "<Figure size 900x700 with 1 Axes>"
      ]
     },
     "metadata": {},
     "output_type": "display_data"
    }
   ],
   "source": [
    "pay_plan.plot(kind='bar', grid=True, figsize=(9, 7))\n",
    "plt.ylabel('USD')"
   ]
  },
  {
   "cell_type": "markdown",
   "metadata": {},
   "source": [
    "El promedio del ingreso mensual de los usuarios del plan ultimate supera al de los usuarios del plan surf en todos los períodos. Cabe destacar que dichos promedios, no superan con gran diferencia el precio base del plan que es 70 USD, mientras que en el plan surf, todos los promedios (salvo el del primer período) superan el precio base que es de 20 USD por más de 10 USD. Se estudiarán los datos por plan."
   ]
  },
  {
   "cell_type": "code",
   "execution_count": 68,
   "metadata": {},
   "outputs": [
    {
     "data": {
      "image/png": "[encoded data removed]",
      "text/plain": [
       "<Figure size 640x480 with 1 Axes>"
      ]
     },
     "metadata": {},
     "output_type": "display_data"
    },
    {
     "data": {
      "image/png": "[encoded data removed]",
      "text/plain": [
       "<Figure size 640x480 with 1 Axes>"
      ]
     },
     "metadata": {},
     "output_type": "display_data"
    }
   ],
   "source": [
    "for name, group_data in df_users_periods.groupby('plan'):\n",
    "    group_data.plot(kind='hist', y='period_pay', bins=20, title=name, grid=True, range=(20, 120))"
   ]
  },
  {
   "cell_type": "markdown",
   "metadata": {},
   "source": [
    "Se observa que la mayoría de los usuarios del plan ultimate pagan menos de 80 USD al mes, mientras que la mayoría de usuarios del plan surf pagan menos de 40 USD al mes. Se mostrarán las estadísiticas descriptivas de ambos planes para un mejor análisis."
   ]
  },
  {
   "cell_type": "code",
   "execution_count": 69,
   "metadata": {},
   "outputs": [
    {
     "name": "stdout",
     "output_type": "stream",
     "text": [
      "surf\n",
      "count    1573.000000\n",
      "mean       60.706408\n",
      "std        55.388042\n",
      "min        20.000000\n",
      "25%        20.000000\n",
      "50%        40.360000\n",
      "75%        80.360000\n",
      "max       590.370000\n",
      "Name: period_pay, dtype: float64\n",
      "\n",
      "ultimate\n",
      "count    720.000000\n",
      "mean      72.313889\n",
      "std       11.395108\n",
      "min       70.000000\n",
      "25%       70.000000\n",
      "50%       70.000000\n",
      "75%       70.000000\n",
      "max      182.000000\n",
      "Name: period_pay, dtype: float64\n",
      "\n"
     ]
    }
   ],
   "source": [
    "for name, group_data in df_users_periods.groupby('plan'):\n",
    "    print(name)\n",
    "    print(group_data['period_pay'].describe())\n",
    "    print()"
   ]
  },
  {
   "cell_type": "markdown",
   "metadata": {},
   "source": [
    "La media del plan surf es 60 USD y la diferencia con la desviación estándar es de 5.32, lo que indica que los datos no están muy dispersos. El 50% de los usuarios de este plan pagan más de 40 USD al mes, alcanzando un máximo de 590.37 USD.\n",
    "\n",
    "La media del plan ultimate es 72.31 USD y la diferencia con la desviación estándar es de 60.92, lo que indica que hay datos muy dispersos. El 75% de los usuarios paga mensualmente el precio base del plan (70 USD). El otro 25% puede alcanzar hasta un máximo de 182 USD."
   ]
  },
  {
   "cell_type": "code",
   "execution_count": 70,
   "metadata": {},
   "outputs": [
    {
     "data": {
      "image/png": "[encoded data removed]",
      "text/plain": [
       "<Figure size 640x480 with 1 Axes>"
      ]
     },
     "metadata": {},
     "output_type": "display_data"
    }
   ],
   "source": [
    "df_users_periods.boxplot(column='period_pay', by='plan')\n",
    "plt.tight_layout()"
   ]
  },
  {
   "cell_type": "markdown",
   "metadata": {},
   "source": [
    "Se observa como difieren los diagramas de caja. Se mostrará una tabla con el total de los ingresos de los usuarios por período de cada plan."
   ]
  },
  {
   "cell_type": "code",
   "execution_count": 71,
   "metadata": {},
   "outputs": [
    {
     "name": "stdout",
     "output_type": "stream",
     "text": [
      "plan       surf  ultimate        All\n",
      "month                               \n",
      "1.0       40.00     280.0     320.00\n",
      "2.0      309.57     490.0     799.57\n",
      "3.0     1056.65     896.0    1952.65\n",
      "4.0     2035.53    1533.0    3568.53\n",
      "5.0     3667.37    2051.0    5718.37\n",
      "6.0     4779.80    3367.0    8146.80\n",
      "7.0     7583.56    4242.0   11825.56\n",
      "8.0    10356.85    5173.0   15529.85\n",
      "9.0    11304.67    6195.0   17499.67\n",
      "10.0   15504.83    7665.0   23169.83\n",
      "11.0   16415.21    9107.0   25522.21\n",
      "12.0   22437.14   11067.0   33504.14\n",
      "All    95491.18   52066.0  147557.18\n"
     ]
    }
   ],
   "source": [
    "df_pay_plan = df_users_periods.pivot_table(index='month', columns='plan', values='period_pay', aggfunc='sum', margins=True)\n",
    "print(df_pay_plan)"
   ]
  },
  {
   "cell_type": "markdown",
   "metadata": {},
   "source": [
    "Se observa que en la lamayoría de los meses, los ingresos de los usuarios del plan surf son mucho mayores que los del plan ultimate, casi el doble.\n",
    "\n",
    "[Volver a Contenidos](#back)"
   ]
  },
  {
   "cell_type": "markdown",
   "metadata": {},
   "source": [
    "### 3. 5. Conclusiones <a id='data_analysis_conclusions'></a>\n",
    "\n",
    "Se comparó el comportamiento de los usuarios de cada plan en cada uno de los servicios ofrecidos (minutos, mensajes y gigabytes) por mes y se mostraron gráficas correspondientes para visualizar de mejor manera estas comparaciones.\n",
    "\n",
    "El comportamiento para los tres servicios es muy similar. Por esta razón, el plan surf es más rentable para Megaline pues el precio base (20 USD) incluye una mucho menor cantidad de minutos (500), mensajes (50) y gigabytes (15 GB) por mes y las tarifas por servicio extra son más altas que en el plan ultimate. Por esta razón, más de la mitad de los usuarios de este plan pagan más de los 20 USD al mes.\n",
    "\n",
    "[Volver a Contenidos](#back)"
   ]
  },
  {
   "cell_type": "markdown",
   "metadata": {},
   "source": [
    "## Etapa 4. Comprobación de hipótesis <a id='data_hypothesis'></a>\n",
    "\n",
    "Se plantearon las siguientes hipótesis:\n",
    "\n",
    "1. El ingreso promedio de los usuarios de las tarifas Ultimate y Surf difiere.\n",
    "2. El ingreso promedio de los usuarios en el área de estados Nueva York - Nueva Jersey es diferente al de los usuarios de otras regiones.\n",
    "\n",
    "En esta etapa se harán pruebas de hipótesis para comprobarlas."
   ]
  },
  {
   "cell_type": "markdown",
   "metadata": {},
   "source": [
    "### 4. 1. El ingreso difiere por plan <a id='data_hypothesis_plan'></a>\n",
    "\n",
    "Para verificar la primera hipótesis, se estable como hipótesis nula la siguiente:\n",
    "\n",
    "**H0: El ingreso promedio de los usuarios de las tarifas Ultimate es igual al de las tarifas Surf.**\n",
    "\n",
    "Por lo que la hipótesis alternativa es:\n",
    "\n",
    "**H1: El ingreso promedio de los usuarios de las tarifas Ultimate no es igual al de las tarifas Surf.**\n",
    "\n",
    "Se utilizará la prueba-t con un nivel de significancia estadística del 5%.\n",
    "\n",
    "Se filtrará la tabla por plan y se crearán tablas con los promedios de los ingresos mensuales por usuario."
   ]
  },
  {
   "cell_type": "code",
   "execution_count": 72,
   "metadata": {},
   "outputs": [],
   "source": [
    "plan = {}\n",
    "for name in ['surf', 'ultimate']:\n",
    "    plan[name] = df_users_periods.query('plan == @name')"
   ]
  },
  {
   "cell_type": "code",
   "execution_count": 73,
   "metadata": {},
   "outputs": [
    {
     "name": "stdout",
     "output_type": "stream",
     "text": [
      "         period_pay\n",
      "user_id            \n",
      "1001      50.018000\n",
      "1002      33.333333\n",
      "1003     158.120000\n",
      "1004      76.250000\n",
      "1005      40.000000\n",
      "\n",
      "         period_pay\n",
      "user_id            \n",
      "1000           70.0\n",
      "1006           77.0\n",
      "1008           70.0\n",
      "1011           70.0\n",
      "1013           70.0\n"
     ]
    }
   ],
   "source": [
    "plan_pay = {}\n",
    "for name in ['surf', 'ultimate']:\n",
    "    plan_pay[name] = plan[name].pivot_table(index='user_id', values='period_pay')\n",
    "\n",
    "print(plan_pay['surf'].head())\n",
    "print()\n",
    "print(plan_pay['ultimate'].head())"
   ]
  },
  {
   "cell_type": "markdown",
   "metadata": {},
   "source": [
    "Con estas dos tablas se verificará la hipótesis."
   ]
  },
  {
   "cell_type": "code",
   "execution_count": 74,
   "metadata": {},
   "outputs": [
    {
     "name": "stdout",
     "output_type": "stream",
     "text": [
      "p-value: [5.71943513e-08]\n",
      "Rechazamos la hipótesis nula\n"
     ]
    }
   ],
   "source": [
    "alpha = 0.05 #nivel de significancia\n",
    "\n",
    "results_pay = st.ttest_ind(plan_pay['surf'], plan_pay['ultimate'], equal_var=False)\n",
    "\n",
    "print('p-value:', results_pay.pvalue)\n",
    "\n",
    "if results_pay.pvalue < alpha:\n",
    "    print(\"Rechazamos la hipótesis nula\")\n",
    "else:\n",
    "    print(\"No rechazamos la hipótesis nula\")"
   ]
  },
  {
   "cell_type": "markdown",
   "metadata": {},
   "source": [
    "Se rechaza la hipótesis nula. Es decir, se concluye que el ingreso promedio de los usuarios difiere según el plan adquirido.\n",
    "\n",
    "Se hará una prueba de hipótesis similar para la siguiente hipótesis planteada.\n",
    "\n",
    "[Volver a Contenidos](#back)"
   ]
  },
  {
   "cell_type": "markdown",
   "metadata": {},
   "source": [
    "### 4. 2. El ingreso difiere por región <a id='data_hypothesis_zone'></a>\n",
    "\n",
    "Para verificar la segunda hipótesis, se establece como hipótesis nula la siguiente:\n",
    "\n",
    "**H0: El ingreso promedio de los usuarios del área NY-NJ es igual al de los usuarios de las otras áreas.**\n",
    "\n",
    "Por lo que la hipótesis alternativa es:\n",
    "\n",
    "**H1: El ingreso promedio de los usuarios del área NY-NJ no es igual al de los usuarios de las otras áreas.**\n",
    "\n",
    "Se utilizará la prueba-t con un nivel de significancia estadística del 5%.\n",
    "\n",
    "Se filtrará la tabla por el área NY-NJ y se crearán tablas con los promedios de los ingresos por usuario. Para comenzar, se mostrarán los valores de la columna `'city'`."
   ]
  },
  {
   "cell_type": "code",
   "execution_count": 75,
   "metadata": {},
   "outputs": [
    {
     "name": "stdout",
     "output_type": "stream",
     "text": [
      "['Albany-Schenectady-Troy, NY MSA' 'Albuquerque, NM MSA'\n",
      " 'Atlanta-Sandy Springs-Roswell, GA MSA'\n",
      " 'Austin-Round Rock-Georgetown, TX MSA' 'Bakersfield, CA MSA'\n",
      " 'Baltimore-Columbia-Towson, MD MSA' 'Baton Rouge, LA MSA'\n",
      " 'Birmingham-Hoover, AL MSA' 'Boston-Cambridge-Newton, MA-NH MSA'\n",
      " 'Bridgeport-Stamford-Norwalk, CT MSA' 'Buffalo-Cheektowaga, NY MSA'\n",
      " 'Cape Coral-Fort Myers, FL MSA' 'Charleston-North Charleston, SC MSA'\n",
      " 'Charlotte-Concord-Gastonia, NC-SC MSA'\n",
      " 'Chicago-Naperville-Elgin, IL-IN-WI MSA' 'Cincinnati, OH-KY-IN MSA'\n",
      " 'Cleveland-Elyria, OH MSA' 'Colorado Springs, CO MSA' 'Columbia, SC MSA'\n",
      " 'Columbus, OH MSA' 'Dallas-Fort Worth-Arlington, TX MSA'\n",
      " 'Dayton-Kettering, OH MSA' 'Denver-Aurora-Lakewood, CO MSA'\n",
      " 'Detroit-Warren-Dearborn, MI MSA' 'El Paso, TX MSA' 'Fresno, CA MSA'\n",
      " 'Grand Rapids-Kentwood, MI MSA' 'Greensboro-High Point, NC MSA'\n",
      " 'Houston-The Woodlands-Sugar Land, TX MSA'\n",
      " 'Indianapolis-Carmel-Anderson, IN MSA' 'Jacksonville, FL MSA'\n",
      " 'Kansas City, MO-KS MSA' 'Knoxville, TN MSA'\n",
      " 'Las Vegas-Henderson-Paradise, NV MSA'\n",
      " 'Los Angeles-Long Beach-Anaheim, CA MSA'\n",
      " 'Louisville/Jefferson County, KY-IN MSA' 'Memphis, TN-MS-AR MSA'\n",
      " 'Miami-Fort Lauderdale-West Palm Beach, FL MSA'\n",
      " 'Milwaukee-Waukesha, WI MSA'\n",
      " 'Minneapolis-St. Paul-Bloomington, MN-WI MSA'\n",
      " 'Nashville-Davidson–Murfreesboro–Franklin, TN MSA'\n",
      " 'New Haven-Milford, CT MSA' 'New Orleans-Metairie, LA MSA'\n",
      " 'New York-Newark-Jersey City, NY-NJ-PA MSA'\n",
      " 'North Port-Sarasota-Bradenton, FL MSA' 'Oklahoma City, OK MSA'\n",
      " 'Omaha-Council Bluffs, NE-IA MSA' 'Orlando-Kissimmee-Sanford, FL MSA'\n",
      " 'Oxnard-Thousand Oaks-Ventura, CA MSA'\n",
      " 'Philadelphia-Camden-Wilmington, PA-NJ-DE-MD MSA'\n",
      " 'Phoenix-Mesa-Chandler, AZ MSA' 'Pittsburgh, PA MSA'\n",
      " 'Portland-Vancouver-Hillsboro, OR-WA MSA' 'Providence-Warwick, RI-MA MSA'\n",
      " 'Raleigh-Cary, NC MSA' 'Richmond, VA MSA'\n",
      " 'Riverside-San Bernardino-Ontario, CA MSA' 'Rochester, NY MSA'\n",
      " 'Sacramento–Roseville–Folsom, CA MSA' 'Salt Lake City, UT MSA'\n",
      " 'San Antonio-New Braunfels, TX MSA'\n",
      " 'San Diego-Chula Vista-Carlsbad, CA MSA'\n",
      " 'San Francisco-Oakland-Berkeley, CA MSA'\n",
      " 'San Jose-Sunnyvale-Santa Clara, CA MSA'\n",
      " 'Seattle-Tacoma-Bellevue, WA MSA' 'St. Louis, MO-IL MSA'\n",
      " 'Stockton, CA MSA' 'Tampa-St. Petersburg-Clearwater, FL MSA'\n",
      " 'Tucson, AZ MSA' 'Tulsa, OK MSA' 'Urban Honolulu, HI MSA'\n",
      " 'Virginia Beach-Norfolk-Newport News, VA-NC MSA'\n",
      " 'Washington-Arlington-Alexandria, DC-VA-MD-WV MSA']\n"
     ]
    }
   ],
   "source": [
    "print(df_users_periods['city'].sort_values().unique())"
   ]
  },
  {
   "cell_type": "markdown",
   "metadata": {},
   "source": [
    "Se crean las tablas filtradas por `'New York-Newark-Jersey City, NY-NJ-PA MSA'`."
   ]
  },
  {
   "cell_type": "code",
   "execution_count": 76,
   "metadata": {},
   "outputs": [
    {
     "name": "stdout",
     "output_type": "stream",
     "text": [
      "         period_pay\n",
      "user_id            \n",
      "1014      29.420000\n",
      "1022      56.125000\n",
      "1024      21.920000\n",
      "1027      33.333333\n",
      "1031      70.000000\n",
      "\n",
      "         period_pay\n",
      "user_id            \n",
      "1000      70.000000\n",
      "1001      50.018000\n",
      "1002      33.333333\n",
      "1003     158.120000\n",
      "1004      76.250000\n"
     ]
    }
   ],
   "source": [
    "ny_nj = 'New York-Newark-Jersey City, NY-NJ-PA MSA'\n",
    "city_ny_nj = df_users_periods.query('city == @ny_nj')\n",
    "city_other = df_users_periods.query('city != @ny_nj')\n",
    "\n",
    "pay_ny_nj = city_ny_nj.pivot_table(index='user_id', values='period_pay')\n",
    "pay_other_city = city_other.pivot_table(index='user_id', values='period_pay')\n",
    "\n",
    "print(pay_ny_nj.head())\n",
    "print()\n",
    "print(pay_other_city.head())"
   ]
  },
  {
   "cell_type": "markdown",
   "metadata": {},
   "source": [
    "Con estas dos tablas se verificará la hipótesis."
   ]
  },
  {
   "cell_type": "code",
   "execution_count": 77,
   "metadata": {},
   "outputs": [
    {
     "name": "stdout",
     "output_type": "stream",
     "text": [
      "p-value: [0.44104821]\n",
      "No rechazamos la hipótesis nula\n"
     ]
    }
   ],
   "source": [
    "results_pay_city = st.ttest_ind(pay_ny_nj, pay_other_city, equal_var=False)\n",
    "\n",
    "print('p-value:', results_pay_city.pvalue)\n",
    "\n",
    "if results_pay_city.pvalue < alpha:\n",
    "    print(\"Rechazamos la hipótesis nula\")\n",
    "else:\n",
    "    print(\"No rechazamos la hipótesis nula\")"
   ]
  },
  {
   "cell_type": "markdown",
   "metadata": {},
   "source": [
    "Con los resultados de esta prueba, no se puede concluir que el ingreso mensual de los usuarios de NY-NJ sea distinto al de otras áreas."
   ]
  },
  {
   "cell_type": "markdown",
   "metadata": {},
   "source": [
    "## Etapa 5. Conclusión general <a id='data_conclusion'></a>\n",
    "\n",
    "En este estudio se analizaron los datos de tarifas de clientes de Megaline, el cual ofrece dos planes tarifarios. Uno de los objetivos fue determinar cual de los planes genera más ingresos. De este modo, se estudió el promedio de minutos, mensajes y gigabytes utilizados por mes de los usuarios de cada plan. Se concluyó que el comportamiento de utilización de estos servicios es similar, sin embargo, el precio base de uno de los planes es mucho más limitado lo que implica cargos extra para los usuarios de este plan. En este sentido, el plan Surf ha generado más ingresos para Megaline.\n",
    "\n",
    "La primera hipótesis planteada fue:\n",
    "1. El ingreso promedio de los usuarios de las tarifas Ultimate y Surf difiere.\n",
    "\n",
    "Para veririficar esta hipótesis se hizo una prueba-t con un nivel de significancia del 5%, con lo que se concluyó que este promedio si difiere. De hecho, con los datos se verificó que los usuarios del plan surf generan más ingresos para Megaline.\n",
    "\n",
    "La segunda hipótesis fue:\n",
    "\n",
    "2. El ingreso promedio de los usuarios en el área de estados Nueva York - Nueva Jersey es diferente al de los usuarios de otras regiones.\n",
    "\n",
    "De la misma manera que con la primera hipótesis, para verificarla se utilizo una prueba-t con nivel de significancia del 5%. El resultado obtenido es que no se puede rechazar que el ingreso promedio de los usuarios del área de Nueva York - Nueva Jersey es igual al de los usuarios de otras áreas. Así, no se puede concluir que esta hipótesis es verdadera.\n",
    "\n",
    "[Volver a Contenidos](#back)"
   ]
  }
 ],
 "metadata": {
  "ExecuteTimeLog": [
   {
    "duration": 828,
    "start_time": "2021-11-16T09:21:11.304Z"
   },
   {
    "duration": 893,
    "start_time": "2021-11-16T09:21:17.728Z"
   },
   {
    "duration": 1150,
    "start_time": "2021-11-16T09:21:29.568Z"
   },
   {
    "duration": 3,
    "start_time": "2021-11-16T09:24:14.495Z"
   },
   {
    "duration": 120,
    "start_time": "2021-11-16T09:24:46.630Z"
   },
   {
    "duration": 3,
    "start_time": "2021-11-16T09:28:27.882Z"
   },
   {
    "duration": 4,
    "start_time": "2021-11-16T09:29:54.281Z"
   },
   {
    "duration": 3,
    "start_time": "2021-11-16T09:30:45.936Z"
   },
   {
    "duration": 4,
    "start_time": "2021-11-16T09:31:06.300Z"
   },
   {
    "duration": 113,
    "start_time": "2021-11-16T09:31:37.208Z"
   },
   {
    "duration": 143,
    "start_time": "2021-11-16T09:31:48.656Z"
   },
   {
    "duration": 98,
    "start_time": "2021-11-16T09:31:55.678Z"
   },
   {
    "duration": 3,
    "start_time": "2021-11-16T09:32:08.535Z"
   },
   {
    "duration": 111,
    "start_time": "2021-11-16T09:32:10.120Z"
   },
   {
    "duration": 3,
    "start_time": "2021-11-16T09:32:15.732Z"
   },
   {
    "duration": 4,
    "start_time": "2021-11-16T09:32:29.423Z"
   },
   {
    "duration": 3,
    "start_time": "2021-11-16T10:03:03.074Z"
   },
   {
    "duration": 3,
    "start_time": "2021-11-16T10:10:01.288Z"
   },
   {
    "duration": 3,
    "start_time": "2021-11-16T10:10:46.923Z"
   },
   {
    "duration": 121,
    "start_time": "2021-11-16T10:37:46.494Z"
   },
   {
    "duration": 125,
    "start_time": "2021-11-16T10:38:20.632Z"
   },
   {
    "duration": 112,
    "start_time": "2021-11-16T10:46:53.001Z"
   },
   {
    "duration": 110,
    "start_time": "2021-11-16T10:48:25.775Z"
   },
   {
    "duration": 3,
    "start_time": "2021-11-16T10:50:18.720Z"
   },
   {
    "duration": 4,
    "start_time": "2021-11-16T10:50:37.649Z"
   },
   {
    "duration": 2,
    "start_time": "2021-11-16T10:50:51.884Z"
   },
   {
    "duration": 3,
    "start_time": "2021-11-16T10:51:56.237Z"
   },
   {
    "duration": 101,
    "start_time": "2021-11-16T10:53:13.791Z"
   },
   {
    "duration": 3,
    "start_time": "2021-11-16T10:55:59.186Z"
   },
   {
    "duration": 3,
    "start_time": "2021-11-16T10:56:10.751Z"
   },
   {
    "duration": 3,
    "start_time": "2021-11-16T10:56:49.038Z"
   },
   {
    "duration": 3,
    "start_time": "2021-11-16T10:56:49.174Z"
   },
   {
    "duration": 4,
    "start_time": "2021-11-16T10:56:49.414Z"
   },
   {
    "duration": 3,
    "start_time": "2021-11-16T10:56:49.680Z"
   },
   {
    "duration": 3,
    "start_time": "2021-11-16T10:56:50.370Z"
   },
   {
    "duration": 114,
    "start_time": "2021-11-16T10:59:34.518Z"
   },
   {
    "duration": 3,
    "start_time": "2021-11-16T11:01:41.201Z"
   },
   {
    "duration": 116,
    "start_time": "2021-11-16T11:01:48.754Z"
   },
   {
    "duration": 3,
    "start_time": "2021-11-16T11:02:16.685Z"
   },
   {
    "duration": 3,
    "start_time": "2021-11-16T11:02:19.479Z"
   },
   {
    "duration": 3,
    "start_time": "2021-11-16T11:02:47.067Z"
   },
   {
    "duration": 3,
    "start_time": "2021-11-16T11:02:49.353Z"
   },
   {
    "duration": 3,
    "start_time": "2021-11-16T11:03:07.835Z"
   },
   {
    "duration": 3,
    "start_time": "2021-11-16T11:03:07.953Z"
   },
   {
    "duration": 112,
    "start_time": "2021-11-16T11:07:52.072Z"
   },
   {
    "duration": 187,
    "start_time": "2021-11-16T11:09:23.468Z"
   },
   {
    "duration": 4,
    "start_time": "2021-11-16T11:10:01.455Z"
   },
   {
    "duration": 3,
    "start_time": "2021-11-16T11:10:05.069Z"
   },
   {
    "duration": 4,
    "start_time": "2021-11-16T11:10:13.376Z"
   },
   {
    "duration": 3,
    "start_time": "2021-11-16T11:10:14.434Z"
   },
   {
    "duration": 3,
    "start_time": "2021-11-16T11:10:22.853Z"
   },
   {
    "duration": 4,
    "start_time": "2021-11-16T11:27:29.279Z"
   },
   {
    "duration": 4,
    "start_time": "2021-11-16T11:29:08.919Z"
   },
   {
    "duration": 118,
    "start_time": "2021-11-16T11:29:46.703Z"
   },
   {
    "duration": 437,
    "start_time": "2021-11-16T11:36:02.181Z"
   },
   {
    "duration": 157,
    "start_time": "2021-11-16T11:36:14.388Z"
   },
   {
    "duration": 207,
    "start_time": "2021-11-16T11:47:15.898Z"
   },
   {
    "duration": 3,
    "start_time": "2021-11-16T11:53:52.092Z"
   },
   {
    "duration": 3,
    "start_time": "2021-11-16T11:53:52.236Z"
   },
   {
    "duration": 3,
    "start_time": "2021-11-16T11:59:12.005Z"
   },
   {
    "duration": 112,
    "start_time": "2021-11-16T12:00:33.446Z"
   },
   {
    "duration": 3,
    "start_time": "2021-11-16T12:02:14.453Z"
   },
   {
    "duration": 3,
    "start_time": "2021-11-16T12:02:39.512Z"
   },
   {
    "duration": 106,
    "start_time": "2021-11-16T12:03:03.460Z"
   },
   {
    "duration": 3,
    "start_time": "2021-11-17T20:37:21.139Z"
   },
   {
    "duration": 3,
    "start_time": "2021-11-17T20:37:22.229Z"
   },
   {
    "duration": 3,
    "start_time": "2021-11-17T20:38:38.806Z"
   },
   {
    "duration": 3,
    "start_time": "2021-11-17T20:38:41.958Z"
   },
   {
    "duration": 3,
    "start_time": "2021-11-17T20:43:46.551Z"
   },
   {
    "duration": 4,
    "start_time": "2021-11-17T20:58:21.835Z"
   },
   {
    "duration": 3,
    "start_time": "2021-11-17T20:59:21.872Z"
   },
   {
    "duration": 4,
    "start_time": "2021-11-17T20:59:45.352Z"
   },
   {
    "duration": 4,
    "start_time": "2021-11-17T20:59:49.646Z"
   },
   {
    "duration": 159,
    "start_time": "2021-11-17T21:02:26.949Z"
   },
   {
    "duration": 3,
    "start_time": "2021-11-17T21:03:53.461Z"
   },
   {
    "duration": 3,
    "start_time": "2021-11-17T21:03:53.694Z"
   },
   {
    "duration": 3,
    "start_time": "2021-11-17T21:05:28.145Z"
   },
   {
    "duration": 116,
    "start_time": "2021-11-17T21:05:57.787Z"
   },
   {
    "duration": 3,
    "start_time": "2021-11-17T21:06:37.993Z"
   },
   {
    "duration": 3,
    "start_time": "2021-11-17T21:06:38.261Z"
   },
   {
    "duration": 3,
    "start_time": "2021-11-17T21:11:54.358Z"
   },
   {
    "duration": 3,
    "start_time": "2021-11-17T21:12:43.846Z"
   },
   {
    "duration": 4,
    "start_time": "2021-11-17T21:13:08.773Z"
   },
   {
    "duration": 3,
    "start_time": "2021-11-17T21:14:44.441Z"
   },
   {
    "duration": 3,
    "start_time": "2021-11-17T21:15:42.059Z"
   },
   {
    "duration": 4,
    "start_time": "2021-11-17T21:15:51.995Z"
   },
   {
    "duration": 3,
    "start_time": "2021-11-17T21:15:53.923Z"
   },
   {
    "duration": 3,
    "start_time": "2021-11-17T21:15:55.282Z"
   },
   {
    "duration": 3,
    "start_time": "2021-11-17T21:16:28.492Z"
   },
   {
    "duration": 3,
    "start_time": "2021-11-17T21:16:32.603Z"
   },
   {
    "duration": 3,
    "start_time": "2021-11-17T21:17:06.941Z"
   },
   {
    "duration": 98,
    "start_time": "2021-11-17T21:18:05.733Z"
   },
   {
    "duration": 4,
    "start_time": "2021-11-17T21:21:35.255Z"
   },
   {
    "duration": 3,
    "start_time": "2021-11-17T21:21:37.804Z"
   },
   {
    "duration": 4,
    "start_time": "2021-11-17T21:23:06.071Z"
   },
   {
    "duration": 3,
    "start_time": "2021-11-17T21:23:24.799Z"
   },
   {
    "duration": 3,
    "start_time": "2021-11-17T21:23:32.591Z"
   },
   {
    "duration": 98,
    "start_time": "2021-11-17T21:28:31.559Z"
   },
   {
    "duration": 3,
    "start_time": "2021-11-17T21:28:45.448Z"
   },
   {
    "duration": 3,
    "start_time": "2021-11-17T21:29:17.303Z"
   },
   {
    "duration": 3,
    "start_time": "2021-11-17T21:29:29.617Z"
   },
   {
    "duration": 3,
    "start_time": "2021-11-17T21:29:32.681Z"
   },
   {
    "duration": 3,
    "start_time": "2021-11-17T21:36:11.474Z"
   },
   {
    "duration": 3,
    "start_time": "2021-11-17T21:36:14.791Z"
   },
   {
    "duration": 3,
    "start_time": "2021-11-17T21:36:53.943Z"
   },
   {
    "duration": 3,
    "start_time": "2021-11-17T21:36:56.165Z"
   },
   {
    "duration": 4,
    "start_time": "2021-11-17T21:37:16.590Z"
   },
   {
    "duration": 3,
    "start_time": "2021-11-17T21:37:22.702Z"
   },
   {
    "duration": 4,
    "start_time": "2021-11-17T21:38:03.479Z"
   },
   {
    "duration": 3,
    "start_time": "2021-11-17T21:38:08.601Z"
   },
   {
    "duration": 3,
    "start_time": "2021-11-17T21:38:12.928Z"
   },
   {
    "duration": 3,
    "start_time": "2021-11-17T21:38:48.896Z"
   },
   {
    "duration": 2,
    "start_time": "2021-11-17T21:38:49.171Z"
   },
   {
    "duration": 4,
    "start_time": "2021-11-17T21:39:57.889Z"
   },
   {
    "duration": 3,
    "start_time": "2021-11-17T21:39:58.057Z"
   },
   {
    "duration": 3,
    "start_time": "2021-11-17T21:41:20.108Z"
   },
   {
    "duration": 3,
    "start_time": "2021-11-17T21:41:20.629Z"
   },
   {
    "duration": 3,
    "start_time": "2021-11-17T21:42:49.136Z"
   },
   {
    "duration": 3,
    "start_time": "2021-11-17T21:43:15.137Z"
   },
   {
    "duration": 4,
    "start_time": "2021-11-17T21:43:16.766Z"
   },
   {
    "duration": 4,
    "start_time": "2021-11-17T21:43:31.711Z"
   },
   {
    "duration": 3,
    "start_time": "2021-11-17T21:43:36.312Z"
   },
   {
    "duration": 4,
    "start_time": "2021-11-17T21:45:08.825Z"
   },
   {
    "duration": 4,
    "start_time": "2021-11-17T21:45:10.119Z"
   },
   {
    "duration": 4,
    "start_time": "2021-11-17T21:45:13.748Z"
   },
   {
    "duration": 3,
    "start_time": "2021-11-17T21:45:22.219Z"
   },
   {
    "duration": 3,
    "start_time": "2021-11-17T21:45:33.412Z"
   },
   {
    "duration": 2,
    "start_time": "2021-11-17T21:46:01.885Z"
   },
   {
    "duration": 3,
    "start_time": "2021-11-17T21:46:03.628Z"
   },
   {
    "duration": 107,
    "start_time": "2021-11-17T21:47:32.512Z"
   },
   {
    "duration": 103,
    "start_time": "2021-11-17T21:50:36.243Z"
   },
   {
    "duration": 3,
    "start_time": "2021-11-18T06:28:31.440Z"
   },
   {
    "duration": 3,
    "start_time": "2021-11-18T06:29:00.168Z"
   },
   {
    "duration": 3,
    "start_time": "2021-11-18T06:31:27.008Z"
   },
   {
    "duration": 2,
    "start_time": "2021-11-18T06:35:34.288Z"
   },
   {
    "duration": 2,
    "start_time": "2021-11-18T06:38:04.527Z"
   }
  ],
  "kernelspec": {
   "display_name": "Python 3 (ipykernel)",
   "language": "python",
   "name": "python3"
  },
  "language_info": {
   "codemirror_mode": {
    "name": "ipython",
    "version": 3
   },
   "file_extension": ".py",
   "mimetype": "text/x-python",
   "name": "python",
   "nbconvert_exporter": "python",
   "pygments_lexer": "ipython3",
   "version": "3.8.8"
  },
  "toc": {
   "base_numbering": 1,
   "nav_menu": {},
   "number_sections": true,
   "sideBar": true,
   "skip_h1_title": false,
   "title_cell": "Table of Contents",
   "title_sidebar": "Contents",
   "toc_cell": false,
   "toc_position": {},
   "toc_section_display": true,
   "toc_window_display": false
  },
  "vscode": {
   "interpreter": {
    "hash": "40d3a090f54c6569ab1632332b64b2c03c39dcf918b08424e98f38b5ae0af88f"
   }
  }
 },
 "nbformat": 4,
 "nbformat_minor": 2
}
